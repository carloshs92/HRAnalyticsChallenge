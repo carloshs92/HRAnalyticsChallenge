{
 "cells": [
  {
   "cell_type": "code",
   "execution_count": null,
   "metadata": {
    "colab": {},
    "colab_type": "code",
    "id": "BCRAs4SclOGM"
   },
   "outputs": [],
   "source": [
    "############## -- Machine Learning Inmersion --#############\n",
    "# Modelos de Ensamble : Algoritmos de Boosting \n",
    "# Autor : André Chávez \n",
    "# email: andrecp38@gmail.com / andre.chavez@urp.edu.pe\n",
    "# version: 1.0\n",
    "#########################################################################"
   ]
  },
  {
   "cell_type": "code",
   "execution_count": null,
   "metadata": {
    "colab": {},
    "colab_type": "code",
    "id": "lzkN5mIHlOGU"
   },
   "outputs": [],
   "source": [
    "##################################################\n",
    "## Desarrollo de Modelos de Machine Learning\n",
    "##################################################"
   ]
  },
  {
   "cell_type": "code",
   "execution_count": null,
   "metadata": {
    "colab": {},
    "colab_type": "code",
    "id": "xBAe3e_4lOGX"
   },
   "outputs": [],
   "source": [
    "## Leemos las librerias necesarias para poder trabajar"
   ]
  },
  {
   "cell_type": "code",
   "execution_count": 1,
   "metadata": {
    "colab": {
     "base_uri": "https://localhost:8080/",
     "height": 122
    },
    "colab_type": "code",
    "executionInfo": {
     "elapsed": 54765,
     "status": "ok",
     "timestamp": 1580176136714,
     "user": {
      "displayName": "Carlos Huamani",
      "photoUrl": "https://lh3.googleusercontent.com/a-/AAuE7mD7372GY5BBLuVIR3jFsKLIAKcHcljh8JPi7MOC=s64",
      "userId": "12790110138974186756"
     },
     "user_tz": 300
    },
    "id": "J-5xZcbNlOGa",
    "outputId": "d0c070fb-03ec-4e00-c717-407e2bcfb086"
   },
   "outputs": [
    {
     "ename": "ModuleNotFoundError",
     "evalue": "No module named 'google'",
     "output_type": "error",
     "traceback": [
      "\u001b[1;31m---------------------------------------------------------------------------\u001b[0m",
      "\u001b[1;31mModuleNotFoundError\u001b[0m                       Traceback (most recent call last)",
      "\u001b[1;32m<ipython-input-1-af4346a62768>\u001b[0m in \u001b[0;36m<module>\u001b[1;34m\u001b[0m\n\u001b[0;32m      9\u001b[0m \u001b[1;32mimport\u001b[0m \u001b[0mseaborn\u001b[0m \u001b[1;32mas\u001b[0m \u001b[0msns\u001b[0m \u001b[1;31m# Se basa en Matplotlib y la complementa en el tema de graficos y demás.\u001b[0m\u001b[1;33m\u001b[0m\u001b[1;33m\u001b[0m\u001b[0m\n\u001b[0;32m     10\u001b[0m \u001b[1;33m\u001b[0m\u001b[0m\n\u001b[1;32m---> 11\u001b[1;33m \u001b[1;32mfrom\u001b[0m \u001b[0mgoogle\u001b[0m\u001b[1;33m.\u001b[0m\u001b[0mcolab\u001b[0m \u001b[1;32mimport\u001b[0m \u001b[0mdrive\u001b[0m\u001b[1;33m\u001b[0m\u001b[1;33m\u001b[0m\u001b[0m\n\u001b[0m\u001b[0;32m     12\u001b[0m \u001b[0mdrive\u001b[0m\u001b[1;33m.\u001b[0m\u001b[0mmount\u001b[0m\u001b[1;33m(\u001b[0m\u001b[1;34m'/content/drive'\u001b[0m\u001b[1;33m)\u001b[0m\u001b[1;33m\u001b[0m\u001b[1;33m\u001b[0m\u001b[0m\n\u001b[0;32m     13\u001b[0m \u001b[1;31m# Lectura de datos\u001b[0m\u001b[1;33m\u001b[0m\u001b[1;33m\u001b[0m\u001b[1;33m\u001b[0m\u001b[0m\n",
      "\u001b[1;31mModuleNotFoundError\u001b[0m: No module named 'google'"
     ]
    }
   ],
   "source": [
    "#Importar las librerías necesarias en Python.\n",
    "import pandas as pd ## Manejo de dataframes o set de datos\n",
    "import warnings\n",
    "warnings.filterwarnings(\"ignore\")\n",
    "import matplotlib.pyplot as plt2 ## Todo lo referente a gráficas y demás.\n",
    "import matplotlib as plt\n",
    "import numpy as np ## Todo lo referente a trabajar con vectores y matrices\n",
    "from scipy import stats ## Herramientas y algoritmos matemáticos para python\n",
    "import seaborn as sns # Se basa en Matplotlib y la complementa en el tema de graficos y demás.\n",
    "\n",
    "from google.colab import drive\n",
    "drive.mount('/content/drive')\n",
    "# Lectura de datos\n",
    "data = pd.read_csv(\"/content/drive/My Drive/Colab Notebooks/Churn-arboles.csv\")\n",
    "%matplotlib inline"
   ]
  },
  {
   "cell_type": "code",
   "execution_count": null,
   "metadata": {
    "colab": {},
    "colab_type": "code",
    "id": "8v-nWEv5lOGd"
   },
   "outputs": [],
   "source": [
    "## Leemos los datos o el dataset a trabajar"
   ]
  },
  {
   "cell_type": "code",
   "execution_count": null,
   "metadata": {
    "colab": {},
    "colab_type": "code",
    "id": "KZxvFbMXlOGg"
   },
   "outputs": [],
   "source": [
    "# Leemos la data de desarrollo de modeolos\n",
    "desarrll = pd.read_csv(\"/content/drive/My Drive/Colab Notebooks/train.csv\") \n",
    "# Leer el dataset en un dataframe usando pandas"
   ]
  },
  {
   "cell_type": "code",
   "execution_count": 9,
   "metadata": {
    "colab": {
     "base_uri": "https://localhost:8080/",
     "height": 241
    },
    "colab_type": "code",
    "executionInfo": {
     "elapsed": 1391,
     "status": "ok",
     "timestamp": 1580176397526,
     "user": {
      "displayName": "Carlos Huamani",
      "photoUrl": "https://lh3.googleusercontent.com/a-/AAuE7mD7372GY5BBLuVIR3jFsKLIAKcHcljh8JPi7MOC=s64",
      "userId": "12790110138974186756"
     },
     "user_tz": 300
    },
    "id": "8vtgiBPdlOGk",
    "outputId": "8ceefd79-4aff-4a04-b32f-19d54437ce33"
   },
   "outputs": [
    {
     "data": {
      "text/html": [
       "<div>\n",
       "<style scoped>\n",
       "    .dataframe tbody tr th:only-of-type {\n",
       "        vertical-align: middle;\n",
       "    }\n",
       "\n",
       "    .dataframe tbody tr th {\n",
       "        vertical-align: top;\n",
       "    }\n",
       "\n",
       "    .dataframe thead th {\n",
       "        text-align: right;\n",
       "    }\n",
       "</style>\n",
       "<table border=\"1\" class=\"dataframe\">\n",
       "  <thead>\n",
       "    <tr style=\"text-align: right;\">\n",
       "      <th></th>\n",
       "      <th>Loan_ID</th>\n",
       "      <th>Gender</th>\n",
       "      <th>Married</th>\n",
       "      <th>Dependents</th>\n",
       "      <th>Education</th>\n",
       "      <th>Self_Employed</th>\n",
       "      <th>ApplicantIncome</th>\n",
       "      <th>CoapplicantIncome</th>\n",
       "      <th>LoanAmount</th>\n",
       "      <th>Loan_Amount_Term</th>\n",
       "      <th>Credit_History</th>\n",
       "      <th>Property_Area</th>\n",
       "      <th>Loan_Status</th>\n",
       "    </tr>\n",
       "  </thead>\n",
       "  <tbody>\n",
       "    <tr>\n",
       "      <th>0</th>\n",
       "      <td>LP001002</td>\n",
       "      <td>Male</td>\n",
       "      <td>No</td>\n",
       "      <td>0</td>\n",
       "      <td>Graduate</td>\n",
       "      <td>No</td>\n",
       "      <td>5849</td>\n",
       "      <td>0.0</td>\n",
       "      <td>NaN</td>\n",
       "      <td>360.0</td>\n",
       "      <td>1.0</td>\n",
       "      <td>Urban</td>\n",
       "      <td>Y</td>\n",
       "    </tr>\n",
       "    <tr>\n",
       "      <th>1</th>\n",
       "      <td>LP001003</td>\n",
       "      <td>Male</td>\n",
       "      <td>Yes</td>\n",
       "      <td>1</td>\n",
       "      <td>Graduate</td>\n",
       "      <td>No</td>\n",
       "      <td>4583</td>\n",
       "      <td>1508.0</td>\n",
       "      <td>128.0</td>\n",
       "      <td>360.0</td>\n",
       "      <td>1.0</td>\n",
       "      <td>Rural</td>\n",
       "      <td>N</td>\n",
       "    </tr>\n",
       "    <tr>\n",
       "      <th>2</th>\n",
       "      <td>LP001005</td>\n",
       "      <td>Male</td>\n",
       "      <td>Yes</td>\n",
       "      <td>0</td>\n",
       "      <td>Graduate</td>\n",
       "      <td>Yes</td>\n",
       "      <td>3000</td>\n",
       "      <td>0.0</td>\n",
       "      <td>66.0</td>\n",
       "      <td>360.0</td>\n",
       "      <td>1.0</td>\n",
       "      <td>Urban</td>\n",
       "      <td>Y</td>\n",
       "    </tr>\n",
       "    <tr>\n",
       "      <th>3</th>\n",
       "      <td>LP001006</td>\n",
       "      <td>Male</td>\n",
       "      <td>Yes</td>\n",
       "      <td>0</td>\n",
       "      <td>Not Graduate</td>\n",
       "      <td>No</td>\n",
       "      <td>2583</td>\n",
       "      <td>2358.0</td>\n",
       "      <td>120.0</td>\n",
       "      <td>360.0</td>\n",
       "      <td>1.0</td>\n",
       "      <td>Urban</td>\n",
       "      <td>Y</td>\n",
       "    </tr>\n",
       "    <tr>\n",
       "      <th>4</th>\n",
       "      <td>LP001008</td>\n",
       "      <td>Male</td>\n",
       "      <td>No</td>\n",
       "      <td>0</td>\n",
       "      <td>Graduate</td>\n",
       "      <td>No</td>\n",
       "      <td>6000</td>\n",
       "      <td>0.0</td>\n",
       "      <td>141.0</td>\n",
       "      <td>360.0</td>\n",
       "      <td>1.0</td>\n",
       "      <td>Urban</td>\n",
       "      <td>Y</td>\n",
       "    </tr>\n",
       "  </tbody>\n",
       "</table>\n",
       "</div>"
      ],
      "text/plain": [
       "    Loan_ID Gender Married  ... Credit_History Property_Area Loan_Status\n",
       "0  LP001002   Male      No  ...            1.0         Urban           Y\n",
       "1  LP001003   Male     Yes  ...            1.0         Rural           N\n",
       "2  LP001005   Male     Yes  ...            1.0         Urban           Y\n",
       "3  LP001006   Male     Yes  ...            1.0         Urban           Y\n",
       "4  LP001008   Male      No  ...            1.0         Urban           Y\n",
       "\n",
       "[5 rows x 13 columns]"
      ]
     },
     "execution_count": 9,
     "metadata": {
      "tags": []
     },
     "output_type": "execute_result"
    }
   ],
   "source": [
    "desarrll.head(5)"
   ]
  },
  {
   "cell_type": "code",
   "execution_count": 7,
   "metadata": {
    "colab": {
     "base_uri": "https://localhost:8080/",
     "height": 34
    },
    "colab_type": "code",
    "executionInfo": {
     "elapsed": 1661,
     "status": "ok",
     "timestamp": 1580176224144,
     "user": {
      "displayName": "Carlos Huamani",
      "photoUrl": "https://lh3.googleusercontent.com/a-/AAuE7mD7372GY5BBLuVIR3jFsKLIAKcHcljh8JPi7MOC=s64",
      "userId": "12790110138974186756"
     },
     "user_tz": 300
    },
    "id": "9ViYgrC2lOGo",
    "outputId": "b33a56d8-fa38-408b-f4c8-ebf3d629c105"
   },
   "outputs": [
    {
     "data": {
      "text/plain": [
       "(614, 13)"
      ]
     },
     "execution_count": 7,
     "metadata": {
      "tags": []
     },
     "output_type": "execute_result"
    }
   ],
   "source": [
    "# Dimension\n",
    "desarrll.shape\n",
    "# Son 614 obs con 13 columnas"
   ]
  },
  {
   "cell_type": "code",
   "execution_count": 8,
   "metadata": {
    "colab": {
     "base_uri": "https://localhost:8080/",
     "height": 323
    },
    "colab_type": "code",
    "executionInfo": {
     "elapsed": 1303,
     "status": "ok",
     "timestamp": 1580176229949,
     "user": {
      "displayName": "Carlos Huamani",
      "photoUrl": "https://lh3.googleusercontent.com/a-/AAuE7mD7372GY5BBLuVIR3jFsKLIAKcHcljh8JPi7MOC=s64",
      "userId": "12790110138974186756"
     },
     "user_tz": 300
    },
    "id": "5nyugSWQlOGr",
    "outputId": "d5a488cf-ba68-44d6-a526-dfd7babd79f6"
   },
   "outputs": [
    {
     "name": "stdout",
     "output_type": "stream",
     "text": [
      "<class 'pandas.core.frame.DataFrame'>\n",
      "RangeIndex: 614 entries, 0 to 613\n",
      "Data columns (total 13 columns):\n",
      "Loan_ID              614 non-null object\n",
      "Gender               601 non-null object\n",
      "Married              611 non-null object\n",
      "Dependents           599 non-null object\n",
      "Education            614 non-null object\n",
      "Self_Employed        582 non-null object\n",
      "ApplicantIncome      614 non-null int64\n",
      "CoapplicantIncome    614 non-null float64\n",
      "LoanAmount           592 non-null float64\n",
      "Loan_Amount_Term     600 non-null float64\n",
      "Credit_History       564 non-null float64\n",
      "Property_Area        614 non-null object\n",
      "Loan_Status          614 non-null object\n",
      "dtypes: float64(4), int64(1), object(8)\n",
      "memory usage: 62.5+ KB\n"
     ]
    }
   ],
   "source": [
    "#Leer los primeros registros.\n",
    "# Podemos ver la estructura de los datos, es el str de Python\n",
    "desarrll.info()"
   ]
  },
  {
   "cell_type": "code",
   "execution_count": null,
   "metadata": {
    "colab": {},
    "colab_type": "code",
    "id": "i3lHYlbRlOGv"
   },
   "outputs": [],
   "source": [
    "## Analisis Exploratorio de los datos"
   ]
  },
  {
   "cell_type": "markdown",
   "metadata": {
    "colab_type": "text",
    "id": "CsFeeM0ZlOGy"
   },
   "source": [
    "![image.png](attachment:image.png)"
   ]
  },
  {
   "cell_type": "code",
   "execution_count": null,
   "metadata": {
    "colab": {},
    "colab_type": "code",
    "id": "pC71ESCGlOGz"
   },
   "outputs": [],
   "source": [
    "#### Recurso: https://www.analyticsvidhya.com/blog/2014/07/statistics/"
   ]
  },
  {
   "cell_type": "code",
   "execution_count": 11,
   "metadata": {
    "colab": {
     "base_uri": "https://localhost:8080/",
     "height": 410
    },
    "colab_type": "code",
    "executionInfo": {
     "elapsed": 1551,
     "status": "ok",
     "timestamp": 1580176498991,
     "user": {
      "displayName": "Carlos Huamani",
      "photoUrl": "https://lh3.googleusercontent.com/a-/AAuE7mD7372GY5BBLuVIR3jFsKLIAKcHcljh8JPi7MOC=s64",
      "userId": "12790110138974186756"
     },
     "user_tz": 300
    },
    "id": "bvsyKDzplOG2",
    "outputId": "0daaf0ff-dc95-4209-e82d-10f34103a829"
   },
   "outputs": [
    {
     "data": {
      "text/html": [
       "<div>\n",
       "<style scoped>\n",
       "    .dataframe tbody tr th:only-of-type {\n",
       "        vertical-align: middle;\n",
       "    }\n",
       "\n",
       "    .dataframe tbody tr th {\n",
       "        vertical-align: top;\n",
       "    }\n",
       "\n",
       "    .dataframe thead th {\n",
       "        text-align: right;\n",
       "    }\n",
       "</style>\n",
       "<table border=\"1\" class=\"dataframe\">\n",
       "  <thead>\n",
       "    <tr style=\"text-align: right;\">\n",
       "      <th></th>\n",
       "      <th>Loan_ID</th>\n",
       "      <th>Gender</th>\n",
       "      <th>Married</th>\n",
       "      <th>Dependents</th>\n",
       "      <th>Education</th>\n",
       "      <th>Self_Employed</th>\n",
       "      <th>ApplicantIncome</th>\n",
       "      <th>CoapplicantIncome</th>\n",
       "      <th>LoanAmount</th>\n",
       "      <th>Loan_Amount_Term</th>\n",
       "      <th>Credit_History</th>\n",
       "      <th>Property_Area</th>\n",
       "      <th>Loan_Status</th>\n",
       "    </tr>\n",
       "  </thead>\n",
       "  <tbody>\n",
       "    <tr>\n",
       "      <th>count</th>\n",
       "      <td>614</td>\n",
       "      <td>601</td>\n",
       "      <td>611</td>\n",
       "      <td>599</td>\n",
       "      <td>614</td>\n",
       "      <td>582</td>\n",
       "      <td>614.000000</td>\n",
       "      <td>614.000000</td>\n",
       "      <td>592.000000</td>\n",
       "      <td>600.00000</td>\n",
       "      <td>564.000000</td>\n",
       "      <td>614</td>\n",
       "      <td>614</td>\n",
       "    </tr>\n",
       "    <tr>\n",
       "      <th>unique</th>\n",
       "      <td>614</td>\n",
       "      <td>2</td>\n",
       "      <td>2</td>\n",
       "      <td>4</td>\n",
       "      <td>2</td>\n",
       "      <td>2</td>\n",
       "      <td>NaN</td>\n",
       "      <td>NaN</td>\n",
       "      <td>NaN</td>\n",
       "      <td>NaN</td>\n",
       "      <td>NaN</td>\n",
       "      <td>3</td>\n",
       "      <td>2</td>\n",
       "    </tr>\n",
       "    <tr>\n",
       "      <th>top</th>\n",
       "      <td>LP001711</td>\n",
       "      <td>Male</td>\n",
       "      <td>Yes</td>\n",
       "      <td>0</td>\n",
       "      <td>Graduate</td>\n",
       "      <td>No</td>\n",
       "      <td>NaN</td>\n",
       "      <td>NaN</td>\n",
       "      <td>NaN</td>\n",
       "      <td>NaN</td>\n",
       "      <td>NaN</td>\n",
       "      <td>Semiurban</td>\n",
       "      <td>Y</td>\n",
       "    </tr>\n",
       "    <tr>\n",
       "      <th>freq</th>\n",
       "      <td>1</td>\n",
       "      <td>489</td>\n",
       "      <td>398</td>\n",
       "      <td>345</td>\n",
       "      <td>480</td>\n",
       "      <td>500</td>\n",
       "      <td>NaN</td>\n",
       "      <td>NaN</td>\n",
       "      <td>NaN</td>\n",
       "      <td>NaN</td>\n",
       "      <td>NaN</td>\n",
       "      <td>233</td>\n",
       "      <td>422</td>\n",
       "    </tr>\n",
       "    <tr>\n",
       "      <th>mean</th>\n",
       "      <td>NaN</td>\n",
       "      <td>NaN</td>\n",
       "      <td>NaN</td>\n",
       "      <td>NaN</td>\n",
       "      <td>NaN</td>\n",
       "      <td>NaN</td>\n",
       "      <td>5403.459283</td>\n",
       "      <td>1621.245798</td>\n",
       "      <td>146.412162</td>\n",
       "      <td>342.00000</td>\n",
       "      <td>0.842199</td>\n",
       "      <td>NaN</td>\n",
       "      <td>NaN</td>\n",
       "    </tr>\n",
       "    <tr>\n",
       "      <th>std</th>\n",
       "      <td>NaN</td>\n",
       "      <td>NaN</td>\n",
       "      <td>NaN</td>\n",
       "      <td>NaN</td>\n",
       "      <td>NaN</td>\n",
       "      <td>NaN</td>\n",
       "      <td>6109.041673</td>\n",
       "      <td>2926.248369</td>\n",
       "      <td>85.587325</td>\n",
       "      <td>65.12041</td>\n",
       "      <td>0.364878</td>\n",
       "      <td>NaN</td>\n",
       "      <td>NaN</td>\n",
       "    </tr>\n",
       "    <tr>\n",
       "      <th>min</th>\n",
       "      <td>NaN</td>\n",
       "      <td>NaN</td>\n",
       "      <td>NaN</td>\n",
       "      <td>NaN</td>\n",
       "      <td>NaN</td>\n",
       "      <td>NaN</td>\n",
       "      <td>150.000000</td>\n",
       "      <td>0.000000</td>\n",
       "      <td>9.000000</td>\n",
       "      <td>12.00000</td>\n",
       "      <td>0.000000</td>\n",
       "      <td>NaN</td>\n",
       "      <td>NaN</td>\n",
       "    </tr>\n",
       "    <tr>\n",
       "      <th>25%</th>\n",
       "      <td>NaN</td>\n",
       "      <td>NaN</td>\n",
       "      <td>NaN</td>\n",
       "      <td>NaN</td>\n",
       "      <td>NaN</td>\n",
       "      <td>NaN</td>\n",
       "      <td>2877.500000</td>\n",
       "      <td>0.000000</td>\n",
       "      <td>100.000000</td>\n",
       "      <td>360.00000</td>\n",
       "      <td>1.000000</td>\n",
       "      <td>NaN</td>\n",
       "      <td>NaN</td>\n",
       "    </tr>\n",
       "    <tr>\n",
       "      <th>50%</th>\n",
       "      <td>NaN</td>\n",
       "      <td>NaN</td>\n",
       "      <td>NaN</td>\n",
       "      <td>NaN</td>\n",
       "      <td>NaN</td>\n",
       "      <td>NaN</td>\n",
       "      <td>3812.500000</td>\n",
       "      <td>1188.500000</td>\n",
       "      <td>128.000000</td>\n",
       "      <td>360.00000</td>\n",
       "      <td>1.000000</td>\n",
       "      <td>NaN</td>\n",
       "      <td>NaN</td>\n",
       "    </tr>\n",
       "    <tr>\n",
       "      <th>75%</th>\n",
       "      <td>NaN</td>\n",
       "      <td>NaN</td>\n",
       "      <td>NaN</td>\n",
       "      <td>NaN</td>\n",
       "      <td>NaN</td>\n",
       "      <td>NaN</td>\n",
       "      <td>5795.000000</td>\n",
       "      <td>2297.250000</td>\n",
       "      <td>168.000000</td>\n",
       "      <td>360.00000</td>\n",
       "      <td>1.000000</td>\n",
       "      <td>NaN</td>\n",
       "      <td>NaN</td>\n",
       "    </tr>\n",
       "    <tr>\n",
       "      <th>max</th>\n",
       "      <td>NaN</td>\n",
       "      <td>NaN</td>\n",
       "      <td>NaN</td>\n",
       "      <td>NaN</td>\n",
       "      <td>NaN</td>\n",
       "      <td>NaN</td>\n",
       "      <td>81000.000000</td>\n",
       "      <td>41667.000000</td>\n",
       "      <td>700.000000</td>\n",
       "      <td>480.00000</td>\n",
       "      <td>1.000000</td>\n",
       "      <td>NaN</td>\n",
       "      <td>NaN</td>\n",
       "    </tr>\n",
       "  </tbody>\n",
       "</table>\n",
       "</div>"
      ],
      "text/plain": [
       "         Loan_ID Gender Married  ... Credit_History Property_Area Loan_Status\n",
       "count        614    601     611  ...     564.000000           614         614\n",
       "unique       614      2       2  ...            NaN             3           2\n",
       "top     LP001711   Male     Yes  ...            NaN     Semiurban           Y\n",
       "freq           1    489     398  ...            NaN           233         422\n",
       "mean         NaN    NaN     NaN  ...       0.842199           NaN         NaN\n",
       "std          NaN    NaN     NaN  ...       0.364878           NaN         NaN\n",
       "min          NaN    NaN     NaN  ...       0.000000           NaN         NaN\n",
       "25%          NaN    NaN     NaN  ...       1.000000           NaN         NaN\n",
       "50%          NaN    NaN     NaN  ...       1.000000           NaN         NaN\n",
       "75%          NaN    NaN     NaN  ...       1.000000           NaN         NaN\n",
       "max          NaN    NaN     NaN  ...       1.000000           NaN         NaN\n",
       "\n",
       "[11 rows x 13 columns]"
      ]
     },
     "execution_count": 11,
     "metadata": {
      "tags": []
     },
     "output_type": "execute_result"
    }
   ],
   "source": [
    "desarrll.describe() #Resumen de la información cuantitativa"
   ]
  },
  {
   "cell_type": "markdown",
   "metadata": {
    "colab_type": "text",
    "id": "hvJodC8clOG5"
   },
   "source": [
    "La función describe () proporcionaría count - conteo o número de elementos, mean - media, standard deviation (std) - desviación estándar, min - mínimo, cuartiles y max - máximo en su salida. Sólo considera las variables en formato de número."
   ]
  },
  {
   "cell_type": "code",
   "execution_count": null,
   "metadata": {
    "colab": {},
    "colab_type": "code",
    "id": "lxphzqt4lOG6"
   },
   "outputs": [],
   "source": [
    "## Aquí hay algunas conclusiones importantes"
   ]
  },
  {
   "cell_type": "markdown",
   "metadata": {
    "colab_type": "text",
    "id": "XZmUHqi1lOG9"
   },
   "source": [
    "1. LoanAmount tiene (614 – 592) 22 valores perdidos.\n",
    "2. Loan_Amount_Term tiene (614 – 600) 14 valores perdidos.\n",
    "3. Credit_History tiene (614 – 564) 50 valores perdidos.\n",
    "4. Nosotros podemos también observar que cerca del 84% de los solicitantes al préstamo tienen un historial crediticio. ¿Cómo? La media del campo Credit_History es 0.84 (Recordemos, Credit_History tiene o toma el valor 1 para aquellos que tienen historial crediticio y 0 en caso contrario).\n",
    "5. La variable ApplicantIncome parece estar en línea con las espectativas al igual que CoapplicantIncome."
   ]
  },
  {
   "cell_type": "code",
   "execution_count": null,
   "metadata": {
    "colab": {},
    "colab_type": "code",
    "id": "cBFfYpMllOG-",
    "outputId": "6874efc9-b950-4e4d-ebc0-e917c70b5b77"
   },
   "outputs": [
    {
     "data": {
      "text/html": [
       "<div>\n",
       "<style scoped>\n",
       "    .dataframe tbody tr th:only-of-type {\n",
       "        vertical-align: middle;\n",
       "    }\n",
       "\n",
       "    .dataframe tbody tr th {\n",
       "        vertical-align: top;\n",
       "    }\n",
       "\n",
       "    .dataframe thead th {\n",
       "        text-align: right;\n",
       "    }\n",
       "</style>\n",
       "<table border=\"1\" class=\"dataframe\">\n",
       "  <thead>\n",
       "    <tr style=\"text-align: right;\">\n",
       "      <th></th>\n",
       "      <th>Loan_ID</th>\n",
       "      <th>Gender</th>\n",
       "      <th>Married</th>\n",
       "      <th>Dependents</th>\n",
       "      <th>Education</th>\n",
       "      <th>Self_Employed</th>\n",
       "      <th>ApplicantIncome</th>\n",
       "      <th>CoapplicantIncome</th>\n",
       "      <th>LoanAmount</th>\n",
       "      <th>Loan_Amount_Term</th>\n",
       "      <th>Credit_History</th>\n",
       "      <th>Property_Area</th>\n",
       "      <th>Loan_Status</th>\n",
       "    </tr>\n",
       "  </thead>\n",
       "  <tbody>\n",
       "    <tr>\n",
       "      <th>count</th>\n",
       "      <td>614</td>\n",
       "      <td>601</td>\n",
       "      <td>611</td>\n",
       "      <td>599</td>\n",
       "      <td>614</td>\n",
       "      <td>582</td>\n",
       "      <td>614.000000</td>\n",
       "      <td>614.000000</td>\n",
       "      <td>592.000000</td>\n",
       "      <td>600.00000</td>\n",
       "      <td>564.000000</td>\n",
       "      <td>614</td>\n",
       "      <td>614</td>\n",
       "    </tr>\n",
       "    <tr>\n",
       "      <th>unique</th>\n",
       "      <td>614</td>\n",
       "      <td>2</td>\n",
       "      <td>2</td>\n",
       "      <td>4</td>\n",
       "      <td>2</td>\n",
       "      <td>2</td>\n",
       "      <td>NaN</td>\n",
       "      <td>NaN</td>\n",
       "      <td>NaN</td>\n",
       "      <td>NaN</td>\n",
       "      <td>NaN</td>\n",
       "      <td>3</td>\n",
       "      <td>2</td>\n",
       "    </tr>\n",
       "    <tr>\n",
       "      <th>top</th>\n",
       "      <td>LP001722</td>\n",
       "      <td>Male</td>\n",
       "      <td>Yes</td>\n",
       "      <td>0</td>\n",
       "      <td>Graduate</td>\n",
       "      <td>No</td>\n",
       "      <td>NaN</td>\n",
       "      <td>NaN</td>\n",
       "      <td>NaN</td>\n",
       "      <td>NaN</td>\n",
       "      <td>NaN</td>\n",
       "      <td>Semiurban</td>\n",
       "      <td>Y</td>\n",
       "    </tr>\n",
       "    <tr>\n",
       "      <th>freq</th>\n",
       "      <td>1</td>\n",
       "      <td>489</td>\n",
       "      <td>398</td>\n",
       "      <td>345</td>\n",
       "      <td>480</td>\n",
       "      <td>500</td>\n",
       "      <td>NaN</td>\n",
       "      <td>NaN</td>\n",
       "      <td>NaN</td>\n",
       "      <td>NaN</td>\n",
       "      <td>NaN</td>\n",
       "      <td>233</td>\n",
       "      <td>422</td>\n",
       "    </tr>\n",
       "    <tr>\n",
       "      <th>mean</th>\n",
       "      <td>NaN</td>\n",
       "      <td>NaN</td>\n",
       "      <td>NaN</td>\n",
       "      <td>NaN</td>\n",
       "      <td>NaN</td>\n",
       "      <td>NaN</td>\n",
       "      <td>5403.459283</td>\n",
       "      <td>1621.245798</td>\n",
       "      <td>146.412162</td>\n",
       "      <td>342.00000</td>\n",
       "      <td>0.842199</td>\n",
       "      <td>NaN</td>\n",
       "      <td>NaN</td>\n",
       "    </tr>\n",
       "    <tr>\n",
       "      <th>std</th>\n",
       "      <td>NaN</td>\n",
       "      <td>NaN</td>\n",
       "      <td>NaN</td>\n",
       "      <td>NaN</td>\n",
       "      <td>NaN</td>\n",
       "      <td>NaN</td>\n",
       "      <td>6109.041673</td>\n",
       "      <td>2926.248369</td>\n",
       "      <td>85.587325</td>\n",
       "      <td>65.12041</td>\n",
       "      <td>0.364878</td>\n",
       "      <td>NaN</td>\n",
       "      <td>NaN</td>\n",
       "    </tr>\n",
       "    <tr>\n",
       "      <th>min</th>\n",
       "      <td>NaN</td>\n",
       "      <td>NaN</td>\n",
       "      <td>NaN</td>\n",
       "      <td>NaN</td>\n",
       "      <td>NaN</td>\n",
       "      <td>NaN</td>\n",
       "      <td>150.000000</td>\n",
       "      <td>0.000000</td>\n",
       "      <td>9.000000</td>\n",
       "      <td>12.00000</td>\n",
       "      <td>0.000000</td>\n",
       "      <td>NaN</td>\n",
       "      <td>NaN</td>\n",
       "    </tr>\n",
       "    <tr>\n",
       "      <th>25%</th>\n",
       "      <td>NaN</td>\n",
       "      <td>NaN</td>\n",
       "      <td>NaN</td>\n",
       "      <td>NaN</td>\n",
       "      <td>NaN</td>\n",
       "      <td>NaN</td>\n",
       "      <td>2877.500000</td>\n",
       "      <td>0.000000</td>\n",
       "      <td>100.000000</td>\n",
       "      <td>360.00000</td>\n",
       "      <td>1.000000</td>\n",
       "      <td>NaN</td>\n",
       "      <td>NaN</td>\n",
       "    </tr>\n",
       "    <tr>\n",
       "      <th>50%</th>\n",
       "      <td>NaN</td>\n",
       "      <td>NaN</td>\n",
       "      <td>NaN</td>\n",
       "      <td>NaN</td>\n",
       "      <td>NaN</td>\n",
       "      <td>NaN</td>\n",
       "      <td>3812.500000</td>\n",
       "      <td>1188.500000</td>\n",
       "      <td>128.000000</td>\n",
       "      <td>360.00000</td>\n",
       "      <td>1.000000</td>\n",
       "      <td>NaN</td>\n",
       "      <td>NaN</td>\n",
       "    </tr>\n",
       "    <tr>\n",
       "      <th>75%</th>\n",
       "      <td>NaN</td>\n",
       "      <td>NaN</td>\n",
       "      <td>NaN</td>\n",
       "      <td>NaN</td>\n",
       "      <td>NaN</td>\n",
       "      <td>NaN</td>\n",
       "      <td>5795.000000</td>\n",
       "      <td>2297.250000</td>\n",
       "      <td>168.000000</td>\n",
       "      <td>360.00000</td>\n",
       "      <td>1.000000</td>\n",
       "      <td>NaN</td>\n",
       "      <td>NaN</td>\n",
       "    </tr>\n",
       "    <tr>\n",
       "      <th>max</th>\n",
       "      <td>NaN</td>\n",
       "      <td>NaN</td>\n",
       "      <td>NaN</td>\n",
       "      <td>NaN</td>\n",
       "      <td>NaN</td>\n",
       "      <td>NaN</td>\n",
       "      <td>81000.000000</td>\n",
       "      <td>41667.000000</td>\n",
       "      <td>700.000000</td>\n",
       "      <td>480.00000</td>\n",
       "      <td>1.000000</td>\n",
       "      <td>NaN</td>\n",
       "      <td>NaN</td>\n",
       "    </tr>\n",
       "  </tbody>\n",
       "</table>\n",
       "</div>"
      ],
      "text/plain": [
       "         Loan_ID Gender Married Dependents Education Self_Employed  \\\n",
       "count        614    601     611        599       614           582   \n",
       "unique       614      2       2          4         2             2   \n",
       "top     LP001722   Male     Yes          0  Graduate            No   \n",
       "freq           1    489     398        345       480           500   \n",
       "mean         NaN    NaN     NaN        NaN       NaN           NaN   \n",
       "std          NaN    NaN     NaN        NaN       NaN           NaN   \n",
       "min          NaN    NaN     NaN        NaN       NaN           NaN   \n",
       "25%          NaN    NaN     NaN        NaN       NaN           NaN   \n",
       "50%          NaN    NaN     NaN        NaN       NaN           NaN   \n",
       "75%          NaN    NaN     NaN        NaN       NaN           NaN   \n",
       "max          NaN    NaN     NaN        NaN       NaN           NaN   \n",
       "\n",
       "        ApplicantIncome  CoapplicantIncome  LoanAmount  Loan_Amount_Term  \\\n",
       "count        614.000000         614.000000  592.000000         600.00000   \n",
       "unique              NaN                NaN         NaN               NaN   \n",
       "top                 NaN                NaN         NaN               NaN   \n",
       "freq                NaN                NaN         NaN               NaN   \n",
       "mean        5403.459283        1621.245798  146.412162         342.00000   \n",
       "std         6109.041673        2926.248369   85.587325          65.12041   \n",
       "min          150.000000           0.000000    9.000000          12.00000   \n",
       "25%         2877.500000           0.000000  100.000000         360.00000   \n",
       "50%         3812.500000        1188.500000  128.000000         360.00000   \n",
       "75%         5795.000000        2297.250000  168.000000         360.00000   \n",
       "max        81000.000000       41667.000000  700.000000         480.00000   \n",
       "\n",
       "        Credit_History Property_Area Loan_Status  \n",
       "count       564.000000           614         614  \n",
       "unique             NaN             3           2  \n",
       "top                NaN     Semiurban           Y  \n",
       "freq               NaN           233         422  \n",
       "mean          0.842199           NaN         NaN  \n",
       "std           0.364878           NaN         NaN  \n",
       "min           0.000000           NaN         NaN  \n",
       "25%           1.000000           NaN         NaN  \n",
       "50%           1.000000           NaN         NaN  \n",
       "75%           1.000000           NaN         NaN  \n",
       "max           1.000000           NaN         NaN  "
      ]
     },
     "execution_count": 332,
     "metadata": {
      "tags": []
     },
     "output_type": "execute_result"
    }
   ],
   "source": [
    "# Tabla Resumen\n",
    "desarrll.describe(include='all') # Describir todas las variables."
   ]
  },
  {
   "cell_type": "code",
   "execution_count": null,
   "metadata": {
    "colab": {},
    "colab_type": "code",
    "id": "huW2Vz9hlOHB"
   },
   "outputs": [],
   "source": [
    "# Gráficos para variables cuantitativas\n",
    "#Histogramas y Cajas"
   ]
  },
  {
   "cell_type": "code",
   "execution_count": 12,
   "metadata": {
    "colab": {
     "base_uri": "https://localhost:8080/",
     "height": 282
    },
    "colab_type": "code",
    "executionInfo": {
     "elapsed": 1460,
     "status": "ok",
     "timestamp": 1580176547334,
     "user": {
      "displayName": "Carlos Huamani",
      "photoUrl": "https://lh3.googleusercontent.com/a-/AAuE7mD7372GY5BBLuVIR3jFsKLIAKcHcljh8JPi7MOC=s64",
      "userId": "12790110138974186756"
     },
     "user_tz": 300
    },
    "id": "VQ3Ck_0xlOHE",
    "outputId": "d9f0916d-c6df-4e69-c557-5b93e7fc8a6b"
   },
   "outputs": [
    {
     "data": {
      "text/plain": [
       "<matplotlib.axes._subplots.AxesSubplot at 0x7fd0d592fe80>"
      ]
     },
     "execution_count": 12,
     "metadata": {
      "tags": []
     },
     "output_type": "execute_result"
    },
    {
     "data": {
      "image/png": "[encoded data removed]",
      "text/plain": [
       "<Figure size 432x288 with 1 Axes>"
      ]
     },
     "metadata": {
      "tags": []
     },
     "output_type": "display_data"
    }
   ],
   "source": [
    "# Análisis Univariado de los atributos del data set\n",
    "%matplotlib inline\n",
    "import matplotlib.pyplot as plt\n",
    "desarrll['ApplicantIncome'].hist()\n"
   ]
  },
  {
   "cell_type": "code",
   "execution_count": null,
   "metadata": {
    "colab": {},
    "colab_type": "code",
    "id": "p6ud9igHlOHI",
    "outputId": "435713f4-91d8-422b-818d-a18cc9aa4f31"
   },
   "outputs": [
    {
     "data": {
      "text/plain": [
       "<matplotlib.axes._subplots.AxesSubplot at 0x1fd9c3672b0>"
      ]
     },
     "execution_count": 342,
     "metadata": {
      "tags": []
     },
     "output_type": "execute_result"
    },
    {
     "data": {
      "image/png": "[encoded data removed]",
      "text/plain": [
       "<Figure size 576x576 with 1 Axes>"
      ]
     },
     "metadata": {
      "tags": []
     },
     "output_type": "display_data"
    }
   ],
   "source": [
    "%matplotlib inline\n",
    "import matplotlib.pyplot as plt\n",
    "plt.title('Histograma de la Variable CoapplicantIncome')\n",
    "desarrll['CoapplicantIncome'].hist(figsize=(8,8),color=\"blue\",bins=100)"
   ]
  },
  {
   "cell_type": "code",
   "execution_count": null,
   "metadata": {
    "colab": {},
    "colab_type": "code",
    "id": "_LZNRP63lOHL"
   },
   "outputs": [],
   "source": [
    "## Cuartiles y diagramas de cajas"
   ]
  },
  {
   "cell_type": "markdown",
   "metadata": {
    "colab_type": "text",
    "id": "WRB0wwh8lOHN"
   },
   "source": [
    "\n",
    "Los cuartiles son los tres valores de la variable estadística que dividen a un conjunto de datos ordenados en cuatro partes iguales. Q1, Q2 y Q3 determinan los valores correspondientes al 25%, al 50% y al 75% de los datos. Q2 coincide con la mediana.\n",
    "\n",
    "Los diagramas de cajas son una presentación visual que describe varias características importantes al mismo tiempo, tales como la dispersión y simetría. Para su realización se representan los tres cuartiles y los valores mínimo y máximo de los datos, sobre un rectángulo, alineado horizontal o verticalmente. Estos gráficos nos proporcionan abundante información y son sumamente útiles para encontrar valores atípicos y comparar dos conjunto de datos.\n",
    "\n"
   ]
  },
  {
   "cell_type": "markdown",
   "metadata": {
    "colab_type": "text",
    "id": "tgSrlMlElOHP"
   },
   "source": [
    "![image.png](attachment:image.png)"
   ]
  },
  {
   "cell_type": "code",
   "execution_count": null,
   "metadata": {
    "colab": {},
    "colab_type": "code",
    "id": "thIv6mQslOHQ",
    "outputId": "978c3fb4-e835-4f88-86a0-1fb3a29f0212"
   },
   "outputs": [
    {
     "data": {
      "text/plain": [
       "<matplotlib.axes._subplots.AxesSubplot at 0x1fd9dba4390>"
      ]
     },
     "execution_count": 343,
     "metadata": {
      "tags": []
     },
     "output_type": "execute_result"
    },
    {
     "data": {
      "image/png": "[encoded data removed]",
      "text/plain": [
       "<Figure size 432x288 with 1 Axes>"
      ]
     },
     "metadata": {
      "tags": []
     },
     "output_type": "display_data"
    }
   ],
   "source": [
    "# Gráfico de Cajas\n",
    "import pandas as pd\n",
    "%matplotlib inline\n",
    "import matplotlib.pyplot as plt\n",
    "plt.title('Gráfico de Cajas de LoanAmount')\n",
    "#train.boxplot(column='LoanAmount',showfliers='T',notch=0, sym='+', vert=1, whis=1.5)\n",
    "desarrll.boxplot(column='LoanAmount')"
   ]
  },
  {
   "cell_type": "code",
   "execution_count": null,
   "metadata": {
    "colab": {},
    "colab_type": "code",
    "id": "G4U2brn-lOHT",
    "outputId": "65d80a3b-eac7-4a20-e1dc-7a0d8476c13a"
   },
   "outputs": [
    {
     "data": {
      "text/plain": [
       "<matplotlib.axes._subplots.AxesSubplot at 0x1fd9dc0d630>"
      ]
     },
     "execution_count": 344,
     "metadata": {
      "tags": []
     },
     "output_type": "execute_result"
    },
    {
     "data": {
      "image/png": "[encoded data removed]",
      "text/plain": [
       "<Figure size 432x288 with 1 Axes>"
      ]
     },
     "metadata": {
      "tags": []
     },
     "output_type": "display_data"
    }
   ],
   "source": [
    "desarrll.boxplot('LoanAmount',by='Gender')"
   ]
  },
  {
   "cell_type": "code",
   "execution_count": null,
   "metadata": {
    "colab": {},
    "colab_type": "code",
    "id": "Yhf4SP_dlOHW",
    "outputId": "05258fed-3c61-4c42-c39b-4cbd0864a8c5"
   },
   "outputs": [
    {
     "data": {
      "text/plain": [
       "<matplotlib.axes._subplots.AxesSubplot at 0x1fd9dc94b38>"
      ]
     },
     "execution_count": 345,
     "metadata": {
      "tags": []
     },
     "output_type": "execute_result"
    },
    {
     "data": {
      "image/png": "[encoded data removed]",
      "text/plain": [
       "<Figure size 432x288 with 1 Axes>"
      ]
     },
     "metadata": {
      "tags": []
     },
     "output_type": "display_data"
    }
   ],
   "source": [
    "import matplotlib.pyplot as plt\n",
    "plt.title('Gráfico de Cajas de Loan_Amount_Term')\n",
    "desarrll.boxplot(column='Loan_Amount_Term',autorange='T',showfliers='T',notch=0, sym='+', vert=1, whis=1.5)"
   ]
  },
  {
   "cell_type": "code",
   "execution_count": null,
   "metadata": {
    "colab": {},
    "colab_type": "code",
    "id": "BBp6KJAelOHZ"
   },
   "outputs": [],
   "source": [
    "## Imputacion de Datos "
   ]
  },
  {
   "cell_type": "code",
   "execution_count": null,
   "metadata": {
    "colab": {},
    "colab_type": "code",
    "id": "J6NBHHE3lOHb",
    "outputId": "86d8e11d-7a68-4edb-a813-db600e231d2d"
   },
   "outputs": [
    {
     "data": {
      "text/plain": [
       "Loan_ID               0\n",
       "Gender               13\n",
       "Married               3\n",
       "Dependents           15\n",
       "Education             0\n",
       "Self_Employed        32\n",
       "ApplicantIncome       0\n",
       "CoapplicantIncome     0\n",
       "LoanAmount           22\n",
       "Loan_Amount_Term     14\n",
       "Credit_History       50\n",
       "Property_Area         0\n",
       "Loan_Status           0\n",
       "dtype: int64"
      ]
     },
     "execution_count": 13,
     "metadata": {
      "tags": []
     },
     "output_type": "execute_result"
    }
   ],
   "source": [
    "# Revisar los valores perdidos\n",
    "desarrll.isnull().sum()"
   ]
  },
  {
   "cell_type": "code",
   "execution_count": null,
   "metadata": {
    "colab": {},
    "colab_type": "code",
    "id": "PVylmLWwlOHd"
   },
   "outputs": [],
   "source": [
    "########################################\n",
    "# Tratamiento de valores missings\n",
    "########################################"
   ]
  },
  {
   "cell_type": "code",
   "execution_count": 13,
   "metadata": {
    "colab": {
     "base_uri": "https://localhost:8080/",
     "height": 255
    },
    "colab_type": "code",
    "executionInfo": {
     "elapsed": 1391,
     "status": "ok",
     "timestamp": 1580176562883,
     "user": {
      "displayName": "Carlos Huamani",
      "photoUrl": "https://lh3.googleusercontent.com/a-/AAuE7mD7372GY5BBLuVIR3jFsKLIAKcHcljh8JPi7MOC=s64",
      "userId": "12790110138974186756"
     },
     "user_tz": 300
    },
    "id": "yYCzzH5RlOHg",
    "outputId": "b6d9ff7b-5ece-4440-bb85-23013d7226d9"
   },
   "outputs": [
    {
     "data": {
      "text/plain": [
       "Loan_ID               0\n",
       "Gender               13\n",
       "Married               3\n",
       "Dependents           15\n",
       "Education             0\n",
       "Self_Employed        32\n",
       "ApplicantIncome       0\n",
       "CoapplicantIncome     0\n",
       "LoanAmount           22\n",
       "Loan_Amount_Term     14\n",
       "Credit_History       50\n",
       "Property_Area         0\n",
       "Loan_Status           0\n",
       "dtype: int64"
      ]
     },
     "execution_count": 13,
     "metadata": {
      "tags": []
     },
     "output_type": "execute_result"
    }
   ],
   "source": [
    "desarrll.isnull().sum()"
   ]
  },
  {
   "cell_type": "markdown",
   "metadata": {
    "colab_type": "text",
    "id": "al6pFfNBlOHi"
   },
   "source": [
    "![image.png](attachment:image.png)"
   ]
  },
  {
   "cell_type": "code",
   "execution_count": null,
   "metadata": {
    "colab": {},
    "colab_type": "code",
    "id": "XOGlMlsRlOHj"
   },
   "outputs": [],
   "source": [
    "# No olvidemos separar las variables cualitativas para poder trabajarlas eficientemente\n",
    "columnas_categoricas = [\"Gender\",\"Married\",\"Education\",\"Self_Employed\",\"Property_Area\",\"Dependents\",\"Loan_Status\"]"
   ]
  },
  {
   "cell_type": "code",
   "execution_count": null,
   "metadata": {
    "colab": {},
    "colab_type": "code",
    "id": "bmlOpciSlOHm"
   },
   "outputs": [],
   "source": [
    "# Separamos las columnas numericas\n",
    "columnas_numericas = [\"ApplicantIncome\",\"CoapplicantIncome\",\"LoanAmount\",\"Loan_Amount_Term\"]"
   ]
  },
  {
   "cell_type": "code",
   "execution_count": 16,
   "metadata": {
    "colab": {
     "base_uri": "https://localhost:8080/",
     "height": 85
    },
    "colab_type": "code",
    "executionInfo": {
     "elapsed": 652,
     "status": "ok",
     "timestamp": 1580176711019,
     "user": {
      "displayName": "Carlos Huamani",
      "photoUrl": "https://lh3.googleusercontent.com/a-/AAuE7mD7372GY5BBLuVIR3jFsKLIAKcHcljh8JPi7MOC=s64",
      "userId": "12790110138974186756"
     },
     "user_tz": 300
    },
    "id": "4sjzaGKklOHo",
    "outputId": "81900b5a-1b3a-4f36-fb09-75ccd67ae495"
   },
   "outputs": [
    {
     "data": {
      "text/plain": [
       "Male      489\n",
       "Female    112\n",
       "NaN        13\n",
       "Name: Gender, dtype: int64"
      ]
     },
     "execution_count": 16,
     "metadata": {
      "tags": []
     },
     "output_type": "execute_result"
    }
   ],
   "source": [
    "# Visualizamos los valores perdidos respecto a las variables cualititativas\n",
    "desarrll.Gender.value_counts(dropna=False)"
   ]
  },
  {
   "cell_type": "code",
   "execution_count": 17,
   "metadata": {
    "colab": {
     "base_uri": "https://localhost:8080/",
     "height": 255
    },
    "colab_type": "code",
    "executionInfo": {
     "elapsed": 671,
     "status": "ok",
     "timestamp": 1580176713558,
     "user": {
      "displayName": "Carlos Huamani",
      "photoUrl": "https://lh3.googleusercontent.com/a-/AAuE7mD7372GY5BBLuVIR3jFsKLIAKcHcljh8JPi7MOC=s64",
      "userId": "12790110138974186756"
     },
     "user_tz": 300
    },
    "id": "XNtexTFWlOHr",
    "outputId": "51c17297-08fb-47e0-eca9-37eaf5a44af4"
   },
   "outputs": [
    {
     "data": {
      "text/plain": [
       "Loan_ID               0\n",
       "Gender               13\n",
       "Married               3\n",
       "Dependents           15\n",
       "Education             0\n",
       "Self_Employed        32\n",
       "ApplicantIncome       0\n",
       "CoapplicantIncome     0\n",
       "LoanAmount           22\n",
       "Loan_Amount_Term     14\n",
       "Credit_History       50\n",
       "Property_Area         0\n",
       "Loan_Status           0\n",
       "dtype: int64"
      ]
     },
     "execution_count": 17,
     "metadata": {
      "tags": []
     },
     "output_type": "execute_result"
    }
   ],
   "source": [
    "desarrll.isnull().sum()"
   ]
  },
  {
   "cell_type": "code",
   "execution_count": null,
   "metadata": {
    "colab": {},
    "colab_type": "code",
    "id": "okIEg8xRlOHu"
   },
   "outputs": [],
   "source": [
    "# Imputamos los valores cualitativos por Moda\n",
    "desarrll.Gender = desarrll.Gender.fillna(\"Male\")\n",
    "desarrll.Married = desarrll.Married.fillna(\"Yes\")\n",
    "desarrll.Self_Employed = desarrll.Self_Employed.fillna(\"Yes\")\n",
    "desarrll.Credit_History = desarrll.Credit_History.fillna(\"1\")\n",
    "desarrll.Dependents = desarrll.Dependents.fillna(\"0\")"
   ]
  },
  {
   "cell_type": "code",
   "execution_count": 19,
   "metadata": {
    "colab": {
     "base_uri": "https://localhost:8080/",
     "height": 255
    },
    "colab_type": "code",
    "executionInfo": {
     "elapsed": 691,
     "status": "ok",
     "timestamp": 1580176718532,
     "user": {
      "displayName": "Carlos Huamani",
      "photoUrl": "https://lh3.googleusercontent.com/a-/AAuE7mD7372GY5BBLuVIR3jFsKLIAKcHcljh8JPi7MOC=s64",
      "userId": "12790110138974186756"
     },
     "user_tz": 300
    },
    "id": "8Fi9vsiRlOHx",
    "outputId": "98af2e5d-2d68-49bd-ab47-1a1631a4e93f"
   },
   "outputs": [
    {
     "data": {
      "text/plain": [
       "Loan_ID               0\n",
       "Gender                0\n",
       "Married               0\n",
       "Dependents            0\n",
       "Education             0\n",
       "Self_Employed         0\n",
       "ApplicantIncome       0\n",
       "CoapplicantIncome     0\n",
       "LoanAmount           22\n",
       "Loan_Amount_Term     14\n",
       "Credit_History        0\n",
       "Property_Area         0\n",
       "Loan_Status           0\n",
       "dtype: int64"
      ]
     },
     "execution_count": 19,
     "metadata": {
      "tags": []
     },
     "output_type": "execute_result"
    }
   ],
   "source": [
    "desarrll.isnull().sum()"
   ]
  },
  {
   "cell_type": "code",
   "execution_count": 20,
   "metadata": {
    "colab": {
     "base_uri": "https://localhost:8080/",
     "height": 136
    },
    "colab_type": "code",
    "executionInfo": {
     "elapsed": 658,
     "status": "ok",
     "timestamp": 1580176722740,
     "user": {
      "displayName": "Carlos Huamani",
      "photoUrl": "https://lh3.googleusercontent.com/a-/AAuE7mD7372GY5BBLuVIR3jFsKLIAKcHcljh8JPi7MOC=s64",
      "userId": "12790110138974186756"
     },
     "user_tz": 300
    },
    "id": "9FfRE6SzlOHz",
    "outputId": "d9256b89-ed02-4bb7-c3c3-62493e8ce8e0"
   },
   "outputs": [
    {
     "name": "stdout",
     "output_type": "stream",
     "text": [
      "Gender\n",
      "Married\n",
      "Education\n",
      "Self_Employed\n",
      "Property_Area\n",
      "Dependents\n",
      "Loan_Status\n"
     ]
    }
   ],
   "source": [
    "# Preprocesamiento con LabelEncoder\n",
    "\n",
    "from sklearn.preprocessing import LabelEncoder # PasoN°01: Importo la libreria a usar\n",
    "for c in columnas_categoricas:\n",
    "    print(str(c))\n",
    "    le = LabelEncoder()                     #   PasoN°02: Instancio la funcion a desarrollar\n",
    "    le.fit(desarrll[str(c)])                #   PasoN°03: Ajusto la funcion\n",
    "    desarrll[str(c)]=le.transform(desarrll[str(c)]) #   PasoN°04: Ejecuto la funcion"
   ]
  },
  {
   "cell_type": "code",
   "execution_count": 21,
   "metadata": {
    "colab": {
     "base_uri": "https://localhost:8080/",
     "height": 224
    },
    "colab_type": "code",
    "executionInfo": {
     "elapsed": 682,
     "status": "ok",
     "timestamp": 1580176731219,
     "user": {
      "displayName": "Carlos Huamani",
      "photoUrl": "https://lh3.googleusercontent.com/a-/AAuE7mD7372GY5BBLuVIR3jFsKLIAKcHcljh8JPi7MOC=s64",
      "userId": "12790110138974186756"
     },
     "user_tz": 300
    },
    "id": "6X7AW1ZSlOH3",
    "outputId": "bf367993-d8c5-4074-b4d1-cf37511af301"
   },
   "outputs": [
    {
     "data": {
      "text/html": [
       "<div>\n",
       "<style scoped>\n",
       "    .dataframe tbody tr th:only-of-type {\n",
       "        vertical-align: middle;\n",
       "    }\n",
       "\n",
       "    .dataframe tbody tr th {\n",
       "        vertical-align: top;\n",
       "    }\n",
       "\n",
       "    .dataframe thead th {\n",
       "        text-align: right;\n",
       "    }\n",
       "</style>\n",
       "<table border=\"1\" class=\"dataframe\">\n",
       "  <thead>\n",
       "    <tr style=\"text-align: right;\">\n",
       "      <th></th>\n",
       "      <th>Loan_ID</th>\n",
       "      <th>Gender</th>\n",
       "      <th>Married</th>\n",
       "      <th>Dependents</th>\n",
       "      <th>Education</th>\n",
       "      <th>Self_Employed</th>\n",
       "      <th>ApplicantIncome</th>\n",
       "      <th>CoapplicantIncome</th>\n",
       "      <th>LoanAmount</th>\n",
       "      <th>Loan_Amount_Term</th>\n",
       "      <th>Credit_History</th>\n",
       "      <th>Property_Area</th>\n",
       "      <th>Loan_Status</th>\n",
       "    </tr>\n",
       "  </thead>\n",
       "  <tbody>\n",
       "    <tr>\n",
       "      <th>0</th>\n",
       "      <td>LP001002</td>\n",
       "      <td>1</td>\n",
       "      <td>0</td>\n",
       "      <td>0</td>\n",
       "      <td>0</td>\n",
       "      <td>0</td>\n",
       "      <td>5849</td>\n",
       "      <td>0.0</td>\n",
       "      <td>NaN</td>\n",
       "      <td>360.0</td>\n",
       "      <td>1</td>\n",
       "      <td>2</td>\n",
       "      <td>1</td>\n",
       "    </tr>\n",
       "    <tr>\n",
       "      <th>1</th>\n",
       "      <td>LP001003</td>\n",
       "      <td>1</td>\n",
       "      <td>1</td>\n",
       "      <td>1</td>\n",
       "      <td>0</td>\n",
       "      <td>0</td>\n",
       "      <td>4583</td>\n",
       "      <td>1508.0</td>\n",
       "      <td>128.0</td>\n",
       "      <td>360.0</td>\n",
       "      <td>1</td>\n",
       "      <td>0</td>\n",
       "      <td>0</td>\n",
       "    </tr>\n",
       "    <tr>\n",
       "      <th>2</th>\n",
       "      <td>LP001005</td>\n",
       "      <td>1</td>\n",
       "      <td>1</td>\n",
       "      <td>0</td>\n",
       "      <td>0</td>\n",
       "      <td>1</td>\n",
       "      <td>3000</td>\n",
       "      <td>0.0</td>\n",
       "      <td>66.0</td>\n",
       "      <td>360.0</td>\n",
       "      <td>1</td>\n",
       "      <td>2</td>\n",
       "      <td>1</td>\n",
       "    </tr>\n",
       "    <tr>\n",
       "      <th>3</th>\n",
       "      <td>LP001006</td>\n",
       "      <td>1</td>\n",
       "      <td>1</td>\n",
       "      <td>0</td>\n",
       "      <td>1</td>\n",
       "      <td>0</td>\n",
       "      <td>2583</td>\n",
       "      <td>2358.0</td>\n",
       "      <td>120.0</td>\n",
       "      <td>360.0</td>\n",
       "      <td>1</td>\n",
       "      <td>2</td>\n",
       "      <td>1</td>\n",
       "    </tr>\n",
       "    <tr>\n",
       "      <th>4</th>\n",
       "      <td>LP001008</td>\n",
       "      <td>1</td>\n",
       "      <td>0</td>\n",
       "      <td>0</td>\n",
       "      <td>0</td>\n",
       "      <td>0</td>\n",
       "      <td>6000</td>\n",
       "      <td>0.0</td>\n",
       "      <td>141.0</td>\n",
       "      <td>360.0</td>\n",
       "      <td>1</td>\n",
       "      <td>2</td>\n",
       "      <td>1</td>\n",
       "    </tr>\n",
       "  </tbody>\n",
       "</table>\n",
       "</div>"
      ],
      "text/plain": [
       "    Loan_ID  Gender  Married  ...  Credit_History  Property_Area  Loan_Status\n",
       "0  LP001002       1        0  ...               1              2            1\n",
       "1  LP001003       1        1  ...               1              0            0\n",
       "2  LP001005       1        1  ...               1              2            1\n",
       "3  LP001006       1        1  ...               1              2            1\n",
       "4  LP001008       1        0  ...               1              2            1\n",
       "\n",
       "[5 rows x 13 columns]"
      ]
     },
     "execution_count": 21,
     "metadata": {
      "tags": []
     },
     "output_type": "execute_result"
    }
   ],
   "source": [
    "desarrll.head()"
   ]
  },
  {
   "cell_type": "code",
   "execution_count": null,
   "metadata": {
    "colab": {},
    "colab_type": "code",
    "id": "hyH-U4IDlOH6"
   },
   "outputs": [],
   "source": [
    "desarrll.Dependents = desarrll.Dependents.astype('int32')"
   ]
  },
  {
   "cell_type": "code",
   "execution_count": null,
   "metadata": {
    "colab": {},
    "colab_type": "code",
    "id": "shkGXa3rlOH8"
   },
   "outputs": [],
   "source": [
    "#desarrll.isnull().sum()"
   ]
  },
  {
   "cell_type": "code",
   "execution_count": null,
   "metadata": {
    "colab": {},
    "colab_type": "code",
    "id": "pTYQKUurlOIA"
   },
   "outputs": [],
   "source": [
    "# Imputamos los valores cuantitativos por Media o Mediana\n",
    "## Median\n",
    "for c in columnas_numericas:\n",
    "    median = desarrll[c].median()\n",
    "    desarrll[c].fillna(median, inplace=True)"
   ]
  },
  {
   "cell_type": "code",
   "execution_count": null,
   "metadata": {
    "colab": {},
    "colab_type": "code",
    "id": "ceybPhx0lOIC"
   },
   "outputs": [],
   "source": [
    "# desarrll.LoanAmount = desarrll.LoanAmount.fillna(desarrll.LoanAmount.median())"
   ]
  },
  {
   "cell_type": "code",
   "execution_count": 27,
   "metadata": {
    "colab": {
     "base_uri": "https://localhost:8080/",
     "height": 255
    },
    "colab_type": "code",
    "executionInfo": {
     "elapsed": 701,
     "status": "ok",
     "timestamp": 1580176890680,
     "user": {
      "displayName": "Carlos Huamani",
      "photoUrl": "https://lh3.googleusercontent.com/a-/AAuE7mD7372GY5BBLuVIR3jFsKLIAKcHcljh8JPi7MOC=s64",
      "userId": "12790110138974186756"
     },
     "user_tz": 300
    },
    "id": "-3dOwXePlOIF",
    "outputId": "5ef807e3-4b1c-47a9-aa4e-d022652831dc"
   },
   "outputs": [
    {
     "data": {
      "text/plain": [
       "Loan_ID              0\n",
       "Gender               0\n",
       "Married              0\n",
       "Dependents           0\n",
       "Education            0\n",
       "Self_Employed        0\n",
       "ApplicantIncome      0\n",
       "CoapplicantIncome    0\n",
       "LoanAmount           0\n",
       "Loan_Amount_Term     0\n",
       "Credit_History       0\n",
       "Property_Area        0\n",
       "Loan_Status          0\n",
       "dtype: int64"
      ]
     },
     "execution_count": 27,
     "metadata": {
      "tags": []
     },
     "output_type": "execute_result"
    }
   ],
   "source": [
    "# Revisamos si la recodigicación fue la idónea\n",
    "desarrll.isnull().sum()"
   ]
  },
  {
   "cell_type": "code",
   "execution_count": null,
   "metadata": {
    "colab": {},
    "colab_type": "code",
    "id": "2hvsZgpGlOIJ"
   },
   "outputs": [],
   "source": [
    "########################################\n",
    "## Feature Enginnering ##\n",
    "########################################"
   ]
  },
  {
   "cell_type": "markdown",
   "metadata": {
    "colab_type": "text",
    "id": "OPmIvcJClOIL"
   },
   "source": [
    "![image.png](attachment:image.png)"
   ]
  },
  {
   "cell_type": "code",
   "execution_count": null,
   "metadata": {
    "colab": {},
    "colab_type": "code",
    "id": "EOArbsqplOIM"
   },
   "outputs": [],
   "source": [
    "## Creación de Variables por Decision de Negocio o de acuerdo a metodologías más automatizadas es el\n",
    "# corazon de Machine Learning\n",
    "# También conocido como proceso de Feature Engineering, no olvidar que todo lo que le hacemos al Train o Entrenamiento se lo\n",
    "# debemos hacer a la data de scoreo o data productiva."
   ]
  },
  {
   "cell_type": "code",
   "execution_count": null,
   "metadata": {
    "colab": {},
    "colab_type": "code",
    "id": "89QGndkdlOIO",
    "outputId": "e3968c26-82ee-426e-aa6f-35cc256cb1ac"
   },
   "outputs": [
    {
     "data": {
      "text/plain": [
       "(614, 13)"
      ]
     },
     "execution_count": 24,
     "metadata": {
      "tags": []
     },
     "output_type": "execute_result"
    }
   ],
   "source": [
    "desarrll.shape"
   ]
  },
  {
   "cell_type": "code",
   "execution_count": null,
   "metadata": {
    "colab": {},
    "colab_type": "code",
    "id": "Xww-qZ8YlOIT",
    "outputId": "9f337074-79f5-41e3-8919-f07c97d08745"
   },
   "outputs": [
    {
     "data": {
      "text/html": [
       "<div>\n",
       "<style scoped>\n",
       "    .dataframe tbody tr th:only-of-type {\n",
       "        vertical-align: middle;\n",
       "    }\n",
       "\n",
       "    .dataframe tbody tr th {\n",
       "        vertical-align: top;\n",
       "    }\n",
       "\n",
       "    .dataframe thead th {\n",
       "        text-align: right;\n",
       "    }\n",
       "</style>\n",
       "<table border=\"1\" class=\"dataframe\">\n",
       "  <thead>\n",
       "    <tr style=\"text-align: right;\">\n",
       "      <th></th>\n",
       "      <th>Loan_ID</th>\n",
       "      <th>Gender</th>\n",
       "      <th>Married</th>\n",
       "      <th>Dependents</th>\n",
       "      <th>Education</th>\n",
       "      <th>Self_Employed</th>\n",
       "      <th>ApplicantIncome</th>\n",
       "      <th>CoapplicantIncome</th>\n",
       "      <th>LoanAmount</th>\n",
       "      <th>Loan_Amount_Term</th>\n",
       "      <th>Credit_History</th>\n",
       "      <th>Property_Area</th>\n",
       "      <th>Loan_Status</th>\n",
       "    </tr>\n",
       "  </thead>\n",
       "  <tbody>\n",
       "    <tr>\n",
       "      <th>0</th>\n",
       "      <td>LP001002</td>\n",
       "      <td>1</td>\n",
       "      <td>0</td>\n",
       "      <td>0</td>\n",
       "      <td>0</td>\n",
       "      <td>0</td>\n",
       "      <td>5849</td>\n",
       "      <td>0.0</td>\n",
       "      <td>128.0</td>\n",
       "      <td>360.0</td>\n",
       "      <td>1</td>\n",
       "      <td>2</td>\n",
       "      <td>1</td>\n",
       "    </tr>\n",
       "  </tbody>\n",
       "</table>\n",
       "</div>"
      ],
      "text/plain": [
       "    Loan_ID  Gender  Married  Dependents  Education  Self_Employed  \\\n",
       "0  LP001002       1        0           0          0              0   \n",
       "\n",
       "   ApplicantIncome  CoapplicantIncome  LoanAmount  Loan_Amount_Term  \\\n",
       "0             5849                0.0       128.0             360.0   \n",
       "\n",
       "   Credit_History  Property_Area  Loan_Status  \n",
       "0               1              2            1  "
      ]
     },
     "execution_count": 69,
     "metadata": {
      "tags": []
     },
     "output_type": "execute_result"
    }
   ],
   "source": [
    "desarrll.head(1)"
   ]
  },
  {
   "cell_type": "code",
   "execution_count": null,
   "metadata": {
    "colab": {},
    "colab_type": "code",
    "id": "fHzIppo-lOIV"
   },
   "outputs": [],
   "source": [
    "# Ingenieria de datos\n",
    "#Creamos las variables para el entrenamiento o train\n",
    "\n",
    "desarrll['TotalIncome']    = desarrll['ApplicantIncome'] + desarrll['CoapplicantIncome']\n",
    "desarrll['Log_LoanAmount'] = round(np.log(desarrll['LoanAmount']+1),2)"
   ]
  },
  {
   "cell_type": "code",
   "execution_count": null,
   "metadata": {
    "colab": {},
    "colab_type": "code",
    "id": "VGelHyeVlOIX"
   },
   "outputs": [],
   "source": [
    "desarrll['AmountxTerm']    = round(desarrll['LoanAmount']/desarrll['Loan_Amount_Term'],2)\n",
    "desarrll[\"Cuota_Ingreso1\"] = (1000*desarrll[\"LoanAmount\"]/desarrll[\"Loan_Amount_Term\"])/(desarrll[\"ApplicantIncome\"])\n",
    "desarrll[\"Cuota_Ingreso2\"] = (1000*desarrll[\"LoanAmount\"]/desarrll[\"Loan_Amount_Term\"])/(desarrll[\"TotalIncome\"])\n",
    "desarrll[\"Cuota_Ingreso_Hijo\"] = (1000*desarrll[\"LoanAmount\"]/desarrll[\"Loan_Amount_Term\"])/(desarrll[\"TotalIncome\"]/(desarrll[\"Dependents\"]+1))"
   ]
  },
  {
   "cell_type": "code",
   "execution_count": 48,
   "metadata": {
    "colab": {
     "base_uri": "https://localhost:8080/",
     "height": 193
    },
    "colab_type": "code",
    "executionInfo": {
     "elapsed": 611,
     "status": "ok",
     "timestamp": 1580177583150,
     "user": {
      "displayName": "Carlos Huamani",
      "photoUrl": "https://lh3.googleusercontent.com/a-/AAuE7mD7372GY5BBLuVIR3jFsKLIAKcHcljh8JPi7MOC=s64",
      "userId": "12790110138974186756"
     },
     "user_tz": 300
    },
    "id": "WPkt9ls7lOIa",
    "outputId": "84316401-c687-455a-b828-f028a8a99e7c"
   },
   "outputs": [
    {
     "data": {
      "text/html": [
       "<div>\n",
       "<style scoped>\n",
       "    .dataframe tbody tr th:only-of-type {\n",
       "        vertical-align: middle;\n",
       "    }\n",
       "\n",
       "    .dataframe tbody tr th {\n",
       "        vertical-align: top;\n",
       "    }\n",
       "\n",
       "    .dataframe thead th {\n",
       "        text-align: right;\n",
       "    }\n",
       "</style>\n",
       "<table border=\"1\" class=\"dataframe\">\n",
       "  <thead>\n",
       "    <tr style=\"text-align: right;\">\n",
       "      <th></th>\n",
       "      <th>Gender</th>\n",
       "      <th>Married</th>\n",
       "      <th>Dependents</th>\n",
       "      <th>Education</th>\n",
       "      <th>Self_Employed</th>\n",
       "      <th>ApplicantIncome</th>\n",
       "      <th>CoapplicantIncome</th>\n",
       "      <th>LoanAmount</th>\n",
       "      <th>Loan_Amount_Term</th>\n",
       "      <th>Credit_History</th>\n",
       "      <th>Property_Area</th>\n",
       "      <th>Loan_Status</th>\n",
       "      <th>TotalIncome</th>\n",
       "      <th>Log_LoanAmount</th>\n",
       "      <th>AmountxTerm</th>\n",
       "      <th>Cuota_Ingreso1</th>\n",
       "      <th>Cuota_Ingreso2</th>\n",
       "      <th>Cuota_Ingreso_Hijo</th>\n",
       "      <th>dummy</th>\n",
       "    </tr>\n",
       "  </thead>\n",
       "  <tbody>\n",
       "    <tr>\n",
       "      <th>0</th>\n",
       "      <td>1</td>\n",
       "      <td>0</td>\n",
       "      <td>0</td>\n",
       "      <td>0</td>\n",
       "      <td>0</td>\n",
       "      <td>5849</td>\n",
       "      <td>0.0</td>\n",
       "      <td>128.0</td>\n",
       "      <td>360.0</td>\n",
       "      <td>1</td>\n",
       "      <td>2</td>\n",
       "      <td>1</td>\n",
       "      <td>5849.0</td>\n",
       "      <td>4.86</td>\n",
       "      <td>0.36</td>\n",
       "      <td>0.060789</td>\n",
       "      <td>0.060789</td>\n",
       "      <td>0.060789</td>\n",
       "      <td>-</td>\n",
       "    </tr>\n",
       "    <tr>\n",
       "      <th>1</th>\n",
       "      <td>1</td>\n",
       "      <td>1</td>\n",
       "      <td>1</td>\n",
       "      <td>0</td>\n",
       "      <td>0</td>\n",
       "      <td>4583</td>\n",
       "      <td>1508.0</td>\n",
       "      <td>128.0</td>\n",
       "      <td>360.0</td>\n",
       "      <td>1</td>\n",
       "      <td>0</td>\n",
       "      <td>0</td>\n",
       "      <td>6091.0</td>\n",
       "      <td>4.86</td>\n",
       "      <td>0.36</td>\n",
       "      <td>0.077581</td>\n",
       "      <td>0.058374</td>\n",
       "      <td>0.116748</td>\n",
       "      <td>-</td>\n",
       "    </tr>\n",
       "    <tr>\n",
       "      <th>2</th>\n",
       "      <td>1</td>\n",
       "      <td>1</td>\n",
       "      <td>0</td>\n",
       "      <td>0</td>\n",
       "      <td>1</td>\n",
       "      <td>3000</td>\n",
       "      <td>0.0</td>\n",
       "      <td>66.0</td>\n",
       "      <td>360.0</td>\n",
       "      <td>1</td>\n",
       "      <td>2</td>\n",
       "      <td>1</td>\n",
       "      <td>3000.0</td>\n",
       "      <td>4.20</td>\n",
       "      <td>0.18</td>\n",
       "      <td>0.061111</td>\n",
       "      <td>0.061111</td>\n",
       "      <td>0.061111</td>\n",
       "      <td>-</td>\n",
       "    </tr>\n",
       "    <tr>\n",
       "      <th>3</th>\n",
       "      <td>1</td>\n",
       "      <td>1</td>\n",
       "      <td>0</td>\n",
       "      <td>1</td>\n",
       "      <td>0</td>\n",
       "      <td>2583</td>\n",
       "      <td>2358.0</td>\n",
       "      <td>120.0</td>\n",
       "      <td>360.0</td>\n",
       "      <td>1</td>\n",
       "      <td>2</td>\n",
       "      <td>1</td>\n",
       "      <td>4941.0</td>\n",
       "      <td>4.80</td>\n",
       "      <td>0.33</td>\n",
       "      <td>0.129049</td>\n",
       "      <td>0.067463</td>\n",
       "      <td>0.067463</td>\n",
       "      <td>-</td>\n",
       "    </tr>\n",
       "  </tbody>\n",
       "</table>\n",
       "</div>"
      ],
      "text/plain": [
       "   Gender  Married  Dependents  ...  Cuota_Ingreso2  Cuota_Ingreso_Hijo  dummy\n",
       "0       1        0           0  ...        0.060789            0.060789      -\n",
       "1       1        1           1  ...        0.058374            0.116748      -\n",
       "2       1        1           0  ...        0.061111            0.061111      -\n",
       "3       1        1           0  ...        0.067463            0.067463      -\n",
       "\n",
       "[4 rows x 19 columns]"
      ]
     },
     "execution_count": 48,
     "metadata": {
      "tags": []
     },
     "output_type": "execute_result"
    }
   ],
   "source": [
    "# Revisamos las variables creadas, derrepente queremos crear algunas más?\n",
    "#desarrll.shape\n",
    "desarrll.head(4)"
   ]
  },
  {
   "cell_type": "code",
   "execution_count": null,
   "metadata": {
    "colab": {},
    "colab_type": "code",
    "id": "TmZCsQCglOId"
   },
   "outputs": [],
   "source": [
    "# Quitamos el ID\n",
    "desarrll= desarrll.drop('Loan_ID',axis=1)"
   ]
  },
  {
   "cell_type": "code",
   "execution_count": null,
   "metadata": {
    "colab": {},
    "colab_type": "code",
    "id": "MAOWv_eylOIe"
   },
   "outputs": [],
   "source": [
    "########################################\n",
    "# Particion Muestral de los datos\n",
    "########################################"
   ]
  },
  {
   "cell_type": "markdown",
   "metadata": {
    "colab_type": "text",
    "id": "la-EaKUblOIh"
   },
   "source": [
    "![image.png](attachment:image.png)"
   ]
  },
  {
   "cell_type": "code",
   "execution_count": 32,
   "metadata": {
    "colab": {
     "base_uri": "https://localhost:8080/",
     "height": 131
    },
    "colab_type": "code",
    "executionInfo": {
     "elapsed": 715,
     "status": "ok",
     "timestamp": 1580177187284,
     "user": {
      "displayName": "Carlos Huamani",
      "photoUrl": "https://lh3.googleusercontent.com/a-/AAuE7mD7372GY5BBLuVIR3jFsKLIAKcHcljh8JPi7MOC=s64",
      "userId": "12790110138974186756"
     },
     "user_tz": 300
    },
    "id": "axyP2-dPlOIi",
    "outputId": "348fbd60-1676-47e0-c2d2-fce2ee9d20de"
   },
   "outputs": [
    {
     "data": {
      "text/html": [
       "<div>\n",
       "<style scoped>\n",
       "    .dataframe tbody tr th:only-of-type {\n",
       "        vertical-align: middle;\n",
       "    }\n",
       "\n",
       "    .dataframe tbody tr th {\n",
       "        vertical-align: top;\n",
       "    }\n",
       "\n",
       "    .dataframe thead th {\n",
       "        text-align: right;\n",
       "    }\n",
       "</style>\n",
       "<table border=\"1\" class=\"dataframe\">\n",
       "  <thead>\n",
       "    <tr style=\"text-align: right;\">\n",
       "      <th></th>\n",
       "      <th>Gender</th>\n",
       "      <th>Married</th>\n",
       "      <th>Dependents</th>\n",
       "      <th>Education</th>\n",
       "      <th>Self_Employed</th>\n",
       "      <th>ApplicantIncome</th>\n",
       "      <th>CoapplicantIncome</th>\n",
       "      <th>LoanAmount</th>\n",
       "      <th>Loan_Amount_Term</th>\n",
       "      <th>Credit_History</th>\n",
       "      <th>Property_Area</th>\n",
       "      <th>Loan_Status</th>\n",
       "      <th>TotalIncome</th>\n",
       "      <th>Log_LoanAmount</th>\n",
       "      <th>AmountxTerm</th>\n",
       "      <th>Cuota_Ingreso1</th>\n",
       "      <th>Cuota_Ingreso2</th>\n",
       "      <th>Cuota_Ingreso_Hijo</th>\n",
       "    </tr>\n",
       "  </thead>\n",
       "  <tbody>\n",
       "    <tr>\n",
       "      <th>0</th>\n",
       "      <td>1</td>\n",
       "      <td>0</td>\n",
       "      <td>0</td>\n",
       "      <td>0</td>\n",
       "      <td>0</td>\n",
       "      <td>5849</td>\n",
       "      <td>0.0</td>\n",
       "      <td>128.0</td>\n",
       "      <td>360.0</td>\n",
       "      <td>1</td>\n",
       "      <td>2</td>\n",
       "      <td>1</td>\n",
       "      <td>5849.0</td>\n",
       "      <td>4.86</td>\n",
       "      <td>0.36</td>\n",
       "      <td>0.060789</td>\n",
       "      <td>0.060789</td>\n",
       "      <td>0.060789</td>\n",
       "    </tr>\n",
       "    <tr>\n",
       "      <th>1</th>\n",
       "      <td>1</td>\n",
       "      <td>1</td>\n",
       "      <td>1</td>\n",
       "      <td>0</td>\n",
       "      <td>0</td>\n",
       "      <td>4583</td>\n",
       "      <td>1508.0</td>\n",
       "      <td>128.0</td>\n",
       "      <td>360.0</td>\n",
       "      <td>1</td>\n",
       "      <td>0</td>\n",
       "      <td>0</td>\n",
       "      <td>6091.0</td>\n",
       "      <td>4.86</td>\n",
       "      <td>0.36</td>\n",
       "      <td>0.077581</td>\n",
       "      <td>0.058374</td>\n",
       "      <td>0.116748</td>\n",
       "    </tr>\n",
       "  </tbody>\n",
       "</table>\n",
       "</div>"
      ],
      "text/plain": [
       "   Gender  Married  ...  Cuota_Ingreso2  Cuota_Ingreso_Hijo\n",
       "0       1        0  ...        0.060789            0.060789\n",
       "1       1        1  ...        0.058374            0.116748\n",
       "\n",
       "[2 rows x 18 columns]"
      ]
     },
     "execution_count": 32,
     "metadata": {
      "tags": []
     },
     "output_type": "execute_result"
    }
   ],
   "source": [
    "# Le quitamos la variable Loan_ID o identificador único para poder modelar la información \n",
    "#desarrll = desarrll.drop('Loan_ID', axis=1) # Axis=1\n",
    "desarrll.head(2)"
   ]
  },
  {
   "cell_type": "code",
   "execution_count": null,
   "metadata": {
    "colab": {},
    "colab_type": "code",
    "id": "HRz8WthKlOIl"
   },
   "outputs": [],
   "source": [
    "## Si deseamos balancear, podemos hacerlo con toda la informacion?\n",
    "# Creación de la data de train y la data de test\n",
    "from sklearn.model_selection import train_test_split\n",
    "X_train, X_test, y_train, y_test = train_test_split(desarrll.drop('Loan_Status', axis=1), # (X,y,%test,estratificacion)\n",
    "                                                    desarrll['Loan_Status'], \n",
    "                                                    test_size=0.30,\n",
    "                                                    stratify=desarrll['Loan_Status'],\n",
    "                                                    random_state=100)"
   ]
  },
  {
   "cell_type": "code",
   "execution_count": null,
   "metadata": {
    "colab": {},
    "colab_type": "code",
    "id": "trp8pIgelOIn"
   },
   "outputs": [],
   "source": [
    "########################################\n",
    "# Selección de Variables\n",
    "########################################"
   ]
  },
  {
   "cell_type": "markdown",
   "metadata": {
    "colab_type": "text",
    "id": "dIjHQYVUlOIp"
   },
   "source": [
    "![image.png](attachment:image.png)"
   ]
  },
  {
   "cell_type": "code",
   "execution_count": 61,
   "metadata": {
    "colab": {
     "base_uri": "https://localhost:8080/",
     "height": 190
    },
    "colab_type": "code",
    "executionInfo": {
     "elapsed": 5439,
     "status": "ok",
     "timestamp": 1580177678877,
     "user": {
      "displayName": "Carlos Huamani",
      "photoUrl": "https://lh3.googleusercontent.com/a-/AAuE7mD7372GY5BBLuVIR3jFsKLIAKcHcljh8JPi7MOC=s64",
      "userId": "12790110138974186756"
     },
     "user_tz": 300
    },
    "id": "iVQDjHrilOIq",
    "outputId": "a975fa45-ede7-4a6a-f1bb-e2d44873ab19"
   },
   "outputs": [
    {
     "name": "stdout",
     "output_type": "stream",
     "text": [
      "Collecting boruta\n",
      "\u001b[?25l  Downloading https://files.pythonhosted.org/packages/b2/11/583f4eac99d802c79af9217e1eff56027742a69e6c866b295cce6a5a8fc2/Boruta-0.3-py3-none-any.whl (56kB)\n",
      "\u001b[K     |████████████████████████████████| 61kB 3.1MB/s \n",
      "\u001b[?25hRequirement already satisfied: scipy>=0.17.0 in /usr/local/lib/python3.6/dist-packages (from boruta) (1.4.1)\n",
      "Requirement already satisfied: scikit-learn>=0.17.1 in /usr/local/lib/python3.6/dist-packages (from boruta) (0.22.1)\n",
      "Requirement already satisfied: numpy>=1.10.4 in /usr/local/lib/python3.6/dist-packages (from boruta) (1.17.5)\n",
      "Requirement already satisfied: joblib>=0.11 in /usr/local/lib/python3.6/dist-packages (from scikit-learn>=0.17.1->boruta) (0.14.1)\n",
      "Installing collected packages: boruta\n",
      "Successfully installed boruta-0.3\n"
     ]
    }
   ],
   "source": [
    "import matplotlib.pyplot as plt\n",
    "from sklearn import metrics\n",
    "from sklearn.ensemble import ExtraTreesClassifier\n"
   ]
  },
  {
   "cell_type": "code",
   "execution_count": 51,
   "metadata": {
    "colab": {
     "base_uri": "https://localhost:8080/",
     "height": 34
    },
    "colab_type": "code",
    "executionInfo": {
     "elapsed": 684,
     "status": "ok",
     "timestamp": 1580177597997,
     "user": {
      "displayName": "Carlos Huamani",
      "photoUrl": "https://lh3.googleusercontent.com/a-/AAuE7mD7372GY5BBLuVIR3jFsKLIAKcHcljh8JPi7MOC=s64",
      "userId": "12790110138974186756"
     },
     "user_tz": 300
    },
    "id": "fwUu3billOIs",
    "outputId": "850b8732-4880-4fad-d3f3-57d3c3ac9314"
   },
   "outputs": [
    {
     "data": {
      "text/plain": [
       "(614, 19)"
      ]
     },
     "execution_count": 51,
     "metadata": {
      "tags": []
     },
     "output_type": "execute_result"
    }
   ],
   "source": [
    "desarrll.shape # Eliminamos el ID"
   ]
  },
  {
   "cell_type": "code",
   "execution_count": null,
   "metadata": {
    "colab": {},
    "colab_type": "code",
    "id": "N_8h9CG_lOIu"
   },
   "outputs": [],
   "source": [
    "# Seleccion por Random Forest\n",
    "from sklearn.ensemble import RandomForestClassifier # Paso01: Instancio el algoritmo\n",
    "forest = RandomForestClassifier()                   # Paso02: Configuro el algoritmo\n",
    "\n",
    "forest.fit(X_train, y_train)                        # Paso03: Ajuste el algoritmo\n",
    "importances = forest.feature_importances_           # Variables importantes\n"
   ]
  },
  {
   "cell_type": "code",
   "execution_count": 82,
   "metadata": {
    "colab": {
     "base_uri": "https://localhost:8080/",
     "height": 85
    },
    "colab_type": "code",
    "executionInfo": {
     "elapsed": 636,
     "status": "ok",
     "timestamp": 1580178134917,
     "user": {
      "displayName": "Carlos Huamani",
      "photoUrl": "https://lh3.googleusercontent.com/a-/AAuE7mD7372GY5BBLuVIR3jFsKLIAKcHcljh8JPi7MOC=s64",
      "userId": "12790110138974186756"
     },
     "user_tz": 300
    },
    "id": "mDz1vAC8lOIw",
    "outputId": "b16c633e-9ba5-46b4-f017-f8498b3fe651"
   },
   "outputs": [
    {
     "data": {
      "text/plain": [
       "array([0.01004729, 0.01290621, 0.02025314, 0.01391824, 0.01196071,\n",
       "       0.07701246, 0.04835858, 0.06184612, 0.01500029, 0.22276169,\n",
       "       0.02863012, 0.09616345, 0.05969585, 0.05657674, 0.09210714,\n",
       "       0.08836857, 0.08439341])"
      ]
     },
     "execution_count": 82,
     "metadata": {
      "tags": []
     },
     "output_type": "execute_result"
    }
   ],
   "source": [
    "forest.feature_importances_"
   ]
  },
  {
   "cell_type": "code",
   "execution_count": 83,
   "metadata": {
    "colab": {
     "base_uri": "https://localhost:8080/",
     "height": 576
    },
    "colab_type": "code",
    "executionInfo": {
     "elapsed": 625,
     "status": "ok",
     "timestamp": 1580178136321,
     "user": {
      "displayName": "Carlos Huamani",
      "photoUrl": "https://lh3.googleusercontent.com/a-/AAuE7mD7372GY5BBLuVIR3jFsKLIAKcHcljh8JPi7MOC=s64",
      "userId": "12790110138974186756"
     },
     "user_tz": 300
    },
    "id": "rNhblKm4lOIy",
    "outputId": "fc516a74-a7bb-4c10-8754-2f5df34b0ff6"
   },
   "outputs": [
    {
     "data": {
      "text/html": [
       "<div>\n",
       "<style scoped>\n",
       "    .dataframe tbody tr th:only-of-type {\n",
       "        vertical-align: middle;\n",
       "    }\n",
       "\n",
       "    .dataframe tbody tr th {\n",
       "        vertical-align: top;\n",
       "    }\n",
       "\n",
       "    .dataframe thead th {\n",
       "        text-align: right;\n",
       "    }\n",
       "</style>\n",
       "<table border=\"1\" class=\"dataframe\">\n",
       "  <thead>\n",
       "    <tr style=\"text-align: right;\">\n",
       "      <th></th>\n",
       "      <th>Driver</th>\n",
       "      <th>Importancia</th>\n",
       "    </tr>\n",
       "  </thead>\n",
       "  <tbody>\n",
       "    <tr>\n",
       "      <th>0</th>\n",
       "      <td>Credit_History</td>\n",
       "      <td>0.222762</td>\n",
       "    </tr>\n",
       "    <tr>\n",
       "      <th>1</th>\n",
       "      <td>TotalIncome</td>\n",
       "      <td>0.096163</td>\n",
       "    </tr>\n",
       "    <tr>\n",
       "      <th>2</th>\n",
       "      <td>Cuota_Ingreso1</td>\n",
       "      <td>0.092107</td>\n",
       "    </tr>\n",
       "    <tr>\n",
       "      <th>3</th>\n",
       "      <td>Cuota_Ingreso2</td>\n",
       "      <td>0.088369</td>\n",
       "    </tr>\n",
       "    <tr>\n",
       "      <th>4</th>\n",
       "      <td>Cuota_Ingreso_Hijo</td>\n",
       "      <td>0.084393</td>\n",
       "    </tr>\n",
       "    <tr>\n",
       "      <th>5</th>\n",
       "      <td>ApplicantIncome</td>\n",
       "      <td>0.077012</td>\n",
       "    </tr>\n",
       "    <tr>\n",
       "      <th>6</th>\n",
       "      <td>LoanAmount</td>\n",
       "      <td>0.061846</td>\n",
       "    </tr>\n",
       "    <tr>\n",
       "      <th>7</th>\n",
       "      <td>Log_LoanAmount</td>\n",
       "      <td>0.059696</td>\n",
       "    </tr>\n",
       "    <tr>\n",
       "      <th>8</th>\n",
       "      <td>AmountxTerm</td>\n",
       "      <td>0.056577</td>\n",
       "    </tr>\n",
       "    <tr>\n",
       "      <th>9</th>\n",
       "      <td>CoapplicantIncome</td>\n",
       "      <td>0.048359</td>\n",
       "    </tr>\n",
       "    <tr>\n",
       "      <th>10</th>\n",
       "      <td>Property_Area</td>\n",
       "      <td>0.028630</td>\n",
       "    </tr>\n",
       "    <tr>\n",
       "      <th>11</th>\n",
       "      <td>Dependents</td>\n",
       "      <td>0.020253</td>\n",
       "    </tr>\n",
       "    <tr>\n",
       "      <th>12</th>\n",
       "      <td>Loan_Amount_Term</td>\n",
       "      <td>0.015000</td>\n",
       "    </tr>\n",
       "    <tr>\n",
       "      <th>13</th>\n",
       "      <td>Education</td>\n",
       "      <td>0.013918</td>\n",
       "    </tr>\n",
       "    <tr>\n",
       "      <th>14</th>\n",
       "      <td>Married</td>\n",
       "      <td>0.012906</td>\n",
       "    </tr>\n",
       "    <tr>\n",
       "      <th>15</th>\n",
       "      <td>Self_Employed</td>\n",
       "      <td>0.011961</td>\n",
       "    </tr>\n",
       "    <tr>\n",
       "      <th>16</th>\n",
       "      <td>Gender</td>\n",
       "      <td>0.010047</td>\n",
       "    </tr>\n",
       "  </tbody>\n",
       "</table>\n",
       "</div>"
      ],
      "text/plain": [
       "                Driver  Importancia\n",
       "0       Credit_History     0.222762\n",
       "1          TotalIncome     0.096163\n",
       "2       Cuota_Ingreso1     0.092107\n",
       "3       Cuota_Ingreso2     0.088369\n",
       "4   Cuota_Ingreso_Hijo     0.084393\n",
       "5      ApplicantIncome     0.077012\n",
       "6           LoanAmount     0.061846\n",
       "7       Log_LoanAmount     0.059696\n",
       "8          AmountxTerm     0.056577\n",
       "9    CoapplicantIncome     0.048359\n",
       "10       Property_Area     0.028630\n",
       "11          Dependents     0.020253\n",
       "12    Loan_Amount_Term     0.015000\n",
       "13           Education     0.013918\n",
       "14             Married     0.012906\n",
       "15       Self_Employed     0.011961\n",
       "16              Gender     0.010047"
      ]
     },
     "execution_count": 83,
     "metadata": {
      "tags": []
     },
     "output_type": "execute_result"
    }
   ],
   "source": [
    "# Seleccion por Random Forest\n",
    "TablaImportancia = pd.concat([pd.DataFrame({'Driver':list(X_train.columns)}),\n",
    "                              pd.DataFrame({'Importancia':list(forest.feature_importances_)})], axis = 1)\n",
    "ImportanciaVariables = TablaImportancia[['Driver','Importancia']].sort_values('Importancia', ascending = False).reset_index(drop = True)\n",
    "ImportanciaVariables"
   ]
  },
  {
   "cell_type": "code",
   "execution_count": 84,
   "metadata": {
    "colab": {
     "base_uri": "https://localhost:8080/",
     "height": 122
    },
    "colab_type": "code",
    "executionInfo": {
     "elapsed": 3939,
     "status": "ok",
     "timestamp": 1580178142965,
     "user": {
      "displayName": "Carlos Huamani",
      "photoUrl": "https://lh3.googleusercontent.com/a-/AAuE7mD7372GY5BBLuVIR3jFsKLIAKcHcljh8JPi7MOC=s64",
      "userId": "12790110138974186756"
     },
     "user_tz": 300
    },
    "id": "dWIXAFBtlOI1",
    "outputId": "ca6520d3-ec6a-47ab-97b1-abc1bf3eea05"
   },
   "outputs": [
    {
     "name": "stdout",
     "output_type": "stream",
     "text": [
      "Requirement already satisfied: Boruta in /usr/local/lib/python3.6/dist-packages (0.3)\n",
      "Requirement already satisfied: numpy>=1.10.4 in /usr/local/lib/python3.6/dist-packages (from Boruta) (1.17.5)\n",
      "Requirement already satisfied: scipy>=0.17.0 in /usr/local/lib/python3.6/dist-packages (from Boruta) (1.4.1)\n",
      "Requirement already satisfied: scikit-learn>=0.17.1 in /usr/local/lib/python3.6/dist-packages (from Boruta) (0.22.1)\n",
      "Requirement already satisfied: joblib>=0.11 in /usr/local/lib/python3.6/dist-packages (from scikit-learn>=0.17.1->Boruta) (0.14.1)\n"
     ]
    }
   ],
   "source": [
    "# Instalamos Boruta\n",
    "! pip install Boruta"
   ]
  },
  {
   "cell_type": "code",
   "execution_count": 85,
   "metadata": {
    "colab": {
     "base_uri": "https://localhost:8080/",
     "height": 1000
    },
    "colab_type": "code",
    "executionInfo": {
     "elapsed": 9162,
     "status": "ok",
     "timestamp": 1580178149077,
     "user": {
      "displayName": "Carlos Huamani",
      "photoUrl": "https://lh3.googleusercontent.com/a-/AAuE7mD7372GY5BBLuVIR3jFsKLIAKcHcljh8JPi7MOC=s64",
      "userId": "12790110138974186756"
     },
     "user_tz": 300
    },
    "id": "QDMmMGVNlOI3",
    "outputId": "05ec4dea-4d11-4806-92b5-2f6a61373819"
   },
   "outputs": [
    {
     "name": "stdout",
     "output_type": "stream",
     "text": [
      "Iteration: \t1 / 100\n",
      "Confirmed: \t0\n",
      "Tentative: \t17\n",
      "Rejected: \t0\n",
      "Iteration: \t2 / 100\n",
      "Confirmed: \t0\n",
      "Tentative: \t17\n",
      "Rejected: \t0\n",
      "Iteration: \t3 / 100\n",
      "Confirmed: \t0\n",
      "Tentative: \t17\n",
      "Rejected: \t0\n",
      "Iteration: \t4 / 100\n",
      "Confirmed: \t0\n",
      "Tentative: \t17\n",
      "Rejected: \t0\n",
      "Iteration: \t5 / 100\n",
      "Confirmed: \t0\n",
      "Tentative: \t17\n",
      "Rejected: \t0\n",
      "Iteration: \t6 / 100\n",
      "Confirmed: \t0\n",
      "Tentative: \t17\n",
      "Rejected: \t0\n",
      "Iteration: \t7 / 100\n",
      "Confirmed: \t0\n",
      "Tentative: \t17\n",
      "Rejected: \t0\n",
      "Iteration: \t8 / 100\n",
      "Confirmed: \t0\n",
      "Tentative: \t5\n",
      "Rejected: \t12\n",
      "Iteration: \t9 / 100\n",
      "Confirmed: \t1\n",
      "Tentative: \t4\n",
      "Rejected: \t12\n",
      "Iteration: \t10 / 100\n",
      "Confirmed: \t1\n",
      "Tentative: \t4\n",
      "Rejected: \t12\n",
      "Iteration: \t11 / 100\n",
      "Confirmed: \t1\n",
      "Tentative: \t4\n",
      "Rejected: \t12\n",
      "Iteration: \t12 / 100\n",
      "Confirmed: \t1\n",
      "Tentative: \t4\n",
      "Rejected: \t12\n",
      "Iteration: \t13 / 100\n",
      "Confirmed: \t1\n",
      "Tentative: \t4\n",
      "Rejected: \t12\n",
      "Iteration: \t14 / 100\n",
      "Confirmed: \t1\n",
      "Tentative: \t4\n",
      "Rejected: \t12\n",
      "Iteration: \t15 / 100\n",
      "Confirmed: \t1\n",
      "Tentative: \t4\n",
      "Rejected: \t12\n",
      "Iteration: \t16 / 100\n",
      "Confirmed: \t1\n",
      "Tentative: \t4\n",
      "Rejected: \t12\n",
      "Iteration: \t17 / 100\n",
      "Confirmed: \t1\n",
      "Tentative: \t4\n",
      "Rejected: \t12\n",
      "Iteration: \t18 / 100\n",
      "Confirmed: \t1\n",
      "Tentative: \t4\n",
      "Rejected: \t12\n",
      "Iteration: \t19 / 100\n",
      "Confirmed: \t1\n",
      "Tentative: \t4\n",
      "Rejected: \t12\n",
      "Iteration: \t20 / 100\n",
      "Confirmed: \t1\n",
      "Tentative: \t4\n",
      "Rejected: \t12\n",
      "Iteration: \t21 / 100\n",
      "Confirmed: \t1\n",
      "Tentative: \t4\n",
      "Rejected: \t12\n",
      "Iteration: \t22 / 100\n",
      "Confirmed: \t1\n",
      "Tentative: \t4\n",
      "Rejected: \t12\n",
      "Iteration: \t23 / 100\n",
      "Confirmed: \t1\n",
      "Tentative: \t4\n",
      "Rejected: \t12\n",
      "Iteration: \t24 / 100\n",
      "Confirmed: \t1\n",
      "Tentative: \t4\n",
      "Rejected: \t12\n",
      "Iteration: \t25 / 100\n",
      "Confirmed: \t1\n",
      "Tentative: \t4\n",
      "Rejected: \t12\n",
      "Iteration: \t26 / 100\n",
      "Confirmed: \t1\n",
      "Tentative: \t4\n",
      "Rejected: \t12\n",
      "Iteration: \t27 / 100\n",
      "Confirmed: \t1\n",
      "Tentative: \t4\n",
      "Rejected: \t12\n",
      "Iteration: \t28 / 100\n",
      "Confirmed: \t1\n",
      "Tentative: \t4\n",
      "Rejected: \t12\n",
      "Iteration: \t29 / 100\n",
      "Confirmed: \t1\n",
      "Tentative: \t4\n",
      "Rejected: \t12\n",
      "Iteration: \t30 / 100\n",
      "Confirmed: \t1\n",
      "Tentative: \t4\n",
      "Rejected: \t12\n",
      "Iteration: \t31 / 100\n",
      "Confirmed: \t1\n",
      "Tentative: \t4\n",
      "Rejected: \t12\n",
      "Iteration: \t32 / 100\n",
      "Confirmed: \t1\n",
      "Tentative: \t4\n",
      "Rejected: \t12\n",
      "Iteration: \t33 / 100\n",
      "Confirmed: \t1\n",
      "Tentative: \t4\n",
      "Rejected: \t12\n",
      "Iteration: \t34 / 100\n",
      "Confirmed: \t1\n",
      "Tentative: \t4\n",
      "Rejected: \t12\n",
      "Iteration: \t35 / 100\n",
      "Confirmed: \t1\n",
      "Tentative: \t4\n",
      "Rejected: \t12\n",
      "Iteration: \t36 / 100\n",
      "Confirmed: \t1\n",
      "Tentative: \t4\n",
      "Rejected: \t12\n",
      "Iteration: \t37 / 100\n",
      "Confirmed: \t1\n",
      "Tentative: \t4\n",
      "Rejected: \t12\n",
      "Iteration: \t38 / 100\n",
      "Confirmed: \t1\n",
      "Tentative: \t4\n",
      "Rejected: \t12\n",
      "Iteration: \t39 / 100\n",
      "Confirmed: \t1\n",
      "Tentative: \t4\n",
      "Rejected: \t12\n",
      "Iteration: \t40 / 100\n",
      "Confirmed: \t1\n",
      "Tentative: \t4\n",
      "Rejected: \t12\n",
      "Iteration: \t41 / 100\n",
      "Confirmed: \t1\n",
      "Tentative: \t4\n",
      "Rejected: \t12\n",
      "Iteration: \t42 / 100\n",
      "Confirmed: \t1\n",
      "Tentative: \t4\n",
      "Rejected: \t12\n",
      "Iteration: \t43 / 100\n",
      "Confirmed: \t1\n",
      "Tentative: \t4\n",
      "Rejected: \t12\n",
      "Iteration: \t44 / 100\n",
      "Confirmed: \t1\n",
      "Tentative: \t4\n",
      "Rejected: \t12\n",
      "Iteration: \t45 / 100\n",
      "Confirmed: \t1\n",
      "Tentative: \t4\n",
      "Rejected: \t12\n",
      "Iteration: \t46 / 100\n",
      "Confirmed: \t1\n",
      "Tentative: \t3\n",
      "Rejected: \t13\n",
      "Iteration: \t47 / 100\n",
      "Confirmed: \t1\n",
      "Tentative: \t3\n",
      "Rejected: \t13\n",
      "Iteration: \t48 / 100\n",
      "Confirmed: \t1\n",
      "Tentative: \t3\n",
      "Rejected: \t13\n",
      "Iteration: \t49 / 100\n",
      "Confirmed: \t2\n",
      "Tentative: \t1\n",
      "Rejected: \t14\n",
      "Iteration: \t50 / 100\n",
      "Confirmed: \t2\n",
      "Tentative: \t1\n",
      "Rejected: \t14\n",
      "Iteration: \t51 / 100\n",
      "Confirmed: \t2\n",
      "Tentative: \t1\n",
      "Rejected: \t14\n",
      "Iteration: \t52 / 100\n",
      "Confirmed: \t2\n",
      "Tentative: \t1\n",
      "Rejected: \t14\n",
      "Iteration: \t53 / 100\n",
      "Confirmed: \t2\n",
      "Tentative: \t1\n",
      "Rejected: \t14\n",
      "Iteration: \t54 / 100\n",
      "Confirmed: \t2\n",
      "Tentative: \t1\n",
      "Rejected: \t14\n",
      "Iteration: \t55 / 100\n",
      "Confirmed: \t2\n",
      "Tentative: \t1\n",
      "Rejected: \t14\n",
      "Iteration: \t56 / 100\n",
      "Confirmed: \t2\n",
      "Tentative: \t1\n",
      "Rejected: \t14\n",
      "Iteration: \t57 / 100\n",
      "Confirmed: \t2\n",
      "Tentative: \t1\n",
      "Rejected: \t14\n",
      "Iteration: \t58 / 100\n",
      "Confirmed: \t2\n",
      "Tentative: \t1\n",
      "Rejected: \t14\n",
      "Iteration: \t59 / 100\n",
      "Confirmed: \t2\n",
      "Tentative: \t1\n",
      "Rejected: \t14\n",
      "Iteration: \t60 / 100\n",
      "Confirmed: \t2\n",
      "Tentative: \t1\n",
      "Rejected: \t14\n",
      "Iteration: \t61 / 100\n",
      "Confirmed: \t2\n",
      "Tentative: \t1\n",
      "Rejected: \t14\n",
      "Iteration: \t62 / 100\n",
      "Confirmed: \t2\n",
      "Tentative: \t1\n",
      "Rejected: \t14\n",
      "Iteration: \t63 / 100\n",
      "Confirmed: \t2\n",
      "Tentative: \t1\n",
      "Rejected: \t14\n",
      "Iteration: \t64 / 100\n",
      "Confirmed: \t2\n",
      "Tentative: \t1\n",
      "Rejected: \t14\n",
      "Iteration: \t65 / 100\n",
      "Confirmed: \t2\n",
      "Tentative: \t1\n",
      "Rejected: \t14\n",
      "Iteration: \t66 / 100\n",
      "Confirmed: \t2\n",
      "Tentative: \t1\n",
      "Rejected: \t14\n",
      "Iteration: \t67 / 100\n",
      "Confirmed: \t2\n",
      "Tentative: \t1\n",
      "Rejected: \t14\n",
      "Iteration: \t68 / 100\n",
      "Confirmed: \t2\n",
      "Tentative: \t1\n",
      "Rejected: \t14\n",
      "Iteration: \t69 / 100\n",
      "Confirmed: \t2\n",
      "Tentative: \t1\n",
      "Rejected: \t14\n",
      "Iteration: \t70 / 100\n",
      "Confirmed: \t2\n",
      "Tentative: \t1\n",
      "Rejected: \t14\n",
      "Iteration: \t71 / 100\n",
      "Confirmed: \t2\n",
      "Tentative: \t1\n",
      "Rejected: \t14\n",
      "Iteration: \t72 / 100\n",
      "Confirmed: \t2\n",
      "Tentative: \t1\n",
      "Rejected: \t14\n",
      "Iteration: \t73 / 100\n",
      "Confirmed: \t2\n",
      "Tentative: \t1\n",
      "Rejected: \t14\n",
      "Iteration: \t74 / 100\n",
      "Confirmed: \t2\n",
      "Tentative: \t1\n",
      "Rejected: \t14\n",
      "Iteration: \t75 / 100\n",
      "Confirmed: \t2\n",
      "Tentative: \t1\n",
      "Rejected: \t14\n",
      "Iteration: \t76 / 100\n",
      "Confirmed: \t2\n",
      "Tentative: \t1\n",
      "Rejected: \t14\n",
      "Iteration: \t77 / 100\n",
      "Confirmed: \t2\n",
      "Tentative: \t1\n",
      "Rejected: \t14\n",
      "Iteration: \t78 / 100\n",
      "Confirmed: \t2\n",
      "Tentative: \t1\n",
      "Rejected: \t14\n",
      "Iteration: \t79 / 100\n",
      "Confirmed: \t2\n",
      "Tentative: \t1\n",
      "Rejected: \t14\n",
      "Iteration: \t80 / 100\n",
      "Confirmed: \t2\n",
      "Tentative: \t1\n",
      "Rejected: \t14\n",
      "Iteration: \t81 / 100\n",
      "Confirmed: \t2\n",
      "Tentative: \t1\n",
      "Rejected: \t14\n",
      "Iteration: \t82 / 100\n",
      "Confirmed: \t2\n",
      "Tentative: \t1\n",
      "Rejected: \t14\n",
      "Iteration: \t83 / 100\n",
      "Confirmed: \t2\n",
      "Tentative: \t1\n",
      "Rejected: \t14\n",
      "Iteration: \t84 / 100\n",
      "Confirmed: \t2\n",
      "Tentative: \t1\n",
      "Rejected: \t14\n",
      "Iteration: \t85 / 100\n",
      "Confirmed: \t2\n",
      "Tentative: \t1\n",
      "Rejected: \t14\n",
      "Iteration: \t86 / 100\n",
      "Confirmed: \t2\n",
      "Tentative: \t1\n",
      "Rejected: \t14\n",
      "Iteration: \t87 / 100\n",
      "Confirmed: \t2\n",
      "Tentative: \t1\n",
      "Rejected: \t14\n",
      "Iteration: \t88 / 100\n",
      "Confirmed: \t2\n",
      "Tentative: \t1\n",
      "Rejected: \t14\n",
      "Iteration: \t89 / 100\n",
      "Confirmed: \t2\n",
      "Tentative: \t1\n",
      "Rejected: \t14\n",
      "Iteration: \t90 / 100\n",
      "Confirmed: \t2\n",
      "Tentative: \t1\n",
      "Rejected: \t14\n",
      "Iteration: \t91 / 100\n",
      "Confirmed: \t2\n",
      "Tentative: \t1\n",
      "Rejected: \t14\n",
      "Iteration: \t92 / 100\n",
      "Confirmed: \t2\n",
      "Tentative: \t1\n",
      "Rejected: \t14\n",
      "Iteration: \t93 / 100\n",
      "Confirmed: \t2\n",
      "Tentative: \t1\n",
      "Rejected: \t14\n",
      "Iteration: \t94 / 100\n",
      "Confirmed: \t2\n",
      "Tentative: \t1\n",
      "Rejected: \t14\n",
      "Iteration: \t95 / 100\n",
      "Confirmed: \t2\n",
      "Tentative: \t1\n",
      "Rejected: \t14\n",
      "Iteration: \t96 / 100\n",
      "Confirmed: \t2\n",
      "Tentative: \t1\n",
      "Rejected: \t14\n",
      "Iteration: \t97 / 100\n",
      "Confirmed: \t2\n",
      "Tentative: \t1\n",
      "Rejected: \t14\n",
      "Iteration: \t98 / 100\n",
      "Confirmed: \t2\n",
      "Tentative: \t1\n",
      "Rejected: \t14\n",
      "Iteration: \t99 / 100\n",
      "Confirmed: \t2\n",
      "Tentative: \t1\n",
      "Rejected: \t14\n",
      "\n",
      "\n",
      "BorutaPy finished running.\n",
      "\n",
      "Iteration: \t100 / 100\n",
      "Confirmed: \t2\n",
      "Tentative: \t0\n",
      "Rejected: \t14\n",
      "==============BORUTA==============\n",
      "2\n"
     ]
    }
   ],
   "source": [
    "# Seleccion Boruta (Permutaciones de arboles)\n",
    "from sklearn.ensemble import RandomForestClassifier\n",
    "from boruta import BorutaPy\n",
    "\n",
    "rfc = RandomForestClassifier()\n",
    "boruta_selector = BorutaPy(rfc, n_estimators='auto',verbose=2)\n",
    "\n",
    "x=X_train.values\n",
    "y=y_train.values\n",
    "\n",
    "boruta_selector.fit(x,y)\n",
    "\n",
    "print(\"==============BORUTA==============\")\n",
    "print (boruta_selector.n_features_)"
   ]
  },
  {
   "cell_type": "code",
   "execution_count": null,
   "metadata": {
    "colab": {},
    "colab_type": "code",
    "id": "0wfp3q1clOI6"
   },
   "outputs": [],
   "source": [
    "# Observamos cual de las variables el algoritmo eligio\n",
    "X_train_Bor = X_train.columns[boruta_selector.support_]"
   ]
  },
  {
   "cell_type": "code",
   "execution_count": 87,
   "metadata": {
    "colab": {
     "base_uri": "https://localhost:8080/",
     "height": 34
    },
    "colab_type": "code",
    "executionInfo": {
     "elapsed": 3536,
     "status": "ok",
     "timestamp": 1580178149079,
     "user": {
      "displayName": "Carlos Huamani",
      "photoUrl": "https://lh3.googleusercontent.com/a-/AAuE7mD7372GY5BBLuVIR3jFsKLIAKcHcljh8JPi7MOC=s64",
      "userId": "12790110138974186756"
     },
     "user_tz": 300
    },
    "id": "t4k7_CBDlOI8",
    "outputId": "dbb66b97-fc05-4844-bcc3-9bb91f54de2c"
   },
   "outputs": [
    {
     "data": {
      "text/plain": [
       "Index(['Credit_History', 'TotalIncome'], dtype='object')"
      ]
     },
     "execution_count": 87,
     "metadata": {
      "tags": []
     },
     "output_type": "execute_result"
    }
   ],
   "source": [
    "X_train_Bor"
   ]
  },
  {
   "cell_type": "code",
   "execution_count": null,
   "metadata": {
    "colab": {},
    "colab_type": "code",
    "id": "kWE81-94lOI-"
   },
   "outputs": [],
   "source": [
    "# Si deseamos , podemos elegir las variables mas importantes\n",
    "X_train_subset =X_train[[\"Credit_History\",\"TotalIncome\",\"Cuota_Ingreso2\",\"LoanAmount\"]]"
   ]
  },
  {
   "cell_type": "code",
   "execution_count": 89,
   "metadata": {
    "colab": {
     "base_uri": "https://localhost:8080/",
     "height": 142
    },
    "colab_type": "code",
    "executionInfo": {
     "elapsed": 1930,
     "status": "ok",
     "timestamp": 1580178149081,
     "user": {
      "displayName": "Carlos Huamani",
      "photoUrl": "https://lh3.googleusercontent.com/a-/AAuE7mD7372GY5BBLuVIR3jFsKLIAKcHcljh8JPi7MOC=s64",
      "userId": "12790110138974186756"
     },
     "user_tz": 300
    },
    "id": "TOakLeG-lOJA",
    "outputId": "b5cdee30-697f-44c6-a4d4-223fc8b0267a"
   },
   "outputs": [
    {
     "data": {
      "text/html": [
       "<div>\n",
       "<style scoped>\n",
       "    .dataframe tbody tr th:only-of-type {\n",
       "        vertical-align: middle;\n",
       "    }\n",
       "\n",
       "    .dataframe tbody tr th {\n",
       "        vertical-align: top;\n",
       "    }\n",
       "\n",
       "    .dataframe thead th {\n",
       "        text-align: right;\n",
       "    }\n",
       "</style>\n",
       "<table border=\"1\" class=\"dataframe\">\n",
       "  <thead>\n",
       "    <tr style=\"text-align: right;\">\n",
       "      <th></th>\n",
       "      <th>Credit_History</th>\n",
       "      <th>TotalIncome</th>\n",
       "      <th>Cuota_Ingreso2</th>\n",
       "      <th>LoanAmount</th>\n",
       "    </tr>\n",
       "  </thead>\n",
       "  <tbody>\n",
       "    <tr>\n",
       "      <th>544</th>\n",
       "      <td>1</td>\n",
       "      <td>3680.0</td>\n",
       "      <td>0.076993</td>\n",
       "      <td>102.0</td>\n",
       "    </tr>\n",
       "    <tr>\n",
       "      <th>13</th>\n",
       "      <td>1</td>\n",
       "      <td>4693.0</td>\n",
       "      <td>0.067476</td>\n",
       "      <td>114.0</td>\n",
       "    </tr>\n",
       "    <tr>\n",
       "      <th>383</th>\n",
       "      <td>1</td>\n",
       "      <td>7167.0</td>\n",
       "      <td>0.049610</td>\n",
       "      <td>128.0</td>\n",
       "    </tr>\n",
       "  </tbody>\n",
       "</table>\n",
       "</div>"
      ],
      "text/plain": [
       "    Credit_History  TotalIncome  Cuota_Ingreso2  LoanAmount\n",
       "544              1       3680.0        0.076993       102.0\n",
       "13               1       4693.0        0.067476       114.0\n",
       "383              1       7167.0        0.049610       128.0"
      ]
     },
     "execution_count": 89,
     "metadata": {
      "tags": []
     },
     "output_type": "execute_result"
    }
   ],
   "source": [
    "X_train_subset.head(3)"
   ]
  },
  {
   "cell_type": "code",
   "execution_count": null,
   "metadata": {
    "colab": {},
    "colab_type": "code",
    "id": "V2VG2_yQlOJC"
   },
   "outputs": [],
   "source": [
    "########################################\n",
    "# Modelamiento de los datos\n",
    "########################################"
   ]
  },
  {
   "cell_type": "markdown",
   "metadata": {
    "colab_type": "text",
    "id": "Luyf-0wqlOJE"
   },
   "source": [
    "![image.png](attachment:image.png)"
   ]
  },
  {
   "cell_type": "code",
   "execution_count": null,
   "metadata": {
    "colab": {},
    "colab_type": "code",
    "id": "OLHe3yIYlOJF"
   },
   "outputs": [],
   "source": [
    "## Modelos Supervisados : Regresión Logística Binaria ##"
   ]
  },
  {
   "cell_type": "code",
   "execution_count": 69,
   "metadata": {
    "colab": {
     "base_uri": "https://localhost:8080/",
     "height": 362
    },
    "colab_type": "code",
    "executionInfo": {
     "elapsed": 642,
     "status": "error",
     "timestamp": 1580177947804,
     "user": {
      "displayName": "Carlos Huamani",
      "photoUrl": "https://lh3.googleusercontent.com/a-/AAuE7mD7372GY5BBLuVIR3jFsKLIAKcHcljh8JPi7MOC=s64",
      "userId": "12790110138974186756"
     },
     "user_tz": 300
    },
    "id": "r5iYTcXPlOJI",
    "outputId": "da1e0b29-3eae-4e2d-afd5-f53c7a7d7ee9"
   },
   "outputs": [
    {
     "ename": "ValueError",
     "evalue": "ignored",
     "output_type": "error",
     "traceback": [
      "\u001b[0;31m---------------------------------------------------------------------------\u001b[0m",
      "\u001b[0;31mValueError\u001b[0m                                Traceback (most recent call last)",
      "\u001b[0;32m<ipython-input-69-2d6b2af81838>\u001b[0m in \u001b[0;36m<module>\u001b[0;34m()\u001b[0m\n\u001b[1;32m      2\u001b[0m \u001b[0;34m\u001b[0m\u001b[0m\n\u001b[1;32m      3\u001b[0m \u001b[0mRegLog\u001b[0m \u001b[0;34m=\u001b[0m \u001b[0mLogisticRegression\u001b[0m\u001b[0;34m(\u001b[0m\u001b[0mC\u001b[0m\u001b[0;34m=\u001b[0m\u001b[0;36m0.1\u001b[0m\u001b[0;34m,\u001b[0m\u001b[0mpenalty\u001b[0m\u001b[0;34m=\u001b[0m\u001b[0;34m'l1'\u001b[0m\u001b[0;34m)\u001b[0m \u001b[0;31m# Paso N°02: Configuro el algoritmo\u001b[0m\u001b[0;34m\u001b[0m\u001b[0;34m\u001b[0m\u001b[0m\n\u001b[0;32m----> 4\u001b[0;31m \u001b[0mRegLog\u001b[0m\u001b[0;34m.\u001b[0m\u001b[0mfit\u001b[0m\u001b[0;34m(\u001b[0m\u001b[0mX_train\u001b[0m\u001b[0;34m,\u001b[0m \u001b[0my_train\u001b[0m\u001b[0;34m)\u001b[0m  \u001b[0;31m# Paso N°03: Entreno o ajusto el algoritmo predictivo a los datos\u001b[0m\u001b[0;34m\u001b[0m\u001b[0;34m\u001b[0m\u001b[0m\n\u001b[0m",
      "\u001b[0;32m/usr/local/lib/python3.6/dist-packages/sklearn/linear_model/_logistic.py\u001b[0m in \u001b[0;36mfit\u001b[0;34m(self, X, y, sample_weight)\u001b[0m\n\u001b[1;32m   1486\u001b[0m         \u001b[0mThe\u001b[0m \u001b[0mSAGA\u001b[0m \u001b[0msolver\u001b[0m \u001b[0msupports\u001b[0m \u001b[0mboth\u001b[0m \u001b[0mfloat64\u001b[0m \u001b[0;32mand\u001b[0m \u001b[0mfloat32\u001b[0m \u001b[0mbit\u001b[0m \u001b[0marrays\u001b[0m\u001b[0;34m.\u001b[0m\u001b[0;34m\u001b[0m\u001b[0;34m\u001b[0m\u001b[0m\n\u001b[1;32m   1487\u001b[0m         \"\"\"\n\u001b[0;32m-> 1488\u001b[0;31m         \u001b[0msolver\u001b[0m \u001b[0;34m=\u001b[0m \u001b[0m_check_solver\u001b[0m\u001b[0;34m(\u001b[0m\u001b[0mself\u001b[0m\u001b[0;34m.\u001b[0m\u001b[0msolver\u001b[0m\u001b[0;34m,\u001b[0m \u001b[0mself\u001b[0m\u001b[0;34m.\u001b[0m\u001b[0mpenalty\u001b[0m\u001b[0;34m,\u001b[0m \u001b[0mself\u001b[0m\u001b[0;34m.\u001b[0m\u001b[0mdual\u001b[0m\u001b[0;34m)\u001b[0m\u001b[0;34m\u001b[0m\u001b[0;34m\u001b[0m\u001b[0m\n\u001b[0m\u001b[1;32m   1489\u001b[0m \u001b[0;34m\u001b[0m\u001b[0m\n\u001b[1;32m   1490\u001b[0m         \u001b[0;32mif\u001b[0m \u001b[0;32mnot\u001b[0m \u001b[0misinstance\u001b[0m\u001b[0;34m(\u001b[0m\u001b[0mself\u001b[0m\u001b[0;34m.\u001b[0m\u001b[0mC\u001b[0m\u001b[0;34m,\u001b[0m \u001b[0mnumbers\u001b[0m\u001b[0;34m.\u001b[0m\u001b[0mNumber\u001b[0m\u001b[0;34m)\u001b[0m \u001b[0;32mor\u001b[0m \u001b[0mself\u001b[0m\u001b[0;34m.\u001b[0m\u001b[0mC\u001b[0m \u001b[0;34m<\u001b[0m \u001b[0;36m0\u001b[0m\u001b[0;34m:\u001b[0m\u001b[0;34m\u001b[0m\u001b[0;34m\u001b[0m\u001b[0m\n",
      "\u001b[0;32m/usr/local/lib/python3.6/dist-packages/sklearn/linear_model/_logistic.py\u001b[0m in \u001b[0;36m_check_solver\u001b[0;34m(solver, penalty, dual)\u001b[0m\n\u001b[1;32m    443\u001b[0m     \u001b[0;32mif\u001b[0m \u001b[0msolver\u001b[0m \u001b[0;32mnot\u001b[0m \u001b[0;32min\u001b[0m \u001b[0;34m[\u001b[0m\u001b[0;34m'liblinear'\u001b[0m\u001b[0;34m,\u001b[0m \u001b[0;34m'saga'\u001b[0m\u001b[0;34m]\u001b[0m \u001b[0;32mand\u001b[0m \u001b[0mpenalty\u001b[0m \u001b[0;32mnot\u001b[0m \u001b[0;32min\u001b[0m \u001b[0;34m(\u001b[0m\u001b[0;34m'l2'\u001b[0m\u001b[0;34m,\u001b[0m \u001b[0;34m'none'\u001b[0m\u001b[0;34m)\u001b[0m\u001b[0;34m:\u001b[0m\u001b[0;34m\u001b[0m\u001b[0;34m\u001b[0m\u001b[0m\n\u001b[1;32m    444\u001b[0m         raise ValueError(\"Solver %s supports only 'l2' or 'none' penalties, \"\n\u001b[0;32m--> 445\u001b[0;31m                          \"got %s penalty.\" % (solver, penalty))\n\u001b[0m\u001b[1;32m    446\u001b[0m     \u001b[0;32mif\u001b[0m \u001b[0msolver\u001b[0m \u001b[0;34m!=\u001b[0m \u001b[0;34m'liblinear'\u001b[0m \u001b[0;32mand\u001b[0m \u001b[0mdual\u001b[0m\u001b[0;34m:\u001b[0m\u001b[0;34m\u001b[0m\u001b[0;34m\u001b[0m\u001b[0m\n\u001b[1;32m    447\u001b[0m         raise ValueError(\"Solver %s supports only \"\n",
      "\u001b[0;31mValueError\u001b[0m: Solver lbfgs supports only 'l2' or 'none' penalties, got l1 penalty."
     ]
    }
   ],
   "source": [
    "# Paso N°01: Llamar un algoritmo predictivos\n",
    "from sklearn.linear_model import LogisticRegression\n",
    "\n",
    "RegLog = LogisticRegression(C=0.1,penalty='l1') # Paso N°02: Configuro el algoritmo\n",
    "RegLog.fit(X_train, y_train)  # Paso N°03: Entreno o ajusto el algoritmo predictivo a los datos\n"
   ]
  },
  {
   "cell_type": "code",
   "execution_count": null,
   "metadata": {
    "colab": {},
    "colab_type": "code",
    "id": "8TdaoF9_lOJK"
   },
   "outputs": [],
   "source": [
    "# Paso N°04: Predecir con el algoritmo entrenado para validar\n",
    "y_pred_train=RegLog.predict(X_train) # Prediccion sobre el train\n",
    "y_pred_test= RegLog.predict(X_test) # Prediccion sobre el test"
   ]
  },
  {
   "cell_type": "code",
   "execution_count": null,
   "metadata": {
    "colab": {},
    "colab_type": "code",
    "id": "2i3mdjy5lOJM",
    "outputId": "0f7521df-4374-4aa0-b010-7ac2355fe90a"
   },
   "outputs": [
    {
     "name": "stdout",
     "output_type": "stream",
     "text": [
      "Matriz confusion: Train\n",
      "[[ 60  74]\n",
      " [  6 289]]\n",
      "Matriz confusion: Test\n",
      "[[ 24  34]\n",
      " [  1 126]]\n",
      "Accuracy: Train\n",
      "0.8135198135198135\n",
      "Accuracy: Test\n",
      "0.8108108108108109\n",
      "Precision: Train\n",
      "0.7961432506887053\n",
      "Precision: Test\n",
      "0.7875\n",
      "Recall: Train\n",
      "0.9796610169491525\n",
      "Recall: Test\n",
      "0.9921259842519685\n"
     ]
    }
   ],
   "source": [
    "# Paso N°05: Comparar el valor pronosticado con el valor real\n",
    "\n",
    "from sklearn import metrics as metrics\n",
    "# Matriz de confusion\n",
    "print(\"Matriz confusion: Train\")\n",
    "cm_train = metrics.confusion_matrix(y_train,y_pred_train)\n",
    "print(cm_train)\n",
    "\n",
    "print(\"Matriz confusion: Test\")\n",
    "cm_test = metrics.confusion_matrix(y_test,y_pred_test)\n",
    "print(cm_test)\n",
    "\n",
    "# Accuracy\n",
    "print(\"Accuracy: Train\")\n",
    "accuracy_train=metrics.accuracy_score(y_train,y_pred_train)\n",
    "print(accuracy_train)\n",
    "\n",
    "print(\"Accuracy: Test\")\n",
    "accuracy_test=metrics.accuracy_score(y_test,y_pred_test)\n",
    "print(accuracy_test)\n",
    "\n",
    "# Precision\n",
    "print(\"Precision: Train\")\n",
    "precision_train=metrics.precision_score(y_train,y_pred_train)\n",
    "print(precision_train)\n",
    "\n",
    "print(\"Precision: Test\")\n",
    "precision_test=metrics.precision_score(y_test,y_pred_test)\n",
    "print(precision_test)\n",
    "\n",
    "# Recall\n",
    "print(\"Recall: Train\")\n",
    "recall_train=metrics.recall_score(y_train,y_pred_train)\n",
    "print(recall_train)\n",
    "\n",
    "print(\"Recall: Test\")\n",
    "recall_test=metrics.recall_score(y_test,y_pred_test)\n",
    "print(recall_test)"
   ]
  },
  {
   "cell_type": "code",
   "execution_count": null,
   "metadata": {
    "colab": {},
    "colab_type": "code",
    "id": "H-dWfXwclOJN"
   },
   "outputs": [],
   "source": [
    "## Modelos Boosting : Adaboost ##"
   ]
  },
  {
   "cell_type": "code",
   "execution_count": null,
   "metadata": {
    "colab": {},
    "colab_type": "code",
    "id": "qjFBvTEelOJP",
    "outputId": "010aee99-0c1c-444a-867d-f44ce6714320"
   },
   "outputs": [
    {
     "data": {
      "text/plain": [
       "AdaBoostClassifier(algorithm='SAMME.R', base_estimator=None,\n",
       "          learning_rate=0.001, n_estimators=100, random_state=None)"
      ]
     },
     "execution_count": 45,
     "metadata": {
      "tags": []
     },
     "output_type": "execute_result"
    }
   ],
   "source": [
    "from sklearn.ensemble import AdaBoostClassifier\n",
    "# Parámetros : \n",
    "# learning_rate: Parametro de aprendizaje\n",
    "# n_estimators : Numero de estimadores con los cuales se construye el ensamble.\n",
    "AdaBoost=AdaBoostClassifier(learning_rate=0.001,n_estimators=100) # Instancio el algoritmo\n",
    "AdaBoost.fit(X_train, y_train)                                    # Ajusto o entreno el algoritmo\n",
    "# El aprendizaje se guarda : AdaBoost"
   ]
  },
  {
   "cell_type": "code",
   "execution_count": null,
   "metadata": {
    "colab": {},
    "colab_type": "code",
    "id": "AMXCdveDlOJR"
   },
   "outputs": [],
   "source": [
    "# Testear o validar el algortimo\n",
    "y_pred_train = AdaBoost.predict(X_train)\n",
    "y_pred_test =  AdaBoost.predict(X_test)"
   ]
  },
  {
   "cell_type": "code",
   "execution_count": null,
   "metadata": {
    "colab": {},
    "colab_type": "code",
    "id": "RrXl9osOlOJT",
    "outputId": "0bedd50a-4f5a-41c0-ea7e-23107d3d8a7d"
   },
   "outputs": [
    {
     "name": "stdout",
     "output_type": "stream",
     "text": [
      "Matriz confusion: Train\n",
      "[[ 59  75]\n",
      " [  6 289]]\n",
      "Matriz confusion: Test\n",
      "[[ 23  35]\n",
      " [  1 126]]\n",
      "Accuracy: Train\n",
      "0.8111888111888111\n",
      "Accuracy: Test\n",
      "0.8054054054054054\n",
      "Precision: Train\n",
      "0.7939560439560439\n",
      "Precision: Test\n",
      "0.782608695652174\n",
      "Recall: Train\n",
      "0.9796610169491525\n",
      "Recall: Test\n",
      "0.9921259842519685\n"
     ]
    }
   ],
   "source": [
    "# Paso N°05: Comparar el valor pronosticado con el valor real\n",
    "\n",
    "from sklearn import metrics as metrics\n",
    "# Matriz de confusion\n",
    "print(\"Matriz confusion: Train\")\n",
    "cm_train = metrics.confusion_matrix(y_train,y_pred_train)\n",
    "print(cm_train)\n",
    "\n",
    "print(\"Matriz confusion: Test\")\n",
    "cm_test = metrics.confusion_matrix(y_test,y_pred_test)\n",
    "print(cm_test)\n",
    "\n",
    "# Accuracy\n",
    "print(\"Accuracy: Train\")\n",
    "accuracy_train=metrics.accuracy_score(y_train,y_pred_train)\n",
    "print(accuracy_train)\n",
    "\n",
    "print(\"Accuracy: Test\")\n",
    "accuracy_test=metrics.accuracy_score(y_test,y_pred_test)\n",
    "print(accuracy_test)\n",
    "\n",
    "# Precision\n",
    "print(\"Precision: Train\")\n",
    "precision_train=metrics.precision_score(y_train,y_pred_train)\n",
    "print(precision_train)\n",
    "\n",
    "print(\"Precision: Test\")\n",
    "precision_test=metrics.precision_score(y_test,y_pred_test)\n",
    "print(precision_test)\n",
    "\n",
    "# Recall\n",
    "print(\"Recall: Train\")\n",
    "recall_train=metrics.recall_score(y_train,y_pred_train)\n",
    "print(recall_train)\n",
    "\n",
    "print(\"Recall: Test\")\n",
    "recall_test=metrics.recall_score(y_test,y_pred_test)\n",
    "print(recall_test)"
   ]
  },
  {
   "cell_type": "code",
   "execution_count": 70,
   "metadata": {
    "colab": {
     "base_uri": "https://localhost:8080/",
     "height": 88
    },
    "colab_type": "code",
    "executionInfo": {
     "elapsed": 4123,
     "status": "ok",
     "timestamp": 1580177986040,
     "user": {
      "displayName": "Carlos Huamani",
      "photoUrl": "https://lh3.googleusercontent.com/a-/AAuE7mD7372GY5BBLuVIR3jFsKLIAKcHcljh8JPi7MOC=s64",
      "userId": "12790110138974186756"
     },
     "user_tz": 300
    },
    "id": "zzJNTQJ_lOJV",
    "outputId": "ae4723f3-fcbb-44e6-c8fb-8f165e1776ee"
   },
   "outputs": [
    {
     "name": "stdout",
     "output_type": "stream",
     "text": [
      "Requirement already satisfied: xgboost in /usr/local/lib/python3.6/dist-packages (0.90)\n",
      "Requirement already satisfied: scipy in /usr/local/lib/python3.6/dist-packages (from xgboost) (1.4.1)\n",
      "Requirement already satisfied: numpy in /usr/local/lib/python3.6/dist-packages (from xgboost) (1.17.5)\n"
     ]
    }
   ],
   "source": [
    "## Modelos Boosting : XGBoost ##\n",
    "! pip install xgboost"
   ]
  },
  {
   "cell_type": "code",
   "execution_count": null,
   "metadata": {
    "colab": {},
    "colab_type": "code",
    "id": "LpIMPb0YlOJX"
   },
   "outputs": [],
   "source": [
    "# Importamos la librería necesaria para el algoritmo\n",
    "import xgboost as xgb"
   ]
  },
  {
   "cell_type": "code",
   "execution_count": null,
   "metadata": {
    "colab": {},
    "colab_type": "code",
    "id": "uxBU8dWNlOJZ"
   },
   "outputs": [],
   "source": [
    "X_train.Credit_History = X_train.Credit_History.astype('int')\n",
    "X_test.Credit_History = X_test.Credit_History.astype('int')"
   ]
  },
  {
   "cell_type": "code",
   "execution_count": null,
   "metadata": {
    "colab": {},
    "colab_type": "code",
    "id": "lA1FDTVUlOJa"
   },
   "outputs": [],
   "source": [
    "# En Xgboost necesitamos convertir nuestras matrices a matriz XGboost\n",
    "# Uso eficiente de la memoria y entrenamiento rápido\n",
    "dtrain = xgb.DMatrix(data=X_train,label =  y_train)\n",
    "dtest  = xgb.DMatrix(data= X_test,label =  y_test)"
   ]
  },
  {
   "cell_type": "code",
   "execution_count": 93,
   "metadata": {
    "colab": {
     "base_uri": "https://localhost:8080/",
     "height": 1000
    },
    "colab_type": "code",
    "executionInfo": {
     "elapsed": 4191,
     "status": "ok",
     "timestamp": 1580178271936,
     "user": {
      "displayName": "Carlos Huamani",
      "photoUrl": "https://lh3.googleusercontent.com/a-/AAuE7mD7372GY5BBLuVIR3jFsKLIAKcHcljh8JPi7MOC=s64",
      "userId": "12790110138974186756"
     },
     "user_tz": 300
    },
    "id": "kHcp0sIzlOJe",
    "outputId": "745bfd89-b010-40ed-dbcb-91003a75bbe3"
   },
   "outputs": [
    {
     "name": "stdout",
     "output_type": "stream",
     "text": [
      "[0]\ttrain-auc:0.753744\ttest-auc:0.713888\n",
      "[1]\ttrain-auc:0.753959\ttest-auc:0.713888\n",
      "[2]\ttrain-auc:0.75401\ttest-auc:0.713888\n",
      "[3]\ttrain-auc:0.753959\ttest-auc:0.713888\n",
      "[4]\ttrain-auc:0.753959\ttest-auc:0.713888\n",
      "[5]\ttrain-auc:0.753959\ttest-auc:0.713888\n",
      "[6]\ttrain-auc:0.753959\ttest-auc:0.714363\n",
      "[7]\ttrain-auc:0.753959\ttest-auc:0.714363\n",
      "[8]\ttrain-auc:0.753959\ttest-auc:0.714363\n",
      "[9]\ttrain-auc:0.753959\ttest-auc:0.714363\n",
      "[10]\ttrain-auc:0.753959\ttest-auc:0.714363\n",
      "[11]\ttrain-auc:0.753959\ttest-auc:0.714363\n",
      "[12]\ttrain-auc:0.753908\ttest-auc:0.714363\n",
      "[13]\ttrain-auc:0.753959\ttest-auc:0.714363\n",
      "[14]\ttrain-auc:0.753908\ttest-auc:0.714363\n",
      "[15]\ttrain-auc:0.753858\ttest-auc:0.714363\n",
      "[16]\ttrain-auc:0.753908\ttest-auc:0.714363\n",
      "[17]\ttrain-auc:0.753858\ttest-auc:0.714363\n",
      "[18]\ttrain-auc:0.753858\ttest-auc:0.714363\n",
      "[19]\ttrain-auc:0.753858\ttest-auc:0.714363\n",
      "[20]\ttrain-auc:0.753858\ttest-auc:0.714363\n",
      "[21]\ttrain-auc:0.753858\ttest-auc:0.714363\n",
      "[22]\ttrain-auc:0.753858\ttest-auc:0.714363\n",
      "[23]\ttrain-auc:0.753858\ttest-auc:0.714363\n",
      "[24]\ttrain-auc:0.753858\ttest-auc:0.714363\n",
      "[25]\ttrain-auc:0.753858\ttest-auc:0.714363\n",
      "[26]\ttrain-auc:0.753858\ttest-auc:0.714363\n",
      "[27]\ttrain-auc:0.753858\ttest-auc:0.714363\n",
      "[28]\ttrain-auc:0.753858\ttest-auc:0.714363\n",
      "[29]\ttrain-auc:0.753858\ttest-auc:0.714363\n",
      "[30]\ttrain-auc:0.753858\ttest-auc:0.714363\n",
      "[31]\ttrain-auc:0.753858\ttest-auc:0.714363\n",
      "[32]\ttrain-auc:0.753858\ttest-auc:0.714363\n",
      "[33]\ttrain-auc:0.753706\ttest-auc:0.714363\n",
      "[34]\ttrain-auc:0.753706\ttest-auc:0.714363\n",
      "[35]\ttrain-auc:0.753706\ttest-auc:0.714363\n",
      "[36]\ttrain-auc:0.753706\ttest-auc:0.714363\n",
      "[37]\ttrain-auc:0.753706\ttest-auc:0.714363\n",
      "[38]\ttrain-auc:0.753706\ttest-auc:0.714363\n",
      "[39]\ttrain-auc:0.753655\ttest-auc:0.714363\n",
      "[40]\ttrain-auc:0.753706\ttest-auc:0.714363\n",
      "[41]\ttrain-auc:0.753655\ttest-auc:0.714363\n",
      "[42]\ttrain-auc:0.753605\ttest-auc:0.714363\n",
      "[43]\ttrain-auc:0.753655\ttest-auc:0.714363\n",
      "[44]\ttrain-auc:0.753605\ttest-auc:0.714363\n",
      "[45]\ttrain-auc:0.753554\ttest-auc:0.714363\n",
      "[46]\ttrain-auc:0.753605\ttest-auc:0.714363\n",
      "[47]\ttrain-auc:0.753554\ttest-auc:0.714363\n",
      "[48]\ttrain-auc:0.753605\ttest-auc:0.714363\n",
      "[49]\ttrain-auc:0.753554\ttest-auc:0.714363\n",
      "[50]\ttrain-auc:0.753605\ttest-auc:0.714363\n",
      "[51]\ttrain-auc:0.753554\ttest-auc:0.714363\n",
      "[52]\ttrain-auc:0.753504\ttest-auc:0.714363\n",
      "[53]\ttrain-auc:0.753554\ttest-auc:0.714363\n",
      "[54]\ttrain-auc:0.753504\ttest-auc:0.714363\n",
      "[55]\ttrain-auc:0.753554\ttest-auc:0.714363\n",
      "[56]\ttrain-auc:0.753504\ttest-auc:0.714363\n",
      "[57]\ttrain-auc:0.753554\ttest-auc:0.714363\n",
      "[58]\ttrain-auc:0.753504\ttest-auc:0.714363\n",
      "[59]\ttrain-auc:0.753504\ttest-auc:0.714363\n",
      "[60]\ttrain-auc:0.753504\ttest-auc:0.714363\n",
      "[61]\ttrain-auc:0.753504\ttest-auc:0.714363\n",
      "[62]\ttrain-auc:0.753504\ttest-auc:0.714363\n",
      "[63]\ttrain-auc:0.753504\ttest-auc:0.714363\n",
      "[64]\ttrain-auc:0.753504\ttest-auc:0.714363\n",
      "[65]\ttrain-auc:0.753504\ttest-auc:0.714363\n",
      "[66]\ttrain-auc:0.753504\ttest-auc:0.714363\n",
      "[67]\ttrain-auc:0.753504\ttest-auc:0.714363\n",
      "[68]\ttrain-auc:0.753504\ttest-auc:0.714363\n",
      "[69]\ttrain-auc:0.753504\ttest-auc:0.714363\n",
      "[70]\ttrain-auc:0.753504\ttest-auc:0.714363\n",
      "[71]\ttrain-auc:0.753504\ttest-auc:0.714363\n",
      "[72]\ttrain-auc:0.753504\ttest-auc:0.714363\n",
      "[73]\ttrain-auc:0.753504\ttest-auc:0.714363\n",
      "[74]\ttrain-auc:0.753504\ttest-auc:0.714363\n",
      "[75]\ttrain-auc:0.753504\ttest-auc:0.714363\n",
      "[76]\ttrain-auc:0.753504\ttest-auc:0.714363\n",
      "[77]\ttrain-auc:0.753504\ttest-auc:0.714363\n",
      "[78]\ttrain-auc:0.753504\ttest-auc:0.714363\n",
      "[79]\ttrain-auc:0.753504\ttest-auc:0.714363\n",
      "[80]\ttrain-auc:0.753504\ttest-auc:0.714363\n",
      "[81]\ttrain-auc:0.753504\ttest-auc:0.714363\n",
      "[82]\ttrain-auc:0.753504\ttest-auc:0.714363\n",
      "[83]\ttrain-auc:0.753504\ttest-auc:0.714363\n",
      "[84]\ttrain-auc:0.753504\ttest-auc:0.714363\n",
      "[85]\ttrain-auc:0.753504\ttest-auc:0.714363\n",
      "[86]\ttrain-auc:0.753504\ttest-auc:0.714363\n",
      "[87]\ttrain-auc:0.753504\ttest-auc:0.714363\n",
      "[88]\ttrain-auc:0.753504\ttest-auc:0.714363\n",
      "[89]\ttrain-auc:0.753504\ttest-auc:0.714363\n",
      "[90]\ttrain-auc:0.753504\ttest-auc:0.714363\n",
      "[91]\ttrain-auc:0.753504\ttest-auc:0.714363\n",
      "[92]\ttrain-auc:0.753504\ttest-auc:0.714363\n",
      "[93]\ttrain-auc:0.753504\ttest-auc:0.714363\n",
      "[94]\ttrain-auc:0.753504\ttest-auc:0.714363\n",
      "[95]\ttrain-auc:0.753504\ttest-auc:0.714363\n",
      "[96]\ttrain-auc:0.753504\ttest-auc:0.714363\n",
      "[97]\ttrain-auc:0.753504\ttest-auc:0.714363\n",
      "[98]\ttrain-auc:0.753504\ttest-auc:0.714363\n",
      "[99]\ttrain-auc:0.753504\ttest-auc:0.714363\n",
      "[100]\ttrain-auc:0.753504\ttest-auc:0.714363\n",
      "[101]\ttrain-auc:0.753504\ttest-auc:0.714363\n",
      "[102]\ttrain-auc:0.753504\ttest-auc:0.714363\n",
      "[103]\ttrain-auc:0.753504\ttest-auc:0.714363\n",
      "[104]\ttrain-auc:0.753504\ttest-auc:0.714363\n",
      "[105]\ttrain-auc:0.753504\ttest-auc:0.714363\n",
      "[106]\ttrain-auc:0.753504\ttest-auc:0.714363\n",
      "[107]\ttrain-auc:0.753504\ttest-auc:0.714363\n",
      "[108]\ttrain-auc:0.753504\ttest-auc:0.714363\n",
      "[109]\ttrain-auc:0.753504\ttest-auc:0.714363\n",
      "[110]\ttrain-auc:0.753504\ttest-auc:0.714363\n",
      "[111]\ttrain-auc:0.753504\ttest-auc:0.714363\n",
      "[112]\ttrain-auc:0.753504\ttest-auc:0.714363\n",
      "[113]\ttrain-auc:0.753504\ttest-auc:0.714363\n",
      "[114]\ttrain-auc:0.753504\ttest-auc:0.714363\n",
      "[115]\ttrain-auc:0.753504\ttest-auc:0.714363\n",
      "[116]\ttrain-auc:0.753504\ttest-auc:0.714363\n",
      "[117]\ttrain-auc:0.753504\ttest-auc:0.714363\n",
      "[118]\ttrain-auc:0.753504\ttest-auc:0.714363\n",
      "[119]\ttrain-auc:0.753504\ttest-auc:0.714363\n",
      "[120]\ttrain-auc:0.753504\ttest-auc:0.714363\n",
      "[121]\ttrain-auc:0.753504\ttest-auc:0.714363\n",
      "[122]\ttrain-auc:0.753504\ttest-auc:0.714363\n",
      "[123]\ttrain-auc:0.753504\ttest-auc:0.714363\n",
      "[124]\ttrain-auc:0.753504\ttest-auc:0.714363\n",
      "[125]\ttrain-auc:0.753504\ttest-auc:0.714363\n",
      "[126]\ttrain-auc:0.753504\ttest-auc:0.714363\n",
      "[127]\ttrain-auc:0.753504\ttest-auc:0.714363\n",
      "[128]\ttrain-auc:0.753504\ttest-auc:0.714363\n",
      "[129]\ttrain-auc:0.753504\ttest-auc:0.714363\n",
      "[130]\ttrain-auc:0.753504\ttest-auc:0.714363\n",
      "[131]\ttrain-auc:0.753504\ttest-auc:0.714363\n",
      "[132]\ttrain-auc:0.753504\ttest-auc:0.714363\n",
      "[133]\ttrain-auc:0.753504\ttest-auc:0.714363\n",
      "[134]\ttrain-auc:0.753504\ttest-auc:0.714363\n",
      "[135]\ttrain-auc:0.753504\ttest-auc:0.714363\n",
      "[136]\ttrain-auc:0.753504\ttest-auc:0.714363\n",
      "[137]\ttrain-auc:0.753504\ttest-auc:0.714363\n",
      "[138]\ttrain-auc:0.753504\ttest-auc:0.714363\n",
      "[139]\ttrain-auc:0.753504\ttest-auc:0.714363\n",
      "[140]\ttrain-auc:0.753504\ttest-auc:0.714363\n",
      "[141]\ttrain-auc:0.753504\ttest-auc:0.714363\n",
      "[142]\ttrain-auc:0.753504\ttest-auc:0.714363\n",
      "[143]\ttrain-auc:0.753504\ttest-auc:0.714363\n",
      "[144]\ttrain-auc:0.753504\ttest-auc:0.714363\n",
      "[145]\ttrain-auc:0.753504\ttest-auc:0.714363\n",
      "[146]\ttrain-auc:0.753504\ttest-auc:0.714363\n",
      "[147]\ttrain-auc:0.753504\ttest-auc:0.714363\n",
      "[148]\ttrain-auc:0.753504\ttest-auc:0.714363\n",
      "[149]\ttrain-auc:0.753504\ttest-auc:0.714363\n",
      "[150]\ttrain-auc:0.753504\ttest-auc:0.714363\n",
      "[151]\ttrain-auc:0.753504\ttest-auc:0.714363\n",
      "[152]\ttrain-auc:0.753504\ttest-auc:0.714363\n",
      "[153]\ttrain-auc:0.753504\ttest-auc:0.714363\n",
      "[154]\ttrain-auc:0.753504\ttest-auc:0.714363\n",
      "[155]\ttrain-auc:0.753504\ttest-auc:0.714363\n",
      "[156]\ttrain-auc:0.753504\ttest-auc:0.714363\n",
      "[157]\ttrain-auc:0.753504\ttest-auc:0.714363\n",
      "[158]\ttrain-auc:0.753504\ttest-auc:0.714363\n",
      "[159]\ttrain-auc:0.753504\ttest-auc:0.714363\n",
      "[160]\ttrain-auc:0.753504\ttest-auc:0.714363\n",
      "[161]\ttrain-auc:0.753504\ttest-auc:0.714363\n",
      "[162]\ttrain-auc:0.753504\ttest-auc:0.714363\n",
      "[163]\ttrain-auc:0.753504\ttest-auc:0.714363\n",
      "[164]\ttrain-auc:0.753504\ttest-auc:0.714363\n",
      "[165]\ttrain-auc:0.753504\ttest-auc:0.714363\n",
      "[166]\ttrain-auc:0.753504\ttest-auc:0.714363\n",
      "[167]\ttrain-auc:0.753504\ttest-auc:0.714363\n",
      "[168]\ttrain-auc:0.753504\ttest-auc:0.714363\n",
      "[169]\ttrain-auc:0.753504\ttest-auc:0.714363\n",
      "[170]\ttrain-auc:0.753504\ttest-auc:0.714363\n",
      "[171]\ttrain-auc:0.753504\ttest-auc:0.714363\n",
      "[172]\ttrain-auc:0.753504\ttest-auc:0.714363\n",
      "[173]\ttrain-auc:0.753504\ttest-auc:0.714363\n",
      "[174]\ttrain-auc:0.753504\ttest-auc:0.714363\n",
      "[175]\ttrain-auc:0.753504\ttest-auc:0.714363\n",
      "[176]\ttrain-auc:0.753504\ttest-auc:0.714363\n",
      "[177]\ttrain-auc:0.753504\ttest-auc:0.714363\n",
      "[178]\ttrain-auc:0.753504\ttest-auc:0.714363\n",
      "[179]\ttrain-auc:0.753504\ttest-auc:0.714363\n",
      "[180]\ttrain-auc:0.753504\ttest-auc:0.714363\n",
      "[181]\ttrain-auc:0.753504\ttest-auc:0.714363\n",
      "[182]\ttrain-auc:0.753504\ttest-auc:0.714363\n",
      "[183]\ttrain-auc:0.753504\ttest-auc:0.714363\n",
      "[184]\ttrain-auc:0.753504\ttest-auc:0.714363\n",
      "[185]\ttrain-auc:0.753504\ttest-auc:0.714363\n",
      "[186]\ttrain-auc:0.753504\ttest-auc:0.714363\n",
      "[187]\ttrain-auc:0.753504\ttest-auc:0.714363\n",
      "[188]\ttrain-auc:0.753504\ttest-auc:0.714363\n",
      "[189]\ttrain-auc:0.753504\ttest-auc:0.714363\n",
      "[190]\ttrain-auc:0.753504\ttest-auc:0.714363\n",
      "[191]\ttrain-auc:0.753504\ttest-auc:0.714363\n",
      "[192]\ttrain-auc:0.753504\ttest-auc:0.714363\n",
      "[193]\ttrain-auc:0.753504\ttest-auc:0.714363\n",
      "[194]\ttrain-auc:0.753504\ttest-auc:0.714363\n",
      "[195]\ttrain-auc:0.753504\ttest-auc:0.714363\n",
      "[196]\ttrain-auc:0.753504\ttest-auc:0.714363\n",
      "[197]\ttrain-auc:0.753504\ttest-auc:0.714363\n",
      "[198]\ttrain-auc:0.753504\ttest-auc:0.714363\n",
      "[199]\ttrain-auc:0.753504\ttest-auc:0.714363\n",
      "[200]\ttrain-auc:0.753504\ttest-auc:0.714363\n",
      "[201]\ttrain-auc:0.753504\ttest-auc:0.714363\n",
      "[202]\ttrain-auc:0.753504\ttest-auc:0.714363\n",
      "[203]\ttrain-auc:0.753504\ttest-auc:0.714363\n",
      "[204]\ttrain-auc:0.753504\ttest-auc:0.714363\n",
      "[205]\ttrain-auc:0.753504\ttest-auc:0.714363\n",
      "[206]\ttrain-auc:0.753504\ttest-auc:0.714363\n",
      "[207]\ttrain-auc:0.753504\ttest-auc:0.714363\n",
      "[208]\ttrain-auc:0.753504\ttest-auc:0.714363\n",
      "[209]\ttrain-auc:0.753504\ttest-auc:0.714363\n",
      "[210]\ttrain-auc:0.753504\ttest-auc:0.714363\n",
      "[211]\ttrain-auc:0.753504\ttest-auc:0.714363\n",
      "[212]\ttrain-auc:0.753504\ttest-auc:0.714363\n",
      "[213]\ttrain-auc:0.753504\ttest-auc:0.714363\n",
      "[214]\ttrain-auc:0.753504\ttest-auc:0.714363\n",
      "[215]\ttrain-auc:0.753504\ttest-auc:0.714363\n",
      "[216]\ttrain-auc:0.753504\ttest-auc:0.714363\n",
      "[217]\ttrain-auc:0.753504\ttest-auc:0.714363\n",
      "[218]\ttrain-auc:0.753504\ttest-auc:0.714363\n",
      "[219]\ttrain-auc:0.753504\ttest-auc:0.714363\n",
      "[220]\ttrain-auc:0.753504\ttest-auc:0.714363\n",
      "[221]\ttrain-auc:0.753504\ttest-auc:0.714363\n",
      "[222]\ttrain-auc:0.753504\ttest-auc:0.714363\n",
      "[223]\ttrain-auc:0.753504\ttest-auc:0.714363\n",
      "[224]\ttrain-auc:0.753504\ttest-auc:0.714363\n",
      "[225]\ttrain-auc:0.753504\ttest-auc:0.714363\n",
      "[226]\ttrain-auc:0.753504\ttest-auc:0.714363\n",
      "[227]\ttrain-auc:0.753504\ttest-auc:0.714363\n",
      "[228]\ttrain-auc:0.753504\ttest-auc:0.714363\n",
      "[229]\ttrain-auc:0.753504\ttest-auc:0.714363\n",
      "[230]\ttrain-auc:0.753504\ttest-auc:0.714363\n",
      "[231]\ttrain-auc:0.753504\ttest-auc:0.714363\n",
      "[232]\ttrain-auc:0.753504\ttest-auc:0.714363\n",
      "[233]\ttrain-auc:0.753504\ttest-auc:0.714363\n",
      "[234]\ttrain-auc:0.753504\ttest-auc:0.714363\n",
      "[235]\ttrain-auc:0.753504\ttest-auc:0.714363\n",
      "[236]\ttrain-auc:0.753504\ttest-auc:0.714363\n",
      "[237]\ttrain-auc:0.753504\ttest-auc:0.714363\n",
      "[238]\ttrain-auc:0.753504\ttest-auc:0.714363\n",
      "[239]\ttrain-auc:0.753504\ttest-auc:0.714363\n",
      "[240]\ttrain-auc:0.753504\ttest-auc:0.714363\n",
      "[241]\ttrain-auc:0.753504\ttest-auc:0.714363\n",
      "[242]\ttrain-auc:0.753504\ttest-auc:0.714363\n",
      "[243]\ttrain-auc:0.753504\ttest-auc:0.714363\n",
      "[244]\ttrain-auc:0.753504\ttest-auc:0.714363\n",
      "[245]\ttrain-auc:0.753504\ttest-auc:0.714363\n",
      "[246]\ttrain-auc:0.753504\ttest-auc:0.714363\n",
      "[247]\ttrain-auc:0.753504\ttest-auc:0.714363\n",
      "[248]\ttrain-auc:0.753504\ttest-auc:0.714363\n",
      "[249]\ttrain-auc:0.753504\ttest-auc:0.714363\n"
     ]
    }
   ],
   "source": [
    "# Eligiendo los parámetros para XGBoost\n",
    "xgb_params = {\n",
    "    \"objective\": \"reg:logistic\",\n",
    "    \"eta\": 0.0001, # learning rate\n",
    "    \"max_depth\": 3,\n",
    "    \"early_stopping_rounds\":  50,\n",
    "    \"gamma\": 0.1,\n",
    "    \"eval_metric\": \"auc\", #locloss o ross\n",
    "    \"print_every_n\": 50\n",
    "}\n",
    "\n",
    "num_rounds = 250 # Numero de arboles\n",
    "# Aqui entrenamos el algoritmo\n",
    "watch_list  = [(dtrain,'train'),(dtest,'test')]\n",
    "xgb_fit = xgb.train(xgb_params, dtrain, num_rounds, watch_list) # Aca se guarda el algoritmo"
   ]
  },
  {
   "cell_type": "code",
   "execution_count": 94,
   "metadata": {
    "colab": {
     "base_uri": "https://localhost:8080/",
     "height": 235
    },
    "colab_type": "code",
    "executionInfo": {
     "elapsed": 916,
     "status": "ok",
     "timestamp": 1580178285431,
     "user": {
      "displayName": "Carlos Huamani",
      "photoUrl": "https://lh3.googleusercontent.com/a-/AAuE7mD7372GY5BBLuVIR3jFsKLIAKcHcljh8JPi7MOC=s64",
      "userId": "12790110138974186756"
     },
     "user_tz": 300
    },
    "id": "4MxW0H7blOJg",
    "outputId": "93edae6d-559c-463e-eee2-0f82341b19d8"
   },
   "outputs": [
    {
     "data": {
      "text/html": [
       "<div>\n",
       "<style scoped>\n",
       "    .dataframe tbody tr th:only-of-type {\n",
       "        vertical-align: middle;\n",
       "    }\n",
       "\n",
       "    .dataframe tbody tr th {\n",
       "        vertical-align: top;\n",
       "    }\n",
       "\n",
       "    .dataframe thead th {\n",
       "        text-align: right;\n",
       "    }\n",
       "</style>\n",
       "<table border=\"1\" class=\"dataframe\">\n",
       "  <thead>\n",
       "    <tr style=\"text-align: right;\">\n",
       "      <th></th>\n",
       "      <th>Gain</th>\n",
       "      <th>Cover</th>\n",
       "      <th>Weight</th>\n",
       "    </tr>\n",
       "  </thead>\n",
       "  <tbody>\n",
       "    <tr>\n",
       "      <th>Credit_History</th>\n",
       "      <td>102.903711</td>\n",
       "      <td>107.241055</td>\n",
       "      <td>250</td>\n",
       "    </tr>\n",
       "    <tr>\n",
       "      <th>Cuota_Ingreso_Hijo</th>\n",
       "      <td>3.150034</td>\n",
       "      <td>52.620550</td>\n",
       "      <td>500</td>\n",
       "    </tr>\n",
       "    <tr>\n",
       "      <th>Cuota_Ingreso1</th>\n",
       "      <td>1.104377</td>\n",
       "      <td>9.872724</td>\n",
       "      <td>381</td>\n",
       "    </tr>\n",
       "    <tr>\n",
       "      <th>ApplicantIncome</th>\n",
       "      <td>2.956359</td>\n",
       "      <td>2.500000</td>\n",
       "      <td>4</td>\n",
       "    </tr>\n",
       "    <tr>\n",
       "      <th>TotalIncome</th>\n",
       "      <td>8.713230</td>\n",
       "      <td>90.993054</td>\n",
       "      <td>250</td>\n",
       "    </tr>\n",
       "    <tr>\n",
       "      <th>LoanAmount</th>\n",
       "      <td>1.732495</td>\n",
       "      <td>2.499938</td>\n",
       "      <td>121</td>\n",
       "    </tr>\n",
       "  </tbody>\n",
       "</table>\n",
       "</div>"
      ],
      "text/plain": [
       "                          Gain       Cover  Weight\n",
       "Credit_History      102.903711  107.241055     250\n",
       "Cuota_Ingreso_Hijo    3.150034   52.620550     500\n",
       "Cuota_Ingreso1        1.104377    9.872724     381\n",
       "ApplicantIncome       2.956359    2.500000       4\n",
       "TotalIncome           8.713230   90.993054     250\n",
       "LoanAmount            1.732495    2.499938     121"
      ]
     },
     "execution_count": 94,
     "metadata": {
      "tags": []
     },
     "output_type": "execute_result"
    }
   ],
   "source": [
    "# Importancia de Variables\n",
    "frame = { 'Gain':        pd.Series(xgb_fit.get_score(importance_type='gain')),\n",
    "          'Cover':       pd.Series(xgb_fit.get_score(importance_type='cover')),\n",
    "          'Weight':      pd.Series(xgb_fit.get_score(importance_type='weight'))}\n",
    "result = pd.DataFrame(frame) \n",
    "result    \n",
    "# Si tiene buen weight pero poco gain no conviene"
   ]
  },
  {
   "cell_type": "code",
   "execution_count": 95,
   "metadata": {
    "colab": {
     "base_uri": "https://localhost:8080/",
     "height": 312
    },
    "colab_type": "code",
    "executionInfo": {
     "elapsed": 795,
     "status": "ok",
     "timestamp": 1580178440904,
     "user": {
      "displayName": "Carlos Huamani",
      "photoUrl": "https://lh3.googleusercontent.com/a-/AAuE7mD7372GY5BBLuVIR3jFsKLIAKcHcljh8JPi7MOC=s64",
      "userId": "12790110138974186756"
     },
     "user_tz": 300
    },
    "id": "i5nlHJ42lOJh",
    "outputId": "7fa34b99-e8e0-4a0f-e8be-4af882b06dd9"
   },
   "outputs": [
    {
     "data": {
      "text/plain": [
       "<matplotlib.axes._subplots.AxesSubplot at 0x7fd0c6194b00>"
      ]
     },
     "execution_count": 95,
     "metadata": {
      "tags": []
     },
     "output_type": "execute_result"
    },
    {
     "data": {
      "image/png": "[encoded data removed]",
      "text/plain": [
       "<Figure size 432x288 with 1 Axes>"
      ]
     },
     "metadata": {
      "tags": []
     },
     "output_type": "display_data"
    }
   ],
   "source": [
    "# Podemos calcular la importancia de variables por Xgboost\n",
    "xgb.plot_importance(xgb_fit,importance_type='gain')"
   ]
  },
  {
   "cell_type": "code",
   "execution_count": 96,
   "metadata": {
    "colab": {
     "base_uri": "https://localhost:8080/",
     "height": 122
    },
    "colab_type": "code",
    "executionInfo": {
     "elapsed": 3675,
     "status": "ok",
     "timestamp": 1580178604425,
     "user": {
      "displayName": "Carlos Huamani",
      "photoUrl": "https://lh3.googleusercontent.com/a-/AAuE7mD7372GY5BBLuVIR3jFsKLIAKcHcljh8JPi7MOC=s64",
      "userId": "12790110138974186756"
     },
     "user_tz": 300
    },
    "id": "Fq8YRgcClOJj",
    "outputId": "1f114581-abd9-459d-845c-1e10f38820ae"
   },
   "outputs": [
    {
     "name": "stdout",
     "output_type": "stream",
     "text": [
      "Requirement already satisfied: lightgbm in /usr/local/lib/python3.6/dist-packages (2.2.3)\n",
      "Requirement already satisfied: numpy in /usr/local/lib/python3.6/dist-packages (from lightgbm) (1.17.5)\n",
      "Requirement already satisfied: scikit-learn in /usr/local/lib/python3.6/dist-packages (from lightgbm) (0.22.1)\n",
      "Requirement already satisfied: scipy in /usr/local/lib/python3.6/dist-packages (from lightgbm) (1.4.1)\n",
      "Requirement already satisfied: joblib>=0.11 in /usr/local/lib/python3.6/dist-packages (from scikit-learn->lightgbm) (0.14.1)\n"
     ]
    }
   ],
   "source": [
    "## Modelos Boosting : LightGBM ##\n",
    "! pip install lightgbm"
   ]
  },
  {
   "cell_type": "code",
   "execution_count": null,
   "metadata": {
    "colab": {},
    "colab_type": "code",
    "id": "c1ZNO1KClOJk"
   },
   "outputs": [],
   "source": [
    "import lightgbm as lgb"
   ]
  },
  {
   "cell_type": "code",
   "execution_count": null,
   "metadata": {
    "colab": {},
    "colab_type": "code",
    "id": "3wHEXUcRlOJl"
   },
   "outputs": [],
   "source": [
    "#y_train"
   ]
  },
  {
   "cell_type": "code",
   "execution_count": null,
   "metadata": {
    "colab": {},
    "colab_type": "code",
    "id": "DWVcBDiGlOJo"
   },
   "outputs": [],
   "source": [
    "dtrain = lgb.Dataset(X_train, label=y_train)\n",
    "dtest =  lgb.Dataset(X_test,  label=y_test, reference=dtrain)\n",
    "\n",
    "#dtest =  lgb.Dataset(pd.DataFrame(X_test),   pd.DataFrame(y_test), reference=dtrain)"
   ]
  },
  {
   "cell_type": "code",
   "execution_count": null,
   "metadata": {
    "colab": {},
    "colab_type": "code",
    "id": "mUB2BpeClOJq"
   },
   "outputs": [],
   "source": [
    "params = {\n",
    "        'task':'train', \n",
    "        'is_unbalance': False, \n",
    "        'max_dept':1,\n",
    "        'max_bin': 10,  # max cantidad de cortes de una var. numerica\n",
    "        'boosting_type': 'gbdt',\n",
    "        'objective': 'binary',\n",
    "        #'min_child_weight': 150,\n",
    "        'metric': 'auc',\n",
    "        #'min_data_in_leaf': 250,\n",
    "        'num_leaves': 5,\n",
    "        'learning_rate': 0.0001,\n",
    "        'feature_fraction': 0.8,\n",
    "        'bagging_fraction': 0.8,\n",
    "        'bagging_freq': 10,\n",
    "        #'min_data_per_group':150 ,\n",
    "        'verbose': 0,\n",
    "        'seed ':1234\n",
    "}"
   ]
  },
  {
   "cell_type": "code",
   "execution_count": 103,
   "metadata": {
    "colab": {
     "base_uri": "https://localhost:8080/",
     "height": 1000
    },
    "colab_type": "code",
    "executionInfo": {
     "elapsed": 570,
     "status": "ok",
     "timestamp": 1580178845149,
     "user": {
      "displayName": "Carlos Huamani",
      "photoUrl": "https://lh3.googleusercontent.com/a-/AAuE7mD7372GY5BBLuVIR3jFsKLIAKcHcljh8JPi7MOC=s64",
      "userId": "12790110138974186756"
     },
     "user_tz": 300
    },
    "id": "womCFTLAlOJr",
    "outputId": "4fa8f73a-6880-45ba-af0c-7d2d604b7f60"
   },
   "outputs": [
    {
     "name": "stdout",
     "output_type": "stream",
     "text": [
      "[1]\ttraining's auc: 0.770592\tvalid_1's auc: 0.791882\n",
      "Training until validation scores don't improve for 100 rounds.\n",
      "[2]\ttraining's auc: 0.770592\tvalid_1's auc: 0.791882\n",
      "[3]\ttraining's auc: 0.771035\tvalid_1's auc: 0.771857\n",
      "[4]\ttraining's auc: 0.779648\tvalid_1's auc: 0.786587\n",
      "[5]\ttraining's auc: 0.794232\tvalid_1's auc: 0.79962\n",
      "[6]\ttraining's auc: 0.79236\tvalid_1's auc: 0.80152\n",
      "[7]\ttraining's auc: 0.792386\tvalid_1's auc: 0.800977\n",
      "[8]\ttraining's auc: 0.797281\tvalid_1's auc: 0.809259\n",
      "[9]\ttraining's auc: 0.798368\tvalid_1's auc: 0.81306\n",
      "[10]\ttraining's auc: 0.796762\tvalid_1's auc: 0.806815\n",
      "[11]\ttraining's auc: 0.807969\tvalid_1's auc: 0.818898\n",
      "[12]\ttraining's auc: 0.81232\tvalid_1's auc: 0.812517\n",
      "[13]\ttraining's auc: 0.815254\tvalid_1's auc: 0.807087\n",
      "[14]\ttraining's auc: 0.81662\tvalid_1's auc: 0.802878\n",
      "[15]\ttraining's auc: 0.818631\tvalid_1's auc: 0.805661\n",
      "[16]\ttraining's auc: 0.817657\tvalid_1's auc: 0.804507\n",
      "[17]\ttraining's auc: 0.820693\tvalid_1's auc: 0.806747\n",
      "[18]\ttraining's auc: 0.822515\tvalid_1's auc: 0.811499\n",
      "[19]\ttraining's auc: 0.823855\tvalid_1's auc: 0.813807\n",
      "[20]\ttraining's auc: 0.824614\tvalid_1's auc: 0.812042\n",
      "[21]\ttraining's auc: 0.829029\tvalid_1's auc: 0.816318\n",
      "[22]\ttraining's auc: 0.829762\tvalid_1's auc: 0.819169\n",
      "[23]\ttraining's auc: 0.832216\tvalid_1's auc: 0.820934\n",
      "[24]\ttraining's auc: 0.834632\tvalid_1's auc: 0.82297\n",
      "[25]\ttraining's auc: 0.833835\tvalid_1's auc: 0.823038\n",
      "[26]\ttraining's auc: 0.83429\tvalid_1's auc: 0.824532\n",
      "[27]\ttraining's auc: 0.834417\tvalid_1's auc: 0.822903\n",
      "[28]\ttraining's auc: 0.837149\tvalid_1's auc: 0.821613\n",
      "[29]\ttraining's auc: 0.8372\tvalid_1's auc: 0.819169\n",
      "[30]\ttraining's auc: 0.839578\tvalid_1's auc: 0.818015\n",
      "[31]\ttraining's auc: 0.842689\tvalid_1's auc: 0.819373\n",
      "[32]\ttraining's auc: 0.844371\tvalid_1's auc: 0.818966\n",
      "[33]\ttraining's auc: 0.846269\tvalid_1's auc: 0.821273\n",
      "[34]\ttraining's auc: 0.845358\tvalid_1's auc: 0.818966\n",
      "[35]\ttraining's auc: 0.845484\tvalid_1's auc: 0.820866\n",
      "[36]\ttraining's auc: 0.846977\tvalid_1's auc: 0.822224\n",
      "[37]\ttraining's auc: 0.847129\tvalid_1's auc: 0.821138\n",
      "[38]\ttraining's auc: 0.846775\tvalid_1's auc: 0.821545\n",
      "[39]\ttraining's auc: 0.847382\tvalid_1's auc: 0.820866\n",
      "[40]\ttraining's auc: 0.847938\tvalid_1's auc: 0.821138\n",
      "[41]\ttraining's auc: 0.849001\tvalid_1's auc: 0.821681\n",
      "[42]\ttraining's auc: 0.847786\tvalid_1's auc: 0.822631\n",
      "[43]\ttraining's auc: 0.847723\tvalid_1's auc: 0.821816\n",
      "[44]\ttraining's auc: 0.846509\tvalid_1's auc: 0.82331\n",
      "[45]\ttraining's auc: 0.84699\tvalid_1's auc: 0.822767\n",
      "[46]\ttraining's auc: 0.847382\tvalid_1's auc: 0.824396\n",
      "[47]\ttraining's auc: 0.846547\tvalid_1's auc: 0.825618\n",
      "[48]\ttraining's auc: 0.84551\tvalid_1's auc: 0.826704\n",
      "[49]\ttraining's auc: 0.84685\tvalid_1's auc: 0.827111\n",
      "[50]\ttraining's auc: 0.847761\tvalid_1's auc: 0.823581\n",
      "[51]\ttraining's auc: 0.846496\tvalid_1's auc: 0.82426\n",
      "[52]\ttraining's auc: 0.846699\tvalid_1's auc: 0.825889\n",
      "[53]\ttraining's auc: 0.845788\tvalid_1's auc: 0.825889\n",
      "[54]\ttraining's auc: 0.84427\tvalid_1's auc: 0.82426\n",
      "[55]\ttraining's auc: 0.843511\tvalid_1's auc: 0.825075\n",
      "[56]\ttraining's auc: 0.842348\tvalid_1's auc: 0.824939\n",
      "[57]\ttraining's auc: 0.841285\tvalid_1's auc: 0.825075\n",
      "[58]\ttraining's auc: 0.840526\tvalid_1's auc: 0.825346\n",
      "[59]\ttraining's auc: 0.840716\tvalid_1's auc: 0.824667\n",
      "[60]\ttraining's auc: 0.840109\tvalid_1's auc: 0.825889\n",
      "[61]\ttraining's auc: 0.840855\tvalid_1's auc: 0.825482\n",
      "[62]\ttraining's auc: 0.841412\tvalid_1's auc: 0.824667\n",
      "[63]\ttraining's auc: 0.841209\tvalid_1's auc: 0.82426\n",
      "[64]\ttraining's auc: 0.841386\tvalid_1's auc: 0.824124\n",
      "[65]\ttraining's auc: 0.842221\tvalid_1's auc: 0.822903\n",
      "[66]\ttraining's auc: 0.842702\tvalid_1's auc: 0.822631\n",
      "[67]\ttraining's auc: 0.842499\tvalid_1's auc: 0.823038\n",
      "[68]\ttraining's auc: 0.842879\tvalid_1's auc: 0.823174\n",
      "[69]\ttraining's auc: 0.843587\tvalid_1's auc: 0.822088\n",
      "[70]\ttraining's auc: 0.843815\tvalid_1's auc: 0.821952\n",
      "[71]\ttraining's auc: 0.843081\tvalid_1's auc: 0.820595\n",
      "[72]\ttraining's auc: 0.842069\tvalid_1's auc: 0.821409\n",
      "[73]\ttraining's auc: 0.841462\tvalid_1's auc: 0.820595\n",
      "[74]\ttraining's auc: 0.841487\tvalid_1's auc: 0.819509\n",
      "[75]\ttraining's auc: 0.841563\tvalid_1's auc: 0.819644\n",
      "[76]\ttraining's auc: 0.841399\tvalid_1's auc: 0.819373\n",
      "[77]\ttraining's auc: 0.841399\tvalid_1's auc: 0.816522\n",
      "[78]\ttraining's auc: 0.841703\tvalid_1's auc: 0.815164\n",
      "[79]\ttraining's auc: 0.841247\tvalid_1's auc: 0.815436\n",
      "[80]\ttraining's auc: 0.840412\tvalid_1's auc: 0.815436\n",
      "[81]\ttraining's auc: 0.840121\tvalid_1's auc: 0.815029\n",
      "[82]\ttraining's auc: 0.840336\tvalid_1's auc: 0.813603\n",
      "[83]\ttraining's auc: 0.841095\tvalid_1's auc: 0.813875\n",
      "[84]\ttraining's auc: 0.841019\tvalid_1's auc: 0.814825\n",
      "[85]\ttraining's auc: 0.842057\tvalid_1's auc: 0.814553\n",
      "[86]\ttraining's auc: 0.843043\tvalid_1's auc: 0.814146\n",
      "[87]\ttraining's auc: 0.84365\tvalid_1's auc: 0.813739\n",
      "[88]\ttraining's auc: 0.844283\tvalid_1's auc: 0.81401\n",
      "[89]\ttraining's auc: 0.845168\tvalid_1's auc: 0.814689\n",
      "[90]\ttraining's auc: 0.844966\tvalid_1's auc: 0.814553\n",
      "[91]\ttraining's auc: 0.844435\tvalid_1's auc: 0.814146\n",
      "[92]\ttraining's auc: 0.84446\tvalid_1's auc: 0.813603\n",
      "[93]\ttraining's auc: 0.844156\tvalid_1's auc: 0.814282\n",
      "[94]\ttraining's auc: 0.844561\tvalid_1's auc: 0.813739\n",
      "[95]\ttraining's auc: 0.844662\tvalid_1's auc: 0.814282\n",
      "[96]\ttraining's auc: 0.844637\tvalid_1's auc: 0.814553\n",
      "[97]\ttraining's auc: 0.845295\tvalid_1's auc: 0.81306\n",
      "[98]\ttraining's auc: 0.845269\tvalid_1's auc: 0.814146\n",
      "[99]\ttraining's auc: 0.845168\tvalid_1's auc: 0.812788\n",
      "[100]\ttraining's auc: 0.845118\tvalid_1's auc: 0.812788\n",
      "[101]\ttraining's auc: 0.845699\tvalid_1's auc: 0.811974\n",
      "[102]\ttraining's auc: 0.846155\tvalid_1's auc: 0.813332\n",
      "[103]\ttraining's auc: 0.845851\tvalid_1's auc: 0.814553\n",
      "[104]\ttraining's auc: 0.845902\tvalid_1's auc: 0.814553\n",
      "[105]\ttraining's auc: 0.845978\tvalid_1's auc: 0.814825\n",
      "[106]\ttraining's auc: 0.845952\tvalid_1's auc: 0.814689\n",
      "[107]\ttraining's auc: 0.845396\tvalid_1's auc: 0.814961\n",
      "[108]\ttraining's auc: 0.84532\tvalid_1's auc: 0.814689\n",
      "[109]\ttraining's auc: 0.845042\tvalid_1's auc: 0.815096\n",
      "[110]\ttraining's auc: 0.844814\tvalid_1's auc: 0.81659\n",
      "[111]\ttraining's auc: 0.845092\tvalid_1's auc: 0.815639\n",
      "[112]\ttraining's auc: 0.845118\tvalid_1's auc: 0.816047\n",
      "[113]\ttraining's auc: 0.845269\tvalid_1's auc: 0.815504\n",
      "[114]\ttraining's auc: 0.845624\tvalid_1's auc: 0.815096\n",
      "[115]\ttraining's auc: 0.84618\tvalid_1's auc: 0.814418\n",
      "[116]\ttraining's auc: 0.846509\tvalid_1's auc: 0.813467\n",
      "[117]\ttraining's auc: 0.846686\tvalid_1's auc: 0.812788\n",
      "[118]\ttraining's auc: 0.84704\tvalid_1's auc: 0.811838\n",
      "[119]\ttraining's auc: 0.847521\tvalid_1's auc: 0.811702\n",
      "[120]\ttraining's auc: 0.847546\tvalid_1's auc: 0.810345\n",
      "[121]\ttraining's auc: 0.848254\tvalid_1's auc: 0.810209\n",
      "[122]\ttraining's auc: 0.848507\tvalid_1's auc: 0.811431\n",
      "[123]\ttraining's auc: 0.848786\tvalid_1's auc: 0.811567\n",
      "[124]\ttraining's auc: 0.849469\tvalid_1's auc: 0.810345\n",
      "[125]\ttraining's auc: 0.850557\tvalid_1's auc: 0.809802\n",
      "[126]\ttraining's auc: 0.851138\tvalid_1's auc: 0.810345\n",
      "[127]\ttraining's auc: 0.851594\tvalid_1's auc: 0.810209\n",
      "[128]\ttraining's auc: 0.8521\tvalid_1's auc: 0.810481\n",
      "[129]\ttraining's auc: 0.851847\tvalid_1's auc: 0.810616\n",
      "[130]\ttraining's auc: 0.852226\tvalid_1's auc: 0.809666\n",
      "[131]\ttraining's auc: 0.851796\tvalid_1's auc: 0.809395\n",
      "[132]\ttraining's auc: 0.851821\tvalid_1's auc: 0.808716\n",
      "[133]\ttraining's auc: 0.851821\tvalid_1's auc: 0.809123\n",
      "[134]\ttraining's auc: 0.85129\tvalid_1's auc: 0.809938\n",
      "[135]\ttraining's auc: 0.850784\tvalid_1's auc: 0.810209\n",
      "[136]\ttraining's auc: 0.851442\tvalid_1's auc: 0.810616\n",
      "[137]\ttraining's auc: 0.851214\tvalid_1's auc: 0.810752\n",
      "[138]\ttraining's auc: 0.851619\tvalid_1's auc: 0.811838\n",
      "[139]\ttraining's auc: 0.851948\tvalid_1's auc: 0.812381\n",
      "[140]\ttraining's auc: 0.851847\tvalid_1's auc: 0.812653\n",
      "[141]\ttraining's auc: 0.851619\tvalid_1's auc: 0.812788\n",
      "[142]\ttraining's auc: 0.851341\tvalid_1's auc: 0.813196\n",
      "[143]\ttraining's auc: 0.85129\tvalid_1's auc: 0.813467\n",
      "[144]\ttraining's auc: 0.851315\tvalid_1's auc: 0.813467\n",
      "[145]\ttraining's auc: 0.851265\tvalid_1's auc: 0.813739\n",
      "[146]\ttraining's auc: 0.851062\tvalid_1's auc: 0.813875\n",
      "[147]\ttraining's auc: 0.850759\tvalid_1's auc: 0.814146\n",
      "[148]\ttraining's auc: 0.850632\tvalid_1's auc: 0.814282\n",
      "[149]\ttraining's auc: 0.850607\tvalid_1's auc: 0.814825\n",
      "Early stopping, best iteration is:\n",
      "[49]\ttraining's auc: 0.84685\tvalid_1's auc: 0.827111\n"
     ]
    }
   ],
   "source": [
    "gbm = lgb.train(params,\n",
    "                dtrain,\n",
    "                num_boost_round=10000,\n",
    "                valid_sets=[dtrain,dtest],\n",
    "                early_stopping_rounds=100)"
   ]
  },
  {
   "cell_type": "code",
   "execution_count": 104,
   "metadata": {
    "colab": {
     "base_uri": "https://localhost:8080/",
     "height": 323
    },
    "colab_type": "code",
    "executionInfo": {
     "elapsed": 674,
     "status": "ok",
     "timestamp": 1580178899712,
     "user": {
      "displayName": "Carlos Huamani",
      "photoUrl": "https://lh3.googleusercontent.com/a-/AAuE7mD7372GY5BBLuVIR3jFsKLIAKcHcljh8JPi7MOC=s64",
      "userId": "12790110138974186756"
     },
     "user_tz": 300
    },
    "id": "xZcPLEtglOJt",
    "outputId": "175b250b-7df0-4eca-891b-1db0fa8c43ad"
   },
   "outputs": [
    {
     "data": {
      "text/plain": [
       "0        (Credit_History, 3780.3102951049805)\n",
       "1         (Cuota_Ingreso2, 174.6280801296234)\n",
       "2        (Cuota_Ingreso1, 150.55474042892456)\n",
       "3              (Education, 95.64497065544128)\n",
       "4      (CoapplicantIncome, 68.92885994911194)\n",
       "5          (Property_Area, 68.89336967468262)\n",
       "6        (ApplicantIncome, 39.06327033042908)\n",
       "7                (Married, 27.51448965072632)\n",
       "8            (TotalIncome, 26.77689027786255)\n",
       "9                (Gender, 22.121349811553955)\n",
       "10          (AmountxTerm, 21.210700273513794)\n",
       "11    (Cuota_Ingreso_Hijo, 14.19530987739563)\n",
       "12           (Dependents, 10.823490142822266)\n",
       "13           (LoanAmount, 10.397259712219238)\n",
       "14                       (Self_Employed, 0.0)\n",
       "15                    (Loan_Amount_Term, 0.0)\n",
       "16                      (Log_LoanAmount, 0.0)\n",
       "dtype: object"
      ]
     },
     "execution_count": 104,
     "metadata": {
      "tags": []
     },
     "output_type": "execute_result"
    }
   ],
   "source": [
    "importancia=gbm.feature_importance(importance_type='gain')\n",
    "\n",
    "def impxgb(valores,variables):\n",
    "    dictimp={variables[a]:valores[a] for a in range(0,len(variables)) }\n",
    "    xgimp=sorted(list(dictimp.items()), key=lambda x: x[1],reverse=True)\n",
    "\n",
    "    return xgimp\n",
    "\n",
    "ixg=impxgb(importancia,X_train.columns)\n",
    "pd.Series(ixg)"
   ]
  },
  {
   "cell_type": "code",
   "execution_count": 105,
   "metadata": {
    "colab": {
     "base_uri": "https://localhost:8080/",
     "height": 360
    },
    "colab_type": "code",
    "executionInfo": {
     "elapsed": 11420,
     "status": "ok",
     "timestamp": 1580178917518,
     "user": {
      "displayName": "Carlos Huamani",
      "photoUrl": "https://lh3.googleusercontent.com/a-/AAuE7mD7372GY5BBLuVIR3jFsKLIAKcHcljh8JPi7MOC=s64",
      "userId": "12790110138974186756"
     },
     "user_tz": 300
    },
    "id": "sJvz6qcmlOJv",
    "outputId": "446ce5bc-d4ce-4dce-b896-024ffc12fe87"
   },
   "outputs": [
    {
     "name": "stdout",
     "output_type": "stream",
     "text": [
      "Collecting catboost\n",
      "\u001b[?25l  Downloading https://files.pythonhosted.org/packages/97/c4/586923de4634f88a31fd1b4966e15707a912b98b6f4566651b5ef58f36b5/catboost-0.20.2-cp36-none-manylinux1_x86_64.whl (63.9MB)\n",
      "\u001b[K     |████████████████████████████████| 63.9MB 61kB/s \n",
      "\u001b[?25hRequirement already satisfied: pandas>=0.24.0 in /usr/local/lib/python3.6/dist-packages (from catboost) (0.25.3)\n",
      "Requirement already satisfied: six in /usr/local/lib/python3.6/dist-packages (from catboost) (1.12.0)\n",
      "Requirement already satisfied: graphviz in /usr/local/lib/python3.6/dist-packages (from catboost) (0.10.1)\n",
      "Requirement already satisfied: matplotlib in /usr/local/lib/python3.6/dist-packages (from catboost) (3.1.2)\n",
      "Requirement already satisfied: numpy>=1.16.0 in /usr/local/lib/python3.6/dist-packages (from catboost) (1.17.5)\n",
      "Requirement already satisfied: scipy in /usr/local/lib/python3.6/dist-packages (from catboost) (1.4.1)\n",
      "Requirement already satisfied: plotly in /usr/local/lib/python3.6/dist-packages (from catboost) (4.4.1)\n",
      "Requirement already satisfied: pytz>=2017.2 in /usr/local/lib/python3.6/dist-packages (from pandas>=0.24.0->catboost) (2018.9)\n",
      "Requirement already satisfied: python-dateutil>=2.6.1 in /usr/local/lib/python3.6/dist-packages (from pandas>=0.24.0->catboost) (2.6.1)\n",
      "Requirement already satisfied: cycler>=0.10 in /usr/local/lib/python3.6/dist-packages (from matplotlib->catboost) (0.10.0)\n",
      "Requirement already satisfied: pyparsing!=2.0.4,!=2.1.2,!=2.1.6,>=2.0.1 in /usr/local/lib/python3.6/dist-packages (from matplotlib->catboost) (2.4.6)\n",
      "Requirement already satisfied: kiwisolver>=1.0.1 in /usr/local/lib/python3.6/dist-packages (from matplotlib->catboost) (1.1.0)\n",
      "Requirement already satisfied: retrying>=1.3.3 in /usr/local/lib/python3.6/dist-packages (from plotly->catboost) (1.3.3)\n",
      "Requirement already satisfied: setuptools in /usr/local/lib/python3.6/dist-packages (from kiwisolver>=1.0.1->matplotlib->catboost) (42.0.2)\n",
      "Installing collected packages: catboost\n",
      "Successfully installed catboost-0.20.2\n"
     ]
    }
   ],
   "source": [
    "## Modelos Boosting : CATBoost ##\n",
    "! pip install catboost"
   ]
  },
  {
   "cell_type": "code",
   "execution_count": null,
   "metadata": {
    "colab": {},
    "colab_type": "code",
    "id": "ndtuu_82lOJw"
   },
   "outputs": [],
   "source": [
    "from catboost import CatBoostClassifier\n",
    "\n",
    "# Definimos el clasificador\n",
    "CatBoost=CatBoostClassifier(eval_metric=\"AUC\",\n",
    "                            one_hot_max_size=20,\n",
    "                            depth=1, \n",
    "                            iterations= 800, \n",
    "                            l2_leaf_reg= 2, \n",
    "                            learning_rate= 0.0001)"
   ]
  },
  {
   "cell_type": "code",
   "execution_count": 107,
   "metadata": {
    "colab": {
     "base_uri": "https://localhost:8080/",
     "height": 1000
    },
    "colab_type": "code",
    "executionInfo": {
     "elapsed": 1027,
     "status": "ok",
     "timestamp": 1580179065179,
     "user": {
      "displayName": "Carlos Huamani",
      "photoUrl": "https://lh3.googleusercontent.com/a-/AAuE7mD7372GY5BBLuVIR3jFsKLIAKcHcljh8JPi7MOC=s64",
      "userId": "12790110138974186756"
     },
     "user_tz": 300
    },
    "id": "pY0axkl2lOJx",
    "outputId": "448143b2-a686-4c33-f21a-b0641c98d37e"
   },
   "outputs": [
    {
     "name": "stdout",
     "output_type": "stream",
     "text": [
      "0:\ttotal: 48.4ms\tremaining: 38.7s\n",
      "1:\ttotal: 48.9ms\tremaining: 19.5s\n",
      "2:\ttotal: 49.3ms\tremaining: 13.1s\n",
      "3:\ttotal: 49.7ms\tremaining: 9.89s\n",
      "4:\ttotal: 50.1ms\tremaining: 7.97s\n",
      "5:\ttotal: 50.5ms\tremaining: 6.68s\n",
      "6:\ttotal: 50.9ms\tremaining: 5.77s\n",
      "7:\ttotal: 51.3ms\tremaining: 5.08s\n",
      "8:\ttotal: 51.7ms\tremaining: 4.55s\n",
      "9:\ttotal: 52.1ms\tremaining: 4.12s\n",
      "10:\ttotal: 52.6ms\tremaining: 3.77s\n",
      "11:\ttotal: 53ms\tremaining: 3.48s\n",
      "12:\ttotal: 53.4ms\tremaining: 3.23s\n",
      "13:\ttotal: 53.8ms\tremaining: 3.02s\n",
      "14:\ttotal: 54.2ms\tremaining: 2.84s\n",
      "15:\ttotal: 54.6ms\tremaining: 2.67s\n",
      "16:\ttotal: 55ms\tremaining: 2.53s\n",
      "17:\ttotal: 55.4ms\tremaining: 2.41s\n",
      "18:\ttotal: 55.8ms\tremaining: 2.29s\n",
      "19:\ttotal: 56.2ms\tremaining: 2.19s\n",
      "20:\ttotal: 56.6ms\tremaining: 2.1s\n",
      "21:\ttotal: 57ms\tremaining: 2.02s\n",
      "22:\ttotal: 57.4ms\tremaining: 1.94s\n",
      "23:\ttotal: 57.8ms\tremaining: 1.87s\n",
      "24:\ttotal: 58.2ms\tremaining: 1.8s\n",
      "25:\ttotal: 58.7ms\tremaining: 1.75s\n",
      "26:\ttotal: 59.1ms\tremaining: 1.69s\n",
      "27:\ttotal: 59.5ms\tremaining: 1.64s\n",
      "28:\ttotal: 59.9ms\tremaining: 1.59s\n",
      "29:\ttotal: 60.3ms\tremaining: 1.55s\n",
      "30:\ttotal: 60.7ms\tremaining: 1.5s\n",
      "31:\ttotal: 61.1ms\tremaining: 1.47s\n",
      "32:\ttotal: 61.5ms\tremaining: 1.43s\n",
      "33:\ttotal: 61.9ms\tremaining: 1.39s\n",
      "34:\ttotal: 62.3ms\tremaining: 1.36s\n",
      "35:\ttotal: 62.7ms\tremaining: 1.33s\n",
      "36:\ttotal: 63.1ms\tremaining: 1.3s\n",
      "37:\ttotal: 63.5ms\tremaining: 1.27s\n",
      "38:\ttotal: 63.9ms\tremaining: 1.25s\n",
      "39:\ttotal: 64.3ms\tremaining: 1.22s\n",
      "40:\ttotal: 64.7ms\tremaining: 1.2s\n",
      "41:\ttotal: 65.1ms\tremaining: 1.18s\n",
      "42:\ttotal: 65.5ms\tremaining: 1.15s\n",
      "43:\ttotal: 65.9ms\tremaining: 1.13s\n",
      "44:\ttotal: 66.4ms\tremaining: 1.11s\n",
      "45:\ttotal: 66.7ms\tremaining: 1.09s\n",
      "46:\ttotal: 67.2ms\tremaining: 1.07s\n",
      "47:\ttotal: 67.5ms\tremaining: 1.06s\n",
      "48:\ttotal: 67.9ms\tremaining: 1.04s\n",
      "49:\ttotal: 68.3ms\tremaining: 1.02s\n",
      "50:\ttotal: 68.7ms\tremaining: 1.01s\n",
      "51:\ttotal: 69.1ms\tremaining: 995ms\n",
      "52:\ttotal: 69.7ms\tremaining: 982ms\n",
      "53:\ttotal: 70.1ms\tremaining: 969ms\n",
      "54:\ttotal: 70.6ms\tremaining: 956ms\n",
      "55:\ttotal: 71ms\tremaining: 944ms\n",
      "56:\ttotal: 71.5ms\tremaining: 932ms\n",
      "57:\ttotal: 71.9ms\tremaining: 920ms\n",
      "58:\ttotal: 72.3ms\tremaining: 908ms\n",
      "59:\ttotal: 72.8ms\tremaining: 897ms\n",
      "60:\ttotal: 73.2ms\tremaining: 886ms\n",
      "61:\ttotal: 73.6ms\tremaining: 876ms\n",
      "62:\ttotal: 74ms\tremaining: 866ms\n",
      "63:\ttotal: 74.5ms\tremaining: 856ms\n",
      "64:\ttotal: 74.9ms\tremaining: 847ms\n",
      "65:\ttotal: 75.4ms\tremaining: 838ms\n",
      "66:\ttotal: 75.9ms\tremaining: 831ms\n",
      "67:\ttotal: 76.4ms\tremaining: 822ms\n",
      "68:\ttotal: 76.9ms\tremaining: 814ms\n",
      "69:\ttotal: 77.3ms\tremaining: 806ms\n",
      "70:\ttotal: 77.8ms\tremaining: 799ms\n",
      "71:\ttotal: 78.3ms\tremaining: 792ms\n",
      "72:\ttotal: 78.7ms\tremaining: 784ms\n",
      "73:\ttotal: 79.2ms\tremaining: 777ms\n",
      "74:\ttotal: 79.6ms\tremaining: 770ms\n",
      "75:\ttotal: 80.1ms\tremaining: 763ms\n",
      "76:\ttotal: 80.5ms\tremaining: 756ms\n",
      "77:\ttotal: 80.9ms\tremaining: 749ms\n",
      "78:\ttotal: 81.4ms\tremaining: 743ms\n",
      "79:\ttotal: 81.9ms\tremaining: 737ms\n",
      "80:\ttotal: 82.4ms\tremaining: 731ms\n",
      "81:\ttotal: 82.8ms\tremaining: 725ms\n",
      "82:\ttotal: 83.3ms\tremaining: 719ms\n",
      "83:\ttotal: 83.7ms\tremaining: 713ms\n",
      "84:\ttotal: 84.1ms\tremaining: 708ms\n",
      "85:\ttotal: 84.6ms\tremaining: 702ms\n",
      "86:\ttotal: 85ms\tremaining: 697ms\n",
      "87:\ttotal: 85.5ms\tremaining: 692ms\n",
      "88:\ttotal: 86ms\tremaining: 687ms\n",
      "89:\ttotal: 86.4ms\tremaining: 682ms\n",
      "90:\ttotal: 86.8ms\tremaining: 676ms\n",
      "91:\ttotal: 87.3ms\tremaining: 671ms\n",
      "92:\ttotal: 87.7ms\tremaining: 667ms\n",
      "93:\ttotal: 88.2ms\tremaining: 662ms\n",
      "94:\ttotal: 88.6ms\tremaining: 657ms\n",
      "95:\ttotal: 89ms\tremaining: 653ms\n",
      "96:\ttotal: 89.6ms\tremaining: 649ms\n",
      "97:\ttotal: 90.2ms\tremaining: 646ms\n",
      "98:\ttotal: 90.7ms\tremaining: 642ms\n",
      "99:\ttotal: 91.1ms\tremaining: 638ms\n",
      "100:\ttotal: 91.6ms\tremaining: 634ms\n",
      "101:\ttotal: 92.1ms\tremaining: 630ms\n",
      "102:\ttotal: 92.5ms\tremaining: 626ms\n",
      "103:\ttotal: 92.9ms\tremaining: 622ms\n",
      "104:\ttotal: 93.3ms\tremaining: 618ms\n",
      "105:\ttotal: 93.8ms\tremaining: 614ms\n",
      "106:\ttotal: 94.2ms\tremaining: 610ms\n",
      "107:\ttotal: 94.6ms\tremaining: 606ms\n",
      "108:\ttotal: 95.1ms\tremaining: 603ms\n",
      "109:\ttotal: 95.5ms\tremaining: 599ms\n",
      "110:\ttotal: 96.1ms\tremaining: 597ms\n",
      "111:\ttotal: 96.6ms\tremaining: 593ms\n",
      "112:\ttotal: 97ms\tremaining: 590ms\n",
      "113:\ttotal: 97.5ms\tremaining: 586ms\n",
      "114:\ttotal: 97.9ms\tremaining: 583ms\n",
      "115:\ttotal: 98.3ms\tremaining: 580ms\n",
      "116:\ttotal: 98.7ms\tremaining: 576ms\n",
      "117:\ttotal: 99.1ms\tremaining: 573ms\n",
      "118:\ttotal: 99.6ms\tremaining: 570ms\n",
      "119:\ttotal: 100ms\tremaining: 567ms\n",
      "120:\ttotal: 100ms\tremaining: 563ms\n",
      "121:\ttotal: 101ms\tremaining: 560ms\n",
      "122:\ttotal: 101ms\tremaining: 557ms\n",
      "123:\ttotal: 102ms\tremaining: 554ms\n",
      "124:\ttotal: 102ms\tremaining: 551ms\n",
      "125:\ttotal: 103ms\tremaining: 548ms\n",
      "126:\ttotal: 103ms\tremaining: 545ms\n",
      "127:\ttotal: 103ms\tremaining: 543ms\n",
      "128:\ttotal: 104ms\tremaining: 540ms\n",
      "129:\ttotal: 104ms\tremaining: 537ms\n",
      "130:\ttotal: 105ms\tremaining: 534ms\n",
      "131:\ttotal: 105ms\tremaining: 532ms\n",
      "132:\ttotal: 106ms\tremaining: 529ms\n",
      "133:\ttotal: 106ms\tremaining: 526ms\n",
      "134:\ttotal: 106ms\tremaining: 524ms\n",
      "135:\ttotal: 107ms\tremaining: 521ms\n",
      "136:\ttotal: 107ms\tremaining: 519ms\n",
      "137:\ttotal: 108ms\tremaining: 516ms\n",
      "138:\ttotal: 108ms\tremaining: 514ms\n",
      "139:\ttotal: 108ms\tremaining: 511ms\n",
      "140:\ttotal: 109ms\tremaining: 509ms\n",
      "141:\ttotal: 109ms\tremaining: 506ms\n",
      "142:\ttotal: 110ms\tremaining: 504ms\n",
      "143:\ttotal: 110ms\tremaining: 502ms\n",
      "144:\ttotal: 111ms\tremaining: 499ms\n",
      "145:\ttotal: 111ms\tremaining: 497ms\n",
      "146:\ttotal: 111ms\tremaining: 495ms\n",
      "147:\ttotal: 112ms\tremaining: 493ms\n",
      "148:\ttotal: 112ms\tremaining: 490ms\n",
      "149:\ttotal: 113ms\tremaining: 488ms\n",
      "150:\ttotal: 113ms\tremaining: 486ms\n",
      "151:\ttotal: 114ms\tremaining: 484ms\n",
      "152:\ttotal: 114ms\tremaining: 482ms\n",
      "153:\ttotal: 114ms\tremaining: 480ms\n",
      "154:\ttotal: 115ms\tremaining: 478ms\n",
      "155:\ttotal: 115ms\tremaining: 476ms\n",
      "156:\ttotal: 116ms\tremaining: 473ms\n",
      "157:\ttotal: 116ms\tremaining: 472ms\n",
      "158:\ttotal: 116ms\tremaining: 470ms\n",
      "159:\ttotal: 117ms\tremaining: 468ms\n",
      "160:\ttotal: 117ms\tremaining: 466ms\n",
      "161:\ttotal: 118ms\tremaining: 464ms\n",
      "162:\ttotal: 118ms\tremaining: 462ms\n",
      "163:\ttotal: 119ms\tremaining: 460ms\n",
      "164:\ttotal: 119ms\tremaining: 458ms\n",
      "165:\ttotal: 119ms\tremaining: 456ms\n",
      "166:\ttotal: 120ms\tremaining: 454ms\n",
      "167:\ttotal: 120ms\tremaining: 452ms\n",
      "168:\ttotal: 121ms\tremaining: 451ms\n",
      "169:\ttotal: 121ms\tremaining: 449ms\n",
      "170:\ttotal: 122ms\tremaining: 447ms\n",
      "171:\ttotal: 122ms\tremaining: 445ms\n",
      "172:\ttotal: 122ms\tremaining: 443ms\n",
      "173:\ttotal: 123ms\tremaining: 442ms\n",
      "174:\ttotal: 123ms\tremaining: 440ms\n",
      "175:\ttotal: 124ms\tremaining: 438ms\n",
      "176:\ttotal: 124ms\tremaining: 437ms\n",
      "177:\ttotal: 124ms\tremaining: 435ms\n",
      "178:\ttotal: 125ms\tremaining: 433ms\n",
      "179:\ttotal: 125ms\tremaining: 432ms\n",
      "180:\ttotal: 126ms\tremaining: 430ms\n",
      "181:\ttotal: 126ms\tremaining: 428ms\n",
      "182:\ttotal: 127ms\tremaining: 427ms\n",
      "183:\ttotal: 127ms\tremaining: 425ms\n",
      "184:\ttotal: 127ms\tremaining: 424ms\n",
      "185:\ttotal: 128ms\tremaining: 422ms\n",
      "186:\ttotal: 128ms\tremaining: 421ms\n",
      "187:\ttotal: 129ms\tremaining: 419ms\n",
      "188:\ttotal: 129ms\tremaining: 418ms\n",
      "189:\ttotal: 130ms\tremaining: 416ms\n",
      "190:\ttotal: 130ms\tremaining: 415ms\n",
      "191:\ttotal: 131ms\tremaining: 413ms\n",
      "192:\ttotal: 131ms\tremaining: 412ms\n",
      "193:\ttotal: 131ms\tremaining: 410ms\n",
      "194:\ttotal: 132ms\tremaining: 409ms\n",
      "195:\ttotal: 132ms\tremaining: 408ms\n",
      "196:\ttotal: 133ms\tremaining: 406ms\n",
      "197:\ttotal: 133ms\tremaining: 405ms\n",
      "198:\ttotal: 134ms\tremaining: 403ms\n",
      "199:\ttotal: 134ms\tremaining: 402ms\n",
      "200:\ttotal: 134ms\tremaining: 400ms\n",
      "201:\ttotal: 135ms\tremaining: 399ms\n",
      "202:\ttotal: 135ms\tremaining: 398ms\n",
      "203:\ttotal: 136ms\tremaining: 396ms\n",
      "204:\ttotal: 136ms\tremaining: 395ms\n",
      "205:\ttotal: 137ms\tremaining: 394ms\n",
      "206:\ttotal: 137ms\tremaining: 392ms\n",
      "207:\ttotal: 137ms\tremaining: 391ms\n",
      "208:\ttotal: 138ms\tremaining: 390ms\n",
      "209:\ttotal: 138ms\tremaining: 388ms\n",
      "210:\ttotal: 139ms\tremaining: 387ms\n",
      "211:\ttotal: 139ms\tremaining: 386ms\n",
      "212:\ttotal: 139ms\tremaining: 384ms\n",
      "213:\ttotal: 140ms\tremaining: 383ms\n",
      "214:\ttotal: 140ms\tremaining: 382ms\n",
      "215:\ttotal: 141ms\tremaining: 381ms\n",
      "216:\ttotal: 141ms\tremaining: 379ms\n",
      "217:\ttotal: 142ms\tremaining: 378ms\n",
      "218:\ttotal: 142ms\tremaining: 377ms\n",
      "219:\ttotal: 142ms\tremaining: 376ms\n",
      "220:\ttotal: 143ms\tremaining: 375ms\n",
      "221:\ttotal: 143ms\tremaining: 373ms\n",
      "222:\ttotal: 144ms\tremaining: 372ms\n",
      "223:\ttotal: 144ms\tremaining: 371ms\n",
      "224:\ttotal: 145ms\tremaining: 370ms\n",
      "225:\ttotal: 145ms\tremaining: 369ms\n",
      "226:\ttotal: 146ms\tremaining: 367ms\n",
      "227:\ttotal: 146ms\tremaining: 366ms\n",
      "228:\ttotal: 146ms\tremaining: 365ms\n",
      "229:\ttotal: 147ms\tremaining: 364ms\n",
      "230:\ttotal: 147ms\tremaining: 363ms\n",
      "231:\ttotal: 148ms\tremaining: 361ms\n",
      "232:\ttotal: 148ms\tremaining: 360ms\n",
      "233:\ttotal: 148ms\tremaining: 359ms\n",
      "234:\ttotal: 149ms\tremaining: 358ms\n",
      "235:\ttotal: 149ms\tremaining: 357ms\n",
      "236:\ttotal: 150ms\tremaining: 356ms\n",
      "237:\ttotal: 150ms\tremaining: 355ms\n",
      "238:\ttotal: 151ms\tremaining: 353ms\n",
      "239:\ttotal: 151ms\tremaining: 352ms\n",
      "240:\ttotal: 151ms\tremaining: 351ms\n",
      "241:\ttotal: 152ms\tremaining: 350ms\n",
      "242:\ttotal: 152ms\tremaining: 349ms\n",
      "243:\ttotal: 153ms\tremaining: 348ms\n",
      "244:\ttotal: 153ms\tremaining: 347ms\n",
      "245:\ttotal: 154ms\tremaining: 346ms\n",
      "246:\ttotal: 154ms\tremaining: 345ms\n",
      "247:\ttotal: 154ms\tremaining: 344ms\n",
      "248:\ttotal: 155ms\tremaining: 343ms\n",
      "249:\ttotal: 155ms\tremaining: 342ms\n",
      "250:\ttotal: 156ms\tremaining: 341ms\n",
      "251:\ttotal: 156ms\tremaining: 340ms\n",
      "252:\ttotal: 157ms\tremaining: 338ms\n",
      "253:\ttotal: 157ms\tremaining: 337ms\n",
      "254:\ttotal: 157ms\tremaining: 336ms\n",
      "255:\ttotal: 158ms\tremaining: 335ms\n",
      "256:\ttotal: 158ms\tremaining: 334ms\n",
      "257:\ttotal: 159ms\tremaining: 333ms\n",
      "258:\ttotal: 159ms\tremaining: 332ms\n",
      "259:\ttotal: 160ms\tremaining: 331ms\n",
      "260:\ttotal: 160ms\tremaining: 330ms\n",
      "261:\ttotal: 160ms\tremaining: 329ms\n",
      "262:\ttotal: 161ms\tremaining: 328ms\n",
      "263:\ttotal: 161ms\tremaining: 327ms\n",
      "264:\ttotal: 162ms\tremaining: 326ms\n",
      "265:\ttotal: 162ms\tremaining: 325ms\n",
      "266:\ttotal: 163ms\tremaining: 324ms\n",
      "267:\ttotal: 163ms\tremaining: 323ms\n",
      "268:\ttotal: 163ms\tremaining: 323ms\n",
      "269:\ttotal: 164ms\tremaining: 322ms\n",
      "270:\ttotal: 164ms\tremaining: 321ms\n",
      "271:\ttotal: 165ms\tremaining: 320ms\n",
      "272:\ttotal: 165ms\tremaining: 319ms\n",
      "273:\ttotal: 166ms\tremaining: 318ms\n",
      "274:\ttotal: 166ms\tremaining: 317ms\n",
      "275:\ttotal: 166ms\tremaining: 316ms\n",
      "276:\ttotal: 167ms\tremaining: 315ms\n",
      "277:\ttotal: 167ms\tremaining: 314ms\n",
      "278:\ttotal: 168ms\tremaining: 313ms\n",
      "279:\ttotal: 168ms\tremaining: 312ms\n",
      "280:\ttotal: 169ms\tremaining: 311ms\n",
      "281:\ttotal: 169ms\tremaining: 310ms\n",
      "282:\ttotal: 169ms\tremaining: 309ms\n",
      "283:\ttotal: 170ms\tremaining: 309ms\n",
      "284:\ttotal: 170ms\tremaining: 308ms\n",
      "285:\ttotal: 171ms\tremaining: 307ms\n",
      "286:\ttotal: 171ms\tremaining: 306ms\n",
      "287:\ttotal: 172ms\tremaining: 305ms\n",
      "288:\ttotal: 172ms\tremaining: 304ms\n",
      "289:\ttotal: 172ms\tremaining: 303ms\n",
      "290:\ttotal: 173ms\tremaining: 302ms\n",
      "291:\ttotal: 173ms\tremaining: 301ms\n",
      "292:\ttotal: 174ms\tremaining: 301ms\n",
      "293:\ttotal: 174ms\tremaining: 300ms\n",
      "294:\ttotal: 175ms\tremaining: 299ms\n",
      "295:\ttotal: 175ms\tremaining: 298ms\n",
      "296:\ttotal: 175ms\tremaining: 297ms\n",
      "297:\ttotal: 176ms\tremaining: 296ms\n",
      "298:\ttotal: 176ms\tremaining: 295ms\n",
      "299:\ttotal: 177ms\tremaining: 294ms\n",
      "300:\ttotal: 177ms\tremaining: 294ms\n",
      "301:\ttotal: 178ms\tremaining: 293ms\n",
      "302:\ttotal: 178ms\tremaining: 292ms\n",
      "303:\ttotal: 178ms\tremaining: 291ms\n",
      "304:\ttotal: 179ms\tremaining: 290ms\n",
      "305:\ttotal: 179ms\tremaining: 289ms\n",
      "306:\ttotal: 180ms\tremaining: 289ms\n",
      "307:\ttotal: 180ms\tremaining: 288ms\n",
      "308:\ttotal: 181ms\tremaining: 287ms\n",
      "309:\ttotal: 181ms\tremaining: 286ms\n",
      "310:\ttotal: 181ms\tremaining: 285ms\n",
      "311:\ttotal: 182ms\tremaining: 284ms\n",
      "312:\ttotal: 182ms\tremaining: 284ms\n",
      "313:\ttotal: 183ms\tremaining: 283ms\n",
      "314:\ttotal: 183ms\tremaining: 282ms\n",
      "315:\ttotal: 183ms\tremaining: 281ms\n",
      "316:\ttotal: 184ms\tremaining: 280ms\n",
      "317:\ttotal: 184ms\tremaining: 279ms\n",
      "318:\ttotal: 185ms\tremaining: 278ms\n",
      "319:\ttotal: 185ms\tremaining: 278ms\n",
      "320:\ttotal: 186ms\tremaining: 277ms\n",
      "321:\ttotal: 186ms\tremaining: 276ms\n",
      "322:\ttotal: 186ms\tremaining: 275ms\n",
      "323:\ttotal: 187ms\tremaining: 274ms\n",
      "324:\ttotal: 187ms\tremaining: 274ms\n",
      "325:\ttotal: 188ms\tremaining: 273ms\n",
      "326:\ttotal: 188ms\tremaining: 272ms\n",
      "327:\ttotal: 188ms\tremaining: 271ms\n",
      "328:\ttotal: 189ms\tremaining: 270ms\n",
      "329:\ttotal: 189ms\tremaining: 270ms\n",
      "330:\ttotal: 190ms\tremaining: 269ms\n",
      "331:\ttotal: 190ms\tremaining: 268ms\n",
      "332:\ttotal: 191ms\tremaining: 267ms\n",
      "333:\ttotal: 191ms\tremaining: 267ms\n",
      "334:\ttotal: 191ms\tremaining: 266ms\n",
      "335:\ttotal: 192ms\tremaining: 265ms\n",
      "336:\ttotal: 192ms\tremaining: 264ms\n",
      "337:\ttotal: 193ms\tremaining: 263ms\n",
      "338:\ttotal: 193ms\tremaining: 263ms\n",
      "339:\ttotal: 194ms\tremaining: 262ms\n",
      "340:\ttotal: 194ms\tremaining: 261ms\n",
      "341:\ttotal: 194ms\tremaining: 260ms\n",
      "342:\ttotal: 195ms\tremaining: 260ms\n",
      "343:\ttotal: 195ms\tremaining: 259ms\n",
      "344:\ttotal: 196ms\tremaining: 258ms\n",
      "345:\ttotal: 196ms\tremaining: 257ms\n",
      "346:\ttotal: 196ms\tremaining: 257ms\n",
      "347:\ttotal: 197ms\tremaining: 256ms\n",
      "348:\ttotal: 197ms\tremaining: 255ms\n",
      "349:\ttotal: 198ms\tremaining: 254ms\n",
      "350:\ttotal: 198ms\tremaining: 253ms\n",
      "351:\ttotal: 199ms\tremaining: 253ms\n",
      "352:\ttotal: 199ms\tremaining: 252ms\n",
      "353:\ttotal: 199ms\tremaining: 251ms\n",
      "354:\ttotal: 200ms\tremaining: 251ms\n",
      "355:\ttotal: 201ms\tremaining: 250ms\n",
      "356:\ttotal: 201ms\tremaining: 249ms\n",
      "357:\ttotal: 201ms\tremaining: 249ms\n",
      "358:\ttotal: 202ms\tremaining: 248ms\n",
      "359:\ttotal: 202ms\tremaining: 247ms\n",
      "360:\ttotal: 203ms\tremaining: 247ms\n",
      "361:\ttotal: 203ms\tremaining: 246ms\n",
      "362:\ttotal: 204ms\tremaining: 245ms\n",
      "363:\ttotal: 204ms\tremaining: 245ms\n",
      "364:\ttotal: 205ms\tremaining: 244ms\n",
      "365:\ttotal: 205ms\tremaining: 244ms\n",
      "366:\ttotal: 206ms\tremaining: 243ms\n",
      "367:\ttotal: 206ms\tremaining: 242ms\n",
      "368:\ttotal: 207ms\tremaining: 241ms\n",
      "369:\ttotal: 207ms\tremaining: 241ms\n",
      "370:\ttotal: 208ms\tremaining: 240ms\n",
      "371:\ttotal: 208ms\tremaining: 239ms\n",
      "372:\ttotal: 208ms\tremaining: 239ms\n",
      "373:\ttotal: 209ms\tremaining: 238ms\n",
      "374:\ttotal: 209ms\tremaining: 237ms\n",
      "375:\ttotal: 210ms\tremaining: 236ms\n",
      "376:\ttotal: 210ms\tremaining: 236ms\n",
      "377:\ttotal: 210ms\tremaining: 235ms\n",
      "378:\ttotal: 211ms\tremaining: 234ms\n",
      "379:\ttotal: 211ms\tremaining: 234ms\n",
      "380:\ttotal: 212ms\tremaining: 233ms\n",
      "381:\ttotal: 212ms\tremaining: 232ms\n",
      "382:\ttotal: 213ms\tremaining: 232ms\n",
      "383:\ttotal: 213ms\tremaining: 231ms\n",
      "384:\ttotal: 213ms\tremaining: 230ms\n",
      "385:\ttotal: 223ms\tremaining: 240ms\n",
      "386:\ttotal: 224ms\tremaining: 239ms\n",
      "387:\ttotal: 224ms\tremaining: 238ms\n",
      "388:\ttotal: 225ms\tremaining: 238ms\n",
      "389:\ttotal: 225ms\tremaining: 237ms\n",
      "390:\ttotal: 226ms\tremaining: 236ms\n",
      "391:\ttotal: 226ms\tremaining: 235ms\n",
      "392:\ttotal: 227ms\tremaining: 235ms\n",
      "393:\ttotal: 227ms\tremaining: 234ms\n",
      "394:\ttotal: 227ms\tremaining: 233ms\n",
      "395:\ttotal: 228ms\tremaining: 232ms\n",
      "396:\ttotal: 228ms\tremaining: 232ms\n",
      "397:\ttotal: 229ms\tremaining: 231ms\n",
      "398:\ttotal: 229ms\tremaining: 230ms\n",
      "399:\ttotal: 230ms\tremaining: 230ms\n",
      "400:\ttotal: 231ms\tremaining: 230ms\n",
      "401:\ttotal: 232ms\tremaining: 229ms\n",
      "402:\ttotal: 232ms\tremaining: 229ms\n",
      "403:\ttotal: 233ms\tremaining: 228ms\n",
      "404:\ttotal: 234ms\tremaining: 228ms\n",
      "405:\ttotal: 234ms\tremaining: 227ms\n",
      "406:\ttotal: 235ms\tremaining: 227ms\n",
      "407:\ttotal: 235ms\tremaining: 226ms\n",
      "408:\ttotal: 236ms\tremaining: 225ms\n",
      "409:\ttotal: 236ms\tremaining: 225ms\n",
      "410:\ttotal: 237ms\tremaining: 224ms\n",
      "411:\ttotal: 237ms\tremaining: 224ms\n",
      "412:\ttotal: 238ms\tremaining: 223ms\n",
      "413:\ttotal: 238ms\tremaining: 222ms\n",
      "414:\ttotal: 239ms\tremaining: 221ms\n",
      "415:\ttotal: 239ms\tremaining: 221ms\n",
      "416:\ttotal: 239ms\tremaining: 220ms\n",
      "417:\ttotal: 240ms\tremaining: 219ms\n",
      "418:\ttotal: 240ms\tremaining: 218ms\n",
      "419:\ttotal: 241ms\tremaining: 218ms\n",
      "420:\ttotal: 241ms\tremaining: 217ms\n",
      "421:\ttotal: 241ms\tremaining: 216ms\n",
      "422:\ttotal: 242ms\tremaining: 215ms\n",
      "423:\ttotal: 242ms\tremaining: 215ms\n",
      "424:\ttotal: 243ms\tremaining: 214ms\n",
      "425:\ttotal: 243ms\tremaining: 213ms\n",
      "426:\ttotal: 243ms\tremaining: 213ms\n",
      "427:\ttotal: 244ms\tremaining: 212ms\n",
      "428:\ttotal: 244ms\tremaining: 211ms\n",
      "429:\ttotal: 245ms\tremaining: 210ms\n",
      "430:\ttotal: 245ms\tremaining: 210ms\n",
      "431:\ttotal: 245ms\tremaining: 209ms\n",
      "432:\ttotal: 246ms\tremaining: 208ms\n",
      "433:\ttotal: 246ms\tremaining: 208ms\n",
      "434:\ttotal: 247ms\tremaining: 207ms\n",
      "435:\ttotal: 247ms\tremaining: 206ms\n",
      "436:\ttotal: 247ms\tremaining: 206ms\n",
      "437:\ttotal: 248ms\tremaining: 205ms\n",
      "438:\ttotal: 248ms\tremaining: 204ms\n",
      "439:\ttotal: 249ms\tremaining: 203ms\n",
      "440:\ttotal: 249ms\tremaining: 203ms\n",
      "441:\ttotal: 250ms\tremaining: 202ms\n",
      "442:\ttotal: 250ms\tremaining: 201ms\n",
      "443:\ttotal: 250ms\tremaining: 201ms\n",
      "444:\ttotal: 251ms\tremaining: 200ms\n",
      "445:\ttotal: 251ms\tremaining: 199ms\n",
      "446:\ttotal: 252ms\tremaining: 199ms\n",
      "447:\ttotal: 252ms\tremaining: 198ms\n",
      "448:\ttotal: 252ms\tremaining: 197ms\n",
      "449:\ttotal: 253ms\tremaining: 197ms\n",
      "450:\ttotal: 253ms\tremaining: 196ms\n",
      "451:\ttotal: 254ms\tremaining: 195ms\n",
      "452:\ttotal: 255ms\tremaining: 195ms\n",
      "453:\ttotal: 255ms\tremaining: 194ms\n",
      "454:\ttotal: 255ms\tremaining: 194ms\n",
      "455:\ttotal: 256ms\tremaining: 193ms\n",
      "456:\ttotal: 256ms\tremaining: 192ms\n",
      "457:\ttotal: 257ms\tremaining: 192ms\n",
      "458:\ttotal: 257ms\tremaining: 191ms\n",
      "459:\ttotal: 257ms\tremaining: 190ms\n",
      "460:\ttotal: 258ms\tremaining: 190ms\n",
      "461:\ttotal: 258ms\tremaining: 189ms\n",
      "462:\ttotal: 259ms\tremaining: 188ms\n",
      "463:\ttotal: 259ms\tremaining: 188ms\n",
      "464:\ttotal: 259ms\tremaining: 187ms\n",
      "465:\ttotal: 260ms\tremaining: 186ms\n",
      "466:\ttotal: 260ms\tremaining: 186ms\n",
      "467:\ttotal: 261ms\tremaining: 185ms\n",
      "468:\ttotal: 261ms\tremaining: 184ms\n",
      "469:\ttotal: 261ms\tremaining: 184ms\n",
      "470:\ttotal: 262ms\tremaining: 183ms\n",
      "471:\ttotal: 262ms\tremaining: 182ms\n",
      "472:\ttotal: 263ms\tremaining: 182ms\n",
      "473:\ttotal: 263ms\tremaining: 181ms\n",
      "474:\ttotal: 264ms\tremaining: 180ms\n",
      "475:\ttotal: 264ms\tremaining: 180ms\n",
      "476:\ttotal: 264ms\tremaining: 179ms\n",
      "477:\ttotal: 265ms\tremaining: 178ms\n",
      "478:\ttotal: 265ms\tremaining: 178ms\n",
      "479:\ttotal: 266ms\tremaining: 177ms\n",
      "480:\ttotal: 266ms\tremaining: 176ms\n",
      "481:\ttotal: 266ms\tremaining: 176ms\n",
      "482:\ttotal: 267ms\tremaining: 175ms\n",
      "483:\ttotal: 267ms\tremaining: 174ms\n",
      "484:\ttotal: 268ms\tremaining: 174ms\n",
      "485:\ttotal: 268ms\tremaining: 173ms\n",
      "486:\ttotal: 268ms\tremaining: 172ms\n",
      "487:\ttotal: 269ms\tremaining: 172ms\n",
      "488:\ttotal: 269ms\tremaining: 171ms\n",
      "489:\ttotal: 270ms\tremaining: 171ms\n",
      "490:\ttotal: 270ms\tremaining: 170ms\n",
      "491:\ttotal: 270ms\tremaining: 169ms\n",
      "492:\ttotal: 271ms\tremaining: 169ms\n",
      "493:\ttotal: 271ms\tremaining: 168ms\n",
      "494:\ttotal: 272ms\tremaining: 167ms\n",
      "495:\ttotal: 272ms\tremaining: 167ms\n",
      "496:\ttotal: 272ms\tremaining: 166ms\n",
      "497:\ttotal: 273ms\tremaining: 165ms\n",
      "498:\ttotal: 273ms\tremaining: 165ms\n",
      "499:\ttotal: 274ms\tremaining: 164ms\n",
      "500:\ttotal: 274ms\tremaining: 164ms\n",
      "501:\ttotal: 275ms\tremaining: 163ms\n",
      "502:\ttotal: 275ms\tremaining: 163ms\n",
      "503:\ttotal: 276ms\tremaining: 162ms\n",
      "504:\ttotal: 276ms\tremaining: 161ms\n",
      "505:\ttotal: 277ms\tremaining: 161ms\n",
      "506:\ttotal: 277ms\tremaining: 160ms\n",
      "507:\ttotal: 277ms\tremaining: 159ms\n",
      "508:\ttotal: 278ms\tremaining: 159ms\n",
      "509:\ttotal: 278ms\tremaining: 158ms\n",
      "510:\ttotal: 279ms\tremaining: 158ms\n",
      "511:\ttotal: 279ms\tremaining: 157ms\n",
      "512:\ttotal: 279ms\tremaining: 156ms\n",
      "513:\ttotal: 280ms\tremaining: 156ms\n",
      "514:\ttotal: 280ms\tremaining: 155ms\n",
      "515:\ttotal: 281ms\tremaining: 154ms\n",
      "516:\ttotal: 281ms\tremaining: 154ms\n",
      "517:\ttotal: 281ms\tremaining: 153ms\n",
      "518:\ttotal: 282ms\tremaining: 153ms\n",
      "519:\ttotal: 282ms\tremaining: 152ms\n",
      "520:\ttotal: 283ms\tremaining: 151ms\n",
      "521:\ttotal: 283ms\tremaining: 151ms\n",
      "522:\ttotal: 283ms\tremaining: 150ms\n",
      "523:\ttotal: 284ms\tremaining: 150ms\n",
      "524:\ttotal: 284ms\tremaining: 149ms\n",
      "525:\ttotal: 285ms\tremaining: 148ms\n",
      "526:\ttotal: 285ms\tremaining: 148ms\n",
      "527:\ttotal: 285ms\tremaining: 147ms\n",
      "528:\ttotal: 286ms\tremaining: 146ms\n",
      "529:\ttotal: 286ms\tremaining: 146ms\n",
      "530:\ttotal: 287ms\tremaining: 145ms\n",
      "531:\ttotal: 287ms\tremaining: 145ms\n",
      "532:\ttotal: 288ms\tremaining: 144ms\n",
      "533:\ttotal: 288ms\tremaining: 143ms\n",
      "534:\ttotal: 288ms\tremaining: 143ms\n",
      "535:\ttotal: 289ms\tremaining: 142ms\n",
      "536:\ttotal: 289ms\tremaining: 142ms\n",
      "537:\ttotal: 290ms\tremaining: 141ms\n",
      "538:\ttotal: 290ms\tremaining: 140ms\n",
      "539:\ttotal: 290ms\tremaining: 140ms\n",
      "540:\ttotal: 291ms\tremaining: 139ms\n",
      "541:\ttotal: 291ms\tremaining: 139ms\n",
      "542:\ttotal: 292ms\tremaining: 138ms\n",
      "543:\ttotal: 292ms\tremaining: 137ms\n",
      "544:\ttotal: 292ms\tremaining: 137ms\n",
      "545:\ttotal: 293ms\tremaining: 136ms\n",
      "546:\ttotal: 293ms\tremaining: 136ms\n",
      "547:\ttotal: 294ms\tremaining: 135ms\n",
      "548:\ttotal: 294ms\tremaining: 134ms\n",
      "549:\ttotal: 295ms\tremaining: 134ms\n",
      "550:\ttotal: 295ms\tremaining: 133ms\n",
      "551:\ttotal: 295ms\tremaining: 133ms\n",
      "552:\ttotal: 296ms\tremaining: 132ms\n",
      "553:\ttotal: 296ms\tremaining: 132ms\n",
      "554:\ttotal: 297ms\tremaining: 131ms\n",
      "555:\ttotal: 297ms\tremaining: 130ms\n",
      "556:\ttotal: 298ms\tremaining: 130ms\n",
      "557:\ttotal: 298ms\tremaining: 129ms\n",
      "558:\ttotal: 299ms\tremaining: 129ms\n",
      "559:\ttotal: 299ms\tremaining: 128ms\n",
      "560:\ttotal: 300ms\tremaining: 128ms\n",
      "561:\ttotal: 300ms\tremaining: 127ms\n",
      "562:\ttotal: 300ms\tremaining: 126ms\n",
      "563:\ttotal: 301ms\tremaining: 126ms\n",
      "564:\ttotal: 301ms\tremaining: 125ms\n",
      "565:\ttotal: 302ms\tremaining: 125ms\n",
      "566:\ttotal: 302ms\tremaining: 124ms\n",
      "567:\ttotal: 303ms\tremaining: 124ms\n",
      "568:\ttotal: 303ms\tremaining: 123ms\n",
      "569:\ttotal: 304ms\tremaining: 122ms\n",
      "570:\ttotal: 304ms\tremaining: 122ms\n",
      "571:\ttotal: 305ms\tremaining: 121ms\n",
      "572:\ttotal: 305ms\tremaining: 121ms\n",
      "573:\ttotal: 305ms\tremaining: 120ms\n",
      "574:\ttotal: 306ms\tremaining: 120ms\n",
      "575:\ttotal: 306ms\tremaining: 119ms\n",
      "576:\ttotal: 307ms\tremaining: 119ms\n",
      "577:\ttotal: 307ms\tremaining: 118ms\n",
      "578:\ttotal: 308ms\tremaining: 117ms\n",
      "579:\ttotal: 308ms\tremaining: 117ms\n",
      "580:\ttotal: 309ms\tremaining: 116ms\n",
      "581:\ttotal: 309ms\tremaining: 116ms\n",
      "582:\ttotal: 309ms\tremaining: 115ms\n",
      "583:\ttotal: 310ms\tremaining: 115ms\n",
      "584:\ttotal: 310ms\tremaining: 114ms\n",
      "585:\ttotal: 311ms\tremaining: 113ms\n",
      "586:\ttotal: 311ms\tremaining: 113ms\n",
      "587:\ttotal: 312ms\tremaining: 112ms\n",
      "588:\ttotal: 312ms\tremaining: 112ms\n",
      "589:\ttotal: 313ms\tremaining: 111ms\n",
      "590:\ttotal: 313ms\tremaining: 111ms\n",
      "591:\ttotal: 313ms\tremaining: 110ms\n",
      "592:\ttotal: 314ms\tremaining: 110ms\n",
      "593:\ttotal: 314ms\tremaining: 109ms\n",
      "594:\ttotal: 315ms\tremaining: 108ms\n",
      "595:\ttotal: 315ms\tremaining: 108ms\n",
      "596:\ttotal: 315ms\tremaining: 107ms\n",
      "597:\ttotal: 316ms\tremaining: 107ms\n",
      "598:\ttotal: 316ms\tremaining: 106ms\n",
      "599:\ttotal: 317ms\tremaining: 106ms\n",
      "600:\ttotal: 317ms\tremaining: 105ms\n",
      "601:\ttotal: 317ms\tremaining: 104ms\n",
      "602:\ttotal: 318ms\tremaining: 104ms\n",
      "603:\ttotal: 318ms\tremaining: 103ms\n",
      "604:\ttotal: 319ms\tremaining: 103ms\n",
      "605:\ttotal: 319ms\tremaining: 102ms\n",
      "606:\ttotal: 320ms\tremaining: 102ms\n",
      "607:\ttotal: 320ms\tremaining: 101ms\n",
      "608:\ttotal: 320ms\tremaining: 101ms\n",
      "609:\ttotal: 321ms\tremaining: 99.9ms\n",
      "610:\ttotal: 321ms\tremaining: 99.4ms\n",
      "611:\ttotal: 322ms\tremaining: 98.8ms\n",
      "612:\ttotal: 322ms\tremaining: 98.3ms\n",
      "613:\ttotal: 323ms\tremaining: 97.7ms\n",
      "614:\ttotal: 323ms\tremaining: 97.2ms\n",
      "615:\ttotal: 323ms\tremaining: 96.6ms\n",
      "616:\ttotal: 324ms\tremaining: 96.1ms\n",
      "617:\ttotal: 324ms\tremaining: 95.5ms\n",
      "618:\ttotal: 325ms\tremaining: 94.9ms\n",
      "619:\ttotal: 325ms\tremaining: 94.4ms\n",
      "620:\ttotal: 326ms\tremaining: 93.8ms\n",
      "621:\ttotal: 326ms\tremaining: 93.3ms\n",
      "622:\ttotal: 326ms\tremaining: 92.7ms\n",
      "623:\ttotal: 327ms\tremaining: 92.2ms\n",
      "624:\ttotal: 327ms\tremaining: 91.6ms\n",
      "625:\ttotal: 328ms\tremaining: 91.1ms\n",
      "626:\ttotal: 328ms\tremaining: 90.5ms\n",
      "627:\ttotal: 328ms\tremaining: 90ms\n",
      "628:\ttotal: 329ms\tremaining: 89.4ms\n",
      "629:\ttotal: 329ms\tremaining: 88.9ms\n",
      "630:\ttotal: 330ms\tremaining: 88.3ms\n",
      "631:\ttotal: 330ms\tremaining: 87.8ms\n",
      "632:\ttotal: 331ms\tremaining: 87.2ms\n",
      "633:\ttotal: 331ms\tremaining: 86.7ms\n",
      "634:\ttotal: 331ms\tremaining: 86.1ms\n",
      "635:\ttotal: 332ms\tremaining: 85.6ms\n",
      "636:\ttotal: 332ms\tremaining: 85ms\n",
      "637:\ttotal: 333ms\tremaining: 84.5ms\n",
      "638:\ttotal: 333ms\tremaining: 83.9ms\n",
      "639:\ttotal: 334ms\tremaining: 83.4ms\n",
      "640:\ttotal: 334ms\tremaining: 82.8ms\n",
      "641:\ttotal: 334ms\tremaining: 82.3ms\n",
      "642:\ttotal: 335ms\tremaining: 81.7ms\n",
      "643:\ttotal: 335ms\tremaining: 81.2ms\n",
      "644:\ttotal: 336ms\tremaining: 80.7ms\n",
      "645:\ttotal: 336ms\tremaining: 80.1ms\n",
      "646:\ttotal: 336ms\tremaining: 79.6ms\n",
      "647:\ttotal: 337ms\tremaining: 79ms\n",
      "648:\ttotal: 337ms\tremaining: 78.5ms\n",
      "649:\ttotal: 338ms\tremaining: 77.9ms\n",
      "650:\ttotal: 338ms\tremaining: 77.4ms\n",
      "651:\ttotal: 339ms\tremaining: 76.9ms\n",
      "652:\ttotal: 339ms\tremaining: 76.3ms\n",
      "653:\ttotal: 339ms\tremaining: 75.8ms\n",
      "654:\ttotal: 340ms\tremaining: 75.2ms\n",
      "655:\ttotal: 340ms\tremaining: 74.7ms\n",
      "656:\ttotal: 341ms\tremaining: 74.2ms\n",
      "657:\ttotal: 341ms\tremaining: 73.6ms\n",
      "658:\ttotal: 342ms\tremaining: 73.1ms\n",
      "659:\ttotal: 342ms\tremaining: 72.6ms\n",
      "660:\ttotal: 342ms\tremaining: 72ms\n",
      "661:\ttotal: 343ms\tremaining: 71.5ms\n",
      "662:\ttotal: 343ms\tremaining: 70.9ms\n",
      "663:\ttotal: 344ms\tremaining: 70.4ms\n",
      "664:\ttotal: 344ms\tremaining: 69.9ms\n",
      "665:\ttotal: 345ms\tremaining: 69.3ms\n",
      "666:\ttotal: 345ms\tremaining: 68.8ms\n",
      "667:\ttotal: 345ms\tremaining: 68.3ms\n",
      "668:\ttotal: 346ms\tremaining: 67.7ms\n",
      "669:\ttotal: 346ms\tremaining: 67.2ms\n",
      "670:\ttotal: 347ms\tremaining: 66.7ms\n",
      "671:\ttotal: 347ms\tremaining: 66.1ms\n",
      "672:\ttotal: 348ms\tremaining: 65.6ms\n",
      "673:\ttotal: 348ms\tremaining: 65.1ms\n",
      "674:\ttotal: 348ms\tremaining: 64.5ms\n",
      "675:\ttotal: 349ms\tremaining: 64ms\n",
      "676:\ttotal: 349ms\tremaining: 63.5ms\n",
      "677:\ttotal: 350ms\tremaining: 62.9ms\n",
      "678:\ttotal: 350ms\tremaining: 62.4ms\n",
      "679:\ttotal: 351ms\tremaining: 61.9ms\n",
      "680:\ttotal: 351ms\tremaining: 61.3ms\n",
      "681:\ttotal: 351ms\tremaining: 60.8ms\n",
      "682:\ttotal: 352ms\tremaining: 60.3ms\n",
      "683:\ttotal: 352ms\tremaining: 59.8ms\n",
      "684:\ttotal: 353ms\tremaining: 59.2ms\n",
      "685:\ttotal: 353ms\tremaining: 58.7ms\n",
      "686:\ttotal: 354ms\tremaining: 58.2ms\n",
      "687:\ttotal: 354ms\tremaining: 57.6ms\n",
      "688:\ttotal: 354ms\tremaining: 57.1ms\n",
      "689:\ttotal: 355ms\tremaining: 56.6ms\n",
      "690:\ttotal: 355ms\tremaining: 56.1ms\n",
      "691:\ttotal: 356ms\tremaining: 55.5ms\n",
      "692:\ttotal: 356ms\tremaining: 55ms\n",
      "693:\ttotal: 357ms\tremaining: 54.5ms\n",
      "694:\ttotal: 357ms\tremaining: 53.9ms\n",
      "695:\ttotal: 358ms\tremaining: 53.4ms\n",
      "696:\ttotal: 358ms\tremaining: 52.9ms\n",
      "697:\ttotal: 358ms\tremaining: 52.4ms\n",
      "698:\ttotal: 359ms\tremaining: 51.9ms\n",
      "699:\ttotal: 359ms\tremaining: 51.3ms\n",
      "700:\ttotal: 360ms\tremaining: 50.8ms\n",
      "701:\ttotal: 360ms\tremaining: 50.3ms\n",
      "702:\ttotal: 361ms\tremaining: 49.8ms\n",
      "703:\ttotal: 361ms\tremaining: 49.2ms\n",
      "704:\ttotal: 361ms\tremaining: 48.7ms\n",
      "705:\ttotal: 362ms\tremaining: 48.2ms\n",
      "706:\ttotal: 362ms\tremaining: 47.7ms\n",
      "707:\ttotal: 363ms\tremaining: 47.1ms\n",
      "708:\ttotal: 363ms\tremaining: 46.6ms\n",
      "709:\ttotal: 364ms\tremaining: 46.1ms\n",
      "710:\ttotal: 364ms\tremaining: 45.6ms\n",
      "711:\ttotal: 364ms\tremaining: 45ms\n",
      "712:\ttotal: 365ms\tremaining: 44.5ms\n",
      "713:\ttotal: 365ms\tremaining: 44ms\n",
      "714:\ttotal: 366ms\tremaining: 43.5ms\n",
      "715:\ttotal: 366ms\tremaining: 43ms\n",
      "716:\ttotal: 367ms\tremaining: 42.4ms\n",
      "717:\ttotal: 367ms\tremaining: 41.9ms\n",
      "718:\ttotal: 367ms\tremaining: 41.4ms\n",
      "719:\ttotal: 368ms\tremaining: 40.9ms\n",
      "720:\ttotal: 368ms\tremaining: 40.4ms\n",
      "721:\ttotal: 369ms\tremaining: 39.8ms\n",
      "722:\ttotal: 369ms\tremaining: 39.3ms\n",
      "723:\ttotal: 370ms\tremaining: 38.8ms\n",
      "724:\ttotal: 370ms\tremaining: 38.3ms\n",
      "725:\ttotal: 371ms\tremaining: 37.8ms\n",
      "726:\ttotal: 371ms\tremaining: 37.2ms\n",
      "727:\ttotal: 371ms\tremaining: 36.7ms\n",
      "728:\ttotal: 372ms\tremaining: 36.2ms\n",
      "729:\ttotal: 372ms\tremaining: 35.7ms\n",
      "730:\ttotal: 373ms\tremaining: 35.2ms\n",
      "731:\ttotal: 373ms\tremaining: 34.7ms\n",
      "732:\ttotal: 374ms\tremaining: 34.1ms\n",
      "733:\ttotal: 374ms\tremaining: 33.6ms\n",
      "734:\ttotal: 374ms\tremaining: 33.1ms\n",
      "735:\ttotal: 375ms\tremaining: 32.6ms\n",
      "736:\ttotal: 375ms\tremaining: 32.1ms\n",
      "737:\ttotal: 376ms\tremaining: 31.6ms\n",
      "738:\ttotal: 376ms\tremaining: 31ms\n",
      "739:\ttotal: 377ms\tremaining: 30.5ms\n",
      "740:\ttotal: 377ms\tremaining: 30ms\n",
      "741:\ttotal: 377ms\tremaining: 29.5ms\n",
      "742:\ttotal: 378ms\tremaining: 29ms\n",
      "743:\ttotal: 378ms\tremaining: 28.5ms\n",
      "744:\ttotal: 379ms\tremaining: 28ms\n",
      "745:\ttotal: 379ms\tremaining: 27.4ms\n",
      "746:\ttotal: 380ms\tremaining: 26.9ms\n",
      "747:\ttotal: 380ms\tremaining: 26.4ms\n",
      "748:\ttotal: 380ms\tremaining: 25.9ms\n",
      "749:\ttotal: 381ms\tremaining: 25.4ms\n",
      "750:\ttotal: 381ms\tremaining: 24.9ms\n",
      "751:\ttotal: 382ms\tremaining: 24.4ms\n",
      "752:\ttotal: 382ms\tremaining: 23.8ms\n",
      "753:\ttotal: 383ms\tremaining: 23.3ms\n",
      "754:\ttotal: 383ms\tremaining: 22.8ms\n",
      "755:\ttotal: 383ms\tremaining: 22.3ms\n",
      "756:\ttotal: 384ms\tremaining: 21.8ms\n",
      "757:\ttotal: 384ms\tremaining: 21.3ms\n",
      "758:\ttotal: 385ms\tremaining: 20.8ms\n",
      "759:\ttotal: 385ms\tremaining: 20.3ms\n",
      "760:\ttotal: 386ms\tremaining: 19.8ms\n",
      "761:\ttotal: 386ms\tremaining: 19.3ms\n",
      "762:\ttotal: 387ms\tremaining: 18.8ms\n",
      "763:\ttotal: 388ms\tremaining: 18.3ms\n",
      "764:\ttotal: 388ms\tremaining: 17.8ms\n",
      "765:\ttotal: 389ms\tremaining: 17.3ms\n",
      "766:\ttotal: 390ms\tremaining: 16.8ms\n",
      "767:\ttotal: 390ms\tremaining: 16.3ms\n",
      "768:\ttotal: 391ms\tremaining: 15.8ms\n",
      "769:\ttotal: 392ms\tremaining: 15.3ms\n",
      "770:\ttotal: 392ms\tremaining: 14.8ms\n",
      "771:\ttotal: 393ms\tremaining: 14.3ms\n",
      "772:\ttotal: 394ms\tremaining: 13.7ms\n",
      "773:\ttotal: 394ms\tremaining: 13.2ms\n",
      "774:\ttotal: 395ms\tremaining: 12.7ms\n",
      "775:\ttotal: 395ms\tremaining: 12.2ms\n",
      "776:\ttotal: 396ms\tremaining: 11.7ms\n",
      "777:\ttotal: 396ms\tremaining: 11.2ms\n",
      "778:\ttotal: 397ms\tremaining: 10.7ms\n",
      "779:\ttotal: 397ms\tremaining: 10.2ms\n",
      "780:\ttotal: 398ms\tremaining: 9.67ms\n",
      "781:\ttotal: 398ms\tremaining: 9.16ms\n",
      "782:\ttotal: 398ms\tremaining: 8.65ms\n",
      "783:\ttotal: 399ms\tremaining: 8.14ms\n",
      "784:\ttotal: 399ms\tremaining: 7.63ms\n",
      "785:\ttotal: 400ms\tremaining: 7.12ms\n",
      "786:\ttotal: 400ms\tremaining: 6.61ms\n",
      "787:\ttotal: 401ms\tremaining: 6.1ms\n",
      "788:\ttotal: 401ms\tremaining: 5.59ms\n",
      "789:\ttotal: 401ms\tremaining: 5.08ms\n",
      "790:\ttotal: 402ms\tremaining: 4.57ms\n",
      "791:\ttotal: 402ms\tremaining: 4.06ms\n",
      "792:\ttotal: 403ms\tremaining: 3.55ms\n",
      "793:\ttotal: 403ms\tremaining: 3.04ms\n",
      "794:\ttotal: 404ms\tremaining: 2.54ms\n",
      "795:\ttotal: 404ms\tremaining: 2.03ms\n",
      "796:\ttotal: 404ms\tremaining: 1.52ms\n",
      "797:\ttotal: 405ms\tremaining: 1.01ms\n",
      "798:\ttotal: 405ms\tremaining: 507us\n",
      "799:\ttotal: 406ms\tremaining: 0us\n"
     ]
    }
   ],
   "source": [
    "# Ajustamos un modelo de clasificación\n",
    "Cat=CatBoost.fit(X_train,y_train)"
   ]
  },
  {
   "cell_type": "code",
   "execution_count": null,
   "metadata": {
    "colab": {},
    "colab_type": "code",
    "id": "Pl0RK3RhlOJ2"
   },
   "outputs": [],
   "source": [
    "# Paso N°04: Predecimos con el algoritmo entrenado sobre el test y evaluamos\n",
    "y_pred_train=Cat.predict(X_train)\n",
    "y_pred_test=Cat.predict(X_test)"
   ]
  },
  {
   "cell_type": "code",
   "execution_count": 109,
   "metadata": {
    "colab": {
     "base_uri": "https://localhost:8080/",
     "height": 323
    },
    "colab_type": "code",
    "executionInfo": {
     "elapsed": 945,
     "status": "ok",
     "timestamp": 1580179071538,
     "user": {
      "displayName": "Carlos Huamani",
      "photoUrl": "https://lh3.googleusercontent.com/a-/AAuE7mD7372GY5BBLuVIR3jFsKLIAKcHcljh8JPi7MOC=s64",
      "userId": "12790110138974186756"
     },
     "user_tz": 300
    },
    "id": "9B-q1pkllOJ4",
    "outputId": "bf23664c-7c85-4ec5-ed6b-82d2769210d1"
   },
   "outputs": [
    {
     "name": "stdout",
     "output_type": "stream",
     "text": [
      "Matriz confusion: Train\n",
      "[[ 59  75]\n",
      " [  6 289]]\n",
      "Matriz confusion: Test\n",
      "[[ 23  35]\n",
      " [  1 126]]\n",
      "Accuracy: Train\n",
      "0.8111888111888111\n",
      "Accuracy: Test\n",
      "0.8054054054054054\n",
      "Precision: Train\n",
      "0.7939560439560439\n",
      "Precision: Test\n",
      "0.782608695652174\n",
      "Recall: Train\n",
      "0.9796610169491525\n",
      "Recall: Test\n",
      "0.9921259842519685\n"
     ]
    }
   ],
   "source": [
    "# Paso N°05: Comparar el valor pronosticado con el valor real\n",
    "\n",
    "from sklearn import metrics as metrics\n",
    "# Matriz de confusion\n",
    "print(\"Matriz confusion: Train\")\n",
    "cm_train = metrics.confusion_matrix(y_train,y_pred_train)\n",
    "print(cm_train)\n",
    "\n",
    "print(\"Matriz confusion: Test\")\n",
    "cm_test = metrics.confusion_matrix(y_test,y_pred_test)\n",
    "print(cm_test)\n",
    "\n",
    "# Accuracy\n",
    "print(\"Accuracy: Train\")\n",
    "accuracy_train=metrics.accuracy_score(y_train,y_pred_train)\n",
    "print(accuracy_train)\n",
    "\n",
    "print(\"Accuracy: Test\")\n",
    "accuracy_test=metrics.accuracy_score(y_test,y_pred_test)\n",
    "print(accuracy_test)\n",
    "\n",
    "# Precision\n",
    "print(\"Precision: Train\")\n",
    "precision_train=metrics.precision_score(y_train,y_pred_train)\n",
    "print(precision_train)\n",
    "\n",
    "print(\"Precision: Test\")\n",
    "precision_test=metrics.precision_score(y_test,y_pred_test)\n",
    "print(precision_test)\n",
    "\n",
    "# Recall\n",
    "print(\"Recall: Train\")\n",
    "recall_train=metrics.recall_score(y_train,y_pred_train)\n",
    "print(recall_train)\n",
    "\n",
    "print(\"Recall: Test\")\n",
    "recall_test=metrics.recall_score(y_test,y_pred_test)\n",
    "print(recall_test)"
   ]
  },
  {
   "cell_type": "code",
   "execution_count": null,
   "metadata": {
    "colab": {},
    "colab_type": "code",
    "id": "u7Q6hoKGlOJ5"
   },
   "outputs": [],
   "source": [
    "##################################################\n",
    "## Implementación de Modelos de Machine Learning\n",
    "##################################################"
   ]
  },
  {
   "cell_type": "code",
   "execution_count": null,
   "metadata": {
    "colab": {},
    "colab_type": "code",
    "id": "cYa4OEHqlOJ7"
   },
   "outputs": [],
   "source": [
    "# Leemos el dataset de implementacion, podria ser una informacion a enivar a campanas\n",
    "implemt = pd.read_csv(\"/content/drive/My Drive/Colab Notebooks/test.csv\") "
   ]
  },
  {
   "cell_type": "code",
   "execution_count": null,
   "metadata": {
    "colab": {},
    "colab_type": "code",
    "id": "e2AKMnbylOJ9"
   },
   "outputs": [],
   "source": [
    "# Todo lo realizado en el dataset de entrenamiento del modelo lo debemos replicar en el dataset de scoring"
   ]
  },
  {
   "cell_type": "code",
   "execution_count": null,
   "metadata": {
    "colab": {},
    "colab_type": "code",
    "id": "kAFi4p57lOJ-"
   },
   "outputs": [],
   "source": [
    "# Imputamos los valores cualitativos por Moda\n",
    "implemt.Gender = implemt.Gender.fillna(\"Male\")\n",
    "implemt.Married = implemt.Married.fillna(\"Yes\")\n",
    "implemt.Self_Employed = implemt.Self_Employed.fillna(\"Yes\")\n",
    "implemt.Credit_History = implemt.Credit_History.fillna(\"1\")\n",
    "implemt.Dependents = implemt.Dependents.fillna(\"0\")"
   ]
  },
  {
   "cell_type": "code",
   "execution_count": null,
   "metadata": {
    "colab": {},
    "colab_type": "code",
    "id": "zPuFU-r9lOKA"
   },
   "outputs": [],
   "source": [
    "# Separamos los features categoricos y los numericos\n",
    "columnas_categoricas = [\"Gender\",\"Married\",\"Education\",\"Self_Employed\",\"Property_Area\",\"Dependents\"]\n",
    "columnas_numericas = [\"ApplicantIncome\",\"CoapplicantIncome\",\"LoanAmount\",\"Loan_Amount_Term\"]"
   ]
  },
  {
   "cell_type": "code",
   "execution_count": 113,
   "metadata": {
    "colab": {
     "base_uri": "https://localhost:8080/",
     "height": 119
    },
    "colab_type": "code",
    "executionInfo": {
     "elapsed": 774,
     "status": "ok",
     "timestamp": 1580179435602,
     "user": {
      "displayName": "Carlos Huamani",
      "photoUrl": "https://lh3.googleusercontent.com/a-/AAuE7mD7372GY5BBLuVIR3jFsKLIAKcHcljh8JPi7MOC=s64",
      "userId": "12790110138974186756"
     },
     "user_tz": 300
    },
    "id": "GqfG980wlOKB",
    "outputId": "014d2bb2-3997-403a-c10e-24ce47fdf531"
   },
   "outputs": [
    {
     "name": "stdout",
     "output_type": "stream",
     "text": [
      "Gender\n",
      "Married\n",
      "Education\n",
      "Self_Employed\n",
      "Property_Area\n",
      "Dependents\n"
     ]
    }
   ],
   "source": [
    "# Preprocesamiento con LabelEncoder\n",
    "from sklearn.preprocessing import LabelEncoder\n",
    "for c in columnas_categoricas:\n",
    "    print(str(c))\n",
    "    le = LabelEncoder()\n",
    "    le.fit(implemt[str(c)])\n",
    "    implemt[str(c)]=le.transform(implemt[str(c)]) "
   ]
  },
  {
   "cell_type": "code",
   "execution_count": null,
   "metadata": {
    "colab": {},
    "colab_type": "code",
    "id": "KyL8t0cHlOKD"
   },
   "outputs": [],
   "source": [
    "# Imputamos los valores cuantitativos por Media o Mediana\n",
    "for c in columnas_numericas:\n",
    "    median = implemt[c].median()\n",
    "    implemt[c].fillna(median, inplace=True)"
   ]
  },
  {
   "cell_type": "code",
   "execution_count": 115,
   "metadata": {
    "colab": {
     "base_uri": "https://localhost:8080/",
     "height": 238
    },
    "colab_type": "code",
    "executionInfo": {
     "elapsed": 616,
     "status": "ok",
     "timestamp": 1580179441427,
     "user": {
      "displayName": "Carlos Huamani",
      "photoUrl": "https://lh3.googleusercontent.com/a-/AAuE7mD7372GY5BBLuVIR3jFsKLIAKcHcljh8JPi7MOC=s64",
      "userId": "12790110138974186756"
     },
     "user_tz": 300
    },
    "id": "3_KHcFqPlOKE",
    "outputId": "417e880e-0875-4a0f-eb37-a6c2531c3169"
   },
   "outputs": [
    {
     "data": {
      "text/plain": [
       "Loan_ID              0\n",
       "Gender               0\n",
       "Married              0\n",
       "Dependents           0\n",
       "Education            0\n",
       "Self_Employed        0\n",
       "ApplicantIncome      0\n",
       "CoapplicantIncome    0\n",
       "LoanAmount           0\n",
       "Loan_Amount_Term     0\n",
       "Credit_History       0\n",
       "Property_Area        0\n",
       "dtype: int64"
      ]
     },
     "execution_count": 115,
     "metadata": {
      "tags": []
     },
     "output_type": "execute_result"
    }
   ],
   "source": [
    "implemt.isnull().sum()"
   ]
  },
  {
   "cell_type": "code",
   "execution_count": null,
   "metadata": {
    "colab": {},
    "colab_type": "code",
    "id": "dJuwWLI1lOKH"
   },
   "outputs": [],
   "source": [
    "#implemt.ApplicantIncome.value_counts()"
   ]
  },
  {
   "cell_type": "code",
   "execution_count": null,
   "metadata": {
    "colab": {},
    "colab_type": "code",
    "id": "TEjT5LhklOKJ"
   },
   "outputs": [],
   "source": [
    "# Ingenieria de datos\n",
    "#Creamos las mismas variables que utilizamos en el train\n",
    "implemt['TotalIncome']    = implemt['ApplicantIncome'] + implemt['CoapplicantIncome']\n",
    "implemt['Log_LoanAmount'] = round(np.log(implemt['LoanAmount']+1),2)"
   ]
  },
  {
   "cell_type": "code",
   "execution_count": null,
   "metadata": {
    "colab": {},
    "colab_type": "code",
    "id": "hyYerCxllOKK"
   },
   "outputs": [],
   "source": [
    "implemt['AmountxTerm']    = round(implemt['LoanAmount']/implemt['Loan_Amount_Term'],2)\n",
    "implemt[\"Cuota_Ingreso1\"] = (1000*implemt[\"LoanAmount\"]/implemt[\"Loan_Amount_Term\"])/(implemt[\"ApplicantIncome\"] +1)\n",
    "implemt[\"Cuota_Ingreso2\"] = (1000*implemt[\"LoanAmount\"]/implemt[\"Loan_Amount_Term\"])/(implemt[\"TotalIncome\"] +1)\n",
    "implemt[\"Cuota_Ingreso_Hijo\"] = (1000*implemt[\"LoanAmount\"]/implemt[\"Loan_Amount_Term\"])/(implemt[\"TotalIncome\"]/(implemt[\"Dependents\"]+1))\n"
   ]
  },
  {
   "cell_type": "code",
   "execution_count": null,
   "metadata": {
    "colab": {},
    "colab_type": "code",
    "id": "m14jjBKklOKL"
   },
   "outputs": [],
   "source": [
    "## Una vez que tenemos todas las variables podemos scorear o puntuar los registros"
   ]
  },
  {
   "cell_type": "code",
   "execution_count": 120,
   "metadata": {
    "colab": {
     "base_uri": "https://localhost:8080/",
     "height": 100
    },
    "colab_type": "code",
    "executionInfo": {
     "elapsed": 749,
     "status": "ok",
     "timestamp": 1580179446057,
     "user": {
      "displayName": "Carlos Huamani",
      "photoUrl": "https://lh3.googleusercontent.com/a-/AAuE7mD7372GY5BBLuVIR3jFsKLIAKcHcljh8JPi7MOC=s64",
      "userId": "12790110138974186756"
     },
     "user_tz": 300
    },
    "id": "gwY3CIBhlOKN",
    "outputId": "3116518b-f8b4-4a65-9e6e-03faef68e4cd"
   },
   "outputs": [
    {
     "data": {
      "text/html": [
       "<div>\n",
       "<style scoped>\n",
       "    .dataframe tbody tr th:only-of-type {\n",
       "        vertical-align: middle;\n",
       "    }\n",
       "\n",
       "    .dataframe tbody tr th {\n",
       "        vertical-align: top;\n",
       "    }\n",
       "\n",
       "    .dataframe thead th {\n",
       "        text-align: right;\n",
       "    }\n",
       "</style>\n",
       "<table border=\"1\" class=\"dataframe\">\n",
       "  <thead>\n",
       "    <tr style=\"text-align: right;\">\n",
       "      <th></th>\n",
       "      <th>Loan_ID</th>\n",
       "      <th>Gender</th>\n",
       "      <th>Married</th>\n",
       "      <th>Dependents</th>\n",
       "      <th>Education</th>\n",
       "      <th>Self_Employed</th>\n",
       "      <th>ApplicantIncome</th>\n",
       "      <th>CoapplicantIncome</th>\n",
       "      <th>LoanAmount</th>\n",
       "      <th>Loan_Amount_Term</th>\n",
       "      <th>Credit_History</th>\n",
       "      <th>Property_Area</th>\n",
       "      <th>TotalIncome</th>\n",
       "      <th>Log_LoanAmount</th>\n",
       "      <th>AmountxTerm</th>\n",
       "      <th>Cuota_Ingreso1</th>\n",
       "      <th>Cuota_Ingreso2</th>\n",
       "      <th>Cuota_Ingreso_Hijo</th>\n",
       "    </tr>\n",
       "  </thead>\n",
       "  <tbody>\n",
       "    <tr>\n",
       "      <th>0</th>\n",
       "      <td>LP001015</td>\n",
       "      <td>1</td>\n",
       "      <td>1</td>\n",
       "      <td>0</td>\n",
       "      <td>0</td>\n",
       "      <td>0</td>\n",
       "      <td>5720</td>\n",
       "      <td>0</td>\n",
       "      <td>110.0</td>\n",
       "      <td>360.0</td>\n",
       "      <td>1</td>\n",
       "      <td>2</td>\n",
       "      <td>5720</td>\n",
       "      <td>4.71</td>\n",
       "      <td>0.31</td>\n",
       "      <td>0.053409</td>\n",
       "      <td>0.053409</td>\n",
       "      <td>0.053419</td>\n",
       "    </tr>\n",
       "  </tbody>\n",
       "</table>\n",
       "</div>"
      ],
      "text/plain": [
       "    Loan_ID  Gender  ...  Cuota_Ingreso2  Cuota_Ingreso_Hijo\n",
       "0  LP001015       1  ...        0.053409            0.053419\n",
       "\n",
       "[1 rows x 18 columns]"
      ]
     },
     "execution_count": 120,
     "metadata": {
      "tags": []
     },
     "output_type": "execute_result"
    }
   ],
   "source": [
    "implemt.head(1)"
   ]
  },
  {
   "cell_type": "code",
   "execution_count": 121,
   "metadata": {
    "colab": {
     "base_uri": "https://localhost:8080/",
     "height": 199
    },
    "colab_type": "code",
    "executionInfo": {
     "elapsed": 645,
     "status": "error",
     "timestamp": 1580179449785,
     "user": {
      "displayName": "Carlos Huamani",
      "photoUrl": "https://lh3.googleusercontent.com/a-/AAuE7mD7372GY5BBLuVIR3jFsKLIAKcHcljh8JPi7MOC=s64",
      "userId": "12790110138974186756"
     },
     "user_tz": 300
    },
    "id": "2pEGJxIolOKO",
    "outputId": "605882f6-875a-4f93-c652-1c48e8bafea7"
   },
   "outputs": [
    {
     "ename": "FileNotFoundError",
     "evalue": "ignored",
     "output_type": "error",
     "traceback": [
      "\u001b[0;31m---------------------------------------------------------------------------\u001b[0m",
      "\u001b[0;31mFileNotFoundError\u001b[0m                         Traceback (most recent call last)",
      "\u001b[0;32m<ipython-input-121-4424c084af00>\u001b[0m in \u001b[0;36m<module>\u001b[0;34m()\u001b[0m\n\u001b[1;32m      2\u001b[0m \u001b[0mfilename\u001b[0m \u001b[0;34m=\u001b[0m \u001b[0;34m'RegLogistica.sav'\u001b[0m \u001b[0;31m# El nombre con el que leemos debe ser el mismo al\u001b[0m\u001b[0;34m\u001b[0m\u001b[0;34m\u001b[0m\u001b[0m\n\u001b[1;32m      3\u001b[0m \u001b[0;31m# nombre guardado\u001b[0m\u001b[0;34m\u001b[0m\u001b[0;34m\u001b[0m\u001b[0;34m\u001b[0m\u001b[0m\n\u001b[0;32m----> 4\u001b[0;31m \u001b[0mRegresionLogistica\u001b[0m \u001b[0;34m=\u001b[0m \u001b[0mpickle\u001b[0m\u001b[0;34m.\u001b[0m\u001b[0mload\u001b[0m\u001b[0;34m(\u001b[0m\u001b[0mopen\u001b[0m\u001b[0;34m(\u001b[0m\u001b[0mfilename\u001b[0m\u001b[0;34m,\u001b[0m \u001b[0;34m'rb'\u001b[0m\u001b[0;34m)\u001b[0m\u001b[0;34m)\u001b[0m\u001b[0;34m\u001b[0m\u001b[0;34m\u001b[0m\u001b[0m\n\u001b[0m",
      "\u001b[0;31mFileNotFoundError\u001b[0m: [Errno 2] No such file or directory: 'RegLogistica.sav'"
     ]
    }
   ],
   "source": [
    "# Leemos el algoritmo o modelo entrenado\n",
    "import pickle\n",
    "filename = 'RegLogistica.sav' # El nombre con el que leemos debe ser el mismo al \n",
    "# nombre guardado\n",
    "RegresionLogistica = pickle.load(open(filename, 'rb'))"
   ]
  },
  {
   "cell_type": "code",
   "execution_count": null,
   "metadata": {
    "colab": {},
    "colab_type": "code",
    "id": "UkHu2EYflOKQ"
   },
   "outputs": [],
   "source": [
    "df_scoring = implemt.drop(\"Loan_ID\",axis=1)"
   ]
  },
  {
   "cell_type": "code",
   "execution_count": 123,
   "metadata": {
    "colab": {
     "base_uri": "https://localhost:8080/",
     "height": 323
    },
    "colab_type": "code",
    "executionInfo": {
     "elapsed": 555,
     "status": "ok",
     "timestamp": 1580179474463,
     "user": {
      "displayName": "Carlos Huamani",
      "photoUrl": "https://lh3.googleusercontent.com/a-/AAuE7mD7372GY5BBLuVIR3jFsKLIAKcHcljh8JPi7MOC=s64",
      "userId": "12790110138974186756"
     },
     "user_tz": 300
    },
    "id": "ZqTK3e4AlOKT",
    "outputId": "ecd3f9ba-ee3d-426b-bfe1-42edc543b8e6"
   },
   "outputs": [
    {
     "data": {
      "text/plain": [
       "Gender                0\n",
       "Married               0\n",
       "Dependents            0\n",
       "Education             0\n",
       "Self_Employed         0\n",
       "ApplicantIncome       0\n",
       "CoapplicantIncome     0\n",
       "LoanAmount            0\n",
       "Loan_Amount_Term      0\n",
       "Credit_History        0\n",
       "Property_Area         0\n",
       "TotalIncome           0\n",
       "Log_LoanAmount        0\n",
       "AmountxTerm           0\n",
       "Cuota_Ingreso1        0\n",
       "Cuota_Ingreso2        0\n",
       "Cuota_Ingreso_Hijo    0\n",
       "dtype: int64"
      ]
     },
     "execution_count": 123,
     "metadata": {
      "tags": []
     },
     "output_type": "execute_result"
    }
   ],
   "source": [
    "df_scoring.isnull().sum()"
   ]
  },
  {
   "cell_type": "code",
   "execution_count": null,
   "metadata": {
    "colab": {},
    "colab_type": "code",
    "id": "MmRmRq5ZlOKV"
   },
   "outputs": [],
   "source": [
    "df_scoring.Credit_History = df_scoring.Credit_History.astype('int')"
   ]
  },
  {
   "cell_type": "code",
   "execution_count": 125,
   "metadata": {
    "colab": {
     "base_uri": "https://localhost:8080/",
     "height": 34
    },
    "colab_type": "code",
    "executionInfo": {
     "elapsed": 426,
     "status": "ok",
     "timestamp": 1580179479623,
     "user": {
      "displayName": "Carlos Huamani",
      "photoUrl": "https://lh3.googleusercontent.com/a-/AAuE7mD7372GY5BBLuVIR3jFsKLIAKcHcljh8JPi7MOC=s64",
      "userId": "12790110138974186756"
     },
     "user_tz": 300
    },
    "id": "UanC-nvYlOKY",
    "outputId": "a737ba9c-3ace-4a9a-f31b-4fe0dccf7b13"
   },
   "outputs": [
    {
     "data": {
      "text/plain": [
       "(367, 17)"
      ]
     },
     "execution_count": 125,
     "metadata": {
      "tags": []
     },
     "output_type": "execute_result"
    }
   ],
   "source": [
    "df_scoring.shape"
   ]
  },
  {
   "cell_type": "code",
   "execution_count": null,
   "metadata": {
    "colab": {},
    "colab_type": "code",
    "id": "B3x6jAMrlOKZ"
   },
   "outputs": [],
   "source": [
    "# Predecimos con la data nueva\n",
    "y_scoring = Cat.predict(df_scoring)"
   ]
  },
  {
   "cell_type": "code",
   "execution_count": null,
   "metadata": {
    "colab": {},
    "colab_type": "code",
    "id": "fDboOXeYlOKb"
   },
   "outputs": [],
   "source": [
    "# Convertir la probabilidad en clase\n",
    "for i in range(0,367):\n",
    "    if y_scoring[i]>=0.50:\n",
    "        y_scoring[i]=1\n",
    "    else:\n",
    "        y_scoring[i]=0"
   ]
  },
  {
   "cell_type": "code",
   "execution_count": 144,
   "metadata": {
    "colab": {
     "base_uri": "https://localhost:8080/",
     "height": 391
    },
    "colab_type": "code",
    "executionInfo": {
     "elapsed": 469,
     "status": "ok",
     "timestamp": 1580179715648,
     "user": {
      "displayName": "Carlos Huamani",
      "photoUrl": "https://lh3.googleusercontent.com/a-/AAuE7mD7372GY5BBLuVIR3jFsKLIAKcHcljh8JPi7MOC=s64",
      "userId": "12790110138974186756"
     },
     "user_tz": 300
    },
    "id": "GR5qJ1L3DIZY",
    "outputId": "5bb15ed7-7491-410b-b2c3-b455b30ea3ef"
   },
   "outputs": [
    {
     "data": {
      "text/plain": [
       "array([1., 1., 1., 1., 1., 1., 1., 0., 1., 1., 1., 1., 1., 0., 1., 1., 1.,\n",
       "       1., 1., 1., 1., 1., 1., 1., 1., 0., 1., 1., 1., 1., 1., 1., 1., 1.,\n",
       "       1., 0., 1., 1., 1., 1., 1., 1., 1., 1., 1., 1., 1., 1., 1., 1., 1.,\n",
       "       1., 1., 1., 1., 0., 1., 1., 0., 1., 1., 1., 1., 0., 1., 1., 0., 0.,\n",
       "       1., 0., 1., 1., 1., 1., 1., 1., 1., 1., 1., 1., 0., 1., 0., 1., 0.,\n",
       "       1., 1., 1., 1., 1., 1., 1., 1., 1., 0., 1., 1., 1., 1., 1., 1., 0.,\n",
       "       1., 1., 1., 1., 0., 1., 1., 1., 1., 1., 1., 1., 1., 1., 1., 0., 0.,\n",
       "       0., 1., 1., 1., 0., 0., 1., 0., 1., 1., 1., 1., 1., 1., 1., 1., 1.,\n",
       "       1., 1., 1., 1., 0., 1., 0., 1., 1., 1., 1., 0., 1., 1., 1., 1., 1.,\n",
       "       0., 1., 1., 1., 1., 1., 1., 1., 0., 1., 1., 1., 0., 0., 1., 0., 1.,\n",
       "       1., 1., 1., 0., 0., 1., 1., 1., 1., 1., 1., 1., 1., 1., 1., 1., 1.,\n",
       "       1., 1., 1., 1., 1., 0., 0., 1., 1., 0., 1., 0., 1., 1., 1., 1., 1.,\n",
       "       1., 1., 1., 1., 1., 1., 1., 0., 1., 1., 1., 1., 1., 1., 1., 1., 1.,\n",
       "       1., 1., 1., 0., 1., 1., 1., 1., 0., 1., 1., 1., 1., 1., 0., 0., 1.,\n",
       "       1., 1., 1., 0., 1., 0., 1., 0., 1., 1., 1., 1., 0., 1., 1., 1., 1.,\n",
       "       0., 1., 1., 1., 1., 1., 1., 1., 1., 1., 1., 0., 1., 0., 1., 1., 1.,\n",
       "       1., 0., 0., 1., 1., 1., 0., 1., 1., 1., 1., 1., 1., 1., 1., 1., 1.,\n",
       "       1., 1., 1., 1., 0., 1., 1., 1., 1., 1., 1., 1., 0., 1., 1., 1., 1.,\n",
       "       1., 1., 1., 1., 1., 0., 1., 1., 1., 1., 1., 0., 1., 1., 1., 1., 1.,\n",
       "       1., 1., 0., 1., 1., 1., 1., 1., 1., 1., 1., 1., 1., 1., 1., 1., 0.,\n",
       "       1., 1., 1., 1., 1., 1., 0., 1., 1., 1., 1., 1., 1., 1., 0., 1., 1.,\n",
       "       1., 1., 1., 1., 1., 1., 1., 1., 1., 1.])"
      ]
     },
     "execution_count": 144,
     "metadata": {
      "tags": []
     },
     "output_type": "execute_result"
    }
   ],
   "source": [
    "y_scoring"
   ]
  },
  {
   "cell_type": "code",
   "execution_count": null,
   "metadata": {
    "colab": {},
    "colab_type": "code",
    "id": "8e4VLgGRlOKc"
   },
   "outputs": [],
   "source": [
    "# Predecimos sobre el set de datos de implementacion con el modelo entrenado\n",
    "#y_scoring = RegLog.predict(df_scoring) # Predecimos sobre nuevos clientes o clientes sin la variable dependiente VD\n",
    "# Juntamos el ID con la clase\n",
    "data = np.hstack((implemt['Loan_ID'].values.reshape(-1,1), y_scoring.reshape(-1,1)))\n",
    "# Le asignamos nombres a las columnas\n",
    "df_submmit = pd.DataFrame(data, columns=['Loan_ID','Loan_Status'])\n",
    "# Convertimos al formato solicitado por Analytics Vidhya\n",
    "df_submmit['Loan_Status']=[\"Y\" if i == 1 else \"N\" for i in df_submmit['Loan_Status']]\n",
    "# Exportamos la solucion\n",
    "df_submmit.to_csv('/content/drive/My Drive/Colab Notebooks/Sol_Cat.csv', index=False)"
   ]
  },
  {
   "cell_type": "code",
   "execution_count": null,
   "metadata": {
    "colab": {},
    "colab_type": "code",
    "id": "R7CMgoiIlOKd"
   },
   "outputs": [],
   "source": [
    "# Listo , objetivo cumplido"
   ]
  },
  {
   "cell_type": "code",
   "execution_count": null,
   "metadata": {
    "colab": {},
    "colab_type": "code",
    "id": "csotUKFdlOKf"
   },
   "outputs": [],
   "source": [
    "# Fin !!"
   ]
  },
  {
   "cell_type": "code",
   "execution_count": null,
   "metadata": {
    "colab": {},
    "colab_type": "code",
    "id": "cgRyyfoBDjbZ"
   },
   "outputs": [],
   "source": []
  }
 ],
 "metadata": {
  "colab": {
   "collapsed_sections": [],
   "name": "Sesion04-AlgoritmosEnsambleBoosting.ipynb",
   "provenance": []
  },
  "kernelspec": {
   "display_name": "Python 3",
   "language": "python",
   "name": "python3"
  },
  "language_info": {
   "codemirror_mode": {
    "name": "ipython",
    "version": 3
   },
   "file_extension": ".py",
   "mimetype": "text/x-python",
   "name": "python",
   "nbconvert_exporter": "python",
   "pygments_lexer": "ipython3",
   "version": "3.7.3"
  },
  "toc": {
   "base_numbering": 1,
   "nav_menu": {},
   "number_sections": true,
   "sideBar": true,
   "skip_h1_title": false,
   "title_cell": "Table of Contents",
   "title_sidebar": "Contents",
   "toc_cell": false,
   "toc_position": {
    "height": "calc(100% - 180px)",
    "left": "10px",
    "top": "150px",
    "width": "165px"
   },
   "toc_section_display": true,
   "toc_window_display": false
  },
  "varInspector": {
   "cols": {
    "lenName": 16,
    "lenType": 16,
    "lenVar": 40
   },
   "kernels_config": {
    "python": {
     "delete_cmd_postfix": "",
     "delete_cmd_prefix": "del ",
     "library": "var_list.py",
     "varRefreshCmd": "print(var_dic_list())"
    },
    "r": {
     "delete_cmd_postfix": ") ",
     "delete_cmd_prefix": "rm(",
     "library": "var_list.r",
     "varRefreshCmd": "cat(var_dic_list()) "
    }
   },
   "types_to_exclude": [
    "module",
    "function",
    "builtin_function_or_method",
    "instance",
    "_Feature"
   ],
   "window_display": false
  }
 },
 "nbformat": 4,
 "nbformat_minor": 2
}
