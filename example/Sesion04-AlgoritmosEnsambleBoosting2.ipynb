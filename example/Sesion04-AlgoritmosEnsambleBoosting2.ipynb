{
 "cells": [
  {
   "cell_type": "code",
   "execution_count": null,
   "metadata": {
    "colab": {},
    "colab_type": "code",
    "id": "X17clgGjyP4B"
   },
   "outputs": [],
   "source": [
    "#########################################################################\n",
    "############------- Machine Learning Inmersion ------------######################\n",
    "#########################################################################\n",
    "# Capacitador: André Omar Chávez Panduro\n",
    "# email: andrecp38@gmail.com / andre.chavez@urp.edu.pe\n",
    "# Sesion05 : Ensamble - Boosting de Algoritmos de Machine Learning - BalanceoDatos\n",
    "# version: 1.0\n",
    "#########################################################################"
   ]
  },
  {
   "cell_type": "code",
   "execution_count": 1,
   "metadata": {
    "colab": {
     "base_uri": "https://localhost:8080/",
     "height": 119
    },
    "colab_type": "code",
    "executionInfo": {
     "elapsed": 8569,
     "status": "ok",
     "timestamp": 1580343711055,
     "user": {
      "displayName": "Carlos Huamani",
      "photoUrl": "https://lh3.googleusercontent.com/a-/AAuE7mD7372GY5BBLuVIR3jFsKLIAKcHcljh8JPi7MOC=s64",
      "userId": "12790110138974186756"
     },
     "user_tz": 300
    },
    "id": "OTYSdPSayP4g",
    "outputId": "3ed2fa84-0346-4c4f-9a9d-bc3a228b03c7"
   },
   "outputs": [
    {
     "name": "stdout",
     "output_type": "stream",
     "text": [
      "Requirement already satisfied: imblearn in /usr/local/lib/python3.6/dist-packages (0.0)\n",
      "Requirement already satisfied: imbalanced-learn in /usr/local/lib/python3.6/dist-packages (from imblearn) (0.4.3)\n",
      "Requirement already satisfied: numpy>=1.8.2 in /usr/local/lib/python3.6/dist-packages (from imbalanced-learn->imblearn) (1.17.5)\n",
      "Requirement already satisfied: scipy>=0.13.3 in /usr/local/lib/python3.6/dist-packages (from imbalanced-learn->imblearn) (1.4.1)\n",
      "Requirement already satisfied: scikit-learn>=0.20 in /usr/local/lib/python3.6/dist-packages (from imbalanced-learn->imblearn) (0.22.1)\n",
      "Requirement already satisfied: joblib>=0.11 in /usr/local/lib/python3.6/dist-packages (from scikit-learn>=0.20->imbalanced-learn->imblearn) (0.14.1)\n"
     ]
    }
   ],
   "source": [
    "! pip install --user imblearn"
   ]
  },
  {
   "cell_type": "code",
   "execution_count": null,
   "metadata": {
    "colab": {},
    "colab_type": "code",
    "id": "ZHO7RmId1uv0"
   },
   "outputs": [],
   "source": [
    "from google.colab import drive\n",
    "drive.mount('/content/drive')"
   ]
  },
  {
   "cell_type": "markdown",
   "metadata": {
    "colab_type": "text",
    "id": "e7lkILxryP4l"
   },
   "source": [
    "![image.png](attachment:image.png)"
   ]
  },
  {
   "cell_type": "code",
   "execution_count": null,
   "metadata": {
    "colab": {},
    "colab_type": "code",
    "id": "o3JyzWuQyP4m"
   },
   "outputs": [],
   "source": [
    "##################################################\n",
    "## Desarrollo de Modelos de Machine Learning\n",
    "##################################################"
   ]
  },
  {
   "cell_type": "code",
   "execution_count": null,
   "metadata": {
    "colab": {},
    "colab_type": "code",
    "id": "OjaPttWQyP4p"
   },
   "outputs": [],
   "source": [
    "## Leemos las librerias necesarias para poder trabajar"
   ]
  },
  {
   "cell_type": "code",
   "execution_count": null,
   "metadata": {
    "colab": {},
    "colab_type": "code",
    "id": "WgBQlSXYyP4t"
   },
   "outputs": [],
   "source": [
    "#Importar las librerías necesarias en Python.\n",
    "import pandas as pd ## Manejo de dataframes o set de datos\n",
    "import warnings\n",
    "warnings.filterwarnings(\"ignore\")\n",
    "import numpy as np ## Todo lo referente a trabajar con vectores y matrices\n",
    "from scipy import stats ## Herramientas y algoritmos matemáticos para python"
   ]
  },
  {
   "cell_type": "code",
   "execution_count": null,
   "metadata": {
    "colab": {},
    "colab_type": "code",
    "id": "KfHxasxwyP4y"
   },
   "outputs": [],
   "source": [
    "## Leemos los datos o el dataset a trabajar"
   ]
  },
  {
   "cell_type": "code",
   "execution_count": null,
   "metadata": {
    "colab": {},
    "colab_type": "code",
    "id": "fUPqRBotyP42"
   },
   "outputs": [],
   "source": [
    "# Leemos la data de desarrollo de modeolos\n",
    "desarrll = pd.read_csv(\"C:/Users/Andre Chavez/Desktop/Data/train.csv\") \n",
    "# Leer el dataset en un dataframe usando pandas"
   ]
  },
  {
   "cell_type": "code",
   "execution_count": null,
   "metadata": {
    "colab": {},
    "colab_type": "code",
    "id": "DIF3qjdUyP45",
    "outputId": "0a45be75-0fe0-4b77-c092-eac113295ead"
   },
   "outputs": [
    {
     "data": {
      "text/html": [
       "<div>\n",
       "<style scoped>\n",
       "    .dataframe tbody tr th:only-of-type {\n",
       "        vertical-align: middle;\n",
       "    }\n",
       "\n",
       "    .dataframe tbody tr th {\n",
       "        vertical-align: top;\n",
       "    }\n",
       "\n",
       "    .dataframe thead th {\n",
       "        text-align: right;\n",
       "    }\n",
       "</style>\n",
       "<table border=\"1\" class=\"dataframe\">\n",
       "  <thead>\n",
       "    <tr style=\"text-align: right;\">\n",
       "      <th></th>\n",
       "      <th>Loan_ID</th>\n",
       "      <th>Gender</th>\n",
       "      <th>Married</th>\n",
       "      <th>Dependents</th>\n",
       "      <th>Education</th>\n",
       "      <th>Self_Employed</th>\n",
       "      <th>ApplicantIncome</th>\n",
       "      <th>CoapplicantIncome</th>\n",
       "      <th>LoanAmount</th>\n",
       "      <th>Loan_Amount_Term</th>\n",
       "      <th>Credit_History</th>\n",
       "      <th>Property_Area</th>\n",
       "      <th>Loan_Status</th>\n",
       "    </tr>\n",
       "  </thead>\n",
       "  <tbody>\n",
       "    <tr>\n",
       "      <th>0</th>\n",
       "      <td>LP001002</td>\n",
       "      <td>Male</td>\n",
       "      <td>No</td>\n",
       "      <td>0</td>\n",
       "      <td>Graduate</td>\n",
       "      <td>No</td>\n",
       "      <td>5849</td>\n",
       "      <td>0.0</td>\n",
       "      <td>NaN</td>\n",
       "      <td>360.0</td>\n",
       "      <td>1.0</td>\n",
       "      <td>Urban</td>\n",
       "      <td>Y</td>\n",
       "    </tr>\n",
       "    <tr>\n",
       "      <th>1</th>\n",
       "      <td>LP001003</td>\n",
       "      <td>Male</td>\n",
       "      <td>Yes</td>\n",
       "      <td>1</td>\n",
       "      <td>Graduate</td>\n",
       "      <td>No</td>\n",
       "      <td>4583</td>\n",
       "      <td>1508.0</td>\n",
       "      <td>128.0</td>\n",
       "      <td>360.0</td>\n",
       "      <td>1.0</td>\n",
       "      <td>Rural</td>\n",
       "      <td>N</td>\n",
       "    </tr>\n",
       "    <tr>\n",
       "      <th>2</th>\n",
       "      <td>LP001005</td>\n",
       "      <td>Male</td>\n",
       "      <td>Yes</td>\n",
       "      <td>0</td>\n",
       "      <td>Graduate</td>\n",
       "      <td>Yes</td>\n",
       "      <td>3000</td>\n",
       "      <td>0.0</td>\n",
       "      <td>66.0</td>\n",
       "      <td>360.0</td>\n",
       "      <td>1.0</td>\n",
       "      <td>Urban</td>\n",
       "      <td>Y</td>\n",
       "    </tr>\n",
       "    <tr>\n",
       "      <th>3</th>\n",
       "      <td>LP001006</td>\n",
       "      <td>Male</td>\n",
       "      <td>Yes</td>\n",
       "      <td>0</td>\n",
       "      <td>Not Graduate</td>\n",
       "      <td>No</td>\n",
       "      <td>2583</td>\n",
       "      <td>2358.0</td>\n",
       "      <td>120.0</td>\n",
       "      <td>360.0</td>\n",
       "      <td>1.0</td>\n",
       "      <td>Urban</td>\n",
       "      <td>Y</td>\n",
       "    </tr>\n",
       "    <tr>\n",
       "      <th>4</th>\n",
       "      <td>LP001008</td>\n",
       "      <td>Male</td>\n",
       "      <td>No</td>\n",
       "      <td>0</td>\n",
       "      <td>Graduate</td>\n",
       "      <td>No</td>\n",
       "      <td>6000</td>\n",
       "      <td>0.0</td>\n",
       "      <td>141.0</td>\n",
       "      <td>360.0</td>\n",
       "      <td>1.0</td>\n",
       "      <td>Urban</td>\n",
       "      <td>Y</td>\n",
       "    </tr>\n",
       "    <tr>\n",
       "      <th>5</th>\n",
       "      <td>LP001011</td>\n",
       "      <td>Male</td>\n",
       "      <td>Yes</td>\n",
       "      <td>2</td>\n",
       "      <td>Graduate</td>\n",
       "      <td>Yes</td>\n",
       "      <td>5417</td>\n",
       "      <td>4196.0</td>\n",
       "      <td>267.0</td>\n",
       "      <td>360.0</td>\n",
       "      <td>1.0</td>\n",
       "      <td>Urban</td>\n",
       "      <td>Y</td>\n",
       "    </tr>\n",
       "    <tr>\n",
       "      <th>6</th>\n",
       "      <td>LP001013</td>\n",
       "      <td>Male</td>\n",
       "      <td>Yes</td>\n",
       "      <td>0</td>\n",
       "      <td>Not Graduate</td>\n",
       "      <td>No</td>\n",
       "      <td>2333</td>\n",
       "      <td>1516.0</td>\n",
       "      <td>95.0</td>\n",
       "      <td>360.0</td>\n",
       "      <td>1.0</td>\n",
       "      <td>Urban</td>\n",
       "      <td>Y</td>\n",
       "    </tr>\n",
       "    <tr>\n",
       "      <th>7</th>\n",
       "      <td>LP001014</td>\n",
       "      <td>Male</td>\n",
       "      <td>Yes</td>\n",
       "      <td>3+</td>\n",
       "      <td>Graduate</td>\n",
       "      <td>No</td>\n",
       "      <td>3036</td>\n",
       "      <td>2504.0</td>\n",
       "      <td>158.0</td>\n",
       "      <td>360.0</td>\n",
       "      <td>0.0</td>\n",
       "      <td>Semiurban</td>\n",
       "      <td>N</td>\n",
       "    </tr>\n",
       "    <tr>\n",
       "      <th>8</th>\n",
       "      <td>LP001018</td>\n",
       "      <td>Male</td>\n",
       "      <td>Yes</td>\n",
       "      <td>2</td>\n",
       "      <td>Graduate</td>\n",
       "      <td>No</td>\n",
       "      <td>4006</td>\n",
       "      <td>1526.0</td>\n",
       "      <td>168.0</td>\n",
       "      <td>360.0</td>\n",
       "      <td>1.0</td>\n",
       "      <td>Urban</td>\n",
       "      <td>Y</td>\n",
       "    </tr>\n",
       "    <tr>\n",
       "      <th>9</th>\n",
       "      <td>LP001020</td>\n",
       "      <td>Male</td>\n",
       "      <td>Yes</td>\n",
       "      <td>1</td>\n",
       "      <td>Graduate</td>\n",
       "      <td>No</td>\n",
       "      <td>12841</td>\n",
       "      <td>10968.0</td>\n",
       "      <td>349.0</td>\n",
       "      <td>360.0</td>\n",
       "      <td>1.0</td>\n",
       "      <td>Semiurban</td>\n",
       "      <td>N</td>\n",
       "    </tr>\n",
       "  </tbody>\n",
       "</table>\n",
       "</div>"
      ],
      "text/plain": [
       "    Loan_ID Gender Married Dependents     Education Self_Employed  \\\n",
       "0  LP001002   Male      No          0      Graduate            No   \n",
       "1  LP001003   Male     Yes          1      Graduate            No   \n",
       "2  LP001005   Male     Yes          0      Graduate           Yes   \n",
       "3  LP001006   Male     Yes          0  Not Graduate            No   \n",
       "4  LP001008   Male      No          0      Graduate            No   \n",
       "5  LP001011   Male     Yes          2      Graduate           Yes   \n",
       "6  LP001013   Male     Yes          0  Not Graduate            No   \n",
       "7  LP001014   Male     Yes         3+      Graduate            No   \n",
       "8  LP001018   Male     Yes          2      Graduate            No   \n",
       "9  LP001020   Male     Yes          1      Graduate            No   \n",
       "\n",
       "   ApplicantIncome  CoapplicantIncome  LoanAmount  Loan_Amount_Term  \\\n",
       "0             5849                0.0         NaN             360.0   \n",
       "1             4583             1508.0       128.0             360.0   \n",
       "2             3000                0.0        66.0             360.0   \n",
       "3             2583             2358.0       120.0             360.0   \n",
       "4             6000                0.0       141.0             360.0   \n",
       "5             5417             4196.0       267.0             360.0   \n",
       "6             2333             1516.0        95.0             360.0   \n",
       "7             3036             2504.0       158.0             360.0   \n",
       "8             4006             1526.0       168.0             360.0   \n",
       "9            12841            10968.0       349.0             360.0   \n",
       "\n",
       "   Credit_History Property_Area Loan_Status  \n",
       "0             1.0         Urban           Y  \n",
       "1             1.0         Rural           N  \n",
       "2             1.0         Urban           Y  \n",
       "3             1.0         Urban           Y  \n",
       "4             1.0         Urban           Y  \n",
       "5             1.0         Urban           Y  \n",
       "6             1.0         Urban           Y  \n",
       "7             0.0     Semiurban           N  \n",
       "8             1.0         Urban           Y  \n",
       "9             1.0     Semiurban           N  "
      ]
     },
     "execution_count": 3,
     "metadata": {
      "tags": []
     },
     "output_type": "execute_result"
    }
   ],
   "source": [
    "desarrll.head(10)"
   ]
  },
  {
   "cell_type": "code",
   "execution_count": null,
   "metadata": {
    "colab": {},
    "colab_type": "code",
    "id": "hLF18L8VyP49",
    "outputId": "ad533b05-3b38-4c77-c70a-734d6632f4dc"
   },
   "outputs": [
    {
     "data": {
      "text/plain": [
       "(614, 13)"
      ]
     },
     "execution_count": 4,
     "metadata": {
      "tags": []
     },
     "output_type": "execute_result"
    }
   ],
   "source": [
    "# Dimension\n",
    "desarrll.shape\n",
    "# Son 614 obs con 13 columnas"
   ]
  },
  {
   "cell_type": "code",
   "execution_count": null,
   "metadata": {
    "colab": {},
    "colab_type": "code",
    "id": "ZoOCbnSEyP5C",
    "outputId": "f25033ac-e900-4f77-a5e3-112b31330221"
   },
   "outputs": [
    {
     "name": "stdout",
     "output_type": "stream",
     "text": [
      "<class 'pandas.core.frame.DataFrame'>\n",
      "RangeIndex: 614 entries, 0 to 613\n",
      "Data columns (total 13 columns):\n",
      "Loan_ID              614 non-null object\n",
      "Gender               601 non-null object\n",
      "Married              611 non-null object\n",
      "Dependents           599 non-null object\n",
      "Education            614 non-null object\n",
      "Self_Employed        582 non-null object\n",
      "ApplicantIncome      614 non-null int64\n",
      "CoapplicantIncome    614 non-null float64\n",
      "LoanAmount           592 non-null float64\n",
      "Loan_Amount_Term     600 non-null float64\n",
      "Credit_History       564 non-null float64\n",
      "Property_Area        614 non-null object\n",
      "Loan_Status          614 non-null object\n",
      "dtypes: float64(4), int64(1), object(8)\n",
      "memory usage: 62.4+ KB\n"
     ]
    }
   ],
   "source": [
    "#Leer los primeros registros.\n",
    "# Podemos ver la estructura de los datos, es el str de Python\n",
    "desarrll.info()"
   ]
  },
  {
   "cell_type": "code",
   "execution_count": null,
   "metadata": {
    "colab": {},
    "colab_type": "code",
    "id": "BF3-A4dEyP5F"
   },
   "outputs": [],
   "source": [
    "## Analisis Exploratorio de los datos"
   ]
  },
  {
   "cell_type": "markdown",
   "metadata": {
    "colab_type": "text",
    "id": "dxBWO0g0yP5H"
   },
   "source": [
    "![image.png](attachment:image.png)"
   ]
  },
  {
   "cell_type": "code",
   "execution_count": null,
   "metadata": {
    "colab": {},
    "colab_type": "code",
    "id": "SLeN1FXvyP5I"
   },
   "outputs": [],
   "source": [
    "#### Recurso: https://www.analyticsvidhya.com/blog/2014/07/statistics/"
   ]
  },
  {
   "cell_type": "code",
   "execution_count": null,
   "metadata": {
    "colab": {},
    "colab_type": "code",
    "id": "tmenBDTvyP5L",
    "outputId": "f7ece49f-355f-4fe6-c8aa-bb8084e3984c"
   },
   "outputs": [
    {
     "data": {
      "text/html": [
       "<div>\n",
       "<style scoped>\n",
       "    .dataframe tbody tr th:only-of-type {\n",
       "        vertical-align: middle;\n",
       "    }\n",
       "\n",
       "    .dataframe tbody tr th {\n",
       "        vertical-align: top;\n",
       "    }\n",
       "\n",
       "    .dataframe thead th {\n",
       "        text-align: right;\n",
       "    }\n",
       "</style>\n",
       "<table border=\"1\" class=\"dataframe\">\n",
       "  <thead>\n",
       "    <tr style=\"text-align: right;\">\n",
       "      <th></th>\n",
       "      <th>ApplicantIncome</th>\n",
       "      <th>CoapplicantIncome</th>\n",
       "      <th>LoanAmount</th>\n",
       "      <th>Loan_Amount_Term</th>\n",
       "      <th>Credit_History</th>\n",
       "    </tr>\n",
       "  </thead>\n",
       "  <tbody>\n",
       "    <tr>\n",
       "      <th>count</th>\n",
       "      <td>614.000000</td>\n",
       "      <td>614.000000</td>\n",
       "      <td>592.000000</td>\n",
       "      <td>600.00000</td>\n",
       "      <td>564.000000</td>\n",
       "    </tr>\n",
       "    <tr>\n",
       "      <th>mean</th>\n",
       "      <td>5403.459283</td>\n",
       "      <td>1621.245798</td>\n",
       "      <td>146.412162</td>\n",
       "      <td>342.00000</td>\n",
       "      <td>0.842199</td>\n",
       "    </tr>\n",
       "    <tr>\n",
       "      <th>std</th>\n",
       "      <td>6109.041673</td>\n",
       "      <td>2926.248369</td>\n",
       "      <td>85.587325</td>\n",
       "      <td>65.12041</td>\n",
       "      <td>0.364878</td>\n",
       "    </tr>\n",
       "    <tr>\n",
       "      <th>min</th>\n",
       "      <td>150.000000</td>\n",
       "      <td>0.000000</td>\n",
       "      <td>9.000000</td>\n",
       "      <td>12.00000</td>\n",
       "      <td>0.000000</td>\n",
       "    </tr>\n",
       "    <tr>\n",
       "      <th>25%</th>\n",
       "      <td>2877.500000</td>\n",
       "      <td>0.000000</td>\n",
       "      <td>100.000000</td>\n",
       "      <td>360.00000</td>\n",
       "      <td>1.000000</td>\n",
       "    </tr>\n",
       "    <tr>\n",
       "      <th>50%</th>\n",
       "      <td>3812.500000</td>\n",
       "      <td>1188.500000</td>\n",
       "      <td>128.000000</td>\n",
       "      <td>360.00000</td>\n",
       "      <td>1.000000</td>\n",
       "    </tr>\n",
       "    <tr>\n",
       "      <th>75%</th>\n",
       "      <td>5795.000000</td>\n",
       "      <td>2297.250000</td>\n",
       "      <td>168.000000</td>\n",
       "      <td>360.00000</td>\n",
       "      <td>1.000000</td>\n",
       "    </tr>\n",
       "    <tr>\n",
       "      <th>max</th>\n",
       "      <td>81000.000000</td>\n",
       "      <td>41667.000000</td>\n",
       "      <td>700.000000</td>\n",
       "      <td>480.00000</td>\n",
       "      <td>1.000000</td>\n",
       "    </tr>\n",
       "  </tbody>\n",
       "</table>\n",
       "</div>"
      ],
      "text/plain": [
       "       ApplicantIncome  CoapplicantIncome  LoanAmount  Loan_Amount_Term  \\\n",
       "count       614.000000         614.000000  592.000000         600.00000   \n",
       "mean       5403.459283        1621.245798  146.412162         342.00000   \n",
       "std        6109.041673        2926.248369   85.587325          65.12041   \n",
       "min         150.000000           0.000000    9.000000          12.00000   \n",
       "25%        2877.500000           0.000000  100.000000         360.00000   \n",
       "50%        3812.500000        1188.500000  128.000000         360.00000   \n",
       "75%        5795.000000        2297.250000  168.000000         360.00000   \n",
       "max       81000.000000       41667.000000  700.000000         480.00000   \n",
       "\n",
       "       Credit_History  \n",
       "count      564.000000  \n",
       "mean         0.842199  \n",
       "std          0.364878  \n",
       "min          0.000000  \n",
       "25%          1.000000  \n",
       "50%          1.000000  \n",
       "75%          1.000000  \n",
       "max          1.000000  "
      ]
     },
     "execution_count": 30,
     "metadata": {
      "tags": []
     },
     "output_type": "execute_result"
    }
   ],
   "source": [
    "desarrll.describe() #Resumen de la información cuantitativa"
   ]
  },
  {
   "cell_type": "markdown",
   "metadata": {
    "colab_type": "text",
    "id": "YhZgLeglyP5P"
   },
   "source": [
    "La función describe () proporcionaría count - conteo o número de elementos, mean - media, standard deviation (std) - desviación estándar, min - mínimo, cuartiles y max - máximo en su salida. Sólo considera las variables en formato de número."
   ]
  },
  {
   "cell_type": "code",
   "execution_count": null,
   "metadata": {
    "colab": {},
    "colab_type": "code",
    "id": "QiGU6f26yP5Q"
   },
   "outputs": [],
   "source": [
    "## Aquí hay algunas conclusiones importantes"
   ]
  },
  {
   "cell_type": "markdown",
   "metadata": {
    "colab_type": "text",
    "id": "WyyHiymJyP5T"
   },
   "source": [
    "1. LoanAmount tiene (614 – 592) 22 valores perdidos.\n",
    "2. Loan_Amount_Term tiene (614 – 600) 14 valores perdidos.\n",
    "3. Credit_History tiene (614 – 564) 50 valores perdidos.\n",
    "4. Nosotros podemos también observar que cerca del 84% de los solicitantes al préstamo tienen un historial crediticio. ¿Cómo? La media del campo Credit_History es 0.84 (Recordemos, Credit_History tiene o toma el valor 1 para aquellos que tienen historial crediticio y 0 en caso contrario).\n",
    "5. La variable ApplicantIncome parece estar en línea con las espectativas al igual que CoapplicantIncome."
   ]
  },
  {
   "cell_type": "code",
   "execution_count": null,
   "metadata": {
    "colab": {},
    "colab_type": "code",
    "id": "pRpbZtedyP5U",
    "outputId": "7fb2a62f-cddb-416a-f5fe-ed977660502e"
   },
   "outputs": [
    {
     "data": {
      "text/html": [
       "<div>\n",
       "<style scoped>\n",
       "    .dataframe tbody tr th:only-of-type {\n",
       "        vertical-align: middle;\n",
       "    }\n",
       "\n",
       "    .dataframe tbody tr th {\n",
       "        vertical-align: top;\n",
       "    }\n",
       "\n",
       "    .dataframe thead th {\n",
       "        text-align: right;\n",
       "    }\n",
       "</style>\n",
       "<table border=\"1\" class=\"dataframe\">\n",
       "  <thead>\n",
       "    <tr style=\"text-align: right;\">\n",
       "      <th></th>\n",
       "      <th>Loan_ID</th>\n",
       "      <th>Gender</th>\n",
       "      <th>Married</th>\n",
       "      <th>Dependents</th>\n",
       "      <th>Education</th>\n",
       "      <th>Self_Employed</th>\n",
       "      <th>ApplicantIncome</th>\n",
       "      <th>CoapplicantIncome</th>\n",
       "      <th>LoanAmount</th>\n",
       "      <th>Loan_Amount_Term</th>\n",
       "      <th>Credit_History</th>\n",
       "      <th>Property_Area</th>\n",
       "      <th>Loan_Status</th>\n",
       "    </tr>\n",
       "  </thead>\n",
       "  <tbody>\n",
       "    <tr>\n",
       "      <th>count</th>\n",
       "      <td>614</td>\n",
       "      <td>601</td>\n",
       "      <td>611</td>\n",
       "      <td>599</td>\n",
       "      <td>614</td>\n",
       "      <td>582</td>\n",
       "      <td>614.000000</td>\n",
       "      <td>614.000000</td>\n",
       "      <td>592.000000</td>\n",
       "      <td>600.00000</td>\n",
       "      <td>564.000000</td>\n",
       "      <td>614</td>\n",
       "      <td>614</td>\n",
       "    </tr>\n",
       "    <tr>\n",
       "      <th>unique</th>\n",
       "      <td>614</td>\n",
       "      <td>2</td>\n",
       "      <td>2</td>\n",
       "      <td>4</td>\n",
       "      <td>2</td>\n",
       "      <td>2</td>\n",
       "      <td>NaN</td>\n",
       "      <td>NaN</td>\n",
       "      <td>NaN</td>\n",
       "      <td>NaN</td>\n",
       "      <td>NaN</td>\n",
       "      <td>3</td>\n",
       "      <td>2</td>\n",
       "    </tr>\n",
       "    <tr>\n",
       "      <th>top</th>\n",
       "      <td>LP002804</td>\n",
       "      <td>Male</td>\n",
       "      <td>Yes</td>\n",
       "      <td>0</td>\n",
       "      <td>Graduate</td>\n",
       "      <td>No</td>\n",
       "      <td>NaN</td>\n",
       "      <td>NaN</td>\n",
       "      <td>NaN</td>\n",
       "      <td>NaN</td>\n",
       "      <td>NaN</td>\n",
       "      <td>Semiurban</td>\n",
       "      <td>Y</td>\n",
       "    </tr>\n",
       "    <tr>\n",
       "      <th>freq</th>\n",
       "      <td>1</td>\n",
       "      <td>489</td>\n",
       "      <td>398</td>\n",
       "      <td>345</td>\n",
       "      <td>480</td>\n",
       "      <td>500</td>\n",
       "      <td>NaN</td>\n",
       "      <td>NaN</td>\n",
       "      <td>NaN</td>\n",
       "      <td>NaN</td>\n",
       "      <td>NaN</td>\n",
       "      <td>233</td>\n",
       "      <td>422</td>\n",
       "    </tr>\n",
       "    <tr>\n",
       "      <th>mean</th>\n",
       "      <td>NaN</td>\n",
       "      <td>NaN</td>\n",
       "      <td>NaN</td>\n",
       "      <td>NaN</td>\n",
       "      <td>NaN</td>\n",
       "      <td>NaN</td>\n",
       "      <td>5403.459283</td>\n",
       "      <td>1621.245798</td>\n",
       "      <td>146.412162</td>\n",
       "      <td>342.00000</td>\n",
       "      <td>0.842199</td>\n",
       "      <td>NaN</td>\n",
       "      <td>NaN</td>\n",
       "    </tr>\n",
       "    <tr>\n",
       "      <th>std</th>\n",
       "      <td>NaN</td>\n",
       "      <td>NaN</td>\n",
       "      <td>NaN</td>\n",
       "      <td>NaN</td>\n",
       "      <td>NaN</td>\n",
       "      <td>NaN</td>\n",
       "      <td>6109.041673</td>\n",
       "      <td>2926.248369</td>\n",
       "      <td>85.587325</td>\n",
       "      <td>65.12041</td>\n",
       "      <td>0.364878</td>\n",
       "      <td>NaN</td>\n",
       "      <td>NaN</td>\n",
       "    </tr>\n",
       "    <tr>\n",
       "      <th>min</th>\n",
       "      <td>NaN</td>\n",
       "      <td>NaN</td>\n",
       "      <td>NaN</td>\n",
       "      <td>NaN</td>\n",
       "      <td>NaN</td>\n",
       "      <td>NaN</td>\n",
       "      <td>150.000000</td>\n",
       "      <td>0.000000</td>\n",
       "      <td>9.000000</td>\n",
       "      <td>12.00000</td>\n",
       "      <td>0.000000</td>\n",
       "      <td>NaN</td>\n",
       "      <td>NaN</td>\n",
       "    </tr>\n",
       "    <tr>\n",
       "      <th>25%</th>\n",
       "      <td>NaN</td>\n",
       "      <td>NaN</td>\n",
       "      <td>NaN</td>\n",
       "      <td>NaN</td>\n",
       "      <td>NaN</td>\n",
       "      <td>NaN</td>\n",
       "      <td>2877.500000</td>\n",
       "      <td>0.000000</td>\n",
       "      <td>100.000000</td>\n",
       "      <td>360.00000</td>\n",
       "      <td>1.000000</td>\n",
       "      <td>NaN</td>\n",
       "      <td>NaN</td>\n",
       "    </tr>\n",
       "    <tr>\n",
       "      <th>50%</th>\n",
       "      <td>NaN</td>\n",
       "      <td>NaN</td>\n",
       "      <td>NaN</td>\n",
       "      <td>NaN</td>\n",
       "      <td>NaN</td>\n",
       "      <td>NaN</td>\n",
       "      <td>3812.500000</td>\n",
       "      <td>1188.500000</td>\n",
       "      <td>128.000000</td>\n",
       "      <td>360.00000</td>\n",
       "      <td>1.000000</td>\n",
       "      <td>NaN</td>\n",
       "      <td>NaN</td>\n",
       "    </tr>\n",
       "    <tr>\n",
       "      <th>75%</th>\n",
       "      <td>NaN</td>\n",
       "      <td>NaN</td>\n",
       "      <td>NaN</td>\n",
       "      <td>NaN</td>\n",
       "      <td>NaN</td>\n",
       "      <td>NaN</td>\n",
       "      <td>5795.000000</td>\n",
       "      <td>2297.250000</td>\n",
       "      <td>168.000000</td>\n",
       "      <td>360.00000</td>\n",
       "      <td>1.000000</td>\n",
       "      <td>NaN</td>\n",
       "      <td>NaN</td>\n",
       "    </tr>\n",
       "    <tr>\n",
       "      <th>max</th>\n",
       "      <td>NaN</td>\n",
       "      <td>NaN</td>\n",
       "      <td>NaN</td>\n",
       "      <td>NaN</td>\n",
       "      <td>NaN</td>\n",
       "      <td>NaN</td>\n",
       "      <td>81000.000000</td>\n",
       "      <td>41667.000000</td>\n",
       "      <td>700.000000</td>\n",
       "      <td>480.00000</td>\n",
       "      <td>1.000000</td>\n",
       "      <td>NaN</td>\n",
       "      <td>NaN</td>\n",
       "    </tr>\n",
       "  </tbody>\n",
       "</table>\n",
       "</div>"
      ],
      "text/plain": [
       "         Loan_ID Gender Married Dependents Education Self_Employed  \\\n",
       "count        614    601     611        599       614           582   \n",
       "unique       614      2       2          4         2             2   \n",
       "top     LP002804   Male     Yes          0  Graduate            No   \n",
       "freq           1    489     398        345       480           500   \n",
       "mean         NaN    NaN     NaN        NaN       NaN           NaN   \n",
       "std          NaN    NaN     NaN        NaN       NaN           NaN   \n",
       "min          NaN    NaN     NaN        NaN       NaN           NaN   \n",
       "25%          NaN    NaN     NaN        NaN       NaN           NaN   \n",
       "50%          NaN    NaN     NaN        NaN       NaN           NaN   \n",
       "75%          NaN    NaN     NaN        NaN       NaN           NaN   \n",
       "max          NaN    NaN     NaN        NaN       NaN           NaN   \n",
       "\n",
       "        ApplicantIncome  CoapplicantIncome  LoanAmount  Loan_Amount_Term  \\\n",
       "count        614.000000         614.000000  592.000000         600.00000   \n",
       "unique              NaN                NaN         NaN               NaN   \n",
       "top                 NaN                NaN         NaN               NaN   \n",
       "freq                NaN                NaN         NaN               NaN   \n",
       "mean        5403.459283        1621.245798  146.412162         342.00000   \n",
       "std         6109.041673        2926.248369   85.587325          65.12041   \n",
       "min          150.000000           0.000000    9.000000          12.00000   \n",
       "25%         2877.500000           0.000000  100.000000         360.00000   \n",
       "50%         3812.500000        1188.500000  128.000000         360.00000   \n",
       "75%         5795.000000        2297.250000  168.000000         360.00000   \n",
       "max        81000.000000       41667.000000  700.000000         480.00000   \n",
       "\n",
       "        Credit_History Property_Area Loan_Status  \n",
       "count       564.000000           614         614  \n",
       "unique             NaN             3           2  \n",
       "top                NaN     Semiurban           Y  \n",
       "freq               NaN           233         422  \n",
       "mean          0.842199           NaN         NaN  \n",
       "std           0.364878           NaN         NaN  \n",
       "min           0.000000           NaN         NaN  \n",
       "25%           1.000000           NaN         NaN  \n",
       "50%           1.000000           NaN         NaN  \n",
       "75%           1.000000           NaN         NaN  \n",
       "max           1.000000           NaN         NaN  "
      ]
     },
     "execution_count": 32,
     "metadata": {
      "tags": []
     },
     "output_type": "execute_result"
    }
   ],
   "source": [
    "# Tabla Resumen\n",
    "desarrll.describe(include='all') # Describir todas las variables."
   ]
  },
  {
   "cell_type": "code",
   "execution_count": null,
   "metadata": {
    "colab": {},
    "colab_type": "code",
    "id": "d1zAg_0tyP5Y"
   },
   "outputs": [],
   "source": [
    "# Gráficos para variables cuantitativas\n",
    "#Histogramas y Cajas"
   ]
  },
  {
   "cell_type": "code",
   "execution_count": null,
   "metadata": {
    "colab": {},
    "colab_type": "code",
    "id": "xZx1KUZ8yP5a",
    "outputId": "700105af-703c-49e9-8338-0f6fd7f780c6"
   },
   "outputs": [
    {
     "data": {
      "text/plain": [
       "<matplotlib.axes._subplots.AxesSubplot at 0x1d9551a2278>"
      ]
     },
     "execution_count": 34,
     "metadata": {
      "tags": []
     },
     "output_type": "execute_result"
    },
    {
     "data": {
      "image/png": "[encoded data removed]",
      "text/plain": [
       "<Figure size 432x288 with 1 Axes>"
      ]
     },
     "metadata": {
      "tags": []
     },
     "output_type": "display_data"
    }
   ],
   "source": [
    "# Análisis Univariado de los atributos del data set\n",
    "%matplotlib inline\n",
    "import matplotlib.pyplot as plt\n",
    "desarrll['ApplicantIncome'].hist()\n"
   ]
  },
  {
   "cell_type": "code",
   "execution_count": null,
   "metadata": {
    "colab": {},
    "colab_type": "code",
    "id": "7u5m3lnxyP5d",
    "outputId": "c0875776-cffe-4609-8c2a-62c45bea5b97"
   },
   "outputs": [
    {
     "data": {
      "text/plain": [
       "<matplotlib.axes._subplots.AxesSubplot at 0x1d9572adf28>"
      ]
     },
     "execution_count": 35,
     "metadata": {
      "tags": []
     },
     "output_type": "execute_result"
    },
    {
     "data": {
      "image/png": "[encoded data removed]",
      "text/plain": [
       "<Figure size 576x576 with 1 Axes>"
      ]
     },
     "metadata": {
      "tags": []
     },
     "output_type": "display_data"
    }
   ],
   "source": [
    "%matplotlib inline\n",
    "import matplotlib.pyplot as plt\n",
    "plt.title('Histograma de la Variable CoapplicantIncome')\n",
    "desarrll['CoapplicantIncome'].hist(figsize=(8,8),color=\"blue\",bins=100)"
   ]
  },
  {
   "cell_type": "code",
   "execution_count": null,
   "metadata": {},
   "outputs": [],
   "source": []
  },
  {
   "cell_type": "code",
   "execution_count": null,
   "metadata": {
    "colab": {},
    "colab_type": "code",
    "id": "bVPVZsKryP5h"
   },
   "outputs": [],
   "source": [
    "## Cuartiles y diagramas de cajas"
   ]
  },
  {
   "cell_type": "markdown",
   "metadata": {
    "colab_type": "text",
    "id": "EPK3J1RoyP5l"
   },
   "source": [
    "\n",
    "Los cuartiles son los tres valores de la variable estadística que dividen a un conjunto de datos ordenados en cuatro partes iguales. Q1, Q2 y Q3 determinan los valores correspondientes al 25%, al 50% y al 75% de los datos. Q2 coincide con la mediana.\n",
    "\n",
    "Los diagramas de cajas son una presentación visual que describe varias características importantes al mismo tiempo, tales como la dispersión y simetría. Para su realización se representan los tres cuartiles y los valores mínimo y máximo de los datos, sobre un rectángulo, alineado horizontal o verticalmente. Estos gráficos nos proporcionan abundante información y son sumamente útiles para encontrar valores atípicos y comparar dos conjunto de datos.\n",
    "\n"
   ]
  },
  {
   "cell_type": "markdown",
   "metadata": {
    "colab_type": "text",
    "id": "6zmpzEadyP5m"
   },
   "source": [
    "![image.png](attachment:image.png)"
   ]
  },
  {
   "cell_type": "code",
   "execution_count": null,
   "metadata": {
    "colab": {},
    "colab_type": "code",
    "id": "Tf20tlnIyP5m",
    "outputId": "d27010bd-95a7-4a32-dd6b-68b9b78fc636"
   },
   "outputs": [
    {
     "data": {
      "text/plain": [
       "<matplotlib.axes._subplots.AxesSubplot at 0x1d957564e48>"
      ]
     },
     "execution_count": 37,
     "metadata": {
      "tags": []
     },
     "output_type": "execute_result"
    },
    {
     "data": {
      "image/png": "[encoded data removed]",
      "text/plain": [
       "<Figure size 432x288 with 1 Axes>"
      ]
     },
     "metadata": {
      "tags": []
     },
     "output_type": "display_data"
    }
   ],
   "source": [
    "# Gráfico de Cajas\n",
    "import pandas as pd\n",
    "%matplotlib inline\n",
    "import matplotlib.pyplot as plt\n",
    "plt.title('Gráfico de Cajas de LoanAmount')\n",
    "#train.boxplot(column='LoanAmount',showfliers='T',notch=0, sym='+', vert=1, whis=1.5)\n",
    "desarrll.boxplot(column='LoanAmount')"
   ]
  },
  {
   "cell_type": "code",
   "execution_count": null,
   "metadata": {
    "colab": {},
    "colab_type": "code",
    "id": "qtMB-UeSyP5p",
    "outputId": "01e72791-c078-4962-94fd-fbed11a0b2c4"
   },
   "outputs": [
    {
     "data": {
      "text/plain": [
       "<matplotlib.axes._subplots.AxesSubplot at 0x1d95743d710>"
      ]
     },
     "execution_count": 38,
     "metadata": {
      "tags": []
     },
     "output_type": "execute_result"
    },
    {
     "data": {
      "image/png": "[encoded data removed]",
      "text/plain": [
       "<Figure size 432x288 with 1 Axes>"
      ]
     },
     "metadata": {
      "tags": []
     },
     "output_type": "display_data"
    }
   ],
   "source": [
    "desarrll.boxplot('LoanAmount',by='Gender')"
   ]
  },
  {
   "cell_type": "code",
   "execution_count": null,
   "metadata": {
    "colab": {},
    "colab_type": "code",
    "id": "uA0kNpaGyP5r",
    "outputId": "01b3a288-d863-428d-90aa-4a8ffb1443ae"
   },
   "outputs": [
    {
     "data": {
      "text/plain": [
       "<matplotlib.axes._subplots.AxesSubplot at 0x1d9574b84a8>"
      ]
     },
     "execution_count": 39,
     "metadata": {
      "tags": []
     },
     "output_type": "execute_result"
    },
    {
     "data": {
      "image/png": "[encoded data removed]",
      "text/plain": [
       "<Figure size 432x288 with 1 Axes>"
      ]
     },
     "metadata": {
      "tags": []
     },
     "output_type": "display_data"
    }
   ],
   "source": [
    "import matplotlib.pyplot as plt\n",
    "plt.title('Gráfico de Cajas de Loan_Amount_Term')\n",
    "desarrll.boxplot(column='Loan_Amount_Term',autorange='T',showfliers='T',notch=0, sym='+', vert=1, whis=1.5)"
   ]
  },
  {
   "cell_type": "code",
   "execution_count": null,
   "metadata": {
    "colab": {},
    "colab_type": "code",
    "id": "wRVR2IoryP5u"
   },
   "outputs": [],
   "source": [
    "## Imputacion de Datos "
   ]
  },
  {
   "cell_type": "code",
   "execution_count": null,
   "metadata": {
    "colab": {},
    "colab_type": "code",
    "id": "s6uiughdyP5x",
    "outputId": "55fae75e-2a98-4231-e3a2-e589bc433cd2"
   },
   "outputs": [
    {
     "data": {
      "text/plain": [
       "Loan_ID               0\n",
       "Gender               13\n",
       "Married               3\n",
       "Dependents           15\n",
       "Education             0\n",
       "Self_Employed        32\n",
       "ApplicantIncome       0\n",
       "CoapplicantIncome     0\n",
       "LoanAmount           22\n",
       "Loan_Amount_Term     14\n",
       "Credit_History       50\n",
       "Property_Area         0\n",
       "Loan_Status           0\n",
       "dtype: int64"
      ]
     },
     "execution_count": 41,
     "metadata": {
      "tags": []
     },
     "output_type": "execute_result"
    }
   ],
   "source": [
    "# Revisar los valores perdidos\n",
    "desarrll.isnull().sum()"
   ]
  },
  {
   "cell_type": "code",
   "execution_count": null,
   "metadata": {
    "colab": {},
    "colab_type": "code",
    "id": "3ZtbsZ0hyP51"
   },
   "outputs": [],
   "source": [
    "########################################\n",
    "# Tratamiento de valores missings\n",
    "########################################"
   ]
  },
  {
   "cell_type": "markdown",
   "metadata": {
    "colab_type": "text",
    "id": "RJwBow3byP53"
   },
   "source": [
    "![image.png](attachment:image.png)"
   ]
  },
  {
   "cell_type": "code",
   "execution_count": null,
   "metadata": {
    "colab": {},
    "colab_type": "code",
    "id": "KY6iHpkbyP54"
   },
   "outputs": [],
   "source": [
    "# No olvidemos separar las variables cualitativas para poder trabajarlas eficientemente\n",
    "columnas_categoricas = [\"Gender\",\"Married\",\"Education\",\"Self_Employed\",\"Property_Area\",\"Dependents\",\"Loan_Status\"]"
   ]
  },
  {
   "cell_type": "code",
   "execution_count": null,
   "metadata": {
    "colab": {},
    "colab_type": "code",
    "id": "nTMRaNxzyP56"
   },
   "outputs": [],
   "source": [
    "# Separamos las columnas numericas\n",
    "columnas_numericas = [\"ApplicantIncome\",\"CoapplicantIncome\",\"LoanAmount\",\"Loan_Amount_Term\"]"
   ]
  },
  {
   "cell_type": "code",
   "execution_count": null,
   "metadata": {
    "colab": {},
    "colab_type": "code",
    "id": "sYsDo-xsyP59",
    "outputId": "6438b0f3-23c5-4b3c-f121-f05ad014f7be"
   },
   "outputs": [
    {
     "data": {
      "text/plain": [
       "0      345\n",
       "1      102\n",
       "2      101\n",
       "3+      51\n",
       "NaN     15\n",
       "Name: Dependents, dtype: int64"
      ]
     },
     "execution_count": 8,
     "metadata": {
      "tags": []
     },
     "output_type": "execute_result"
    }
   ],
   "source": [
    "# Visualizamos los valores perdidos respecto a las variables cualititativas\n",
    "desarrll.Dependents.value_counts(dropna=False)"
   ]
  },
  {
   "cell_type": "code",
   "execution_count": null,
   "metadata": {
    "colab": {},
    "colab_type": "code",
    "id": "d8qpgh41yP6B",
    "outputId": "95577400-40b5-4e8d-855f-444ed3520bc3"
   },
   "outputs": [
    {
     "data": {
      "text/plain": [
       "Loan_ID               0\n",
       "Gender               13\n",
       "Married               3\n",
       "Dependents           15\n",
       "Education             0\n",
       "Self_Employed        32\n",
       "ApplicantIncome       0\n",
       "CoapplicantIncome     0\n",
       "LoanAmount           22\n",
       "Loan_Amount_Term     14\n",
       "Credit_History       50\n",
       "Property_Area         0\n",
       "Loan_Status           0\n",
       "dtype: int64"
      ]
     },
     "execution_count": 9,
     "metadata": {
      "tags": []
     },
     "output_type": "execute_result"
    }
   ],
   "source": [
    "desarrll.isnull().sum()"
   ]
  },
  {
   "cell_type": "code",
   "execution_count": null,
   "metadata": {
    "colab": {},
    "colab_type": "code",
    "id": "g37PL4WiyP6E"
   },
   "outputs": [],
   "source": [
    "# Imputamos los valores cualitativos por Moda\n",
    "desarrll.Gender = desarrll.Gender.fillna(\"Male\")\n",
    "desarrll.Married = desarrll.Married.fillna(\"Yes\")\n",
    "desarrll.Self_Employed = desarrll.Self_Employed.fillna(\"Yes\")\n",
    "desarrll.Credit_History = desarrll.Credit_History.fillna(\"1\")\n",
    "desarrll.Dependents = desarrll.Dependents.fillna(\"0\")"
   ]
  },
  {
   "cell_type": "code",
   "execution_count": null,
   "metadata": {
    "colab": {},
    "colab_type": "code",
    "id": "cJ04XHXPyP6G",
    "outputId": "8282ca11-28c7-462f-dcd8-0c91f768e6b0"
   },
   "outputs": [
    {
     "data": {
      "text/html": [
       "<div>\n",
       "<style scoped>\n",
       "    .dataframe tbody tr th:only-of-type {\n",
       "        vertical-align: middle;\n",
       "    }\n",
       "\n",
       "    .dataframe tbody tr th {\n",
       "        vertical-align: top;\n",
       "    }\n",
       "\n",
       "    .dataframe thead th {\n",
       "        text-align: right;\n",
       "    }\n",
       "</style>\n",
       "<table border=\"1\" class=\"dataframe\">\n",
       "  <thead>\n",
       "    <tr style=\"text-align: right;\">\n",
       "      <th></th>\n",
       "      <th>Loan_ID</th>\n",
       "      <th>Gender</th>\n",
       "      <th>Married</th>\n",
       "      <th>Dependents</th>\n",
       "      <th>Education</th>\n",
       "      <th>Self_Employed</th>\n",
       "      <th>ApplicantIncome</th>\n",
       "      <th>CoapplicantIncome</th>\n",
       "      <th>LoanAmount</th>\n",
       "      <th>Loan_Amount_Term</th>\n",
       "      <th>Credit_History</th>\n",
       "      <th>Property_Area</th>\n",
       "      <th>Loan_Status</th>\n",
       "    </tr>\n",
       "  </thead>\n",
       "  <tbody>\n",
       "    <tr>\n",
       "      <th>0</th>\n",
       "      <td>LP001002</td>\n",
       "      <td>Male</td>\n",
       "      <td>No</td>\n",
       "      <td>0</td>\n",
       "      <td>Graduate</td>\n",
       "      <td>No</td>\n",
       "      <td>5849</td>\n",
       "      <td>0.0</td>\n",
       "      <td>NaN</td>\n",
       "      <td>360.0</td>\n",
       "      <td>1</td>\n",
       "      <td>Urban</td>\n",
       "      <td>Y</td>\n",
       "    </tr>\n",
       "    <tr>\n",
       "      <th>1</th>\n",
       "      <td>LP001003</td>\n",
       "      <td>Male</td>\n",
       "      <td>Yes</td>\n",
       "      <td>1</td>\n",
       "      <td>Graduate</td>\n",
       "      <td>No</td>\n",
       "      <td>4583</td>\n",
       "      <td>1508.0</td>\n",
       "      <td>128.0</td>\n",
       "      <td>360.0</td>\n",
       "      <td>1</td>\n",
       "      <td>Rural</td>\n",
       "      <td>N</td>\n",
       "    </tr>\n",
       "    <tr>\n",
       "      <th>2</th>\n",
       "      <td>LP001005</td>\n",
       "      <td>Male</td>\n",
       "      <td>Yes</td>\n",
       "      <td>0</td>\n",
       "      <td>Graduate</td>\n",
       "      <td>Yes</td>\n",
       "      <td>3000</td>\n",
       "      <td>0.0</td>\n",
       "      <td>66.0</td>\n",
       "      <td>360.0</td>\n",
       "      <td>1</td>\n",
       "      <td>Urban</td>\n",
       "      <td>Y</td>\n",
       "    </tr>\n",
       "    <tr>\n",
       "      <th>3</th>\n",
       "      <td>LP001006</td>\n",
       "      <td>Male</td>\n",
       "      <td>Yes</td>\n",
       "      <td>0</td>\n",
       "      <td>Not Graduate</td>\n",
       "      <td>No</td>\n",
       "      <td>2583</td>\n",
       "      <td>2358.0</td>\n",
       "      <td>120.0</td>\n",
       "      <td>360.0</td>\n",
       "      <td>1</td>\n",
       "      <td>Urban</td>\n",
       "      <td>Y</td>\n",
       "    </tr>\n",
       "    <tr>\n",
       "      <th>4</th>\n",
       "      <td>LP001008</td>\n",
       "      <td>Male</td>\n",
       "      <td>No</td>\n",
       "      <td>0</td>\n",
       "      <td>Graduate</td>\n",
       "      <td>No</td>\n",
       "      <td>6000</td>\n",
       "      <td>0.0</td>\n",
       "      <td>141.0</td>\n",
       "      <td>360.0</td>\n",
       "      <td>1</td>\n",
       "      <td>Urban</td>\n",
       "      <td>Y</td>\n",
       "    </tr>\n",
       "  </tbody>\n",
       "</table>\n",
       "</div>"
      ],
      "text/plain": [
       "    Loan_ID Gender Married Dependents     Education Self_Employed  \\\n",
       "0  LP001002   Male      No          0      Graduate            No   \n",
       "1  LP001003   Male     Yes          1      Graduate            No   \n",
       "2  LP001005   Male     Yes          0      Graduate           Yes   \n",
       "3  LP001006   Male     Yes          0  Not Graduate            No   \n",
       "4  LP001008   Male      No          0      Graduate            No   \n",
       "\n",
       "   ApplicantIncome  CoapplicantIncome  LoanAmount  Loan_Amount_Term  \\\n",
       "0             5849                0.0         NaN             360.0   \n",
       "1             4583             1508.0       128.0             360.0   \n",
       "2             3000                0.0        66.0             360.0   \n",
       "3             2583             2358.0       120.0             360.0   \n",
       "4             6000                0.0       141.0             360.0   \n",
       "\n",
       "  Credit_History Property_Area Loan_Status  \n",
       "0              1         Urban           Y  \n",
       "1              1         Rural           N  \n",
       "2              1         Urban           Y  \n",
       "3              1         Urban           Y  \n",
       "4              1         Urban           Y  "
      ]
     },
     "execution_count": 11,
     "metadata": {
      "tags": []
     },
     "output_type": "execute_result"
    }
   ],
   "source": [
    "desarrll.head(5)"
   ]
  },
  {
   "cell_type": "code",
   "execution_count": null,
   "metadata": {
    "colab": {},
    "colab_type": "code",
    "id": "W_8dgs6xyP6I",
    "outputId": "009fbb39-c402-4238-8987-5dca2bbdf603"
   },
   "outputs": [
    {
     "name": "stdout",
     "output_type": "stream",
     "text": [
      "Gender\n",
      "Married\n",
      "Education\n",
      "Self_Employed\n",
      "Property_Area\n",
      "Dependents\n",
      "Loan_Status\n"
     ]
    }
   ],
   "source": [
    "# Preprocesamiento con LabelEncoder\n",
    "\n",
    "from sklearn.preprocessing import LabelEncoder\n",
    "for c in columnas_categoricas:\n",
    "    print(str(c))\n",
    "    le = LabelEncoder()\n",
    "    le.fit(desarrll[str(c)])\n",
    "    desarrll[str(c)]=le.transform(desarrll[str(c)]) "
   ]
  },
  {
   "cell_type": "code",
   "execution_count": null,
   "metadata": {
    "colab": {},
    "colab_type": "code",
    "id": "TCBiljDWyP6L",
    "outputId": "21d29962-deaf-4377-f3f0-bfcff2fdfb8e"
   },
   "outputs": [
    {
     "data": {
      "text/html": [
       "<div>\n",
       "<style scoped>\n",
       "    .dataframe tbody tr th:only-of-type {\n",
       "        vertical-align: middle;\n",
       "    }\n",
       "\n",
       "    .dataframe tbody tr th {\n",
       "        vertical-align: top;\n",
       "    }\n",
       "\n",
       "    .dataframe thead th {\n",
       "        text-align: right;\n",
       "    }\n",
       "</style>\n",
       "<table border=\"1\" class=\"dataframe\">\n",
       "  <thead>\n",
       "    <tr style=\"text-align: right;\">\n",
       "      <th></th>\n",
       "      <th>Loan_ID</th>\n",
       "      <th>Gender</th>\n",
       "      <th>Married</th>\n",
       "      <th>Dependents</th>\n",
       "      <th>Education</th>\n",
       "      <th>Self_Employed</th>\n",
       "      <th>ApplicantIncome</th>\n",
       "      <th>CoapplicantIncome</th>\n",
       "      <th>LoanAmount</th>\n",
       "      <th>Loan_Amount_Term</th>\n",
       "      <th>Credit_History</th>\n",
       "      <th>Property_Area</th>\n",
       "      <th>Loan_Status</th>\n",
       "    </tr>\n",
       "  </thead>\n",
       "  <tbody>\n",
       "    <tr>\n",
       "      <th>0</th>\n",
       "      <td>LP001002</td>\n",
       "      <td>1</td>\n",
       "      <td>0</td>\n",
       "      <td>0</td>\n",
       "      <td>0</td>\n",
       "      <td>0</td>\n",
       "      <td>5849</td>\n",
       "      <td>0.0</td>\n",
       "      <td>NaN</td>\n",
       "      <td>360.0</td>\n",
       "      <td>1</td>\n",
       "      <td>2</td>\n",
       "      <td>1</td>\n",
       "    </tr>\n",
       "    <tr>\n",
       "      <th>1</th>\n",
       "      <td>LP001003</td>\n",
       "      <td>1</td>\n",
       "      <td>1</td>\n",
       "      <td>1</td>\n",
       "      <td>0</td>\n",
       "      <td>0</td>\n",
       "      <td>4583</td>\n",
       "      <td>1508.0</td>\n",
       "      <td>128.0</td>\n",
       "      <td>360.0</td>\n",
       "      <td>1</td>\n",
       "      <td>0</td>\n",
       "      <td>0</td>\n",
       "    </tr>\n",
       "    <tr>\n",
       "      <th>2</th>\n",
       "      <td>LP001005</td>\n",
       "      <td>1</td>\n",
       "      <td>1</td>\n",
       "      <td>0</td>\n",
       "      <td>0</td>\n",
       "      <td>1</td>\n",
       "      <td>3000</td>\n",
       "      <td>0.0</td>\n",
       "      <td>66.0</td>\n",
       "      <td>360.0</td>\n",
       "      <td>1</td>\n",
       "      <td>2</td>\n",
       "      <td>1</td>\n",
       "    </tr>\n",
       "    <tr>\n",
       "      <th>3</th>\n",
       "      <td>LP001006</td>\n",
       "      <td>1</td>\n",
       "      <td>1</td>\n",
       "      <td>0</td>\n",
       "      <td>1</td>\n",
       "      <td>0</td>\n",
       "      <td>2583</td>\n",
       "      <td>2358.0</td>\n",
       "      <td>120.0</td>\n",
       "      <td>360.0</td>\n",
       "      <td>1</td>\n",
       "      <td>2</td>\n",
       "      <td>1</td>\n",
       "    </tr>\n",
       "    <tr>\n",
       "      <th>4</th>\n",
       "      <td>LP001008</td>\n",
       "      <td>1</td>\n",
       "      <td>0</td>\n",
       "      <td>0</td>\n",
       "      <td>0</td>\n",
       "      <td>0</td>\n",
       "      <td>6000</td>\n",
       "      <td>0.0</td>\n",
       "      <td>141.0</td>\n",
       "      <td>360.0</td>\n",
       "      <td>1</td>\n",
       "      <td>2</td>\n",
       "      <td>1</td>\n",
       "    </tr>\n",
       "    <tr>\n",
       "      <th>5</th>\n",
       "      <td>LP001011</td>\n",
       "      <td>1</td>\n",
       "      <td>1</td>\n",
       "      <td>2</td>\n",
       "      <td>0</td>\n",
       "      <td>1</td>\n",
       "      <td>5417</td>\n",
       "      <td>4196.0</td>\n",
       "      <td>267.0</td>\n",
       "      <td>360.0</td>\n",
       "      <td>1</td>\n",
       "      <td>2</td>\n",
       "      <td>1</td>\n",
       "    </tr>\n",
       "    <tr>\n",
       "      <th>6</th>\n",
       "      <td>LP001013</td>\n",
       "      <td>1</td>\n",
       "      <td>1</td>\n",
       "      <td>0</td>\n",
       "      <td>1</td>\n",
       "      <td>0</td>\n",
       "      <td>2333</td>\n",
       "      <td>1516.0</td>\n",
       "      <td>95.0</td>\n",
       "      <td>360.0</td>\n",
       "      <td>1</td>\n",
       "      <td>2</td>\n",
       "      <td>1</td>\n",
       "    </tr>\n",
       "    <tr>\n",
       "      <th>7</th>\n",
       "      <td>LP001014</td>\n",
       "      <td>1</td>\n",
       "      <td>1</td>\n",
       "      <td>3</td>\n",
       "      <td>0</td>\n",
       "      <td>0</td>\n",
       "      <td>3036</td>\n",
       "      <td>2504.0</td>\n",
       "      <td>158.0</td>\n",
       "      <td>360.0</td>\n",
       "      <td>0</td>\n",
       "      <td>1</td>\n",
       "      <td>0</td>\n",
       "    </tr>\n",
       "    <tr>\n",
       "      <th>8</th>\n",
       "      <td>LP001018</td>\n",
       "      <td>1</td>\n",
       "      <td>1</td>\n",
       "      <td>2</td>\n",
       "      <td>0</td>\n",
       "      <td>0</td>\n",
       "      <td>4006</td>\n",
       "      <td>1526.0</td>\n",
       "      <td>168.0</td>\n",
       "      <td>360.0</td>\n",
       "      <td>1</td>\n",
       "      <td>2</td>\n",
       "      <td>1</td>\n",
       "    </tr>\n",
       "    <tr>\n",
       "      <th>9</th>\n",
       "      <td>LP001020</td>\n",
       "      <td>1</td>\n",
       "      <td>1</td>\n",
       "      <td>1</td>\n",
       "      <td>0</td>\n",
       "      <td>0</td>\n",
       "      <td>12841</td>\n",
       "      <td>10968.0</td>\n",
       "      <td>349.0</td>\n",
       "      <td>360.0</td>\n",
       "      <td>1</td>\n",
       "      <td>1</td>\n",
       "      <td>0</td>\n",
       "    </tr>\n",
       "  </tbody>\n",
       "</table>\n",
       "</div>"
      ],
      "text/plain": [
       "    Loan_ID  Gender  Married  Dependents  Education  Self_Employed  \\\n",
       "0  LP001002       1        0           0          0              0   \n",
       "1  LP001003       1        1           1          0              0   \n",
       "2  LP001005       1        1           0          0              1   \n",
       "3  LP001006       1        1           0          1              0   \n",
       "4  LP001008       1        0           0          0              0   \n",
       "5  LP001011       1        1           2          0              1   \n",
       "6  LP001013       1        1           0          1              0   \n",
       "7  LP001014       1        1           3          0              0   \n",
       "8  LP001018       1        1           2          0              0   \n",
       "9  LP001020       1        1           1          0              0   \n",
       "\n",
       "   ApplicantIncome  CoapplicantIncome  LoanAmount  Loan_Amount_Term  \\\n",
       "0             5849                0.0         NaN             360.0   \n",
       "1             4583             1508.0       128.0             360.0   \n",
       "2             3000                0.0        66.0             360.0   \n",
       "3             2583             2358.0       120.0             360.0   \n",
       "4             6000                0.0       141.0             360.0   \n",
       "5             5417             4196.0       267.0             360.0   \n",
       "6             2333             1516.0        95.0             360.0   \n",
       "7             3036             2504.0       158.0             360.0   \n",
       "8             4006             1526.0       168.0             360.0   \n",
       "9            12841            10968.0       349.0             360.0   \n",
       "\n",
       "  Credit_History  Property_Area  Loan_Status  \n",
       "0              1              2            1  \n",
       "1              1              0            0  \n",
       "2              1              2            1  \n",
       "3              1              2            1  \n",
       "4              1              2            1  \n",
       "5              1              2            1  \n",
       "6              1              2            1  \n",
       "7              0              1            0  \n",
       "8              1              2            1  \n",
       "9              1              1            0  "
      ]
     },
     "execution_count": 13,
     "metadata": {
      "tags": []
     },
     "output_type": "execute_result"
    }
   ],
   "source": [
    "desarrll.head(10)"
   ]
  },
  {
   "cell_type": "code",
   "execution_count": null,
   "metadata": {
    "colab": {},
    "colab_type": "code",
    "id": "qL_ngM5kyP6O"
   },
   "outputs": [],
   "source": [
    "#desarrll.isnull().sum()"
   ]
  },
  {
   "cell_type": "code",
   "execution_count": null,
   "metadata": {
    "colab": {},
    "colab_type": "code",
    "id": "e_JaWcscyP6R"
   },
   "outputs": [],
   "source": [
    "# Imputamos los valores cuantitativos por Media o Mediana\n",
    "## Median\n",
    "for c in columnas_numericas:\n",
    "    median = desarrll[c].median()\n",
    "    desarrll[c].fillna(median, inplace=True)"
   ]
  },
  {
   "cell_type": "code",
   "execution_count": null,
   "metadata": {
    "colab": {},
    "colab_type": "code",
    "id": "4p9--CyQyP6U"
   },
   "outputs": [],
   "source": [
    "#desarrll.LoanAmount = desarrll.LoanAmount.fillna(desarrll.LoanAmount.median())"
   ]
  },
  {
   "cell_type": "code",
   "execution_count": null,
   "metadata": {
    "colab": {},
    "colab_type": "code",
    "id": "ijxU-EwjyP6W",
    "outputId": "68a806cc-56cc-4d36-ee52-23c5f0240c7f"
   },
   "outputs": [
    {
     "data": {
      "text/plain": [
       "Loan_ID              0\n",
       "Gender               0\n",
       "Married              0\n",
       "Dependents           0\n",
       "Education            0\n",
       "Self_Employed        0\n",
       "ApplicantIncome      0\n",
       "CoapplicantIncome    0\n",
       "LoanAmount           0\n",
       "Loan_Amount_Term     0\n",
       "Credit_History       0\n",
       "Property_Area        0\n",
       "Loan_Status          0\n",
       "dtype: int64"
      ]
     },
     "execution_count": 15,
     "metadata": {
      "tags": []
     },
     "output_type": "execute_result"
    }
   ],
   "source": [
    "# Revisamos si la recodigicación fue la idónea\n",
    "desarrll.isnull().sum()\n",
    "#train.head(10)"
   ]
  },
  {
   "cell_type": "code",
   "execution_count": null,
   "metadata": {
    "colab": {},
    "colab_type": "code",
    "id": "zXGTfHypyP6Y"
   },
   "outputs": [],
   "source": [
    "########################################\n",
    "# Tratamiento de valores outliers\n",
    "########################################"
   ]
  },
  {
   "cell_type": "markdown",
   "metadata": {
    "colab_type": "text",
    "id": "bTegzFniyP6c"
   },
   "source": [
    "![image.png](attachment:image.png)"
   ]
  },
  {
   "cell_type": "code",
   "execution_count": null,
   "metadata": {
    "colab": {},
    "colab_type": "code",
    "id": "mdPfx6HQyP6d"
   },
   "outputs": [],
   "source": [
    "# Creamos una funcion para poder visualizar los percentiles\n",
    "def Cuantiles(lista):\n",
    "    c = [0,1,5,10,20,30,40,50,60,70,80,90,92.5,95,97.5,99,100]\n",
    "    matrix = pd.concat([pd.DataFrame(c),pd.DataFrame(np.percentile(lista.dropna(),c))],axis = 1)\n",
    "    matrix.columns = [\"Cuantil\",\"Valor_Cuantil\"]\n",
    "    return(matrix)"
   ]
  },
  {
   "cell_type": "code",
   "execution_count": null,
   "metadata": {
    "colab": {},
    "colab_type": "code",
    "id": "xhcXHdO0yP6f",
    "outputId": "3ad2955c-6147-44fb-e933-838085b6ad0b"
   },
   "outputs": [
    {
     "data": {
      "text/html": [
       "<div>\n",
       "<style scoped>\n",
       "    .dataframe tbody tr th:only-of-type {\n",
       "        vertical-align: middle;\n",
       "    }\n",
       "\n",
       "    .dataframe tbody tr th {\n",
       "        vertical-align: top;\n",
       "    }\n",
       "\n",
       "    .dataframe thead th {\n",
       "        text-align: right;\n",
       "    }\n",
       "</style>\n",
       "<table border=\"1\" class=\"dataframe\">\n",
       "  <thead>\n",
       "    <tr style=\"text-align: right;\">\n",
       "      <th></th>\n",
       "      <th>0</th>\n",
       "      <th>1</th>\n",
       "      <th>2</th>\n",
       "      <th>3</th>\n",
       "      <th>4</th>\n",
       "      <th>5</th>\n",
       "      <th>6</th>\n",
       "      <th>7</th>\n",
       "      <th>8</th>\n",
       "      <th>9</th>\n",
       "      <th>10</th>\n",
       "      <th>11</th>\n",
       "      <th>12</th>\n",
       "      <th>13</th>\n",
       "      <th>14</th>\n",
       "      <th>15</th>\n",
       "      <th>16</th>\n",
       "    </tr>\n",
       "  </thead>\n",
       "  <tbody>\n",
       "    <tr>\n",
       "      <th>Cuantil</th>\n",
       "      <td>0.0</td>\n",
       "      <td>1.0</td>\n",
       "      <td>5.00</td>\n",
       "      <td>10.0</td>\n",
       "      <td>20.0</td>\n",
       "      <td>30.0</td>\n",
       "      <td>40.0</td>\n",
       "      <td>50.0</td>\n",
       "      <td>60.0</td>\n",
       "      <td>70.0</td>\n",
       "      <td>80.0</td>\n",
       "      <td>90.0</td>\n",
       "      <td>92.500</td>\n",
       "      <td>95.0</td>\n",
       "      <td>97.500</td>\n",
       "      <td>99.00</td>\n",
       "      <td>100.0</td>\n",
       "    </tr>\n",
       "    <tr>\n",
       "      <th>Valor_Cuantil</th>\n",
       "      <td>150.0</td>\n",
       "      <td>1025.0</td>\n",
       "      <td>1897.55</td>\n",
       "      <td>2216.1</td>\n",
       "      <td>2605.4</td>\n",
       "      <td>3050.4</td>\n",
       "      <td>3406.8</td>\n",
       "      <td>3812.5</td>\n",
       "      <td>4343.6</td>\n",
       "      <td>5185.6</td>\n",
       "      <td>6252.4</td>\n",
       "      <td>9459.9</td>\n",
       "      <td>10752.075</td>\n",
       "      <td>14583.0</td>\n",
       "      <td>17948.875</td>\n",
       "      <td>32540.41</td>\n",
       "      <td>81000.0</td>\n",
       "    </tr>\n",
       "  </tbody>\n",
       "</table>\n",
       "</div>"
      ],
      "text/plain": [
       "                  0       1        2       3       4       5       6       7   \\\n",
       "Cuantil          0.0     1.0     5.00    10.0    20.0    30.0    40.0    50.0   \n",
       "Valor_Cuantil  150.0  1025.0  1897.55  2216.1  2605.4  3050.4  3406.8  3812.5   \n",
       "\n",
       "                   8       9       10      11         12       13         14  \\\n",
       "Cuantil          60.0    70.0    80.0    90.0     92.500     95.0     97.500   \n",
       "Valor_Cuantil  4343.6  5185.6  6252.4  9459.9  10752.075  14583.0  17948.875   \n",
       "\n",
       "                     15       16  \n",
       "Cuantil           99.00    100.0  \n",
       "Valor_Cuantil  32540.41  81000.0  "
      ]
     },
     "execution_count": 17,
     "metadata": {
      "tags": []
     },
     "output_type": "execute_result"
    }
   ],
   "source": [
    "# Analizamos las variables numericas\n",
    "# Variable\n",
    "Cuantiles(desarrll[\"ApplicantIncome\"]).transpose()\n",
    "# Nos hacemos la pregunta, podríamos acotar la variable?"
   ]
  },
  {
   "cell_type": "code",
   "execution_count": null,
   "metadata": {
    "colab": {},
    "colab_type": "code",
    "id": "NI4rxg56yP6j"
   },
   "outputs": [],
   "source": [
    "# Tratamiento para la variable ApplicantIncome"
   ]
  },
  {
   "cell_type": "code",
   "execution_count": null,
   "metadata": {
    "colab": {},
    "colab_type": "code",
    "id": "uQc_msfwyP6o"
   },
   "outputs": [],
   "source": [
    "## ApplicantIncome\n",
    "cuantil_1 = np.percentile(desarrll[\"ApplicantIncome\"],1)\n",
    "cuantil_95 = np.percentile(desarrll[\"ApplicantIncome\"],95)\n",
    "\n",
    "# Reemplazamos el valor minimo y maximo\n",
    "desarrll.loc[desarrll[\"ApplicantIncome\"]<cuantil_1,\"ApplicantIncome\"] = cuantil_1\n",
    "desarrll.loc[desarrll[\"ApplicantIncome\"]>cuantil_95,\"ApplicantIncome\"] = cuantil_95\n"
   ]
  },
  {
   "cell_type": "code",
   "execution_count": null,
   "metadata": {
    "colab": {},
    "colab_type": "code",
    "id": "CReO3mBuyP6q",
    "outputId": "8173cb15-e811-49fb-8153-cd93df3003c8"
   },
   "outputs": [
    {
     "data": {
      "text/html": [
       "<div>\n",
       "<style scoped>\n",
       "    .dataframe tbody tr th:only-of-type {\n",
       "        vertical-align: middle;\n",
       "    }\n",
       "\n",
       "    .dataframe tbody tr th {\n",
       "        vertical-align: top;\n",
       "    }\n",
       "\n",
       "    .dataframe thead th {\n",
       "        text-align: right;\n",
       "    }\n",
       "</style>\n",
       "<table border=\"1\" class=\"dataframe\">\n",
       "  <thead>\n",
       "    <tr style=\"text-align: right;\">\n",
       "      <th></th>\n",
       "      <th>0</th>\n",
       "      <th>1</th>\n",
       "      <th>2</th>\n",
       "      <th>3</th>\n",
       "      <th>4</th>\n",
       "      <th>5</th>\n",
       "      <th>6</th>\n",
       "      <th>7</th>\n",
       "      <th>8</th>\n",
       "      <th>9</th>\n",
       "      <th>10</th>\n",
       "      <th>11</th>\n",
       "      <th>12</th>\n",
       "      <th>13</th>\n",
       "      <th>14</th>\n",
       "      <th>15</th>\n",
       "      <th>16</th>\n",
       "    </tr>\n",
       "  </thead>\n",
       "  <tbody>\n",
       "    <tr>\n",
       "      <th>Cuantil</th>\n",
       "      <td>0.0</td>\n",
       "      <td>1.0</td>\n",
       "      <td>5.0</td>\n",
       "      <td>10.0</td>\n",
       "      <td>20.0</td>\n",
       "      <td>30.0</td>\n",
       "      <td>40.0</td>\n",
       "      <td>50.0</td>\n",
       "      <td>60.0</td>\n",
       "      <td>70.0</td>\n",
       "      <td>80.0</td>\n",
       "      <td>90.0</td>\n",
       "      <td>92.500</td>\n",
       "      <td>95.0</td>\n",
       "      <td>97.500</td>\n",
       "      <td>99.00</td>\n",
       "      <td>100.0</td>\n",
       "    </tr>\n",
       "    <tr>\n",
       "      <th>Valor_Cuantil</th>\n",
       "      <td>0.0</td>\n",
       "      <td>0.0</td>\n",
       "      <td>0.0</td>\n",
       "      <td>0.0</td>\n",
       "      <td>0.0</td>\n",
       "      <td>0.0</td>\n",
       "      <td>0.0</td>\n",
       "      <td>1188.5</td>\n",
       "      <td>1689.6</td>\n",
       "      <td>2083.0</td>\n",
       "      <td>2535.0</td>\n",
       "      <td>3782.2</td>\n",
       "      <td>4300.025</td>\n",
       "      <td>4997.4</td>\n",
       "      <td>6666.675</td>\n",
       "      <td>8895.89</td>\n",
       "      <td>41667.0</td>\n",
       "    </tr>\n",
       "  </tbody>\n",
       "</table>\n",
       "</div>"
      ],
      "text/plain": [
       "                0    1    2     3     4     5     6       7       8       9   \\\n",
       "Cuantil        0.0  1.0  5.0  10.0  20.0  30.0  40.0    50.0    60.0    70.0   \n",
       "Valor_Cuantil  0.0  0.0  0.0   0.0   0.0   0.0   0.0  1188.5  1689.6  2083.0   \n",
       "\n",
       "                   10      11        12      13        14       15       16  \n",
       "Cuantil          80.0    90.0    92.500    95.0    97.500    99.00    100.0  \n",
       "Valor_Cuantil  2535.0  3782.2  4300.025  4997.4  6666.675  8895.89  41667.0  "
      ]
     },
     "execution_count": 19,
     "metadata": {
      "tags": []
     },
     "output_type": "execute_result"
    }
   ],
   "source": [
    "# Analizamos las variables numericas\n",
    "# Variable\n",
    "Cuantiles(desarrll[\"CoapplicantIncome\"]).transpose()\n",
    "# Nos hacemos la pregunta, podríamos acotar la variable?"
   ]
  },
  {
   "cell_type": "code",
   "execution_count": null,
   "metadata": {
    "colab": {},
    "colab_type": "code",
    "id": "Yum5uhydyP6s"
   },
   "outputs": [],
   "source": [
    "## CoapplicantIncome\n",
    "cuantil_99 = np.percentile(desarrll[\"CoapplicantIncome\"],99)\n",
    "# Reemplazamos el valor maximo\n",
    "desarrll.loc[desarrll[\"CoapplicantIncome\"]>cuantil_99,\"CoapplicantIncome\"] = cuantil_99"
   ]
  },
  {
   "cell_type": "code",
   "execution_count": null,
   "metadata": {
    "colab": {},
    "colab_type": "code",
    "id": "6tDpbeumyP6v",
    "outputId": "bdfb5ee1-d20d-48ff-fd21-529a3c1ca666"
   },
   "outputs": [
    {
     "data": {
      "text/html": [
       "<div>\n",
       "<style scoped>\n",
       "    .dataframe tbody tr th:only-of-type {\n",
       "        vertical-align: middle;\n",
       "    }\n",
       "\n",
       "    .dataframe tbody tr th {\n",
       "        vertical-align: top;\n",
       "    }\n",
       "\n",
       "    .dataframe thead th {\n",
       "        text-align: right;\n",
       "    }\n",
       "</style>\n",
       "<table border=\"1\" class=\"dataframe\">\n",
       "  <thead>\n",
       "    <tr style=\"text-align: right;\">\n",
       "      <th></th>\n",
       "      <th>0</th>\n",
       "      <th>1</th>\n",
       "      <th>2</th>\n",
       "      <th>3</th>\n",
       "      <th>4</th>\n",
       "      <th>5</th>\n",
       "      <th>6</th>\n",
       "      <th>7</th>\n",
       "      <th>8</th>\n",
       "      <th>9</th>\n",
       "      <th>10</th>\n",
       "      <th>11</th>\n",
       "      <th>12</th>\n",
       "      <th>13</th>\n",
       "      <th>14</th>\n",
       "      <th>15</th>\n",
       "      <th>16</th>\n",
       "    </tr>\n",
       "  </thead>\n",
       "  <tbody>\n",
       "    <tr>\n",
       "      <th>Cuantil</th>\n",
       "      <td>0.0</td>\n",
       "      <td>1.00</td>\n",
       "      <td>5.0</td>\n",
       "      <td>10.0</td>\n",
       "      <td>20.0</td>\n",
       "      <td>30.0</td>\n",
       "      <td>40.0</td>\n",
       "      <td>50.0</td>\n",
       "      <td>60.0</td>\n",
       "      <td>70.0</td>\n",
       "      <td>80.0</td>\n",
       "      <td>90.0</td>\n",
       "      <td>92.500</td>\n",
       "      <td>95.0</td>\n",
       "      <td>97.5</td>\n",
       "      <td>99.00</td>\n",
       "      <td>100.0</td>\n",
       "    </tr>\n",
       "    <tr>\n",
       "      <th>Valor_Cuantil</th>\n",
       "      <td>9.0</td>\n",
       "      <td>30.65</td>\n",
       "      <td>57.3</td>\n",
       "      <td>72.3</td>\n",
       "      <td>96.0</td>\n",
       "      <td>109.9</td>\n",
       "      <td>119.2</td>\n",
       "      <td>128.0</td>\n",
       "      <td>136.0</td>\n",
       "      <td>155.0</td>\n",
       "      <td>180.0</td>\n",
       "      <td>229.4</td>\n",
       "      <td>258.025</td>\n",
       "      <td>293.4</td>\n",
       "      <td>378.7</td>\n",
       "      <td>495.87</td>\n",
       "      <td>700.0</td>\n",
       "    </tr>\n",
       "  </tbody>\n",
       "</table>\n",
       "</div>"
      ],
      "text/plain": [
       "                0      1     2     3     4      5      6      7      8   \\\n",
       "Cuantil        0.0   1.00   5.0  10.0  20.0   30.0   40.0   50.0   60.0   \n",
       "Valor_Cuantil  9.0  30.65  57.3  72.3  96.0  109.9  119.2  128.0  136.0   \n",
       "\n",
       "                  9      10     11       12     13     14      15     16  \n",
       "Cuantil         70.0   80.0   90.0   92.500   95.0   97.5   99.00  100.0  \n",
       "Valor_Cuantil  155.0  180.0  229.4  258.025  293.4  378.7  495.87  700.0  "
      ]
     },
     "execution_count": 21,
     "metadata": {
      "tags": []
     },
     "output_type": "execute_result"
    }
   ],
   "source": [
    "# Analizamos las variables numericas\n",
    "# Variable LoanAmount\n",
    "Cuantiles(desarrll[\"LoanAmount\"]).transpose()\n",
    "# Nos hacemos la pregunta, podríamos acotar la variable?"
   ]
  },
  {
   "cell_type": "code",
   "execution_count": null,
   "metadata": {
    "colab": {},
    "colab_type": "code",
    "id": "fugVKAgRyP60"
   },
   "outputs": [],
   "source": [
    "## CoapplicantIncome\n",
    "cuantil_1 = np.percentile(desarrll[\"LoanAmount\"],1)\n",
    "# Reemplazamos el valor minimo\n",
    "desarrll.loc[desarrll[\"LoanAmount\"]<cuantil_1,\"LoanAmount\"] = cuantil_1"
   ]
  },
  {
   "cell_type": "code",
   "execution_count": null,
   "metadata": {
    "colab": {},
    "colab_type": "code",
    "id": "qJYIqE91yP62",
    "outputId": "80795393-e3e8-4e50-9d21-8a4885eda0dd"
   },
   "outputs": [
    {
     "data": {
      "text/html": [
       "<div>\n",
       "<style scoped>\n",
       "    .dataframe tbody tr th:only-of-type {\n",
       "        vertical-align: middle;\n",
       "    }\n",
       "\n",
       "    .dataframe tbody tr th {\n",
       "        vertical-align: top;\n",
       "    }\n",
       "\n",
       "    .dataframe thead th {\n",
       "        text-align: right;\n",
       "    }\n",
       "</style>\n",
       "<table border=\"1\" class=\"dataframe\">\n",
       "  <thead>\n",
       "    <tr style=\"text-align: right;\">\n",
       "      <th></th>\n",
       "      <th>0</th>\n",
       "      <th>1</th>\n",
       "      <th>2</th>\n",
       "      <th>3</th>\n",
       "      <th>4</th>\n",
       "      <th>5</th>\n",
       "      <th>6</th>\n",
       "      <th>7</th>\n",
       "      <th>8</th>\n",
       "      <th>9</th>\n",
       "      <th>10</th>\n",
       "      <th>11</th>\n",
       "      <th>12</th>\n",
       "      <th>13</th>\n",
       "      <th>14</th>\n",
       "      <th>15</th>\n",
       "      <th>16</th>\n",
       "    </tr>\n",
       "  </thead>\n",
       "  <tbody>\n",
       "    <tr>\n",
       "      <th>Cuantil</th>\n",
       "      <td>0.0</td>\n",
       "      <td>1.0</td>\n",
       "      <td>5.0</td>\n",
       "      <td>10.0</td>\n",
       "      <td>20.0</td>\n",
       "      <td>30.0</td>\n",
       "      <td>40.0</td>\n",
       "      <td>50.0</td>\n",
       "      <td>60.0</td>\n",
       "      <td>70.0</td>\n",
       "      <td>80.0</td>\n",
       "      <td>90.0</td>\n",
       "      <td>92.5</td>\n",
       "      <td>95.0</td>\n",
       "      <td>97.5</td>\n",
       "      <td>99.0</td>\n",
       "      <td>100.0</td>\n",
       "    </tr>\n",
       "    <tr>\n",
       "      <th>Valor_Cuantil</th>\n",
       "      <td>12.0</td>\n",
       "      <td>84.0</td>\n",
       "      <td>180.0</td>\n",
       "      <td>300.0</td>\n",
       "      <td>360.0</td>\n",
       "      <td>360.0</td>\n",
       "      <td>360.0</td>\n",
       "      <td>360.0</td>\n",
       "      <td>360.0</td>\n",
       "      <td>360.0</td>\n",
       "      <td>360.0</td>\n",
       "      <td>360.0</td>\n",
       "      <td>360.0</td>\n",
       "      <td>360.0</td>\n",
       "      <td>360.0</td>\n",
       "      <td>480.0</td>\n",
       "      <td>480.0</td>\n",
       "    </tr>\n",
       "  </tbody>\n",
       "</table>\n",
       "</div>"
      ],
      "text/plain": [
       "                 0     1      2      3      4      5      6      7      8   \\\n",
       "Cuantil         0.0   1.0    5.0   10.0   20.0   30.0   40.0   50.0   60.0   \n",
       "Valor_Cuantil  12.0  84.0  180.0  300.0  360.0  360.0  360.0  360.0  360.0   \n",
       "\n",
       "                  9      10     11     12     13     14     15     16  \n",
       "Cuantil         70.0   80.0   90.0   92.5   95.0   97.5   99.0  100.0  \n",
       "Valor_Cuantil  360.0  360.0  360.0  360.0  360.0  360.0  480.0  480.0  "
      ]
     },
     "execution_count": 23,
     "metadata": {
      "tags": []
     },
     "output_type": "execute_result"
    }
   ],
   "source": [
    "# Analizamos las variables numericas\n",
    "# Variable Loan_Amount_Term\n",
    "Cuantiles(desarrll[\"Loan_Amount_Term\"]).transpose()\n",
    "# Nos hacemos la pregunta, podríamos acotar la variable?"
   ]
  },
  {
   "cell_type": "code",
   "execution_count": null,
   "metadata": {
    "colab": {},
    "colab_type": "code",
    "id": "HSHGwEQRyP64"
   },
   "outputs": [],
   "source": [
    "########################################\n",
    "## Feature Enginnering ##\n",
    "########################################"
   ]
  },
  {
   "cell_type": "markdown",
   "metadata": {
    "colab_type": "text",
    "id": "H9IvGpmRyP68"
   },
   "source": [
    "![image.png](attachment:image.png)"
   ]
  },
  {
   "cell_type": "code",
   "execution_count": null,
   "metadata": {
    "colab": {},
    "colab_type": "code",
    "id": "lL8m2HcryP68"
   },
   "outputs": [],
   "source": [
    "## Creación de Variables por Decision de Negocio o de acuerdo a metodologías más automatizadas es el\n",
    "# corazon de Machine Learning\n",
    "# También conocido como proceso de Feature Engineering, no olvidar que todo lo que le hacemos al Train o Entrenamiento se lo\n",
    "# debemos hacer a la data de scoreo o data productiva."
   ]
  },
  {
   "cell_type": "code",
   "execution_count": null,
   "metadata": {
    "colab": {},
    "colab_type": "code",
    "id": "ZnOtfrAXyP6-",
    "outputId": "6c6f0cd7-4046-430b-a0a0-9714a5023da9"
   },
   "outputs": [
    {
     "data": {
      "text/plain": [
       "(614, 13)"
      ]
     },
     "execution_count": 65,
     "metadata": {
      "tags": []
     },
     "output_type": "execute_result"
    }
   ],
   "source": [
    "desarrll.shape"
   ]
  },
  {
   "cell_type": "code",
   "execution_count": null,
   "metadata": {
    "colab": {},
    "colab_type": "code",
    "id": "f73_UrCdyP7A",
    "outputId": "0a759b63-742c-47fe-ff9c-2854f629d73c"
   },
   "outputs": [
    {
     "data": {
      "text/html": [
       "<div>\n",
       "<style scoped>\n",
       "    .dataframe tbody tr th:only-of-type {\n",
       "        vertical-align: middle;\n",
       "    }\n",
       "\n",
       "    .dataframe tbody tr th {\n",
       "        vertical-align: top;\n",
       "    }\n",
       "\n",
       "    .dataframe thead th {\n",
       "        text-align: right;\n",
       "    }\n",
       "</style>\n",
       "<table border=\"1\" class=\"dataframe\">\n",
       "  <thead>\n",
       "    <tr style=\"text-align: right;\">\n",
       "      <th></th>\n",
       "      <th>Loan_ID</th>\n",
       "      <th>Gender</th>\n",
       "      <th>Married</th>\n",
       "      <th>Dependents</th>\n",
       "      <th>Education</th>\n",
       "      <th>Self_Employed</th>\n",
       "      <th>ApplicantIncome</th>\n",
       "      <th>CoapplicantIncome</th>\n",
       "      <th>LoanAmount</th>\n",
       "      <th>Loan_Amount_Term</th>\n",
       "      <th>Credit_History</th>\n",
       "      <th>Property_Area</th>\n",
       "      <th>Loan_Status</th>\n",
       "    </tr>\n",
       "  </thead>\n",
       "  <tbody>\n",
       "    <tr>\n",
       "      <th>0</th>\n",
       "      <td>LP001002</td>\n",
       "      <td>1</td>\n",
       "      <td>0</td>\n",
       "      <td>0</td>\n",
       "      <td>0</td>\n",
       "      <td>0</td>\n",
       "      <td>5849.0</td>\n",
       "      <td>0.0</td>\n",
       "      <td>128.0</td>\n",
       "      <td>360.0</td>\n",
       "      <td>1</td>\n",
       "      <td>2</td>\n",
       "      <td>1</td>\n",
       "    </tr>\n",
       "  </tbody>\n",
       "</table>\n",
       "</div>"
      ],
      "text/plain": [
       "    Loan_ID  Gender  Married  Dependents  Education  Self_Employed  \\\n",
       "0  LP001002       1        0           0          0              0   \n",
       "\n",
       "   ApplicantIncome  CoapplicantIncome  LoanAmount  Loan_Amount_Term  \\\n",
       "0           5849.0                0.0       128.0             360.0   \n",
       "\n",
       "  Credit_History  Property_Area  Loan_Status  \n",
       "0              1              2            1  "
      ]
     },
     "execution_count": 24,
     "metadata": {
      "tags": []
     },
     "output_type": "execute_result"
    }
   ],
   "source": [
    "desarrll.head(1)"
   ]
  },
  {
   "cell_type": "code",
   "execution_count": null,
   "metadata": {
    "colab": {},
    "colab_type": "code",
    "id": "E4rcpQ6CyP7D"
   },
   "outputs": [],
   "source": [
    "# Ingenieria de datos\n",
    "#Creamos las variables para el entrenamiento o train\n",
    "desarrll['TotalIncome']    = desarrll['ApplicantIncome'] + desarrll['CoapplicantIncome']\n",
    "desarrll['Log_LoanAmount'] = round(np.log(desarrll['LoanAmount']+1),2)"
   ]
  },
  {
   "cell_type": "code",
   "execution_count": null,
   "metadata": {
    "colab": {},
    "colab_type": "code",
    "id": "-G_qzdLzyP7F"
   },
   "outputs": [],
   "source": [
    "desarrll['AmountxTerm']    = round(desarrll['LoanAmount']/desarrll['Loan_Amount_Term'],2)\n",
    "desarrll[\"Cuota_Ingreso1\"] = (1000*desarrll[\"LoanAmount\"]/desarrll[\"Loan_Amount_Term\"])/(desarrll[\"ApplicantIncome\"])\n",
    "desarrll[\"Cuota_Ingreso2\"] = (1000*desarrll[\"LoanAmount\"]/desarrll[\"Loan_Amount_Term\"])/(desarrll[\"TotalIncome\"])\n",
    "desarrll[\"Cuota_Ingreso_Hijo\"] = (1000*desarrll[\"LoanAmount\"]/desarrll[\"Loan_Amount_Term\"])/(desarrll[\"TotalIncome\"]/(desarrll[\"Dependents\"]+1))\n"
   ]
  },
  {
   "cell_type": "code",
   "execution_count": null,
   "metadata": {
    "colab": {},
    "colab_type": "code",
    "id": "iAxOAtR_yP7H",
    "outputId": "91c12808-d3f4-456b-c493-2bb52e7ca336"
   },
   "outputs": [
    {
     "data": {
      "text/plain": [
       "(614, 19)"
      ]
     },
     "execution_count": 27,
     "metadata": {
      "tags": []
     },
     "output_type": "execute_result"
    }
   ],
   "source": [
    "# Revisamos las variables creadas, derrepente queremos crear algunas más?\n",
    "desarrll.shape"
   ]
  },
  {
   "cell_type": "code",
   "execution_count": null,
   "metadata": {
    "colab": {},
    "colab_type": "code",
    "id": "nEq-2vaHyP7J",
    "outputId": "1badb2dd-4d08-4a16-d518-d2aacb7bbcfa"
   },
   "outputs": [
    {
     "data": {
      "text/html": [
       "<div>\n",
       "<style scoped>\n",
       "    .dataframe tbody tr th:only-of-type {\n",
       "        vertical-align: middle;\n",
       "    }\n",
       "\n",
       "    .dataframe tbody tr th {\n",
       "        vertical-align: top;\n",
       "    }\n",
       "\n",
       "    .dataframe thead th {\n",
       "        text-align: right;\n",
       "    }\n",
       "</style>\n",
       "<table border=\"1\" class=\"dataframe\">\n",
       "  <thead>\n",
       "    <tr style=\"text-align: right;\">\n",
       "      <th></th>\n",
       "      <th>Loan_ID</th>\n",
       "      <th>Gender</th>\n",
       "      <th>Married</th>\n",
       "      <th>Dependents</th>\n",
       "      <th>Education</th>\n",
       "      <th>Self_Employed</th>\n",
       "      <th>ApplicantIncome</th>\n",
       "      <th>CoapplicantIncome</th>\n",
       "      <th>LoanAmount</th>\n",
       "      <th>Loan_Amount_Term</th>\n",
       "      <th>Credit_History</th>\n",
       "      <th>Property_Area</th>\n",
       "      <th>Loan_Status</th>\n",
       "      <th>TotalIncome</th>\n",
       "      <th>Log_LoanAmount</th>\n",
       "      <th>AmountxTerm</th>\n",
       "      <th>Cuota_Ingreso1</th>\n",
       "      <th>Cuota_Ingreso2</th>\n",
       "      <th>Cuota_Ingreso_Hijo</th>\n",
       "    </tr>\n",
       "  </thead>\n",
       "  <tbody>\n",
       "    <tr>\n",
       "      <th>0</th>\n",
       "      <td>LP001002</td>\n",
       "      <td>1</td>\n",
       "      <td>0</td>\n",
       "      <td>0</td>\n",
       "      <td>0</td>\n",
       "      <td>0</td>\n",
       "      <td>5849.0</td>\n",
       "      <td>0.0</td>\n",
       "      <td>128.0</td>\n",
       "      <td>360.0</td>\n",
       "      <td>1</td>\n",
       "      <td>2</td>\n",
       "      <td>1</td>\n",
       "      <td>5849.0</td>\n",
       "      <td>4.86</td>\n",
       "      <td>0.36</td>\n",
       "      <td>0.060789</td>\n",
       "      <td>0.060789</td>\n",
       "      <td>0.060789</td>\n",
       "    </tr>\n",
       "    <tr>\n",
       "      <th>1</th>\n",
       "      <td>LP001003</td>\n",
       "      <td>1</td>\n",
       "      <td>1</td>\n",
       "      <td>1</td>\n",
       "      <td>0</td>\n",
       "      <td>0</td>\n",
       "      <td>4583.0</td>\n",
       "      <td>1508.0</td>\n",
       "      <td>128.0</td>\n",
       "      <td>360.0</td>\n",
       "      <td>1</td>\n",
       "      <td>0</td>\n",
       "      <td>0</td>\n",
       "      <td>6091.0</td>\n",
       "      <td>4.86</td>\n",
       "      <td>0.36</td>\n",
       "      <td>0.077581</td>\n",
       "      <td>0.058374</td>\n",
       "      <td>0.116748</td>\n",
       "    </tr>\n",
       "  </tbody>\n",
       "</table>\n",
       "</div>"
      ],
      "text/plain": [
       "    Loan_ID  Gender  Married  Dependents  Education  Self_Employed  \\\n",
       "0  LP001002       1        0           0          0              0   \n",
       "1  LP001003       1        1           1          0              0   \n",
       "\n",
       "   ApplicantIncome  CoapplicantIncome  LoanAmount  Loan_Amount_Term  \\\n",
       "0           5849.0                0.0       128.0             360.0   \n",
       "1           4583.0             1508.0       128.0             360.0   \n",
       "\n",
       "  Credit_History  Property_Area  Loan_Status  TotalIncome  Log_LoanAmount  \\\n",
       "0              1              2            1       5849.0            4.86   \n",
       "1              1              0            0       6091.0            4.86   \n",
       "\n",
       "   AmountxTerm  Cuota_Ingreso1  Cuota_Ingreso2  Cuota_Ingreso_Hijo  \n",
       "0         0.36        0.060789        0.060789            0.060789  \n",
       "1         0.36        0.077581        0.058374            0.116748  "
      ]
     },
     "execution_count": 28,
     "metadata": {
      "tags": []
     },
     "output_type": "execute_result"
    }
   ],
   "source": [
    "desarrll.head(2)"
   ]
  },
  {
   "cell_type": "code",
   "execution_count": null,
   "metadata": {
    "colab": {},
    "colab_type": "code",
    "id": "QxH7nnr_yP7K"
   },
   "outputs": [],
   "source": [
    "########################################\n",
    "# Particion Muestral de los datos\n",
    "########################################"
   ]
  },
  {
   "cell_type": "markdown",
   "metadata": {
    "colab_type": "text",
    "id": "GGwRdSgnyP7O"
   },
   "source": [
    "![image.png](attachment:image.png)"
   ]
  },
  {
   "cell_type": "code",
   "execution_count": null,
   "metadata": {
    "colab": {},
    "colab_type": "code",
    "id": "rLLj6KRCyP7P",
    "outputId": "cb9716ea-8e2b-4d81-9255-cf0a501fccea"
   },
   "outputs": [
    {
     "data": {
      "text/html": [
       "<div>\n",
       "<style scoped>\n",
       "    .dataframe tbody tr th:only-of-type {\n",
       "        vertical-align: middle;\n",
       "    }\n",
       "\n",
       "    .dataframe tbody tr th {\n",
       "        vertical-align: top;\n",
       "    }\n",
       "\n",
       "    .dataframe thead th {\n",
       "        text-align: right;\n",
       "    }\n",
       "</style>\n",
       "<table border=\"1\" class=\"dataframe\">\n",
       "  <thead>\n",
       "    <tr style=\"text-align: right;\">\n",
       "      <th></th>\n",
       "      <th>Gender</th>\n",
       "      <th>Married</th>\n",
       "      <th>Dependents</th>\n",
       "      <th>Education</th>\n",
       "      <th>Self_Employed</th>\n",
       "      <th>ApplicantIncome</th>\n",
       "      <th>CoapplicantIncome</th>\n",
       "      <th>LoanAmount</th>\n",
       "      <th>Loan_Amount_Term</th>\n",
       "      <th>Credit_History</th>\n",
       "      <th>Property_Area</th>\n",
       "      <th>Loan_Status</th>\n",
       "      <th>TotalIncome</th>\n",
       "      <th>Log_LoanAmount</th>\n",
       "      <th>AmountxTerm</th>\n",
       "      <th>Cuota_Ingreso1</th>\n",
       "      <th>Cuota_Ingreso2</th>\n",
       "      <th>Cuota_Ingreso_Hijo</th>\n",
       "    </tr>\n",
       "  </thead>\n",
       "  <tbody>\n",
       "    <tr>\n",
       "      <th>0</th>\n",
       "      <td>1</td>\n",
       "      <td>0</td>\n",
       "      <td>0</td>\n",
       "      <td>0</td>\n",
       "      <td>0</td>\n",
       "      <td>5849.0</td>\n",
       "      <td>0.0</td>\n",
       "      <td>128.0</td>\n",
       "      <td>360.0</td>\n",
       "      <td>1</td>\n",
       "      <td>2</td>\n",
       "      <td>1</td>\n",
       "      <td>5849.0</td>\n",
       "      <td>4.86</td>\n",
       "      <td>0.36</td>\n",
       "      <td>0.060789</td>\n",
       "      <td>0.060789</td>\n",
       "      <td>0.060789</td>\n",
       "    </tr>\n",
       "    <tr>\n",
       "      <th>1</th>\n",
       "      <td>1</td>\n",
       "      <td>1</td>\n",
       "      <td>1</td>\n",
       "      <td>0</td>\n",
       "      <td>0</td>\n",
       "      <td>4583.0</td>\n",
       "      <td>1508.0</td>\n",
       "      <td>128.0</td>\n",
       "      <td>360.0</td>\n",
       "      <td>1</td>\n",
       "      <td>0</td>\n",
       "      <td>0</td>\n",
       "      <td>6091.0</td>\n",
       "      <td>4.86</td>\n",
       "      <td>0.36</td>\n",
       "      <td>0.077581</td>\n",
       "      <td>0.058374</td>\n",
       "      <td>0.116748</td>\n",
       "    </tr>\n",
       "  </tbody>\n",
       "</table>\n",
       "</div>"
      ],
      "text/plain": [
       "   Gender  Married  Dependents  Education  Self_Employed  ApplicantIncome  \\\n",
       "0       1        0           0          0              0           5849.0   \n",
       "1       1        1           1          0              0           4583.0   \n",
       "\n",
       "   CoapplicantIncome  LoanAmount  Loan_Amount_Term Credit_History  \\\n",
       "0                0.0       128.0             360.0              1   \n",
       "1             1508.0       128.0             360.0              1   \n",
       "\n",
       "   Property_Area  Loan_Status  TotalIncome  Log_LoanAmount  AmountxTerm  \\\n",
       "0              2            1       5849.0            4.86         0.36   \n",
       "1              0            0       6091.0            4.86         0.36   \n",
       "\n",
       "   Cuota_Ingreso1  Cuota_Ingreso2  Cuota_Ingreso_Hijo  \n",
       "0        0.060789        0.060789            0.060789  \n",
       "1        0.077581        0.058374            0.116748  "
      ]
     },
     "execution_count": 29,
     "metadata": {
      "tags": []
     },
     "output_type": "execute_result"
    }
   ],
   "source": [
    "# Le quitamos la variable Loan_ID o identificador único para poder modelar la información \n",
    "desarrll = desarrll.drop('Loan_ID', axis=1) # Axis=1\n",
    "desarrll.head(2)"
   ]
  },
  {
   "cell_type": "code",
   "execution_count": null,
   "metadata": {
    "colab": {},
    "colab_type": "code",
    "id": "LFqHFaBAyP7R"
   },
   "outputs": [],
   "source": [
    "#desarrll.head(2)"
   ]
  },
  {
   "cell_type": "code",
   "execution_count": null,
   "metadata": {
    "colab": {},
    "colab_type": "code",
    "id": "5z2WlzXSyP7S"
   },
   "outputs": [],
   "source": [
    "## Si deseamos balancear, podemos hacerlo con toda la informacion?\n",
    "# Creación de la data de train y la data de test\n",
    "from sklearn.model_selection import train_test_split\n",
    "X_train, X_test, y_train, y_test = train_test_split(desarrll.drop('Loan_Status', axis=1), \n",
    "                                                    desarrll['Loan_Status'], \n",
    "                                                    test_size=0.30,\n",
    "                                                    stratify=desarrll['Loan_Status'],\n",
    "                                                    random_state=100)"
   ]
  },
  {
   "cell_type": "code",
   "execution_count": null,
   "metadata": {
    "colab": {},
    "colab_type": "code",
    "id": "VKmJm7hwyP7W",
    "outputId": "7953cae0-15be-4192-de4f-07771550832c"
   },
   "outputs": [
    {
     "data": {
      "text/plain": [
       "1    422\n",
       "0    192\n",
       "Name: Loan_Status, dtype: int64"
      ]
     },
     "execution_count": 31,
     "metadata": {
      "tags": []
     },
     "output_type": "execute_result"
    }
   ],
   "source": [
    "desarrll.Loan_Status.value_counts()"
   ]
  },
  {
   "cell_type": "code",
   "execution_count": null,
   "metadata": {
    "colab": {},
    "colab_type": "code",
    "id": "unsR-W6syP7Y"
   },
   "outputs": [],
   "source": [
    "########################################\n",
    "# Selección de Variables\n",
    "########################################"
   ]
  },
  {
   "cell_type": "markdown",
   "metadata": {
    "colab_type": "text",
    "id": "G-42FkqlyP7Z"
   },
   "source": [
    "![image.png](attachment:image.png)"
   ]
  },
  {
   "cell_type": "code",
   "execution_count": null,
   "metadata": {
    "colab": {},
    "colab_type": "code",
    "id": "vhzinhuCyP7a"
   },
   "outputs": [],
   "source": [
    "import matplotlib.pyplot as plt\n",
    "from sklearn import metrics\n",
    "from sklearn.ensemble import ExtraTreesClassifier"
   ]
  },
  {
   "cell_type": "code",
   "execution_count": null,
   "metadata": {
    "colab": {},
    "colab_type": "code",
    "id": "5nN7iRR8yP7d",
    "outputId": "319c79cd-0f0d-490e-f0c9-ae934817542c"
   },
   "outputs": [
    {
     "data": {
      "text/plain": [
       "(614, 18)"
      ]
     },
     "execution_count": 33,
     "metadata": {
      "tags": []
     },
     "output_type": "execute_result"
    }
   ],
   "source": [
    "desarrll.shape # Eliminamos el ID"
   ]
  },
  {
   "cell_type": "code",
   "execution_count": null,
   "metadata": {
    "colab": {},
    "colab_type": "code",
    "id": "1a_OyKhkyP7f"
   },
   "outputs": [],
   "source": [
    "# Seleccion por Random Forest\n",
    "from sklearn.ensemble import RandomForestClassifier # Paso01: Instancio el algoritmo\n",
    "\n",
    "forest = RandomForestClassifier()   # Paso02: Configuro el algoritmo\n",
    "forest.fit(X_train, y_train)        # Paso03: Ajuste el algoritmo\n",
    "importances = forest.feature_importances_ # Variables importantes\n",
    "\n",
    "\n"
   ]
  },
  {
   "cell_type": "code",
   "execution_count": null,
   "metadata": {
    "colab": {},
    "colab_type": "code",
    "id": "OaEITdwfyP7h",
    "outputId": "c33f56e9-4710-40d9-eb2b-2b224cfba062"
   },
   "outputs": [
    {
     "data": {
      "text/plain": [
       "array([0.00831732, 0.00960426, 0.02273468, 0.01636904, 0.01542394,\n",
       "       0.06317477, 0.04871003, 0.08275988, 0.011834  , 0.23309589,\n",
       "       0.0318901 , 0.0891604 , 0.05310216, 0.04314928, 0.10819583,\n",
       "       0.07853924, 0.08393917])"
      ]
     },
     "execution_count": 35,
     "metadata": {
      "tags": []
     },
     "output_type": "execute_result"
    }
   ],
   "source": [
    "importances"
   ]
  },
  {
   "cell_type": "code",
   "execution_count": null,
   "metadata": {
    "colab": {},
    "colab_type": "code",
    "id": "JWb6Rq4gyP7k",
    "outputId": "a0bdc03c-c39d-4b2a-be25-04dcce27cb30"
   },
   "outputs": [
    {
     "data": {
      "text/html": [
       "<div>\n",
       "<style scoped>\n",
       "    .dataframe tbody tr th:only-of-type {\n",
       "        vertical-align: middle;\n",
       "    }\n",
       "\n",
       "    .dataframe tbody tr th {\n",
       "        vertical-align: top;\n",
       "    }\n",
       "\n",
       "    .dataframe thead th {\n",
       "        text-align: right;\n",
       "    }\n",
       "</style>\n",
       "<table border=\"1\" class=\"dataframe\">\n",
       "  <thead>\n",
       "    <tr style=\"text-align: right;\">\n",
       "      <th></th>\n",
       "      <th>Driver</th>\n",
       "      <th>Importancia</th>\n",
       "    </tr>\n",
       "  </thead>\n",
       "  <tbody>\n",
       "    <tr>\n",
       "      <th>0</th>\n",
       "      <td>Credit_History</td>\n",
       "      <td>0.233096</td>\n",
       "    </tr>\n",
       "    <tr>\n",
       "      <th>1</th>\n",
       "      <td>Cuota_Ingreso1</td>\n",
       "      <td>0.108196</td>\n",
       "    </tr>\n",
       "    <tr>\n",
       "      <th>2</th>\n",
       "      <td>TotalIncome</td>\n",
       "      <td>0.089160</td>\n",
       "    </tr>\n",
       "    <tr>\n",
       "      <th>3</th>\n",
       "      <td>Cuota_Ingreso_Hijo</td>\n",
       "      <td>0.083939</td>\n",
       "    </tr>\n",
       "    <tr>\n",
       "      <th>4</th>\n",
       "      <td>LoanAmount</td>\n",
       "      <td>0.082760</td>\n",
       "    </tr>\n",
       "    <tr>\n",
       "      <th>5</th>\n",
       "      <td>Cuota_Ingreso2</td>\n",
       "      <td>0.078539</td>\n",
       "    </tr>\n",
       "    <tr>\n",
       "      <th>6</th>\n",
       "      <td>ApplicantIncome</td>\n",
       "      <td>0.063175</td>\n",
       "    </tr>\n",
       "    <tr>\n",
       "      <th>7</th>\n",
       "      <td>Log_LoanAmount</td>\n",
       "      <td>0.053102</td>\n",
       "    </tr>\n",
       "    <tr>\n",
       "      <th>8</th>\n",
       "      <td>CoapplicantIncome</td>\n",
       "      <td>0.048710</td>\n",
       "    </tr>\n",
       "    <tr>\n",
       "      <th>9</th>\n",
       "      <td>AmountxTerm</td>\n",
       "      <td>0.043149</td>\n",
       "    </tr>\n",
       "    <tr>\n",
       "      <th>10</th>\n",
       "      <td>Property_Area</td>\n",
       "      <td>0.031890</td>\n",
       "    </tr>\n",
       "    <tr>\n",
       "      <th>11</th>\n",
       "      <td>Dependents</td>\n",
       "      <td>0.022735</td>\n",
       "    </tr>\n",
       "    <tr>\n",
       "      <th>12</th>\n",
       "      <td>Education</td>\n",
       "      <td>0.016369</td>\n",
       "    </tr>\n",
       "    <tr>\n",
       "      <th>13</th>\n",
       "      <td>Self_Employed</td>\n",
       "      <td>0.015424</td>\n",
       "    </tr>\n",
       "    <tr>\n",
       "      <th>14</th>\n",
       "      <td>Loan_Amount_Term</td>\n",
       "      <td>0.011834</td>\n",
       "    </tr>\n",
       "    <tr>\n",
       "      <th>15</th>\n",
       "      <td>Married</td>\n",
       "      <td>0.009604</td>\n",
       "    </tr>\n",
       "    <tr>\n",
       "      <th>16</th>\n",
       "      <td>Gender</td>\n",
       "      <td>0.008317</td>\n",
       "    </tr>\n",
       "  </tbody>\n",
       "</table>\n",
       "</div>"
      ],
      "text/plain": [
       "                Driver  Importancia\n",
       "0       Credit_History     0.233096\n",
       "1       Cuota_Ingreso1     0.108196\n",
       "2          TotalIncome     0.089160\n",
       "3   Cuota_Ingreso_Hijo     0.083939\n",
       "4           LoanAmount     0.082760\n",
       "5       Cuota_Ingreso2     0.078539\n",
       "6      ApplicantIncome     0.063175\n",
       "7       Log_LoanAmount     0.053102\n",
       "8    CoapplicantIncome     0.048710\n",
       "9          AmountxTerm     0.043149\n",
       "10       Property_Area     0.031890\n",
       "11          Dependents     0.022735\n",
       "12           Education     0.016369\n",
       "13       Self_Employed     0.015424\n",
       "14    Loan_Amount_Term     0.011834\n",
       "15             Married     0.009604\n",
       "16              Gender     0.008317"
      ]
     },
     "execution_count": 36,
     "metadata": {
      "tags": []
     },
     "output_type": "execute_result"
    }
   ],
   "source": [
    "# Seleccion por Random Forest\n",
    "TablaImportancia = pd.concat([pd.DataFrame({'Driver':list(X_train.columns)}),\n",
    "                              pd.DataFrame({'Importancia':list(forest.feature_importances_)})], axis = 1)\n",
    "ImportanciaVariables = TablaImportancia[['Driver','Importancia']].sort_values('Importancia', ascending = False).reset_index(drop = True)\n",
    "ImportanciaVariables"
   ]
  },
  {
   "cell_type": "code",
   "execution_count": null,
   "metadata": {
    "colab": {},
    "colab_type": "code",
    "id": "hgtYmaFFyP7o",
    "outputId": "535b890c-7915-4354-c5bb-886b5f48dd85"
   },
   "outputs": [
    {
     "name": "stdout",
     "output_type": "stream",
     "text": [
      "Requirement already satisfied: Boruta in c:\\users\\andre chavez\\anaconda3\\lib\\site-packages (0.3)\n",
      "Requirement already satisfied: numpy>=1.10.4 in c:\\users\\andre chavez\\anaconda3\\lib\\site-packages (from Boruta) (1.14.5)\n",
      "Requirement already satisfied: scipy>=0.17.0 in c:\\users\\andre chavez\\anaconda3\\lib\\site-packages (from Boruta) (1.1.0)\n",
      "Requirement already satisfied: scikit-learn>=0.17.1 in c:\\users\\andre chavez\\anaconda3\\lib\\site-packages (from Boruta) (0.19.2)\n"
     ]
    }
   ],
   "source": [
    "# Instalamos Boruta\n",
    "! pip install Boruta"
   ]
  },
  {
   "cell_type": "code",
   "execution_count": null,
   "metadata": {
    "colab": {},
    "colab_type": "code",
    "id": "p9BVHAENyP7q",
    "outputId": "c5a74caa-d1ec-42b6-d54b-7db039d5672c"
   },
   "outputs": [
    {
     "name": "stdout",
     "output_type": "stream",
     "text": [
      "Iteration: \t1 / 100\n",
      "Confirmed: \t0\n",
      "Tentative: \t17\n",
      "Rejected: \t0\n",
      "Iteration: \t2 / 100\n",
      "Confirmed: \t0\n",
      "Tentative: \t17\n",
      "Rejected: \t0\n",
      "Iteration: \t3 / 100\n",
      "Confirmed: \t0\n",
      "Tentative: \t17\n",
      "Rejected: \t0\n",
      "Iteration: \t4 / 100\n",
      "Confirmed: \t0\n",
      "Tentative: \t17\n",
      "Rejected: \t0\n",
      "Iteration: \t5 / 100\n",
      "Confirmed: \t0\n",
      "Tentative: \t17\n",
      "Rejected: \t0\n",
      "Iteration: \t6 / 100\n",
      "Confirmed: \t0\n",
      "Tentative: \t17\n",
      "Rejected: \t0\n",
      "Iteration: \t7 / 100\n",
      "Confirmed: \t0\n",
      "Tentative: \t17\n",
      "Rejected: \t0\n",
      "Iteration: \t8 / 100\n",
      "Confirmed: \t0\n",
      "Tentative: \t5\n",
      "Rejected: \t12\n",
      "Iteration: \t9 / 100\n",
      "Confirmed: \t1\n",
      "Tentative: \t4\n",
      "Rejected: \t12\n",
      "Iteration: \t10 / 100\n",
      "Confirmed: \t1\n",
      "Tentative: \t4\n",
      "Rejected: \t12\n",
      "Iteration: \t11 / 100\n",
      "Confirmed: \t1\n",
      "Tentative: \t4\n",
      "Rejected: \t12\n",
      "Iteration: \t12 / 100\n",
      "Confirmed: \t1\n",
      "Tentative: \t3\n",
      "Rejected: \t13\n",
      "Iteration: \t13 / 100\n",
      "Confirmed: \t1\n",
      "Tentative: \t3\n",
      "Rejected: \t13\n",
      "Iteration: \t14 / 100\n",
      "Confirmed: \t1\n",
      "Tentative: \t3\n",
      "Rejected: \t13\n",
      "Iteration: \t15 / 100\n",
      "Confirmed: \t1\n",
      "Tentative: \t3\n",
      "Rejected: \t13\n",
      "Iteration: \t16 / 100\n",
      "Confirmed: \t1\n",
      "Tentative: \t3\n",
      "Rejected: \t13\n",
      "Iteration: \t17 / 100\n",
      "Confirmed: \t1\n",
      "Tentative: \t3\n",
      "Rejected: \t13\n",
      "Iteration: \t18 / 100\n",
      "Confirmed: \t1\n",
      "Tentative: \t3\n",
      "Rejected: \t13\n",
      "Iteration: \t19 / 100\n",
      "Confirmed: \t1\n",
      "Tentative: \t3\n",
      "Rejected: \t13\n",
      "Iteration: \t20 / 100\n",
      "Confirmed: \t1\n",
      "Tentative: \t3\n",
      "Rejected: \t13\n",
      "Iteration: \t21 / 100\n",
      "Confirmed: \t1\n",
      "Tentative: \t3\n",
      "Rejected: \t13\n",
      "Iteration: \t22 / 100\n",
      "Confirmed: \t1\n",
      "Tentative: \t3\n",
      "Rejected: \t13\n",
      "Iteration: \t23 / 100\n",
      "Confirmed: \t1\n",
      "Tentative: \t3\n",
      "Rejected: \t13\n",
      "Iteration: \t24 / 100\n",
      "Confirmed: \t1\n",
      "Tentative: \t3\n",
      "Rejected: \t13\n",
      "Iteration: \t25 / 100\n",
      "Confirmed: \t1\n",
      "Tentative: \t3\n",
      "Rejected: \t13\n",
      "Iteration: \t26 / 100\n",
      "Confirmed: \t1\n",
      "Tentative: \t3\n",
      "Rejected: \t13\n",
      "Iteration: \t27 / 100\n",
      "Confirmed: \t1\n",
      "Tentative: \t3\n",
      "Rejected: \t13\n",
      "Iteration: \t28 / 100\n",
      "Confirmed: \t1\n",
      "Tentative: \t3\n",
      "Rejected: \t13\n",
      "Iteration: \t29 / 100\n",
      "Confirmed: \t1\n",
      "Tentative: \t3\n",
      "Rejected: \t13\n",
      "Iteration: \t30 / 100\n",
      "Confirmed: \t1\n",
      "Tentative: \t3\n",
      "Rejected: \t13\n",
      "Iteration: \t31 / 100\n",
      "Confirmed: \t1\n",
      "Tentative: \t3\n",
      "Rejected: \t13\n",
      "Iteration: \t32 / 100\n",
      "Confirmed: \t1\n",
      "Tentative: \t3\n",
      "Rejected: \t13\n",
      "Iteration: \t33 / 100\n",
      "Confirmed: \t1\n",
      "Tentative: \t3\n",
      "Rejected: \t13\n",
      "Iteration: \t34 / 100\n",
      "Confirmed: \t1\n",
      "Tentative: \t3\n",
      "Rejected: \t13\n",
      "Iteration: \t35 / 100\n",
      "Confirmed: \t1\n",
      "Tentative: \t3\n",
      "Rejected: \t13\n",
      "Iteration: \t36 / 100\n",
      "Confirmed: \t1\n",
      "Tentative: \t3\n",
      "Rejected: \t13\n",
      "Iteration: \t37 / 100\n",
      "Confirmed: \t1\n",
      "Tentative: \t2\n",
      "Rejected: \t14\n",
      "Iteration: \t38 / 100\n",
      "Confirmed: \t1\n",
      "Tentative: \t2\n",
      "Rejected: \t14\n",
      "Iteration: \t39 / 100\n",
      "Confirmed: \t1\n",
      "Tentative: \t2\n",
      "Rejected: \t14\n",
      "Iteration: \t40 / 100\n",
      "Confirmed: \t1\n",
      "Tentative: \t2\n",
      "Rejected: \t14\n",
      "Iteration: \t41 / 100\n",
      "Confirmed: \t1\n",
      "Tentative: \t2\n",
      "Rejected: \t14\n",
      "Iteration: \t42 / 100\n",
      "Confirmed: \t1\n",
      "Tentative: \t2\n",
      "Rejected: \t14\n",
      "Iteration: \t43 / 100\n",
      "Confirmed: \t1\n",
      "Tentative: \t2\n",
      "Rejected: \t14\n",
      "Iteration: \t44 / 100\n",
      "Confirmed: \t1\n",
      "Tentative: \t2\n",
      "Rejected: \t14\n",
      "Iteration: \t45 / 100\n",
      "Confirmed: \t1\n",
      "Tentative: \t2\n",
      "Rejected: \t14\n",
      "Iteration: \t46 / 100\n",
      "Confirmed: \t1\n",
      "Tentative: \t2\n",
      "Rejected: \t14\n",
      "Iteration: \t47 / 100\n",
      "Confirmed: \t1\n",
      "Tentative: \t2\n",
      "Rejected: \t14\n",
      "Iteration: \t48 / 100\n",
      "Confirmed: \t1\n",
      "Tentative: \t2\n",
      "Rejected: \t14\n",
      "Iteration: \t49 / 100\n",
      "Confirmed: \t2\n",
      "Tentative: \t1\n",
      "Rejected: \t14\n",
      "Iteration: \t50 / 100\n",
      "Confirmed: \t2\n",
      "Tentative: \t1\n",
      "Rejected: \t14\n",
      "Iteration: \t51 / 100\n",
      "Confirmed: \t2\n",
      "Tentative: \t1\n",
      "Rejected: \t14\n",
      "Iteration: \t52 / 100\n",
      "Confirmed: \t2\n",
      "Tentative: \t1\n",
      "Rejected: \t14\n",
      "Iteration: \t53 / 100\n",
      "Confirmed: \t2\n",
      "Tentative: \t1\n",
      "Rejected: \t14\n",
      "Iteration: \t54 / 100\n",
      "Confirmed: \t2\n",
      "Tentative: \t1\n",
      "Rejected: \t14\n",
      "Iteration: \t55 / 100\n",
      "Confirmed: \t2\n",
      "Tentative: \t1\n",
      "Rejected: \t14\n",
      "Iteration: \t56 / 100\n",
      "Confirmed: \t2\n",
      "Tentative: \t1\n",
      "Rejected: \t14\n",
      "Iteration: \t57 / 100\n",
      "Confirmed: \t2\n",
      "Tentative: \t1\n",
      "Rejected: \t14\n",
      "Iteration: \t58 / 100\n",
      "Confirmed: \t2\n",
      "Tentative: \t1\n",
      "Rejected: \t14\n",
      "Iteration: \t59 / 100\n",
      "Confirmed: \t2\n",
      "Tentative: \t1\n",
      "Rejected: \t14\n",
      "Iteration: \t60 / 100\n",
      "Confirmed: \t2\n",
      "Tentative: \t1\n",
      "Rejected: \t14\n",
      "Iteration: \t61 / 100\n",
      "Confirmed: \t2\n",
      "Tentative: \t1\n",
      "Rejected: \t14\n",
      "Iteration: \t62 / 100\n",
      "Confirmed: \t2\n",
      "Tentative: \t1\n",
      "Rejected: \t14\n",
      "Iteration: \t63 / 100\n",
      "Confirmed: \t2\n",
      "Tentative: \t1\n",
      "Rejected: \t14\n",
      "Iteration: \t64 / 100\n",
      "Confirmed: \t2\n",
      "Tentative: \t1\n",
      "Rejected: \t14\n",
      "Iteration: \t65 / 100\n",
      "Confirmed: \t2\n",
      "Tentative: \t1\n",
      "Rejected: \t14\n",
      "Iteration: \t66 / 100\n",
      "Confirmed: \t2\n",
      "Tentative: \t1\n",
      "Rejected: \t14\n",
      "Iteration: \t67 / 100\n",
      "Confirmed: \t2\n",
      "Tentative: \t1\n",
      "Rejected: \t14\n",
      "Iteration: \t68 / 100\n",
      "Confirmed: \t2\n",
      "Tentative: \t1\n",
      "Rejected: \t14\n",
      "Iteration: \t69 / 100\n",
      "Confirmed: \t2\n",
      "Tentative: \t1\n",
      "Rejected: \t14\n",
      "Iteration: \t70 / 100\n",
      "Confirmed: \t2\n",
      "Tentative: \t1\n",
      "Rejected: \t14\n",
      "Iteration: \t71 / 100\n",
      "Confirmed: \t2\n",
      "Tentative: \t1\n",
      "Rejected: \t14\n",
      "Iteration: \t72 / 100\n",
      "Confirmed: \t2\n",
      "Tentative: \t1\n",
      "Rejected: \t14\n",
      "Iteration: \t73 / 100\n",
      "Confirmed: \t2\n",
      "Tentative: \t1\n",
      "Rejected: \t14\n",
      "Iteration: \t74 / 100\n",
      "Confirmed: \t2\n",
      "Tentative: \t1\n",
      "Rejected: \t14\n",
      "Iteration: \t75 / 100\n",
      "Confirmed: \t2\n",
      "Tentative: \t1\n",
      "Rejected: \t14\n",
      "Iteration: \t76 / 100\n",
      "Confirmed: \t2\n",
      "Tentative: \t1\n",
      "Rejected: \t14\n",
      "Iteration: \t77 / 100\n",
      "Confirmed: \t2\n",
      "Tentative: \t1\n",
      "Rejected: \t14\n",
      "Iteration: \t78 / 100\n",
      "Confirmed: \t2\n",
      "Tentative: \t1\n",
      "Rejected: \t14\n",
      "Iteration: \t79 / 100\n",
      "Confirmed: \t2\n",
      "Tentative: \t1\n",
      "Rejected: \t14\n",
      "Iteration: \t80 / 100\n",
      "Confirmed: \t2\n",
      "Tentative: \t1\n",
      "Rejected: \t14\n",
      "Iteration: \t81 / 100\n",
      "Confirmed: \t2\n",
      "Tentative: \t1\n",
      "Rejected: \t14\n",
      "Iteration: \t82 / 100\n",
      "Confirmed: \t2\n",
      "Tentative: \t1\n",
      "Rejected: \t14\n",
      "Iteration: \t83 / 100\n",
      "Confirmed: \t2\n",
      "Tentative: \t1\n",
      "Rejected: \t14\n",
      "Iteration: \t84 / 100\n",
      "Confirmed: \t2\n",
      "Tentative: \t1\n",
      "Rejected: \t14\n",
      "Iteration: \t85 / 100\n",
      "Confirmed: \t2\n",
      "Tentative: \t1\n",
      "Rejected: \t14\n",
      "Iteration: \t86 / 100\n",
      "Confirmed: \t2\n",
      "Tentative: \t1\n",
      "Rejected: \t14\n",
      "Iteration: \t87 / 100\n",
      "Confirmed: \t2\n",
      "Tentative: \t1\n",
      "Rejected: \t14\n",
      "Iteration: \t88 / 100\n",
      "Confirmed: \t2\n",
      "Tentative: \t1\n",
      "Rejected: \t14\n",
      "Iteration: \t89 / 100\n",
      "Confirmed: \t2\n",
      "Tentative: \t1\n",
      "Rejected: \t14\n",
      "Iteration: \t90 / 100\n",
      "Confirmed: \t2\n",
      "Tentative: \t1\n",
      "Rejected: \t14\n",
      "Iteration: \t91 / 100\n",
      "Confirmed: \t2\n",
      "Tentative: \t1\n",
      "Rejected: \t14\n",
      "Iteration: \t92 / 100\n",
      "Confirmed: \t2\n",
      "Tentative: \t1\n",
      "Rejected: \t14\n",
      "Iteration: \t93 / 100\n",
      "Confirmed: \t2\n",
      "Tentative: \t1\n",
      "Rejected: \t14\n",
      "Iteration: \t94 / 100\n",
      "Confirmed: \t2\n",
      "Tentative: \t1\n",
      "Rejected: \t14\n",
      "Iteration: \t95 / 100\n",
      "Confirmed: \t2\n",
      "Tentative: \t1\n",
      "Rejected: \t14\n",
      "Iteration: \t96 / 100\n",
      "Confirmed: \t2\n",
      "Tentative: \t1\n",
      "Rejected: \t14\n",
      "Iteration: \t97 / 100\n",
      "Confirmed: \t2\n",
      "Tentative: \t1\n",
      "Rejected: \t14\n",
      "Iteration: \t98 / 100\n",
      "Confirmed: \t2\n",
      "Tentative: \t1\n",
      "Rejected: \t14\n",
      "Iteration: \t99 / 100\n",
      "Confirmed: \t2\n",
      "Tentative: \t1\n",
      "Rejected: \t14\n",
      "\n",
      "\n",
      "BorutaPy finished running.\n",
      "\n",
      "Iteration: \t100 / 100\n",
      "Confirmed: \t2\n",
      "Tentative: \t1\n",
      "Rejected: \t14\n",
      "==============BORUTA==============\n",
      "2\n"
     ]
    }
   ],
   "source": [
    "# Seleccion Boruta (Permutaciones de arboles)\n",
    "from sklearn.ensemble import RandomForestClassifier\n",
    "from boruta import BorutaPy\n",
    "\n",
    "rfc = RandomForestClassifier()\n",
    "boruta_selector = BorutaPy(rfc, n_estimators='auto',verbose=2)\n",
    "\n",
    "x=X_train.values\n",
    "y=y_train.values\n",
    "\n",
    "boruta_selector.fit(x,y)\n",
    "\n",
    "print(\"==============BORUTA==============\")\n",
    "print (boruta_selector.n_features_)"
   ]
  },
  {
   "cell_type": "code",
   "execution_count": null,
   "metadata": {
    "colab": {},
    "colab_type": "code",
    "id": "2XWjQ7b-yP7r"
   },
   "outputs": [],
   "source": [
    "# Observamos cual de las variables el algoritmo eligio\n",
    "X_train_Bor = X_train.columns[boruta_selector.support_]"
   ]
  },
  {
   "cell_type": "code",
   "execution_count": null,
   "metadata": {
    "colab": {},
    "colab_type": "code",
    "id": "a9lhHRIYyP7t",
    "outputId": "2d00f00a-9d79-45c9-cc46-54a29b36f130"
   },
   "outputs": [
    {
     "data": {
      "text/plain": [
       "Index(['Credit_History', 'TotalIncome'], dtype='object')"
      ]
     },
     "execution_count": 70,
     "metadata": {
      "tags": []
     },
     "output_type": "execute_result"
    }
   ],
   "source": [
    "X_train_Bor"
   ]
  },
  {
   "cell_type": "code",
   "execution_count": null,
   "metadata": {
    "colab": {},
    "colab_type": "code",
    "id": "9qq4SkFOyP7v"
   },
   "outputs": [],
   "source": [
    "# Si deseamos , podemos elegir las variables mas importantes\n",
    "X_train_subset =X_train[[\"Credit_History\",\"Cuota_Ingreso1\",\"Cuota_Ingreso_Hijo\",\"LoanAmount\"]]"
   ]
  },
  {
   "cell_type": "code",
   "execution_count": null,
   "metadata": {
    "colab": {},
    "colab_type": "code",
    "id": "kJvwgDrmyP7x",
    "outputId": "c2c308ee-f1c8-408b-9209-738987e1d03f",
    "scrolled": true
   },
   "outputs": [
    {
     "data": {
      "text/html": [
       "<div>\n",
       "<style scoped>\n",
       "    .dataframe tbody tr th:only-of-type {\n",
       "        vertical-align: middle;\n",
       "    }\n",
       "\n",
       "    .dataframe tbody tr th {\n",
       "        vertical-align: top;\n",
       "    }\n",
       "\n",
       "    .dataframe thead th {\n",
       "        text-align: right;\n",
       "    }\n",
       "</style>\n",
       "<table border=\"1\" class=\"dataframe\">\n",
       "  <thead>\n",
       "    <tr style=\"text-align: right;\">\n",
       "      <th></th>\n",
       "      <th>Credit_History</th>\n",
       "      <th>Cuota_Ingreso1</th>\n",
       "      <th>Cuota_Ingreso_Hijo</th>\n",
       "      <th>LoanAmount</th>\n",
       "    </tr>\n",
       "  </thead>\n",
       "  <tbody>\n",
       "    <tr>\n",
       "      <th>544</th>\n",
       "      <td>1</td>\n",
       "      <td>0.093912</td>\n",
       "      <td>0.076993</td>\n",
       "      <td>102.0</td>\n",
       "    </tr>\n",
       "    <tr>\n",
       "      <th>13</th>\n",
       "      <td>1</td>\n",
       "      <td>0.170894</td>\n",
       "      <td>0.067476</td>\n",
       "      <td>114.0</td>\n",
       "    </tr>\n",
       "    <tr>\n",
       "      <th>383</th>\n",
       "      <td>1</td>\n",
       "      <td>0.049610</td>\n",
       "      <td>0.049610</td>\n",
       "      <td>128.0</td>\n",
       "    </tr>\n",
       "  </tbody>\n",
       "</table>\n",
       "</div>"
      ],
      "text/plain": [
       "    Credit_History  Cuota_Ingreso1  Cuota_Ingreso_Hijo  LoanAmount\n",
       "544              1        0.093912            0.076993       102.0\n",
       "13               1        0.170894            0.067476       114.0\n",
       "383              1        0.049610            0.049610       128.0"
      ]
     },
     "execution_count": 38,
     "metadata": {
      "tags": []
     },
     "output_type": "execute_result"
    }
   ],
   "source": [
    "X_train_subset.head(3)"
   ]
  },
  {
   "cell_type": "code",
   "execution_count": null,
   "metadata": {
    "colab": {},
    "colab_type": "code",
    "id": "vRLhkWQ8yP7z"
   },
   "outputs": [],
   "source": [
    "########################################\n",
    "# Balanceo de Datos\n",
    "########################################"
   ]
  },
  {
   "cell_type": "markdown",
   "metadata": {
    "colab_type": "text",
    "id": "eU1kVbgVyP70"
   },
   "source": [
    "![image.png](attachment:image.png)"
   ]
  },
  {
   "cell_type": "code",
   "execution_count": null,
   "metadata": {
    "colab": {},
    "colab_type": "code",
    "id": "m0aiSG-HyP71"
   },
   "outputs": [],
   "source": [
    "# Datos Entrenamiento : X_train, y_train"
   ]
  },
  {
   "cell_type": "code",
   "execution_count": null,
   "metadata": {
    "colab": {},
    "colab_type": "code",
    "id": "7zU_w2pryP76"
   },
   "outputs": [],
   "source": [
    "# RandomUnderSampling\n",
    "#! pip install imblearn"
   ]
  },
  {
   "cell_type": "code",
   "execution_count": null,
   "metadata": {
    "colab": {},
    "colab_type": "code",
    "id": "vLT3Ur9yyP78"
   },
   "outputs": [],
   "source": [
    "# Importar la librería de balnacear datos, si no está hacer por el CMD de Python,\n",
    "# la sentencia es : pip install imblearn desde el terminal de Conda\n",
    "import imblearn"
   ]
  },
  {
   "cell_type": "code",
   "execution_count": null,
   "metadata": {
    "colab": {},
    "colab_type": "code",
    "id": "voXfGM6iyP7-"
   },
   "outputs": [],
   "source": [
    "from imblearn.under_sampling import RandomUnderSampler\n",
    "rus = RandomUnderSampler(return_indices=True) # Define o instancian\n",
    "X_rus, y_rus, id_rus = rus.fit_sample(X_train, y_train)   # Ejecuto"
   ]
  },
  {
   "cell_type": "code",
   "execution_count": null,
   "metadata": {
    "colab": {},
    "colab_type": "code",
    "id": "98raEDvQyP7_"
   },
   "outputs": [],
   "source": [
    "df_X_rus = pd.DataFrame(data=X_rus,columns=X_train.columns)\n",
    "df_y_rus = pd.DataFrame(data=y_rus,columns=['Loan_Status'])\n",
    "\n",
    "# Concatenamos la información\n",
    "df_balanceado_rus = pd.concat([df_X_rus, df_y_rus], axis=1)"
   ]
  },
  {
   "cell_type": "code",
   "execution_count": null,
   "metadata": {
    "colab": {},
    "colab_type": "code",
    "id": "0I7z37wOyP8B",
    "outputId": "03c20363-b427-4ce7-fdfc-85a0210611f1"
   },
   "outputs": [
    {
     "data": {
      "text/plain": [
       "1    134\n",
       "0    134\n",
       "Name: Loan_Status, dtype: int64"
      ]
     },
     "execution_count": 44,
     "metadata": {
      "tags": []
     },
     "output_type": "execute_result"
    }
   ],
   "source": [
    "df_balanceado_rus.Loan_Status.value_counts()"
   ]
  },
  {
   "cell_type": "code",
   "execution_count": null,
   "metadata": {
    "colab": {},
    "colab_type": "code",
    "id": "AUrNJ3HgyP8C"
   },
   "outputs": [],
   "source": [
    "# RandomOverSampling"
   ]
  },
  {
   "cell_type": "code",
   "execution_count": null,
   "metadata": {
    "colab": {},
    "colab_type": "code",
    "id": "w7ifNcXByP8E"
   },
   "outputs": [],
   "source": [
    "from imblearn.over_sampling import RandomOverSampler\n",
    "\n",
    "ros = RandomOverSampler()            # Define o instancian\n",
    "X_ros, y_ros = ros.fit_sample(X_train, y_train)  # Ejecuto\n",
    "\n",
    "df_X_ros = pd.DataFrame(data=X_ros,columns=X_train.columns)\n",
    "df_y_ros = pd.DataFrame(data=y_ros,columns=['Loan_Status'])\n",
    "\n",
    "# Concatenamos la información\n",
    "df_balanceado_ros = pd.concat([df_X_ros, df_y_ros], axis=1)"
   ]
  },
  {
   "cell_type": "code",
   "execution_count": null,
   "metadata": {
    "colab": {},
    "colab_type": "code",
    "id": "NU_ehRVWyP8H",
    "outputId": "6412304a-790b-4b7b-9d2f-e27e1de1b37b"
   },
   "outputs": [
    {
     "data": {
      "text/plain": [
       "1    295\n",
       "0    295\n",
       "Name: Loan_Status, dtype: int64"
      ]
     },
     "execution_count": 46,
     "metadata": {
      "tags": []
     },
     "output_type": "execute_result"
    }
   ],
   "source": [
    "df_balanceado_ros.Loan_Status.value_counts()"
   ]
  },
  {
   "cell_type": "code",
   "execution_count": null,
   "metadata": {
    "colab": {},
    "colab_type": "code",
    "id": "SRjvyVZNyP8I"
   },
   "outputs": [],
   "source": [
    "#  Balenceo de Datos TomekLink"
   ]
  },
  {
   "cell_type": "code",
   "execution_count": null,
   "metadata": {
    "colab": {},
    "colab_type": "code",
    "id": "vaiXnTauyP8K"
   },
   "outputs": [],
   "source": [
    "from imblearn.under_sampling import TomekLinks\n",
    "\n",
    "tl = TomekLinks(return_indices=True, ratio='majority') # Instancia o defines\n",
    "X_tl, y_tl,id_tl  = tl.fit_sample(X_train, y_train)                # Aplicar\n",
    "\n",
    "df_X_tl = pd.DataFrame(data=X_tl,columns=X_train.columns)\n",
    "df_y_tl = pd.DataFrame(data=y_tl,columns=[\"Loan_Status\"])\n",
    "\n",
    "# Concatenamos la información\n",
    "df_balanceado_tl = pd.concat([df_X_tl, df_y_tl], axis=1)"
   ]
  },
  {
   "cell_type": "code",
   "execution_count": null,
   "metadata": {
    "colab": {},
    "colab_type": "code",
    "id": "Vq_NDqdoyP8L",
    "outputId": "ee72ec27-dab4-4e2d-c990-8a24f9a1814f"
   },
   "outputs": [
    {
     "data": {
      "text/plain": [
       "1    243\n",
       "0    134\n",
       "Name: Loan_Status, dtype: int64"
      ]
     },
     "execution_count": 48,
     "metadata": {
      "tags": []
     },
     "output_type": "execute_result"
    }
   ],
   "source": [
    "df_balanceado_tl.Loan_Status.value_counts()"
   ]
  },
  {
   "cell_type": "code",
   "execution_count": null,
   "metadata": {
    "colab": {},
    "colab_type": "code",
    "id": "_lLI9yGSyP8N"
   },
   "outputs": [],
   "source": [
    "#  Balenceo de Datos ClusterCentroids"
   ]
  },
  {
   "cell_type": "code",
   "execution_count": null,
   "metadata": {
    "colab": {},
    "colab_type": "code",
    "id": "fa3ca3LcyP8Q"
   },
   "outputs": [],
   "source": [
    "from imblearn.under_sampling import ClusterCentroids\n",
    "\n",
    "cc = ClusterCentroids(ratio={1: 200})        # Instancio\n",
    "X_cc, y_cc = cc.fit_sample(X_train, y_train) # Ajusto\n",
    "\n",
    "df_X_cc = pd.DataFrame(data=X_cc,columns=X_train.columns)\n",
    "df_y_cc = pd.DataFrame(data=y_cc,columns=[\"Loan_Status\"])\n",
    "\n",
    "# Concatenamos la información\n",
    "df_balanceado_cc = pd.concat([df_X_cc, df_y_cc], axis=1)"
   ]
  },
  {
   "cell_type": "code",
   "execution_count": null,
   "metadata": {
    "colab": {},
    "colab_type": "code",
    "id": "Huky54X-yP8T",
    "outputId": "9cfd093a-8a9a-47a8-ae83-885b938e4dc7"
   },
   "outputs": [
    {
     "data": {
      "text/plain": [
       "1    200\n",
       "0    134\n",
       "Name: Loan_Status, dtype: int64"
      ]
     },
     "execution_count": 50,
     "metadata": {
      "tags": []
     },
     "output_type": "execute_result"
    }
   ],
   "source": [
    "df_balanceado_cc.Loan_Status.value_counts()"
   ]
  },
  {
   "cell_type": "code",
   "execution_count": null,
   "metadata": {
    "colab": {},
    "colab_type": "code",
    "id": "giM_F7hLyP8X"
   },
   "outputs": [],
   "source": [
    "#  Smote"
   ]
  },
  {
   "cell_type": "code",
   "execution_count": null,
   "metadata": {
    "colab": {},
    "colab_type": "code",
    "id": "h-YN0iHhyP8Z"
   },
   "outputs": [],
   "source": [
    "from imblearn.over_sampling import SMOTE\n",
    "\n",
    "smote = SMOTE(ratio='minority')\n",
    "X_sm, y_sm = smote.fit_sample(X_train, y_train)\n",
    "\n",
    "df_X_sm = pd.DataFrame(data=X_sm,columns=X_train.columns)\n",
    "df_y_sm = pd.DataFrame(data=y_sm,columns=[\"Loan_Status\"])\n",
    "\n",
    "# Concatenamos la información\n",
    "df_balanceado_sm = pd.concat([df_X_sm, df_y_sm], axis=1)"
   ]
  },
  {
   "cell_type": "code",
   "execution_count": null,
   "metadata": {
    "colab": {},
    "colab_type": "code",
    "id": "_IawYajiyP8a",
    "outputId": "93f8e7fb-0569-470e-c483-5350641212c3"
   },
   "outputs": [
    {
     "data": {
      "text/plain": [
       "1    295\n",
       "0    295\n",
       "Name: Loan_Status, dtype: int64"
      ]
     },
     "execution_count": 52,
     "metadata": {
      "tags": []
     },
     "output_type": "execute_result"
    }
   ],
   "source": [
    "df_balanceado_sm.Loan_Status.value_counts()"
   ]
  },
  {
   "cell_type": "code",
   "execution_count": null,
   "metadata": {
    "colab": {},
    "colab_type": "code",
    "id": "wjNPVgCOyP8b"
   },
   "outputs": [],
   "source": [
    "#  SmoteTomek"
   ]
  },
  {
   "cell_type": "code",
   "execution_count": null,
   "metadata": {
    "colab": {},
    "colab_type": "code",
    "id": "dB1Oh6p8yP8d"
   },
   "outputs": [],
   "source": [
    "from imblearn.combine import SMOTETomek\n",
    "\n",
    "smt = SMOTETomek(ratio='auto')\n",
    "X_smt, y_smt = smt.fit_sample(X_train, y_train)\n",
    "\n",
    "df_X_smt = pd.DataFrame(data=X_smt,columns=X_train.columns)\n",
    "df_y_smt = pd.DataFrame(data=y_smt,columns=[\"Loan_Status\"])\n",
    "\n",
    "# Concatenamos la información\n",
    "df_balanceado_smt = pd.concat([df_X_smt, df_y_smt], axis=1)"
   ]
  },
  {
   "cell_type": "code",
   "execution_count": null,
   "metadata": {
    "colab": {},
    "colab_type": "code",
    "id": "AgqHQirgyP8e",
    "outputId": "9b327464-b62e-41d9-f3ed-8b4f9d4724c4"
   },
   "outputs": [
    {
     "data": {
      "text/plain": [
       "1    244\n",
       "0    244\n",
       "Name: Loan_Status, dtype: int64"
      ]
     },
     "execution_count": 54,
     "metadata": {
      "tags": []
     },
     "output_type": "execute_result"
    }
   ],
   "source": [
    "df_balanceado_smt.Loan_Status.value_counts()"
   ]
  },
  {
   "cell_type": "code",
   "execution_count": null,
   "metadata": {
    "colab": {},
    "colab_type": "code",
    "id": "6VoeEL1zyP8g"
   },
   "outputs": [],
   "source": [
    "########################################\n",
    "# Modelamiento de los datos\n",
    "########################################"
   ]
  },
  {
   "cell_type": "markdown",
   "metadata": {
    "colab_type": "text",
    "id": "P04Vp0phyP8i"
   },
   "source": [
    "![image.png](attachment:image.png)"
   ]
  },
  {
   "cell_type": "code",
   "execution_count": null,
   "metadata": {
    "colab": {},
    "colab_type": "code",
    "id": "XL-RcFGUyP8j"
   },
   "outputs": [],
   "source": [
    "## Modelos Supervisados : Arbol CART ##"
   ]
  },
  {
   "cell_type": "code",
   "execution_count": null,
   "metadata": {
    "colab": {},
    "colab_type": "code",
    "id": "LWGsVgTtyP8m",
    "outputId": "a274357e-b5e9-42ca-84a0-265e5822610f"
   },
   "outputs": [
    {
     "data": {
      "text/plain": [
       "DecisionTreeClassifier(class_weight=None, criterion='entropy', max_depth=3,\n",
       "                       max_features='sqrt', max_leaf_nodes=None,\n",
       "                       min_impurity_decrease=0.0, min_impurity_split=None,\n",
       "                       min_samples_leaf=1, min_samples_split=2,\n",
       "                       min_weight_fraction_leaf=0.0, presort=False,\n",
       "                       random_state=None, splitter='best')"
      ]
     },
     "execution_count": 55,
     "metadata": {
      "tags": []
     },
     "output_type": "execute_result"
    }
   ],
   "source": [
    "# Paso N°01: Llamar un algoritmo predictivos\n",
    "from sklearn.tree import DecisionTreeClassifier\n",
    "#Parámetros del árbol de clasificación\n",
    "# criterion  , splitter ,max_depth,min_impurity_decrease,min_impurity_split,min_samples_leaf,min_samples_split,splitter\n",
    "cart = DecisionTreeClassifier(criterion='entropy',\n",
    "                              max_depth=3,\n",
    "                              max_features=\"sqrt\")\n",
    "\n",
    "cart.fit(X_train, y_train) # Entrenamos el algoritmo"
   ]
  },
  {
   "cell_type": "code",
   "execution_count": null,
   "metadata": {
    "colab": {},
    "colab_type": "code",
    "id": "bY3T1PB2yP8o"
   },
   "outputs": [],
   "source": [
    "# Paso N°04: Predecir con el algoritmo entrenado para validar\n",
    "y_pred_train=cart.predict(X_train) # Prediccion sobre el train\n",
    "y_pred_test= cart.predict(X_test) # Prediccion sobre el test"
   ]
  },
  {
   "cell_type": "code",
   "execution_count": null,
   "metadata": {
    "colab": {},
    "colab_type": "code",
    "id": "2i3Iy9i_yP8q",
    "outputId": "1657d86c-3b4b-49a0-dc46-0a9421f826f9"
   },
   "outputs": [
    {
     "name": "stdout",
     "output_type": "stream",
     "text": [
      "Matriz confusion: Train\n",
      "[[ 21 113]\n",
      " [  7 288]]\n",
      "Matriz confusion: Test\n",
      "[[  7  51]\n",
      " [  9 118]]\n",
      "Accuracy: Train\n",
      "0.7202797202797203\n",
      "Accuracy: Test\n",
      "0.6756756756756757\n",
      "Precision: Train\n",
      "0.7182044887780549\n",
      "Precision: Test\n",
      "0.6982248520710059\n",
      "Recall: Train\n",
      "0.976271186440678\n",
      "Recall: Test\n",
      "0.9291338582677166\n"
     ]
    }
   ],
   "source": [
    "# Paso N°05: Comparar el valor pronosticado con el valor real\n",
    "\n",
    "from sklearn import metrics as metrics\n",
    "# Matriz de confusion\n",
    "print(\"Matriz confusion: Train\")\n",
    "cm_train = metrics.confusion_matrix(y_train,y_pred_train)\n",
    "print(cm_train)\n",
    "\n",
    "print(\"Matriz confusion: Test\")\n",
    "cm_test = metrics.confusion_matrix(y_test,y_pred_test)\n",
    "print(cm_test)\n",
    "\n",
    "# Accuracy\n",
    "print(\"Accuracy: Train\")\n",
    "accuracy_train=metrics.accuracy_score(y_train,y_pred_train)\n",
    "print(accuracy_train)\n",
    "\n",
    "print(\"Accuracy: Test\")\n",
    "accuracy_test=metrics.accuracy_score(y_test,y_pred_test)\n",
    "print(accuracy_test)\n",
    "\n",
    "# Precision\n",
    "print(\"Precision: Train\")\n",
    "precision_train=metrics.precision_score(y_train,y_pred_train)\n",
    "print(precision_train)\n",
    "\n",
    "print(\"Precision: Test\")\n",
    "precision_test=metrics.precision_score(y_test,y_pred_test)\n",
    "print(precision_test)\n",
    "\n",
    "# Recall\n",
    "print(\"Recall: Train\")\n",
    "recall_train=metrics.recall_score(y_train,y_pred_train)\n",
    "print(recall_train)\n",
    "\n",
    "print(\"Recall: Test\")\n",
    "recall_test=metrics.recall_score(y_test,y_pred_test)\n",
    "print(recall_test)"
   ]
  },
  {
   "cell_type": "code",
   "execution_count": null,
   "metadata": {
    "colab": {},
    "colab_type": "code",
    "id": "bFG50q3HyP8s"
   },
   "outputs": [],
   "source": [
    "## Modelos Supervisados : Random Forest ##"
   ]
  },
  {
   "cell_type": "code",
   "execution_count": null,
   "metadata": {
    "colab": {},
    "colab_type": "code",
    "id": "NuvGEgl3yP8u",
    "outputId": "dbfda103-1c10-4094-fac5-07eac3dc9e6d"
   },
   "outputs": [
    {
     "data": {
      "text/plain": [
       "RandomForestClassifier(bootstrap=True, class_weight=None, criterion='gini',\n",
       "                       max_depth=None, max_features='auto', max_leaf_nodes=None,\n",
       "                       min_impurity_decrease=0.0, min_impurity_split=None,\n",
       "                       min_samples_leaf=1, min_samples_split=2,\n",
       "                       min_weight_fraction_leaf=0.0, n_estimators=10,\n",
       "                       n_jobs=None, oob_score=False, random_state=None,\n",
       "                       verbose=0, warm_start=False)"
      ]
     },
     "execution_count": 64,
     "metadata": {
      "tags": []
     },
     "output_type": "execute_result"
    }
   ],
   "source": [
    "\n",
    "from sklearn.ensemble import RandomForestClassifier\n",
    "# Parámetros  :\n",
    "# max_features : None ,'sqrt',%X\n",
    "# n_estimators  : Número de árboles a utilizar\n",
    "# min_sample_leaf : Tamaño mínimo de elementos en hojas terminales (Nodos hijos)\n",
    "# random_state : Semilla aleatoria\n",
    "# oob_score : Error fuera de bolsa\n",
    "#rf = RandomForestClassifier(max_features=4 , n_estimators=200,oob_score=True,max_depth=2)\n",
    "rf = RandomForestClassifier()\n",
    "rf.fit(X_train, y_train) # Entrenando un algoritmo"
   ]
  },
  {
   "cell_type": "code",
   "execution_count": null,
   "metadata": {
    "colab": {},
    "colab_type": "code",
    "id": "uMSlxO44yP8w"
   },
   "outputs": [],
   "source": [
    "# Paso N°04: Predecir con el algoritmo entrenado para validar\n",
    "y_pred_train=rf.predict(X_train) # Prediccion sobre el train\n",
    "y_pred_test= rf.predict(X_test) # Prediccion sobre el test"
   ]
  },
  {
   "cell_type": "code",
   "execution_count": null,
   "metadata": {
    "colab": {},
    "colab_type": "code",
    "id": "M5O_wp_ayP8x",
    "outputId": "5bb9a926-4efd-4a88-97a7-717fd9f47e04"
   },
   "outputs": [
    {
     "name": "stdout",
     "output_type": "stream",
     "text": [
      "Matriz confusion: Train\n",
      "[[129   5]\n",
      " [  3 292]]\n",
      "Matriz confusion: Test\n",
      "[[ 30  28]\n",
      " [ 15 112]]\n",
      "Accuracy: Train\n",
      "0.9813519813519813\n",
      "Accuracy: Test\n",
      "0.7675675675675676\n",
      "Precision: Train\n",
      "0.9831649831649831\n",
      "Precision: Test\n",
      "0.8\n",
      "Recall: Train\n",
      "0.9898305084745763\n",
      "Recall: Test\n",
      "0.8818897637795275\n"
     ]
    }
   ],
   "source": [
    "# Paso N°05: Comparar el valor pronosticado con el valor real\n",
    "\n",
    "from sklearn import metrics as metrics\n",
    "# Matriz de confusion\n",
    "print(\"Matriz confusion: Train\")\n",
    "cm_train = metrics.confusion_matrix(y_train,y_pred_train)\n",
    "print(cm_train)\n",
    "\n",
    "print(\"Matriz confusion: Test\")\n",
    "cm_test = metrics.confusion_matrix(y_test,y_pred_test)\n",
    "print(cm_test)\n",
    "\n",
    "# Accuracy\n",
    "print(\"Accuracy: Train\")\n",
    "accuracy_train=metrics.accuracy_score(y_train,y_pred_train)\n",
    "print(accuracy_train)\n",
    "\n",
    "print(\"Accuracy: Test\")\n",
    "accuracy_test=metrics.accuracy_score(y_test,y_pred_test)\n",
    "print(accuracy_test)\n",
    "\n",
    "# Precision\n",
    "print(\"Precision: Train\")\n",
    "precision_train=metrics.precision_score(y_train,y_pred_train)\n",
    "print(precision_train)\n",
    "\n",
    "print(\"Precision: Test\")\n",
    "precision_test=metrics.precision_score(y_test,y_pred_test)\n",
    "print(precision_test)\n",
    "\n",
    "# Recall\n",
    "print(\"Recall: Train\")\n",
    "recall_train=metrics.recall_score(y_train,y_pred_train)\n",
    "print(recall_train)\n",
    "\n",
    "print(\"Recall: Test\")\n",
    "recall_test=metrics.recall_score(y_test,y_pred_test)\n",
    "print(recall_test)"
   ]
  },
  {
   "cell_type": "code",
   "execution_count": null,
   "metadata": {
    "colab": {},
    "colab_type": "code",
    "id": "MsUUU4JByP8y"
   },
   "outputs": [],
   "source": [
    "## Modelos Supervisados : AdaBoost ##"
   ]
  },
  {
   "cell_type": "code",
   "execution_count": null,
   "metadata": {
    "colab": {},
    "colab_type": "code",
    "id": "95HvrfpFyP80",
    "outputId": "e350c1a1-96a6-40f3-bfd8-8e783d1515d1"
   },
   "outputs": [
    {
     "data": {
      "text/plain": [
       "AdaBoostClassifier(algorithm='SAMME.R', base_estimator=None, learning_rate=0.9,\n",
       "                   n_estimators=10000, random_state=None)"
      ]
     },
     "execution_count": 76,
     "metadata": {
      "tags": []
     },
     "output_type": "execute_result"
    }
   ],
   "source": [
    "from sklearn.ensemble import AdaBoostClassifier # Paso01: Instancio\n",
    "# Parámetros :\n",
    "# base_estimator : Es el estimador base sobre la cual el ensamble es constuido.\n",
    "# n_estimators : Numero de estimadores con los cuales se construye el ensamble.\n",
    "# random_state : semilla aleatoria\n",
    "AdaBoost=AdaBoostClassifier(learning_rate=0.9, n_estimators=10000) # Paso02: Especifico\n",
    "AdaBoost.fit(X_train, y_train) # Paso03: Entrenamiento algoritmo"
   ]
  },
  {
   "cell_type": "code",
   "execution_count": null,
   "metadata": {
    "colab": {},
    "colab_type": "code",
    "id": "RVNVs-bgyP81"
   },
   "outputs": [],
   "source": [
    "# Paso N°04: Predecir con el algoritmo entrenado para validar\n",
    "y_pred_train=AdaBoost.predict(X_train) # Prediccion sobre el train\n",
    "y_pred_test= AdaBoost.predict(X_test) # Prediccion sobre el test"
   ]
  },
  {
   "cell_type": "code",
   "execution_count": null,
   "metadata": {
    "colab": {},
    "colab_type": "code",
    "id": "fsUU0zONyP85",
    "outputId": "78c05640-6b49-4c53-c9cc-d68f9b73889b"
   },
   "outputs": [
    {
     "name": "stdout",
     "output_type": "stream",
     "text": [
      "Matriz confusion: Train\n",
      "[[134   0]\n",
      " [  0 295]]\n",
      "Matriz confusion: Test\n",
      "[[ 29  29]\n",
      " [ 24 103]]\n",
      "Accuracy: Train\n",
      "1.0\n",
      "Accuracy: Test\n",
      "0.7135135135135136\n",
      "Precision: Train\n",
      "1.0\n",
      "Precision: Test\n",
      "0.7803030303030303\n",
      "Recall: Train\n",
      "1.0\n",
      "Recall: Test\n",
      "0.8110236220472441\n"
     ]
    }
   ],
   "source": [
    "# Paso N°05: Comparar el valor pronosticado con el valor real\n",
    "\n",
    "from sklearn import metrics as metrics\n",
    "# Matriz de confusion\n",
    "print(\"Matriz confusion: Train\")\n",
    "cm_train = metrics.confusion_matrix(y_train,y_pred_train)\n",
    "print(cm_train)\n",
    "\n",
    "print(\"Matriz confusion: Test\")\n",
    "cm_test = metrics.confusion_matrix(y_test,y_pred_test)\n",
    "print(cm_test)\n",
    "\n",
    "# Accuracy\n",
    "print(\"Accuracy: Train\")\n",
    "accuracy_train=metrics.accuracy_score(y_train,y_pred_train)\n",
    "print(accuracy_train)\n",
    "\n",
    "print(\"Accuracy: Test\")\n",
    "accuracy_test=metrics.accuracy_score(y_test,y_pred_test)\n",
    "print(accuracy_test)\n",
    "\n",
    "# Precision\n",
    "print(\"Precision: Train\")\n",
    "precision_train=metrics.precision_score(y_train,y_pred_train)\n",
    "print(precision_train)\n",
    "\n",
    "print(\"Precision: Test\")\n",
    "precision_test=metrics.precision_score(y_test,y_pred_test)\n",
    "print(precision_test)\n",
    "\n",
    "# Recall\n",
    "print(\"Recall: Train\")\n",
    "recall_train=metrics.recall_score(y_train,y_pred_train)\n",
    "print(recall_train)\n",
    "\n",
    "print(\"Recall: Test\")\n",
    "recall_test=metrics.recall_score(y_test,y_pred_test)\n",
    "print(recall_test)"
   ]
  },
  {
   "cell_type": "code",
   "execution_count": null,
   "metadata": {
    "colab": {},
    "colab_type": "code",
    "id": "_OaAzX6AyP87"
   },
   "outputs": [],
   "source": [
    "## Modelos Supervisados : GBM ##"
   ]
  },
  {
   "cell_type": "code",
   "execution_count": null,
   "metadata": {
    "colab": {},
    "colab_type": "code",
    "id": "NbHD7SgGyP88",
    "outputId": "166fa3b4-cba6-4a78-ec0b-957e14191900"
   },
   "outputs": [
    {
     "data": {
      "text/plain": [
       "GradientBoostingClassifier(criterion='friedman_mse', init=None,\n",
       "                           learning_rate=0.01, loss='deviance', max_depth=3,\n",
       "                           max_features=None, max_leaf_nodes=None,\n",
       "                           min_impurity_decrease=0.0, min_impurity_split=None,\n",
       "                           min_samples_leaf=30, min_samples_split=2,\n",
       "                           min_weight_fraction_leaf=0.0, n_estimators=500,\n",
       "                           n_iter_no_change=None, presort='auto',\n",
       "                           random_state=3, subsample=0.6, tol=0.0001,\n",
       "                           validation_fraction=0.1, verbose=0,\n",
       "                           warm_start=False)"
      ]
     },
     "execution_count": 79,
     "metadata": {
      "tags": []
     },
     "output_type": "execute_result"
    }
   ],
   "source": [
    "from sklearn import ensemble\n",
    "params = {'n_estimators': 500,  # Numero de arboles o estimadores\n",
    "          'max_depth': 3,       # Profundidad maxima de cada arbol\n",
    "          'subsample': 0.60,    # Proporcion de obs,40% al 60%\n",
    "          'learning_rate': 0.01, # Peso de cada arbol o clasificador en la decision\n",
    "          'min_samples_leaf': 30, \n",
    "          'random_state': 3}\n",
    "gbm = ensemble.GradientBoostingClassifier(**params)\n",
    "gbm.fit(X_train, y_train) "
   ]
  },
  {
   "cell_type": "code",
   "execution_count": null,
   "metadata": {
    "colab": {},
    "colab_type": "code",
    "id": "x3d1oRJCyP89"
   },
   "outputs": [],
   "source": [
    "# Paso N°04: Predecir con el algoritmo entrenado para validar\n",
    "y_pred_train=gbm.predict(X_train) # Prediccion sobre el train\n",
    "y_pred_test= gbm.predict(X_test) # Prediccion sobre el test"
   ]
  },
  {
   "cell_type": "code",
   "execution_count": null,
   "metadata": {
    "colab": {},
    "colab_type": "code",
    "id": "tTRrMyiwyP9B",
    "outputId": "199cdff7-51ba-436e-dfed-634c1f1ecb7b"
   },
   "outputs": [
    {
     "name": "stdout",
     "output_type": "stream",
     "text": [
      "Matriz confusion: Train\n",
      "[[ 66  68]\n",
      " [  7 288]]\n",
      "Matriz confusion: Test\n",
      "[[ 23  35]\n",
      " [  1 126]]\n",
      "Accuracy: Train\n",
      "0.8251748251748252\n",
      "Accuracy: Test\n",
      "0.8054054054054054\n",
      "Precision: Train\n",
      "0.8089887640449438\n",
      "Precision: Test\n",
      "0.782608695652174\n",
      "Recall: Train\n",
      "0.976271186440678\n",
      "Recall: Test\n",
      "0.9921259842519685\n"
     ]
    }
   ],
   "source": [
    "# Paso N°05: Comparar el valor pronosticado con el valor real\n",
    "\n",
    "from sklearn import metrics as metrics\n",
    "# Matriz de confusion\n",
    "print(\"Matriz confusion: Train\")\n",
    "cm_train = metrics.confusion_matrix(y_train,y_pred_train)\n",
    "print(cm_train)\n",
    "\n",
    "print(\"Matriz confusion: Test\")\n",
    "cm_test = metrics.confusion_matrix(y_test,y_pred_test)\n",
    "print(cm_test)\n",
    "\n",
    "# Accuracy\n",
    "print(\"Accuracy: Train\")\n",
    "accuracy_train=metrics.accuracy_score(y_train,y_pred_train)\n",
    "print(accuracy_train)\n",
    "\n",
    "print(\"Accuracy: Test\")\n",
    "accuracy_test=metrics.accuracy_score(y_test,y_pred_test)\n",
    "print(accuracy_test)\n",
    "\n",
    "# Precision\n",
    "print(\"Precision: Train\")\n",
    "precision_train=metrics.precision_score(y_train,y_pred_train)\n",
    "print(precision_train)\n",
    "\n",
    "print(\"Precision: Test\")\n",
    "precision_test=metrics.precision_score(y_test,y_pred_test)\n",
    "print(precision_test)\n",
    "\n",
    "# Recall\n",
    "print(\"Recall: Train\")\n",
    "recall_train=metrics.recall_score(y_train,y_pred_train)\n",
    "print(recall_train)\n",
    "\n",
    "print(\"Recall: Test\")\n",
    "recall_test=metrics.recall_score(y_test,y_pred_test)\n",
    "print(recall_test)"
   ]
  },
  {
   "cell_type": "code",
   "execution_count": null,
   "metadata": {
    "colab": {},
    "colab_type": "code",
    "id": "QzyaaBvayP9C"
   },
   "outputs": [],
   "source": [
    "# Instalacion\n",
    "! pip install xgboost"
   ]
  },
  {
   "cell_type": "code",
   "execution_count": null,
   "metadata": {
    "colab": {},
    "colab_type": "code",
    "id": "dLy_7x2ryP9G"
   },
   "outputs": [],
   "source": [
    "## Modelos Supervisados : XGBoost ##\n",
    "X_train.Credit_History = X_train.Credit_History.astype(int)\n",
    "X_test.Credit_History  = X_test.Credit_History.astype(int)"
   ]
  },
  {
   "cell_type": "code",
   "execution_count": null,
   "metadata": {
    "colab": {},
    "colab_type": "code",
    "id": "i3dftgR1yP9H"
   },
   "outputs": [],
   "source": [
    "# Paso1: Definir la matriz XGB\n",
    "import xgboost as xgb\n",
    "# PasoN01: Configuramos los datasets\n",
    "dtrain =  xgb.DMatrix(data=X_train, label = y_train)\n",
    "dtest   = xgb.DMatrix(data=X_test,   label = y_test)"
   ]
  },
  {
   "cell_type": "code",
   "execution_count": null,
   "metadata": {
    "colab": {},
    "colab_type": "code",
    "id": "SxxuBU9-yP9K",
    "outputId": "598ba719-b085-49fd-f43a-055a52b67f96"
   },
   "outputs": [
    {
     "name": "stdout",
     "output_type": "stream",
     "text": [
      "[0]\ttrain-auc:0.741462\ttest-auc:0.713006\n",
      "[1]\ttrain-auc:0.742601\ttest-auc:0.713006\n",
      "[2]\ttrain-auc:0.742601\ttest-auc:0.713006\n",
      "[3]\ttrain-auc:0.742601\ttest-auc:0.713006\n",
      "[4]\ttrain-auc:0.742601\ttest-auc:0.713006\n",
      "[5]\ttrain-auc:0.742601\ttest-auc:0.713006\n",
      "[6]\ttrain-auc:0.742601\ttest-auc:0.713006\n",
      "[7]\ttrain-auc:0.742601\ttest-auc:0.713006\n",
      "[8]\ttrain-auc:0.742601\ttest-auc:0.713006\n",
      "[9]\ttrain-auc:0.742601\ttest-auc:0.713006\n",
      "[10]\ttrain-auc:0.742601\ttest-auc:0.713006\n",
      "[11]\ttrain-auc:0.742601\ttest-auc:0.713006\n",
      "[12]\ttrain-auc:0.742601\ttest-auc:0.713006\n",
      "[13]\ttrain-auc:0.742601\ttest-auc:0.713006\n",
      "[14]\ttrain-auc:0.742601\ttest-auc:0.713006\n",
      "[15]\ttrain-auc:0.742601\ttest-auc:0.713006\n",
      "[16]\ttrain-auc:0.742601\ttest-auc:0.713006\n",
      "[17]\ttrain-auc:0.742601\ttest-auc:0.713006\n",
      "[18]\ttrain-auc:0.742601\ttest-auc:0.713006\n",
      "[19]\ttrain-auc:0.742601\ttest-auc:0.713006\n",
      "[20]\ttrain-auc:0.742601\ttest-auc:0.713006\n",
      "[21]\ttrain-auc:0.742601\ttest-auc:0.713006\n",
      "[22]\ttrain-auc:0.742601\ttest-auc:0.713006\n",
      "[23]\ttrain-auc:0.742601\ttest-auc:0.713006\n",
      "[24]\ttrain-auc:0.742601\ttest-auc:0.713006\n",
      "[25]\ttrain-auc:0.751809\ttest-auc:0.716807\n",
      "[26]\ttrain-auc:0.751809\ttest-auc:0.716807\n",
      "[27]\ttrain-auc:0.751809\ttest-auc:0.716807\n",
      "[28]\ttrain-auc:0.751809\ttest-auc:0.716807\n",
      "[29]\ttrain-auc:0.751809\ttest-auc:0.716807\n",
      "[30]\ttrain-auc:0.751809\ttest-auc:0.716807\n",
      "[31]\ttrain-auc:0.751809\ttest-auc:0.716807\n",
      "[32]\ttrain-auc:0.751809\ttest-auc:0.716807\n",
      "[33]\ttrain-auc:0.751809\ttest-auc:0.716807\n",
      "[34]\ttrain-auc:0.751809\ttest-auc:0.716807\n",
      "[35]\ttrain-auc:0.751809\ttest-auc:0.716807\n",
      "[36]\ttrain-auc:0.751809\ttest-auc:0.716807\n",
      "[37]\ttrain-auc:0.751809\ttest-auc:0.716807\n",
      "[38]\ttrain-auc:0.751809\ttest-auc:0.716807\n",
      "[39]\ttrain-auc:0.751809\ttest-auc:0.716807\n",
      "[40]\ttrain-auc:0.751809\ttest-auc:0.716807\n",
      "[41]\ttrain-auc:0.751809\ttest-auc:0.716807\n",
      "[42]\ttrain-auc:0.751809\ttest-auc:0.716807\n",
      "[43]\ttrain-auc:0.751809\ttest-auc:0.716807\n",
      "[44]\ttrain-auc:0.751809\ttest-auc:0.716807\n",
      "[45]\ttrain-auc:0.751809\ttest-auc:0.716807\n",
      "[46]\ttrain-auc:0.751809\ttest-auc:0.716807\n",
      "[47]\ttrain-auc:0.751809\ttest-auc:0.716807\n",
      "[48]\ttrain-auc:0.751809\ttest-auc:0.716807\n",
      "[49]\ttrain-auc:0.751809\ttest-auc:0.716807\n",
      "[50]\ttrain-auc:0.751809\ttest-auc:0.716807\n",
      "[51]\ttrain-auc:0.751809\ttest-auc:0.716807\n",
      "[52]\ttrain-auc:0.751809\ttest-auc:0.716807\n",
      "[53]\ttrain-auc:0.751809\ttest-auc:0.716807\n",
      "[54]\ttrain-auc:0.751809\ttest-auc:0.716807\n",
      "[55]\ttrain-auc:0.751809\ttest-auc:0.716807\n",
      "[56]\ttrain-auc:0.751809\ttest-auc:0.716807\n",
      "[57]\ttrain-auc:0.751809\ttest-auc:0.716807\n",
      "[58]\ttrain-auc:0.751809\ttest-auc:0.716807\n",
      "[59]\ttrain-auc:0.751809\ttest-auc:0.716807\n",
      "[60]\ttrain-auc:0.751809\ttest-auc:0.716807\n",
      "[61]\ttrain-auc:0.751809\ttest-auc:0.716807\n",
      "[62]\ttrain-auc:0.751809\ttest-auc:0.716807\n",
      "[63]\ttrain-auc:0.751809\ttest-auc:0.716807\n",
      "[64]\ttrain-auc:0.751809\ttest-auc:0.716807\n",
      "[65]\ttrain-auc:0.751809\ttest-auc:0.716807\n",
      "[66]\ttrain-auc:0.751809\ttest-auc:0.716807\n",
      "[67]\ttrain-auc:0.751809\ttest-auc:0.716807\n",
      "[68]\ttrain-auc:0.751809\ttest-auc:0.716807\n",
      "[69]\ttrain-auc:0.751809\ttest-auc:0.716807\n",
      "[70]\ttrain-auc:0.751809\ttest-auc:0.716807\n",
      "[71]\ttrain-auc:0.751809\ttest-auc:0.716807\n",
      "[72]\ttrain-auc:0.751809\ttest-auc:0.716807\n",
      "[73]\ttrain-auc:0.751809\ttest-auc:0.716807\n",
      "[74]\ttrain-auc:0.751809\ttest-auc:0.716807\n",
      "[75]\ttrain-auc:0.751809\ttest-auc:0.716807\n",
      "[76]\ttrain-auc:0.751809\ttest-auc:0.716807\n",
      "[77]\ttrain-auc:0.751809\ttest-auc:0.716807\n",
      "[78]\ttrain-auc:0.751809\ttest-auc:0.716807\n",
      "[79]\ttrain-auc:0.751809\ttest-auc:0.716807\n",
      "[80]\ttrain-auc:0.751809\ttest-auc:0.716807\n",
      "[81]\ttrain-auc:0.751809\ttest-auc:0.716807\n",
      "[82]\ttrain-auc:0.751809\ttest-auc:0.716807\n",
      "[83]\ttrain-auc:0.751809\ttest-auc:0.716807\n",
      "[84]\ttrain-auc:0.751809\ttest-auc:0.716807\n",
      "[85]\ttrain-auc:0.751809\ttest-auc:0.716807\n",
      "[86]\ttrain-auc:0.751809\ttest-auc:0.716807\n",
      "[87]\ttrain-auc:0.751809\ttest-auc:0.716807\n",
      "[88]\ttrain-auc:0.751809\ttest-auc:0.716807\n",
      "[89]\ttrain-auc:0.751809\ttest-auc:0.716807\n",
      "[90]\ttrain-auc:0.751809\ttest-auc:0.716807\n",
      "[91]\ttrain-auc:0.751809\ttest-auc:0.716807\n",
      "[92]\ttrain-auc:0.751809\ttest-auc:0.716807\n",
      "[93]\ttrain-auc:0.751809\ttest-auc:0.716807\n",
      "[94]\ttrain-auc:0.751809\ttest-auc:0.716807\n",
      "[95]\ttrain-auc:0.751809\ttest-auc:0.716807\n",
      "[96]\ttrain-auc:0.751809\ttest-auc:0.716807\n",
      "[97]\ttrain-auc:0.751809\ttest-auc:0.716807\n",
      "[98]\ttrain-auc:0.751809\ttest-auc:0.716807\n",
      "[99]\ttrain-auc:0.751809\ttest-auc:0.716807\n",
      "[100]\ttrain-auc:0.751809\ttest-auc:0.716807\n",
      "[101]\ttrain-auc:0.751809\ttest-auc:0.716807\n",
      "[102]\ttrain-auc:0.751809\ttest-auc:0.716807\n",
      "[103]\ttrain-auc:0.751809\ttest-auc:0.716807\n",
      "[104]\ttrain-auc:0.751809\ttest-auc:0.716807\n",
      "[105]\ttrain-auc:0.751809\ttest-auc:0.716807\n",
      "[106]\ttrain-auc:0.751809\ttest-auc:0.716807\n",
      "[107]\ttrain-auc:0.751809\ttest-auc:0.716807\n",
      "[108]\ttrain-auc:0.751809\ttest-auc:0.716807\n",
      "[109]\ttrain-auc:0.751809\ttest-auc:0.716807\n",
      "[110]\ttrain-auc:0.751809\ttest-auc:0.716807\n",
      "[111]\ttrain-auc:0.751809\ttest-auc:0.716807\n",
      "[112]\ttrain-auc:0.751809\ttest-auc:0.716807\n",
      "[113]\ttrain-auc:0.751809\ttest-auc:0.716807\n",
      "[114]\ttrain-auc:0.751809\ttest-auc:0.716807\n",
      "[115]\ttrain-auc:0.751809\ttest-auc:0.716807\n",
      "[116]\ttrain-auc:0.751809\ttest-auc:0.716807\n",
      "[117]\ttrain-auc:0.751809\ttest-auc:0.716807\n",
      "[118]\ttrain-auc:0.751809\ttest-auc:0.716807\n",
      "[119]\ttrain-auc:0.751809\ttest-auc:0.716807\n",
      "[120]\ttrain-auc:0.751809\ttest-auc:0.716807\n",
      "[121]\ttrain-auc:0.751809\ttest-auc:0.716807\n",
      "[122]\ttrain-auc:0.751809\ttest-auc:0.716807\n",
      "[123]\ttrain-auc:0.751809\ttest-auc:0.716807\n",
      "[124]\ttrain-auc:0.751809\ttest-auc:0.716807\n",
      "[125]\ttrain-auc:0.751809\ttest-auc:0.716807\n",
      "[126]\ttrain-auc:0.75683\ttest-auc:0.724545\n",
      "[127]\ttrain-auc:0.75683\ttest-auc:0.724545\n",
      "[128]\ttrain-auc:0.75683\ttest-auc:0.724545\n",
      "[129]\ttrain-auc:0.75683\ttest-auc:0.724545\n",
      "[130]\ttrain-auc:0.75683\ttest-auc:0.724545\n",
      "[131]\ttrain-auc:0.75683\ttest-auc:0.724545\n",
      "[132]\ttrain-auc:0.75683\ttest-auc:0.724545\n",
      "[133]\ttrain-auc:0.75683\ttest-auc:0.724545\n",
      "[134]\ttrain-auc:0.75683\ttest-auc:0.724545\n",
      "[135]\ttrain-auc:0.75683\ttest-auc:0.724545\n",
      "[136]\ttrain-auc:0.75683\ttest-auc:0.724545\n",
      "[137]\ttrain-auc:0.75683\ttest-auc:0.724545\n",
      "[138]\ttrain-auc:0.75745\ttest-auc:0.724138\n",
      "[139]\ttrain-auc:0.757298\ttest-auc:0.724138\n",
      "[140]\ttrain-auc:0.75745\ttest-auc:0.724138\n",
      "[141]\ttrain-auc:0.75745\ttest-auc:0.724138\n",
      "[142]\ttrain-auc:0.75745\ttest-auc:0.724138\n",
      "[143]\ttrain-auc:0.757855\ttest-auc:0.724138\n",
      "[144]\ttrain-auc:0.75745\ttest-auc:0.724138\n",
      "[145]\ttrain-auc:0.75745\ttest-auc:0.724138\n",
      "[146]\ttrain-auc:0.757855\ttest-auc:0.724138\n",
      "[147]\ttrain-auc:0.75745\ttest-auc:0.724138\n",
      "[148]\ttrain-auc:0.757855\ttest-auc:0.724138\n",
      "[149]\ttrain-auc:0.767506\ttest-auc:0.713277\n",
      "[150]\ttrain-auc:0.767506\ttest-auc:0.713277\n",
      "[151]\ttrain-auc:0.767506\ttest-auc:0.713277\n",
      "[152]\ttrain-auc:0.767506\ttest-auc:0.713277\n",
      "[153]\ttrain-auc:0.767506\ttest-auc:0.713277\n",
      "[154]\ttrain-auc:0.767506\ttest-auc:0.713277\n",
      "[155]\ttrain-auc:0.767506\ttest-auc:0.713277\n",
      "[156]\ttrain-auc:0.767278\ttest-auc:0.713277\n",
      "[157]\ttrain-auc:0.767506\ttest-auc:0.713277\n",
      "[158]\ttrain-auc:0.767506\ttest-auc:0.713277\n",
      "[159]\ttrain-auc:0.767506\ttest-auc:0.713277\n",
      "[160]\ttrain-auc:0.767506\ttest-auc:0.713277\n",
      "[161]\ttrain-auc:0.767506\ttest-auc:0.713277\n",
      "[162]\ttrain-auc:0.767506\ttest-auc:0.713277\n",
      "[163]\ttrain-auc:0.767506\ttest-auc:0.713277\n",
      "[164]\ttrain-auc:0.767506\ttest-auc:0.713277\n",
      "[165]\ttrain-auc:0.767506\ttest-auc:0.713277\n",
      "[166]\ttrain-auc:0.767506\ttest-auc:0.713277\n",
      "[167]\ttrain-auc:0.767506\ttest-auc:0.713277\n",
      "[168]\ttrain-auc:0.767506\ttest-auc:0.713277\n",
      "[169]\ttrain-auc:0.767506\ttest-auc:0.713277\n",
      "[170]\ttrain-auc:0.767506\ttest-auc:0.713277\n",
      "[171]\ttrain-auc:0.767506\ttest-auc:0.713277\n",
      "[172]\ttrain-auc:0.767506\ttest-auc:0.713277\n",
      "[173]\ttrain-auc:0.767506\ttest-auc:0.713277\n",
      "[174]\ttrain-auc:0.767506\ttest-auc:0.713277\n",
      "[175]\ttrain-auc:0.767506\ttest-auc:0.713277\n",
      "[176]\ttrain-auc:0.767506\ttest-auc:0.713277\n",
      "[177]\ttrain-auc:0.767506\ttest-auc:0.713277\n",
      "[178]\ttrain-auc:0.767506\ttest-auc:0.713277\n",
      "[179]\ttrain-auc:0.767506\ttest-auc:0.713277\n",
      "[180]\ttrain-auc:0.767506\ttest-auc:0.713277\n",
      "[181]\ttrain-auc:0.767506\ttest-auc:0.713277\n",
      "[182]\ttrain-auc:0.767506\ttest-auc:0.713277\n",
      "[183]\ttrain-auc:0.767506\ttest-auc:0.713277\n",
      "[184]\ttrain-auc:0.767506\ttest-auc:0.713277\n",
      "[185]\ttrain-auc:0.767506\ttest-auc:0.713277\n",
      "[186]\ttrain-auc:0.767506\ttest-auc:0.713277\n",
      "[187]\ttrain-auc:0.767506\ttest-auc:0.713277\n",
      "[188]\ttrain-auc:0.767506\ttest-auc:0.713277\n",
      "[189]\ttrain-auc:0.767506\ttest-auc:0.713277\n",
      "[190]\ttrain-auc:0.767506\ttest-auc:0.713277\n",
      "[191]\ttrain-auc:0.767506\ttest-auc:0.713277\n",
      "[192]\ttrain-auc:0.767506\ttest-auc:0.713277\n",
      "[193]\ttrain-auc:0.767506\ttest-auc:0.713277\n",
      "[194]\ttrain-auc:0.767506\ttest-auc:0.713006\n",
      "[195]\ttrain-auc:0.767506\ttest-auc:0.713277\n",
      "[196]\ttrain-auc:0.767506\ttest-auc:0.713277\n",
      "[197]\ttrain-auc:0.767506\ttest-auc:0.713277\n",
      "[198]\ttrain-auc:0.767506\ttest-auc:0.713277\n",
      "[199]\ttrain-auc:0.767506\ttest-auc:0.713277\n",
      "[200]\ttrain-auc:0.767506\ttest-auc:0.713006\n",
      "[201]\ttrain-auc:0.767506\ttest-auc:0.713006\n",
      "[202]\ttrain-auc:0.767506\ttest-auc:0.713006\n",
      "[203]\ttrain-auc:0.767506\ttest-auc:0.713006\n",
      "[204]\ttrain-auc:0.767506\ttest-auc:0.713277\n",
      "[205]\ttrain-auc:0.767506\ttest-auc:0.713006\n",
      "[206]\ttrain-auc:0.767506\ttest-auc:0.713006\n",
      "[207]\ttrain-auc:0.767506\ttest-auc:0.713277\n",
      "[208]\ttrain-auc:0.767506\ttest-auc:0.713006\n",
      "[209]\ttrain-auc:0.767506\ttest-auc:0.713006\n",
      "[210]\ttrain-auc:0.767506\ttest-auc:0.713006\n",
      "[211]\ttrain-auc:0.767506\ttest-auc:0.713006\n",
      "[212]\ttrain-auc:0.767506\ttest-auc:0.713006\n",
      "[213]\ttrain-auc:0.767506\ttest-auc:0.713006\n",
      "[214]\ttrain-auc:0.767506\ttest-auc:0.713006\n",
      "[215]\ttrain-auc:0.767506\ttest-auc:0.713006\n",
      "[216]\ttrain-auc:0.767506\ttest-auc:0.713006\n",
      "[217]\ttrain-auc:0.79188\ttest-auc:0.74552\n",
      "[218]\ttrain-auc:0.79188\ttest-auc:0.74552\n",
      "[219]\ttrain-auc:0.79188\ttest-auc:0.74552\n",
      "[220]\ttrain-auc:0.79188\ttest-auc:0.74552\n",
      "[221]\ttrain-auc:0.79188\ttest-auc:0.74552\n",
      "[222]\ttrain-auc:0.79188\ttest-auc:0.74552\n",
      "[223]\ttrain-auc:0.79188\ttest-auc:0.74552\n",
      "[224]\ttrain-auc:0.79188\ttest-auc:0.74552\n",
      "[225]\ttrain-auc:0.79188\ttest-auc:0.74552\n",
      "[226]\ttrain-auc:0.79188\ttest-auc:0.74552\n",
      "[227]\ttrain-auc:0.79188\ttest-auc:0.74552\n",
      "[228]\ttrain-auc:0.79188\ttest-auc:0.74552\n",
      "[229]\ttrain-auc:0.79188\ttest-auc:0.74552\n",
      "[230]\ttrain-auc:0.79188\ttest-auc:0.74552\n",
      "[231]\ttrain-auc:0.79188\ttest-auc:0.74552\n",
      "[232]\ttrain-auc:0.79188\ttest-auc:0.74552\n",
      "[233]\ttrain-auc:0.79188\ttest-auc:0.74552\n",
      "[234]\ttrain-auc:0.79188\ttest-auc:0.74552\n",
      "[235]\ttrain-auc:0.79188\ttest-auc:0.74552\n",
      "[236]\ttrain-auc:0.79188\ttest-auc:0.74552\n",
      "[237]\ttrain-auc:0.79188\ttest-auc:0.74552\n",
      "[238]\ttrain-auc:0.79188\ttest-auc:0.74552\n",
      "[239]\ttrain-auc:0.79188\ttest-auc:0.74552\n",
      "[240]\ttrain-auc:0.79188\ttest-auc:0.74552\n",
      "[241]\ttrain-auc:0.79188\ttest-auc:0.74552\n",
      "[242]\ttrain-auc:0.79188\ttest-auc:0.74552\n",
      "[243]\ttrain-auc:0.79188\ttest-auc:0.74552\n",
      "[244]\ttrain-auc:0.79188\ttest-auc:0.74552\n",
      "[245]\ttrain-auc:0.79188\ttest-auc:0.74552\n",
      "[246]\ttrain-auc:0.791829\ttest-auc:0.74552\n",
      "[247]\ttrain-auc:0.791829\ttest-auc:0.74552\n",
      "[248]\ttrain-auc:0.791829\ttest-auc:0.74552\n",
      "[249]\ttrain-auc:0.79188\ttest-auc:0.74552\n"
     ]
    }
   ],
   "source": [
    "# PasoN02: Configurar parametros\n",
    "xgb_params = {\n",
    "    \"objective\": \"reg:logistic\",\n",
    "    \"eta\": 0.005,\n",
    "    \"max_depth\": 2,\n",
    "    \"early_stopping_rounds\":  50,\n",
    "    \"gamma\": 0.1,\n",
    "    \"eval_metric\": \"auc\",\n",
    "    \"print_every_n\": 50\n",
    "}\n",
    "\n",
    "num_rounds = 250\n",
    "\n",
    "\n",
    "# PasoN03: \n",
    "watch_list  = [(dtrain,'train'),(dtest,'test')] # Hacen un lostado de los datos\n",
    "xgb_fit = xgb.train(xgb_params, dtrain, num_rounds, watch_list) # Entrenamiento del algoritmo"
   ]
  },
  {
   "cell_type": "code",
   "execution_count": null,
   "metadata": {
    "colab": {},
    "colab_type": "code",
    "id": "XJ6oxMQ8yP9M",
    "outputId": "7b4c68a4-f917-42ef-a427-b356d6af855b"
   },
   "outputs": [
    {
     "data": {
      "text/html": [
       "<div>\n",
       "<style scoped>\n",
       "    .dataframe tbody tr th:only-of-type {\n",
       "        vertical-align: middle;\n",
       "    }\n",
       "\n",
       "    .dataframe tbody tr th {\n",
       "        vertical-align: top;\n",
       "    }\n",
       "\n",
       "    .dataframe thead th {\n",
       "        text-align: right;\n",
       "    }\n",
       "</style>\n",
       "<table border=\"1\" class=\"dataframe\">\n",
       "  <thead>\n",
       "    <tr style=\"text-align: right;\">\n",
       "      <th></th>\n",
       "      <th>Gain</th>\n",
       "      <th>Cover</th>\n",
       "      <th>Weight</th>\n",
       "    </tr>\n",
       "  </thead>\n",
       "  <tbody>\n",
       "    <tr>\n",
       "      <th>Credit_History</th>\n",
       "      <td>49.764361</td>\n",
       "      <td>100.198998</td>\n",
       "      <td>250</td>\n",
       "    </tr>\n",
       "    <tr>\n",
       "      <th>Cuota_Ingreso1</th>\n",
       "      <td>2.134070</td>\n",
       "      <td>40.226678</td>\n",
       "      <td>116</td>\n",
       "    </tr>\n",
       "    <tr>\n",
       "      <th>Cuota_Ingreso2</th>\n",
       "      <td>5.524917</td>\n",
       "      <td>87.527262</td>\n",
       "      <td>104</td>\n",
       "    </tr>\n",
       "    <tr>\n",
       "      <th>Cuota_Ingreso_Hijo</th>\n",
       "      <td>1.021567</td>\n",
       "      <td>14.931440</td>\n",
       "      <td>99</td>\n",
       "    </tr>\n",
       "    <tr>\n",
       "      <th>TotalIncome</th>\n",
       "      <td>4.843689</td>\n",
       "      <td>85.821554</td>\n",
       "      <td>91</td>\n",
       "    </tr>\n",
       "    <tr>\n",
       "      <th>AmountxTerm</th>\n",
       "      <td>1.025984</td>\n",
       "      <td>13.364035</td>\n",
       "      <td>78</td>\n",
       "    </tr>\n",
       "    <tr>\n",
       "      <th>Property_Area</th>\n",
       "      <td>3.624939</td>\n",
       "      <td>79.188017</td>\n",
       "      <td>12</td>\n",
       "    </tr>\n",
       "  </tbody>\n",
       "</table>\n",
       "</div>"
      ],
      "text/plain": [
       "                         Gain       Cover  Weight\n",
       "Credit_History      49.764361  100.198998     250\n",
       "Cuota_Ingreso1       2.134070   40.226678     116\n",
       "Cuota_Ingreso2       5.524917   87.527262     104\n",
       "Cuota_Ingreso_Hijo   1.021567   14.931440      99\n",
       "TotalIncome          4.843689   85.821554      91\n",
       "AmountxTerm          1.025984   13.364035      78\n",
       "Property_Area        3.624939   79.188017      12"
      ]
     },
     "execution_count": 86,
     "metadata": {
      "tags": []
     },
     "output_type": "execute_result"
    }
   ],
   "source": [
    "frame = { 'Gain':        pd.Series(xgb_fit.get_score(importance_type='gain')), # Ganancia en prediccion por la variable\n",
    "          'Cover':       pd.Series(xgb_fit.get_score(importance_type='cover')),# Profundidad del arbol \n",
    "          'Weight':      pd.Series(xgb_fit.get_score(importance_type='weight'))} # En cuanto arboles sale la variable\n",
    "\n",
    "result = pd.DataFrame(frame) \n",
    "result "
   ]
  },
  {
   "cell_type": "code",
   "execution_count": null,
   "metadata": {
    "colab": {},
    "colab_type": "code",
    "id": "qPvkh5y1yP9N",
    "outputId": "ecc013db-0a00-43a9-a064-7eb1d3b0ddd4"
   },
   "outputs": [
    {
     "data": {
      "text/plain": [
       "<matplotlib.axes._subplots.AxesSubplot at 0x24eb57f6240>"
      ]
     },
     "execution_count": 88,
     "metadata": {
      "tags": []
     },
     "output_type": "execute_result"
    }
   ],
   "source": [
    "# Podemos calcular la importancia de variables por Xgboost\n",
    "xgb.plot_importance(xgb_fit,importance_type='cover')"
   ]
  },
  {
   "cell_type": "code",
   "execution_count": null,
   "metadata": {
    "colab": {},
    "colab_type": "code",
    "id": "RyPW1ixYyP9O"
   },
   "outputs": [],
   "source": [
    "# GridSearch de Parametros #\n",
    "import xgboost as xgb"
   ]
  },
  {
   "cell_type": "code",
   "execution_count": null,
   "metadata": {
    "colab": {},
    "colab_type": "code",
    "id": "hAGTEqZVyP9Q"
   },
   "outputs": [],
   "source": [
    "# Definimos la funcion de GridSearch\n",
    "from sklearn.model_selection import GridSearchCV       # Exhaustivo\n",
    "from sklearn.model_selection import RandomizedSearchCV # Combina aleatoriamente\n",
    "from scipy.stats import randint as sp_randint"
   ]
  },
  {
   "cell_type": "code",
   "execution_count": null,
   "metadata": {
    "colab": {},
    "colab_type": "code",
    "id": "pVsj0MdVyP9R"
   },
   "outputs": [],
   "source": [
    "# Configuramos el subset de parametros a trabajar\n",
    "cv_params = {'max_depth': [1,2,3,4,5,7],\n",
    "            'subsample':[0.5,0.6,0.7,0.8],\n",
    "             'n_estimators':[100,200,300],\n",
    "            'learning_rate':[0.1,0.01,0.001,0.0001]}"
   ]
  },
  {
   "cell_type": "code",
   "execution_count": null,
   "metadata": {
    "colab": {},
    "colab_type": "code",
    "id": "BRba9oIryP9S"
   },
   "outputs": [],
   "source": [
    "# Definimos un clasificador inicial, generalmente sin muchos parametros\n",
    "xgboost_ini = xgb.XGBClassifier().fit(X_train, y_train)"
   ]
  },
  {
   "cell_type": "code",
   "execution_count": null,
   "metadata": {
    "colab": {},
    "colab_type": "code",
    "id": "yHDoyUrqyP9U"
   },
   "outputs": [],
   "source": [
    "# Con el clasificador inicial, tratamos de buscar los mejores parametros\n",
    "optimized_GBM = RandomizedSearchCV(xgboost_ini, cv_params, scoring = 'accuracy', cv = 5) "
   ]
  },
  {
   "cell_type": "code",
   "execution_count": null,
   "metadata": {
    "colab": {},
    "colab_type": "code",
    "id": "LQa7BG3UyP9W",
    "outputId": "8044cb86-d8a7-4e06-c5d1-b2be1215d339"
   },
   "outputs": [
    {
     "data": {
      "text/plain": [
       "RandomizedSearchCV(cv=5, error_score='raise-deprecating',\n",
       "                   estimator=XGBClassifier(base_score=0.5, booster='gbtree',\n",
       "                                           colsample_bylevel=1,\n",
       "                                           colsample_bytree=1, gamma=0,\n",
       "                                           learning_rate=0.1, max_delta_step=0,\n",
       "                                           max_depth=3, min_child_weight=1,\n",
       "                                           missing=None, n_estimators=100,\n",
       "                                           n_jobs=1, nthread=None,\n",
       "                                           objective='binary:logistic',\n",
       "                                           random_state=0, reg_alpha=0,\n",
       "                                           reg_lambda=1, scale_pos_weight=1,\n",
       "                                           seed=None, silent=True,\n",
       "                                           subsample=1),\n",
       "                   iid='warn', n_iter=10, n_jobs=None,\n",
       "                   param_distributions={'learning_rate': [0.1, 0.01, 0.001,\n",
       "                                                          0.0001],\n",
       "                                        'max_depth': [1, 2, 3, 4, 5, 7],\n",
       "                                        'n_estimators': [100, 200, 300],\n",
       "                                        'subsample': [0.5, 0.6, 0.7, 0.8]},\n",
       "                   pre_dispatch='2*n_jobs', random_state=None, refit=True,\n",
       "                   return_train_score=False, scoring='accuracy', verbose=0)"
      ]
     },
     "execution_count": 105,
     "metadata": {
      "tags": []
     },
     "output_type": "execute_result"
    }
   ],
   "source": [
    "# Buscamos los parametros de acuerdo a nuestro criterio\n",
    "optimized_GBM.fit(X_train, y_train)"
   ]
  },
  {
   "cell_type": "code",
   "execution_count": null,
   "metadata": {
    "colab": {},
    "colab_type": "code",
    "id": "vXCW_DafyP9X",
    "outputId": "bb62ff85-fee1-41f4-b781-3c762c1a2081"
   },
   "outputs": [
    {
     "name": "stdout",
     "output_type": "stream",
     "text": [
      "{'subsample': 0.7, 'n_estimators': 100, 'max_depth': 1, 'learning_rate': 0.01}\n"
     ]
    }
   ],
   "source": [
    "# De acuerdo a la busqueda , nos quedamos con los mejores parametros \n",
    "print (optimized_GBM.best_params_)"
   ]
  },
  {
   "cell_type": "code",
   "execution_count": null,
   "metadata": {
    "colab": {},
    "colab_type": "code",
    "id": "gSe7p3bOyP9a"
   },
   "outputs": [],
   "source": [
    "# Parametrizamos el Best Xgboost "
   ]
  },
  {
   "cell_type": "code",
   "execution_count": null,
   "metadata": {
    "colab": {},
    "colab_type": "code",
    "id": "EBpwOw3PyP9c",
    "outputId": "86a5c14e-5dc7-4b60-f7ec-5b349fdb5968"
   },
   "outputs": [
    {
     "name": "stdout",
     "output_type": "stream",
     "text": [
      "[0]\ttrain-auc:0.70998\ttest-auc:0.694339\n",
      "[1]\ttrain-auc:0.70998\ttest-auc:0.694339\n",
      "[2]\ttrain-auc:0.70998\ttest-auc:0.694339\n",
      "[3]\ttrain-auc:0.70998\ttest-auc:0.694339\n",
      "[4]\ttrain-auc:0.70998\ttest-auc:0.694339\n",
      "[5]\ttrain-auc:0.70998\ttest-auc:0.694339\n",
      "[6]\ttrain-auc:0.70998\ttest-auc:0.694339\n",
      "[7]\ttrain-auc:0.70998\ttest-auc:0.694339\n",
      "[8]\ttrain-auc:0.70998\ttest-auc:0.694339\n",
      "[9]\ttrain-auc:0.70998\ttest-auc:0.694339\n",
      "[10]\ttrain-auc:0.70998\ttest-auc:0.694339\n",
      "[11]\ttrain-auc:0.70998\ttest-auc:0.694339\n",
      "[12]\ttrain-auc:0.70998\ttest-auc:0.694339\n",
      "[13]\ttrain-auc:0.70998\ttest-auc:0.694339\n",
      "[14]\ttrain-auc:0.70998\ttest-auc:0.694339\n",
      "[15]\ttrain-auc:0.70998\ttest-auc:0.694339\n",
      "[16]\ttrain-auc:0.70998\ttest-auc:0.694339\n",
      "[17]\ttrain-auc:0.70998\ttest-auc:0.694339\n",
      "[18]\ttrain-auc:0.70998\ttest-auc:0.694339\n",
      "[19]\ttrain-auc:0.70998\ttest-auc:0.694339\n",
      "[20]\ttrain-auc:0.70998\ttest-auc:0.694339\n",
      "[21]\ttrain-auc:0.70998\ttest-auc:0.694339\n",
      "[22]\ttrain-auc:0.70998\ttest-auc:0.694339\n",
      "[23]\ttrain-auc:0.70998\ttest-auc:0.694339\n",
      "[24]\ttrain-auc:0.70998\ttest-auc:0.694339\n",
      "[25]\ttrain-auc:0.70998\ttest-auc:0.694339\n",
      "[26]\ttrain-auc:0.70998\ttest-auc:0.694339\n",
      "[27]\ttrain-auc:0.70998\ttest-auc:0.694339\n",
      "[28]\ttrain-auc:0.70998\ttest-auc:0.694339\n",
      "[29]\ttrain-auc:0.70998\ttest-auc:0.694339\n",
      "[30]\ttrain-auc:0.70998\ttest-auc:0.694339\n",
      "[31]\ttrain-auc:0.70998\ttest-auc:0.694339\n",
      "[32]\ttrain-auc:0.70998\ttest-auc:0.694339\n",
      "[33]\ttrain-auc:0.70998\ttest-auc:0.694339\n",
      "[34]\ttrain-auc:0.70998\ttest-auc:0.694339\n",
      "[35]\ttrain-auc:0.70998\ttest-auc:0.694339\n",
      "[36]\ttrain-auc:0.70998\ttest-auc:0.694339\n",
      "[37]\ttrain-auc:0.70998\ttest-auc:0.694339\n",
      "[38]\ttrain-auc:0.70998\ttest-auc:0.694339\n",
      "[39]\ttrain-auc:0.70998\ttest-auc:0.694339\n",
      "[40]\ttrain-auc:0.70998\ttest-auc:0.694339\n",
      "[41]\ttrain-auc:0.70998\ttest-auc:0.694339\n",
      "[42]\ttrain-auc:0.70998\ttest-auc:0.694339\n",
      "[43]\ttrain-auc:0.70998\ttest-auc:0.694339\n",
      "[44]\ttrain-auc:0.70998\ttest-auc:0.694339\n",
      "[45]\ttrain-auc:0.70998\ttest-auc:0.694339\n",
      "[46]\ttrain-auc:0.70998\ttest-auc:0.694339\n",
      "[47]\ttrain-auc:0.70998\ttest-auc:0.694339\n",
      "[48]\ttrain-auc:0.70998\ttest-auc:0.694339\n",
      "[49]\ttrain-auc:0.70998\ttest-auc:0.694339\n",
      "[50]\ttrain-auc:0.70998\ttest-auc:0.694339\n",
      "[51]\ttrain-auc:0.70998\ttest-auc:0.694339\n",
      "[52]\ttrain-auc:0.70998\ttest-auc:0.694339\n",
      "[53]\ttrain-auc:0.70998\ttest-auc:0.694339\n",
      "[54]\ttrain-auc:0.70998\ttest-auc:0.694339\n",
      "[55]\ttrain-auc:0.70998\ttest-auc:0.694339\n",
      "[56]\ttrain-auc:0.70998\ttest-auc:0.694339\n",
      "[57]\ttrain-auc:0.70998\ttest-auc:0.694339\n",
      "[58]\ttrain-auc:0.70998\ttest-auc:0.694339\n",
      "[59]\ttrain-auc:0.70998\ttest-auc:0.694339\n",
      "[60]\ttrain-auc:0.70998\ttest-auc:0.694339\n",
      "[61]\ttrain-auc:0.70998\ttest-auc:0.694339\n",
      "[62]\ttrain-auc:0.70998\ttest-auc:0.694339\n",
      "[63]\ttrain-auc:0.70998\ttest-auc:0.694339\n",
      "[64]\ttrain-auc:0.70998\ttest-auc:0.694339\n",
      "[65]\ttrain-auc:0.70998\ttest-auc:0.694339\n",
      "[66]\ttrain-auc:0.70998\ttest-auc:0.694339\n",
      "[67]\ttrain-auc:0.70998\ttest-auc:0.694339\n",
      "[68]\ttrain-auc:0.70998\ttest-auc:0.694339\n",
      "[69]\ttrain-auc:0.70998\ttest-auc:0.694339\n",
      "[70]\ttrain-auc:0.70998\ttest-auc:0.694339\n",
      "[71]\ttrain-auc:0.70998\ttest-auc:0.694339\n",
      "[72]\ttrain-auc:0.70998\ttest-auc:0.694339\n",
      "[73]\ttrain-auc:0.70998\ttest-auc:0.694339\n",
      "[74]\ttrain-auc:0.70998\ttest-auc:0.694339\n",
      "[75]\ttrain-auc:0.70998\ttest-auc:0.694339\n",
      "[76]\ttrain-auc:0.70998\ttest-auc:0.694339\n",
      "[77]\ttrain-auc:0.70998\ttest-auc:0.694339\n",
      "[78]\ttrain-auc:0.70998\ttest-auc:0.694339\n",
      "[79]\ttrain-auc:0.70998\ttest-auc:0.694339\n",
      "[80]\ttrain-auc:0.70998\ttest-auc:0.694339\n",
      "[81]\ttrain-auc:0.70998\ttest-auc:0.694339\n",
      "[82]\ttrain-auc:0.70998\ttest-auc:0.694339\n",
      "[83]\ttrain-auc:0.70998\ttest-auc:0.694339\n",
      "[84]\ttrain-auc:0.70998\ttest-auc:0.694339\n",
      "[85]\ttrain-auc:0.70998\ttest-auc:0.694339\n",
      "[86]\ttrain-auc:0.70998\ttest-auc:0.694339\n",
      "[87]\ttrain-auc:0.70998\ttest-auc:0.694339\n",
      "[88]\ttrain-auc:0.70998\ttest-auc:0.694339\n",
      "[89]\ttrain-auc:0.70998\ttest-auc:0.694339\n",
      "[90]\ttrain-auc:0.70998\ttest-auc:0.694339\n",
      "[91]\ttrain-auc:0.70998\ttest-auc:0.694339\n",
      "[92]\ttrain-auc:0.70998\ttest-auc:0.694339\n",
      "[93]\ttrain-auc:0.70998\ttest-auc:0.694339\n",
      "[94]\ttrain-auc:0.70998\ttest-auc:0.694339\n",
      "[95]\ttrain-auc:0.70998\ttest-auc:0.694339\n",
      "[96]\ttrain-auc:0.70998\ttest-auc:0.694339\n",
      "[97]\ttrain-auc:0.70998\ttest-auc:0.694339\n",
      "[98]\ttrain-auc:0.70998\ttest-auc:0.694339\n",
      "[99]\ttrain-auc:0.70998\ttest-auc:0.694339\n"
     ]
    }
   ],
   "source": [
    "# PasoN02: Configurar parametros\n",
    "xgb_params = {\n",
    "    \"objective\": \"reg:logistic\",\n",
    "    \"eta\": 0.01,\n",
    "    \"max_depth\": 1,\n",
    "    \"early_stopping_rounds\":  50,\n",
    "    \"gamma\": 0.1,\n",
    "    \"subsample\":0.7,\n",
    "    \"eval_metric\": \"auc\",\n",
    "    \"print_every_n\": 50\n",
    "}\n",
    "\n",
    "num_rounds = 100\n",
    "# PasoN03: \n",
    "watch_list  = [(dtrain,'train'),(dtest,'test')]\n",
    "xgb_fit = xgb.train(xgb_params, dtrain, num_rounds, watch_list) # Entrenamiento del algoritmo"
   ]
  },
  {
   "cell_type": "code",
   "execution_count": null,
   "metadata": {
    "colab": {},
    "colab_type": "code",
    "id": "9j1gWGQGyP9e"
   },
   "outputs": [],
   "source": [
    "## Modelos Supervisados : LigtGBM ##"
   ]
  },
  {
   "cell_type": "code",
   "execution_count": null,
   "metadata": {
    "colab": {},
    "colab_type": "code",
    "id": "spTRFomHyP9f"
   },
   "outputs": [],
   "source": [
    "#! pip install lightgbm\n",
    "import lightgbm as lgb\n",
    "dtrain = lgb.Dataset(X_train, label=y_train)\n",
    "dtest =  lgb.Dataset(X_test,  label=y_test, reference=dtrain)"
   ]
  },
  {
   "cell_type": "code",
   "execution_count": null,
   "metadata": {
    "colab": {},
    "colab_type": "code",
    "id": "XrQ74j8wyP9h"
   },
   "outputs": [],
   "source": [
    "params = {\n",
    "        'task':'train', \n",
    "        'is_unbalance': False, \n",
    "        'max_dept':1,\n",
    "        'max_bin': 10,  # max cantidad de cortes de una var. numerica\n",
    "        'boosting_type': 'gbdt',\n",
    "        'objective': 'binary',\n",
    "            #'min_child_weight': 150,\n",
    "            'metric': 'auc',\n",
    "            #'min_data_in_leaf': 250,\n",
    "            'num_leaves': 5,\n",
    "            'learning_rate': 0.0001,\n",
    "            'feature_fraction': 0.8,\n",
    "            'bagging_fraction': 0.8,\n",
    "            'bagging_freq': 10,\n",
    "            #'min_data_per_group':150 ,\n",
    "            'verbose': 1,\n",
    "            'seed ':1234\n",
    "    }"
   ]
  },
  {
   "cell_type": "code",
   "execution_count": null,
   "metadata": {
    "colab": {},
    "colab_type": "code",
    "id": "ntWUlB_EyP9j",
    "outputId": "a31af14f-0746-4205-fc4a-da63ee0ad0ca"
   },
   "outputs": [
    {
     "name": "stdout",
     "output_type": "stream",
     "text": [
      "[1]\ttraining's auc: 0.771541\tvalid_1's auc: 0.797651\n",
      "Training until validation scores don't improve for 100 rounds.\n",
      "[2]\ttraining's auc: 0.771541\tvalid_1's auc: 0.797651\n",
      "[3]\ttraining's auc: 0.778358\tvalid_1's auc: 0.79256\n",
      "[4]\ttraining's auc: 0.79002\tvalid_1's auc: 0.798534\n",
      "[5]\ttraining's auc: 0.796218\tvalid_1's auc: 0.799484\n",
      "[6]\ttraining's auc: 0.794017\tvalid_1's auc: 0.80057\n",
      "[7]\ttraining's auc: 0.793157\tvalid_1's auc: 0.805186\n",
      "[8]\ttraining's auc: 0.797129\tvalid_1's auc: 0.806951\n",
      "[9]\ttraining's auc: 0.798697\tvalid_1's auc: 0.809938\n",
      "[10]\ttraining's auc: 0.801214\tvalid_1's auc: 0.804575\n",
      "[11]\ttraining's auc: 0.811169\tvalid_1's auc: 0.812517\n",
      "[12]\ttraining's auc: 0.820124\tvalid_1's auc: 0.813196\n",
      "[13]\ttraining's auc: 0.819251\tvalid_1's auc: 0.819644\n",
      "[14]\ttraining's auc: 0.821983\tvalid_1's auc: 0.820595\n",
      "[15]\ttraining's auc: 0.824172\tvalid_1's auc: 0.821341\n",
      "[16]\ttraining's auc: 0.82493\tvalid_1's auc: 0.820866\n",
      "[17]\ttraining's auc: 0.825816\tvalid_1's auc: 0.823174\n",
      "[18]\ttraining's auc: 0.826752\tvalid_1's auc: 0.821409\n",
      "[19]\ttraining's auc: 0.82617\tvalid_1's auc: 0.821545\n",
      "[20]\ttraining's auc: 0.825613\tvalid_1's auc: 0.821002\n",
      "[21]\ttraining's auc: 0.825626\tvalid_1's auc: 0.821681\n",
      "[22]\ttraining's auc: 0.828396\tvalid_1's auc: 0.823853\n",
      "[23]\ttraining's auc: 0.82784\tvalid_1's auc: 0.822292\n",
      "[24]\ttraining's auc: 0.828991\tvalid_1's auc: 0.824124\n",
      "[25]\ttraining's auc: 0.827903\tvalid_1's auc: 0.82331\n",
      "[26]\ttraining's auc: 0.828409\tvalid_1's auc: 0.822767\n",
      "[27]\ttraining's auc: 0.828055\tvalid_1's auc: 0.821273\n",
      "[28]\ttraining's auc: 0.829155\tvalid_1's auc: 0.818966\n",
      "[29]\ttraining's auc: 0.828852\tvalid_1's auc: 0.820323\n",
      "[30]\ttraining's auc: 0.830597\tvalid_1's auc: 0.819848\n",
      "[31]\ttraining's auc: 0.831027\tvalid_1's auc: 0.822292\n",
      "[32]\ttraining's auc: 0.831204\tvalid_1's auc: 0.819848\n",
      "[33]\ttraining's auc: 0.83109\tvalid_1's auc: 0.819169\n",
      "[34]\ttraining's auc: 0.834379\tvalid_1's auc: 0.817744\n",
      "[35]\ttraining's auc: 0.834151\tvalid_1's auc: 0.818151\n",
      "[36]\ttraining's auc: 0.833974\tvalid_1's auc: 0.816386\n",
      "[37]\ttraining's auc: 0.833418\tvalid_1's auc: 0.814214\n",
      "[38]\ttraining's auc: 0.833519\tvalid_1's auc: 0.812721\n",
      "[39]\ttraining's auc: 0.833468\tvalid_1's auc: 0.814485\n",
      "[40]\ttraining's auc: 0.832735\tvalid_1's auc: 0.813942\n",
      "[41]\ttraining's auc: 0.832127\tvalid_1's auc: 0.812585\n",
      "[42]\ttraining's auc: 0.831976\tvalid_1's auc: 0.811227\n",
      "[43]\ttraining's auc: 0.832102\tvalid_1's auc: 0.811499\n",
      "[44]\ttraining's auc: 0.831647\tvalid_1's auc: 0.812721\n",
      "[45]\ttraining's auc: 0.831141\tvalid_1's auc: 0.811227\n",
      "[46]\ttraining's auc: 0.83252\tvalid_1's auc: 0.81082\n",
      "[47]\ttraining's auc: 0.832722\tvalid_1's auc: 0.811635\n",
      "[48]\ttraining's auc: 0.83252\tvalid_1's auc: 0.812178\n",
      "[49]\ttraining's auc: 0.832241\tvalid_1's auc: 0.811906\n",
      "[50]\ttraining's auc: 0.833405\tvalid_1's auc: 0.810277\n",
      "[51]\ttraining's auc: 0.833658\tvalid_1's auc: 0.812313\n",
      "[52]\ttraining's auc: 0.83429\tvalid_1's auc: 0.812585\n",
      "[53]\ttraining's auc: 0.834543\tvalid_1's auc: 0.814214\n",
      "[54]\ttraining's auc: 0.834467\tvalid_1's auc: 0.814485\n",
      "[55]\ttraining's auc: 0.834467\tvalid_1's auc: 0.816115\n",
      "[56]\ttraining's auc: 0.834341\tvalid_1's auc: 0.817879\n",
      "[57]\ttraining's auc: 0.834164\tvalid_1's auc: 0.818694\n",
      "[58]\ttraining's auc: 0.834088\tvalid_1's auc: 0.819509\n",
      "[59]\ttraining's auc: 0.834088\tvalid_1's auc: 0.818558\n",
      "[60]\ttraining's auc: 0.834341\tvalid_1's auc: 0.816658\n",
      "[61]\ttraining's auc: 0.835985\tvalid_1's auc: 0.817065\n",
      "[62]\ttraining's auc: 0.836314\tvalid_1's auc: 0.817065\n",
      "[63]\ttraining's auc: 0.836795\tvalid_1's auc: 0.816793\n",
      "[64]\ttraining's auc: 0.838566\tvalid_1's auc: 0.817065\n",
      "[65]\ttraining's auc: 0.839426\tvalid_1's auc: 0.817472\n",
      "[66]\ttraining's auc: 0.83978\tvalid_1's auc: 0.816793\n",
      "[67]\ttraining's auc: 0.840336\tvalid_1's auc: 0.816658\n",
      "[68]\ttraining's auc: 0.840311\tvalid_1's auc: 0.816793\n",
      "[69]\ttraining's auc: 0.84045\tvalid_1's auc: 0.81659\n",
      "[70]\ttraining's auc: 0.84088\tvalid_1's auc: 0.816182\n",
      "[71]\ttraining's auc: 0.840906\tvalid_1's auc: 0.816047\n",
      "[72]\ttraining's auc: 0.841336\tvalid_1's auc: 0.816454\n",
      "[73]\ttraining's auc: 0.840703\tvalid_1's auc: 0.816997\n",
      "[74]\ttraining's auc: 0.840501\tvalid_1's auc: 0.816861\n",
      "[75]\ttraining's auc: 0.840602\tvalid_1's auc: 0.81659\n",
      "[76]\ttraining's auc: 0.840096\tvalid_1's auc: 0.814282\n",
      "[77]\ttraining's auc: 0.839615\tvalid_1's auc: 0.81211\n",
      "[78]\ttraining's auc: 0.839413\tvalid_1's auc: 0.80953\n",
      "[79]\ttraining's auc: 0.83911\tvalid_1's auc: 0.809802\n",
      "[80]\ttraining's auc: 0.838907\tvalid_1's auc: 0.80953\n",
      "[81]\ttraining's auc: 0.83873\tvalid_1's auc: 0.810616\n",
      "[82]\ttraining's auc: 0.838338\tvalid_1's auc: 0.810888\n",
      "[83]\ttraining's auc: 0.837857\tvalid_1's auc: 0.811024\n",
      "[84]\ttraining's auc: 0.838692\tvalid_1's auc: 0.809666\n",
      "[85]\ttraining's auc: 0.838439\tvalid_1's auc: 0.809666\n",
      "[86]\ttraining's auc: 0.838313\tvalid_1's auc: 0.810481\n",
      "[87]\ttraining's auc: 0.83811\tvalid_1's auc: 0.810481\n",
      "[88]\ttraining's auc: 0.837832\tvalid_1's auc: 0.812381\n",
      "[89]\ttraining's auc: 0.837706\tvalid_1's auc: 0.812381\n",
      "[90]\ttraining's auc: 0.83763\tvalid_1's auc: 0.812381\n",
      "[91]\ttraining's auc: 0.837959\tvalid_1's auc: 0.811702\n",
      "[92]\ttraining's auc: 0.838136\tvalid_1's auc: 0.810888\n",
      "[93]\ttraining's auc: 0.838389\tvalid_1's auc: 0.810752\n",
      "[94]\ttraining's auc: 0.839223\tvalid_1's auc: 0.810616\n",
      "[95]\ttraining's auc: 0.839831\tvalid_1's auc: 0.811295\n",
      "[96]\ttraining's auc: 0.839982\tvalid_1's auc: 0.810209\n",
      "[97]\ttraining's auc: 0.840893\tvalid_1's auc: 0.809802\n",
      "[98]\ttraining's auc: 0.841247\tvalid_1's auc: 0.809395\n",
      "[99]\ttraining's auc: 0.840817\tvalid_1's auc: 0.809123\n",
      "[100]\ttraining's auc: 0.840842\tvalid_1's auc: 0.808173\n",
      "[101]\ttraining's auc: 0.841601\tvalid_1's auc: 0.807901\n",
      "[102]\ttraining's auc: 0.842183\tvalid_1's auc: 0.808444\n",
      "[103]\ttraining's auc: 0.842006\tvalid_1's auc: 0.808851\n",
      "[104]\ttraining's auc: 0.842386\tvalid_1's auc: 0.809395\n",
      "[105]\ttraining's auc: 0.842588\tvalid_1's auc: 0.808851\n",
      "[106]\ttraining's auc: 0.842057\tvalid_1's auc: 0.808987\n",
      "[107]\ttraining's auc: 0.841475\tvalid_1's auc: 0.809259\n",
      "[108]\ttraining's auc: 0.841955\tvalid_1's auc: 0.809123\n",
      "[109]\ttraining's auc: 0.841272\tvalid_1's auc: 0.809666\n",
      "[110]\ttraining's auc: 0.841551\tvalid_1's auc: 0.810209\n",
      "[111]\ttraining's auc: 0.84193\tvalid_1's auc: 0.80953\n",
      "[112]\ttraining's auc: 0.842183\tvalid_1's auc: 0.809598\n",
      "[113]\ttraining's auc: 0.842133\tvalid_1's auc: 0.809598\n",
      "[114]\ttraining's auc: 0.842967\tvalid_1's auc: 0.809327\n",
      "[115]\ttraining's auc: 0.843119\tvalid_1's auc: 0.810548\n",
      "[116]\ttraining's auc: 0.843195\tvalid_1's auc: 0.811499\n",
      "[117]\ttraining's auc: 0.843372\tvalid_1's auc: 0.811499\n",
      "[118]\ttraining's auc: 0.84365\tvalid_1's auc: 0.811227\n",
      "[119]\ttraining's auc: 0.843524\tvalid_1's auc: 0.811906\n",
      "[120]\ttraining's auc: 0.843423\tvalid_1's auc: 0.81177\n",
      "[121]\ttraining's auc: 0.843448\tvalid_1's auc: 0.812585\n",
      "[122]\ttraining's auc: 0.843625\tvalid_1's auc: 0.812721\n",
      "[123]\ttraining's auc: 0.843827\tvalid_1's auc: 0.812178\n",
      "[124]\ttraining's auc: 0.843878\tvalid_1's auc: 0.812992\n",
      "Early stopping, best iteration is:\n",
      "[24]\ttraining's auc: 0.828991\tvalid_1's auc: 0.824124\n"
     ]
    }
   ],
   "source": [
    "gbm = lgb.train(params,\n",
    "                dtrain,\n",
    "                num_boost_round=10000,\n",
    "                valid_sets=[dtrain,dtest],\n",
    "                early_stopping_rounds=100)"
   ]
  },
  {
   "cell_type": "code",
   "execution_count": null,
   "metadata": {
    "colab": {},
    "colab_type": "code",
    "id": "qHgpJUcWyP9k",
    "outputId": "41760f08-634b-48f7-d626-6e21832c2323"
   },
   "outputs": [
    {
     "data": {
      "text/plain": [
       "0        (Credit_History, 1591.5394973754883)\n",
       "1        (Cuota_Ingreso2, 101.66533041000366)\n",
       "2         (Cuota_Ingreso1, 51.38326930999756)\n",
       "3     (CoapplicantIncome, 38.578789949417114)\n",
       "4               (Married, 35.753469705581665)\n",
       "5       (ApplicantIncome, 22.287949919700623)\n",
       "6           (TotalIncome, 17.533309817314148)\n",
       "7         (Property_Area, 17.070509910583496)\n",
       "8             (AmountxTerm, 15.2361501455307)\n",
       "9             (Education, 10.756069898605347)\n",
       "10            (LoanAmount, 8.152129888534546)\n",
       "11      (Loan_Amount_Term, 6.183619976043701)\n",
       "12     (Cuota_Ingreso_Hijo, 2.23334002494812)\n",
       "13                              (Gender, 0.0)\n",
       "14                          (Dependents, 0.0)\n",
       "15                       (Self_Employed, 0.0)\n",
       "16                      (Log_LoanAmount, 0.0)\n",
       "dtype: object"
      ]
     },
     "execution_count": 107,
     "metadata": {
      "tags": []
     },
     "output_type": "execute_result"
    }
   ],
   "source": [
    "# Importancia de Variables\n",
    "importancia=gbm.feature_importance(importance_type='gain')\n",
    "\n",
    "def impxgb(valores,variables):\n",
    "    dictimp={variables[a]:valores[a] for a in range(0,len(variables)) }\n",
    "    xgimp=sorted(list(dictimp.items()), key=lambda x: x[1],reverse=True)\n",
    "\n",
    "    return xgimp\n",
    "\n",
    "ixg=impxgb(importancia,X_train.columns)\n",
    "pd.Series(ixg)"
   ]
  },
  {
   "cell_type": "code",
   "execution_count": null,
   "metadata": {
    "colab": {},
    "colab_type": "code",
    "id": "Wr9C0FiXyP9l"
   },
   "outputs": [],
   "source": [
    "## Modelos Supervisados : CatBoost ##\n",
    "#! pip install catboost\n",
    "from catboost import CatBoostClassifier\n",
    "# Definimos el clasificador\n",
    "CatBoost=CatBoostClassifier(eval_metric=\"AUC\",\n",
    "                            one_hot_max_size=20,\n",
    "                            depth=1, \n",
    "                            iterations= 800, \n",
    "                            l2_leaf_reg= 2, \n",
    "                            learning_rate= 0.0001)"
   ]
  },
  {
   "cell_type": "code",
   "execution_count": null,
   "metadata": {
    "colab": {},
    "colab_type": "code",
    "id": "ayaUESzjyP9m",
    "outputId": "9ad2dee1-5352-4e24-c939-d1b07309ec4f"
   },
   "outputs": [
    {
     "name": "stdout",
     "output_type": "stream",
     "text": [
      "0:\tlearn: 0.7099798\ttotal: 57.9ms\tremaining: 46.3s\n",
      "1:\tlearn: 0.7099798\ttotal: 61.8ms\tremaining: 24.7s\n",
      "2:\tlearn: 0.7099798\ttotal: 65.4ms\tremaining: 17.4s\n",
      "3:\tlearn: 0.7099798\ttotal: 69.2ms\tremaining: 13.8s\n",
      "4:\tlearn: 0.7099798\ttotal: 72.8ms\tremaining: 11.6s\n",
      "5:\tlearn: 0.7099798\ttotal: 76.2ms\tremaining: 10.1s\n",
      "6:\tlearn: 0.7099798\ttotal: 79.6ms\tremaining: 9.01s\n",
      "7:\tlearn: 0.7099798\ttotal: 82.9ms\tremaining: 8.21s\n",
      "8:\tlearn: 0.7099798\ttotal: 86.2ms\tremaining: 7.57s\n",
      "9:\tlearn: 0.7099798\ttotal: 89.4ms\tremaining: 7.06s\n",
      "10:\tlearn: 0.7099798\ttotal: 92.6ms\tremaining: 6.64s\n",
      "11:\tlearn: 0.7099798\ttotal: 95.8ms\tremaining: 6.29s\n",
      "12:\tlearn: 0.7099798\ttotal: 99.1ms\tremaining: 6s\n",
      "13:\tlearn: 0.7099798\ttotal: 102ms\tremaining: 5.75s\n",
      "14:\tlearn: 0.7099798\ttotal: 106ms\tremaining: 5.53s\n",
      "15:\tlearn: 0.7099798\ttotal: 109ms\tremaining: 5.34s\n",
      "16:\tlearn: 0.7099798\ttotal: 112ms\tremaining: 5.16s\n",
      "17:\tlearn: 0.7099798\ttotal: 116ms\tremaining: 5.02s\n",
      "18:\tlearn: 0.7099798\ttotal: 119ms\tremaining: 4.89s\n",
      "19:\tlearn: 0.7099798\ttotal: 122ms\tremaining: 4.77s\n",
      "20:\tlearn: 0.7099798\ttotal: 126ms\tremaining: 4.66s\n",
      "21:\tlearn: 0.7099798\ttotal: 129ms\tremaining: 4.57s\n",
      "22:\tlearn: 0.7099798\ttotal: 133ms\tremaining: 4.49s\n",
      "23:\tlearn: 0.7099798\ttotal: 136ms\tremaining: 4.4s\n",
      "24:\tlearn: 0.7099798\ttotal: 140ms\tremaining: 4.33s\n",
      "25:\tlearn: 0.7099798\ttotal: 143ms\tremaining: 4.25s\n",
      "26:\tlearn: 0.7099798\ttotal: 146ms\tremaining: 4.18s\n",
      "27:\tlearn: 0.7099798\ttotal: 150ms\tremaining: 4.13s\n",
      "28:\tlearn: 0.7099798\ttotal: 153ms\tremaining: 4.07s\n",
      "29:\tlearn: 0.7099798\ttotal: 157ms\tremaining: 4.02s\n",
      "30:\tlearn: 0.7099798\ttotal: 160ms\tremaining: 3.96s\n",
      "31:\tlearn: 0.7099798\ttotal: 163ms\tremaining: 3.92s\n",
      "32:\tlearn: 0.7099798\ttotal: 167ms\tremaining: 3.87s\n",
      "33:\tlearn: 0.7099798\ttotal: 170ms\tremaining: 3.82s\n",
      "34:\tlearn: 0.7099798\ttotal: 173ms\tremaining: 3.78s\n",
      "35:\tlearn: 0.7099798\ttotal: 176ms\tremaining: 3.75s\n",
      "36:\tlearn: 0.7099798\ttotal: 180ms\tremaining: 3.71s\n",
      "37:\tlearn: 0.7099798\ttotal: 184ms\tremaining: 3.68s\n",
      "38:\tlearn: 0.7099798\ttotal: 187ms\tremaining: 3.65s\n",
      "39:\tlearn: 0.7099798\ttotal: 191ms\tremaining: 3.62s\n",
      "40:\tlearn: 0.7099798\ttotal: 194ms\tremaining: 3.59s\n",
      "41:\tlearn: 0.7099798\ttotal: 197ms\tremaining: 3.56s\n",
      "42:\tlearn: 0.7099798\ttotal: 201ms\tremaining: 3.53s\n",
      "43:\tlearn: 0.7099798\ttotal: 204ms\tremaining: 3.5s\n",
      "44:\tlearn: 0.7099798\ttotal: 207ms\tremaining: 3.48s\n",
      "45:\tlearn: 0.7099798\ttotal: 210ms\tremaining: 3.45s\n",
      "46:\tlearn: 0.7099798\ttotal: 214ms\tremaining: 3.42s\n",
      "47:\tlearn: 0.7099798\ttotal: 217ms\tremaining: 3.4s\n",
      "48:\tlearn: 0.7099798\ttotal: 220ms\tremaining: 3.38s\n",
      "49:\tlearn: 0.7099798\ttotal: 224ms\tremaining: 3.35s\n",
      "50:\tlearn: 0.7099798\ttotal: 227ms\tremaining: 3.33s\n",
      "51:\tlearn: 0.7099798\ttotal: 231ms\tremaining: 3.32s\n",
      "52:\tlearn: 0.7099798\ttotal: 235ms\tremaining: 3.31s\n",
      "53:\tlearn: 0.7099798\ttotal: 239ms\tremaining: 3.3s\n",
      "54:\tlearn: 0.7099798\ttotal: 243ms\tremaining: 3.29s\n",
      "55:\tlearn: 0.7099798\ttotal: 247ms\tremaining: 3.28s\n",
      "56:\tlearn: 0.7099798\ttotal: 251ms\tremaining: 3.27s\n",
      "57:\tlearn: 0.7099798\ttotal: 254ms\tremaining: 3.25s\n",
      "58:\tlearn: 0.7099798\ttotal: 258ms\tremaining: 3.24s\n",
      "59:\tlearn: 0.7099798\ttotal: 262ms\tremaining: 3.23s\n",
      "60:\tlearn: 0.7099798\ttotal: 265ms\tremaining: 3.21s\n",
      "61:\tlearn: 0.7099798\ttotal: 271ms\tremaining: 3.22s\n",
      "62:\tlearn: 0.7099798\ttotal: 275ms\tremaining: 3.21s\n",
      "63:\tlearn: 0.7099798\ttotal: 279ms\tremaining: 3.21s\n",
      "64:\tlearn: 0.7099798\ttotal: 282ms\tremaining: 3.19s\n",
      "65:\tlearn: 0.7099798\ttotal: 285ms\tremaining: 3.17s\n",
      "66:\tlearn: 0.7099798\ttotal: 289ms\tremaining: 3.16s\n",
      "67:\tlearn: 0.7099798\ttotal: 292ms\tremaining: 3.14s\n",
      "68:\tlearn: 0.7099798\ttotal: 296ms\tremaining: 3.13s\n",
      "69:\tlearn: 0.7099798\ttotal: 299ms\tremaining: 3.12s\n",
      "70:\tlearn: 0.7099798\ttotal: 305ms\tremaining: 3.13s\n",
      "71:\tlearn: 0.7099798\ttotal: 309ms\tremaining: 3.13s\n",
      "72:\tlearn: 0.7099798\ttotal: 313ms\tremaining: 3.11s\n",
      "73:\tlearn: 0.7099798\ttotal: 316ms\tremaining: 3.1s\n",
      "74:\tlearn: 0.7099798\ttotal: 319ms\tremaining: 3.08s\n",
      "75:\tlearn: 0.7099798\ttotal: 322ms\tremaining: 3.07s\n",
      "76:\tlearn: 0.7099798\ttotal: 326ms\tremaining: 3.06s\n",
      "77:\tlearn: 0.7099798\ttotal: 329ms\tremaining: 3.05s\n",
      "78:\tlearn: 0.7099798\ttotal: 333ms\tremaining: 3.04s\n",
      "79:\tlearn: 0.7099798\ttotal: 336ms\tremaining: 3.02s\n",
      "80:\tlearn: 0.7099798\ttotal: 339ms\tremaining: 3.01s\n",
      "81:\tlearn: 0.7099798\ttotal: 343ms\tremaining: 3s\n",
      "82:\tlearn: 0.7099798\ttotal: 346ms\tremaining: 2.99s\n",
      "83:\tlearn: 0.7099798\ttotal: 350ms\tremaining: 2.98s\n",
      "84:\tlearn: 0.7099798\ttotal: 353ms\tremaining: 2.97s\n",
      "85:\tlearn: 0.7099798\ttotal: 356ms\tremaining: 2.96s\n",
      "86:\tlearn: 0.7099798\ttotal: 359ms\tremaining: 2.94s\n",
      "87:\tlearn: 0.7099798\ttotal: 363ms\tremaining: 2.94s\n",
      "88:\tlearn: 0.7099798\ttotal: 367ms\tremaining: 2.93s\n",
      "89:\tlearn: 0.7099798\ttotal: 370ms\tremaining: 2.92s\n",
      "90:\tlearn: 0.7099798\ttotal: 374ms\tremaining: 2.91s\n",
      "91:\tlearn: 0.7099798\ttotal: 377ms\tremaining: 2.9s\n",
      "92:\tlearn: 0.7099798\ttotal: 382ms\tremaining: 2.9s\n",
      "93:\tlearn: 0.7099798\ttotal: 385ms\tremaining: 2.9s\n",
      "94:\tlearn: 0.7099798\ttotal: 389ms\tremaining: 2.89s\n",
      "95:\tlearn: 0.7099798\ttotal: 393ms\tremaining: 2.88s\n",
      "96:\tlearn: 0.7099798\ttotal: 396ms\tremaining: 2.87s\n",
      "97:\tlearn: 0.7099798\ttotal: 400ms\tremaining: 2.86s\n",
      "98:\tlearn: 0.7099798\ttotal: 404ms\tremaining: 2.86s\n",
      "99:\tlearn: 0.7099798\ttotal: 407ms\tremaining: 2.85s\n",
      "100:\tlearn: 0.7099798\ttotal: 411ms\tremaining: 2.85s\n",
      "101:\tlearn: 0.7099798\ttotal: 415ms\tremaining: 2.84s\n",
      "102:\tlearn: 0.7099798\ttotal: 421ms\tremaining: 2.85s\n",
      "103:\tlearn: 0.7099798\ttotal: 426ms\tremaining: 2.85s\n",
      "104:\tlearn: 0.7099798\ttotal: 430ms\tremaining: 2.84s\n",
      "105:\tlearn: 0.7099798\ttotal: 438ms\tremaining: 2.87s\n",
      "106:\tlearn: 0.7099798\ttotal: 442ms\tremaining: 2.86s\n",
      "107:\tlearn: 0.7099798\ttotal: 446ms\tremaining: 2.86s\n",
      "108:\tlearn: 0.7099798\ttotal: 450ms\tremaining: 2.85s\n",
      "109:\tlearn: 0.7099798\ttotal: 454ms\tremaining: 2.84s\n",
      "110:\tlearn: 0.7099798\ttotal: 458ms\tremaining: 2.84s\n",
      "111:\tlearn: 0.7099798\ttotal: 461ms\tremaining: 2.83s\n",
      "112:\tlearn: 0.7099798\ttotal: 465ms\tremaining: 2.82s\n",
      "113:\tlearn: 0.7099798\ttotal: 468ms\tremaining: 2.82s\n",
      "114:\tlearn: 0.7099798\ttotal: 471ms\tremaining: 2.81s\n",
      "115:\tlearn: 0.7099798\ttotal: 475ms\tremaining: 2.8s\n",
      "116:\tlearn: 0.7099798\ttotal: 479ms\tremaining: 2.79s\n",
      "117:\tlearn: 0.7099798\ttotal: 482ms\tremaining: 2.79s\n",
      "118:\tlearn: 0.7099798\ttotal: 486ms\tremaining: 2.78s\n",
      "119:\tlearn: 0.7099798\ttotal: 491ms\tremaining: 2.78s\n",
      "120:\tlearn: 0.7099798\ttotal: 496ms\tremaining: 2.78s\n",
      "121:\tlearn: 0.7099798\ttotal: 501ms\tremaining: 2.78s\n",
      "122:\tlearn: 0.7099798\ttotal: 504ms\tremaining: 2.78s\n",
      "123:\tlearn: 0.7099798\ttotal: 508ms\tremaining: 2.77s\n",
      "124:\tlearn: 0.7099798\ttotal: 512ms\tremaining: 2.76s\n",
      "125:\tlearn: 0.7099798\ttotal: 515ms\tremaining: 2.76s\n",
      "126:\tlearn: 0.7099798\ttotal: 519ms\tremaining: 2.75s\n",
      "127:\tlearn: 0.7099798\ttotal: 522ms\tremaining: 2.74s\n",
      "128:\tlearn: 0.7099798\ttotal: 526ms\tremaining: 2.73s\n",
      "129:\tlearn: 0.7099798\ttotal: 530ms\tremaining: 2.73s\n",
      "130:\tlearn: 0.7099798\ttotal: 533ms\tremaining: 2.72s\n",
      "131:\tlearn: 0.7099798\ttotal: 537ms\tremaining: 2.71s\n",
      "132:\tlearn: 0.7099798\ttotal: 540ms\tremaining: 2.71s\n",
      "133:\tlearn: 0.7099798\ttotal: 544ms\tremaining: 2.7s\n",
      "134:\tlearn: 0.7099798\ttotal: 547ms\tremaining: 2.69s\n",
      "135:\tlearn: 0.7099798\ttotal: 551ms\tremaining: 2.69s\n",
      "136:\tlearn: 0.7099798\ttotal: 554ms\tremaining: 2.68s\n",
      "137:\tlearn: 0.7099798\ttotal: 558ms\tremaining: 2.67s\n",
      "138:\tlearn: 0.7099798\ttotal: 561ms\tremaining: 2.67s\n",
      "139:\tlearn: 0.7099798\ttotal: 565ms\tremaining: 2.66s\n",
      "140:\tlearn: 0.7099798\ttotal: 568ms\tremaining: 2.65s\n",
      "141:\tlearn: 0.7099798\ttotal: 572ms\tremaining: 2.65s\n",
      "142:\tlearn: 0.7099798\ttotal: 575ms\tremaining: 2.64s\n",
      "143:\tlearn: 0.7099798\ttotal: 579ms\tremaining: 2.64s\n",
      "144:\tlearn: 0.7099798\ttotal: 583ms\tremaining: 2.63s\n",
      "145:\tlearn: 0.7099798\ttotal: 588ms\tremaining: 2.63s\n",
      "146:\tlearn: 0.7099798\ttotal: 592ms\tremaining: 2.63s\n",
      "147:\tlearn: 0.7099798\ttotal: 595ms\tremaining: 2.62s\n",
      "148:\tlearn: 0.7099798\ttotal: 599ms\tremaining: 2.62s\n",
      "149:\tlearn: 0.7099798\ttotal: 602ms\tremaining: 2.61s\n",
      "150:\tlearn: 0.7099798\ttotal: 606ms\tremaining: 2.6s\n",
      "151:\tlearn: 0.7099798\ttotal: 609ms\tremaining: 2.6s\n",
      "152:\tlearn: 0.7099798\ttotal: 613ms\tremaining: 2.59s\n",
      "153:\tlearn: 0.7099798\ttotal: 616ms\tremaining: 2.58s\n",
      "154:\tlearn: 0.7099798\ttotal: 620ms\tremaining: 2.58s\n",
      "155:\tlearn: 0.7099798\ttotal: 623ms\tremaining: 2.57s\n",
      "156:\tlearn: 0.7099798\ttotal: 627ms\tremaining: 2.57s\n",
      "157:\tlearn: 0.7099798\ttotal: 631ms\tremaining: 2.56s\n",
      "158:\tlearn: 0.7099798\ttotal: 635ms\tremaining: 2.56s\n",
      "159:\tlearn: 0.7099798\ttotal: 639ms\tremaining: 2.56s\n",
      "160:\tlearn: 0.7099798\ttotal: 644ms\tremaining: 2.55s\n",
      "161:\tlearn: 0.7099798\ttotal: 648ms\tremaining: 2.55s\n",
      "162:\tlearn: 0.7099798\ttotal: 651ms\tremaining: 2.54s\n",
      "163:\tlearn: 0.7099798\ttotal: 655ms\tremaining: 2.54s\n",
      "164:\tlearn: 0.7099798\ttotal: 659ms\tremaining: 2.53s\n",
      "165:\tlearn: 0.7099798\ttotal: 663ms\tremaining: 2.53s\n",
      "166:\tlearn: 0.7099798\ttotal: 666ms\tremaining: 2.52s\n",
      "167:\tlearn: 0.7099798\ttotal: 670ms\tremaining: 2.52s\n",
      "168:\tlearn: 0.7099798\ttotal: 674ms\tremaining: 2.52s\n",
      "169:\tlearn: 0.7099798\ttotal: 677ms\tremaining: 2.51s\n",
      "170:\tlearn: 0.7099798\ttotal: 681ms\tremaining: 2.5s\n",
      "171:\tlearn: 0.7099798\ttotal: 684ms\tremaining: 2.5s\n",
      "172:\tlearn: 0.7099798\ttotal: 688ms\tremaining: 2.49s\n",
      "173:\tlearn: 0.7099798\ttotal: 691ms\tremaining: 2.49s\n",
      "174:\tlearn: 0.7099798\ttotal: 694ms\tremaining: 2.48s\n",
      "175:\tlearn: 0.7099798\ttotal: 698ms\tremaining: 2.48s\n",
      "176:\tlearn: 0.7099798\ttotal: 702ms\tremaining: 2.47s\n",
      "177:\tlearn: 0.7099798\ttotal: 706ms\tremaining: 2.47s\n",
      "178:\tlearn: 0.7099798\ttotal: 710ms\tremaining: 2.46s\n",
      "179:\tlearn: 0.7099798\ttotal: 713ms\tremaining: 2.46s\n",
      "180:\tlearn: 0.7099798\ttotal: 716ms\tremaining: 2.45s\n",
      "181:\tlearn: 0.7099798\ttotal: 720ms\tremaining: 2.44s\n",
      "182:\tlearn: 0.7099798\ttotal: 724ms\tremaining: 2.44s\n",
      "183:\tlearn: 0.7099798\ttotal: 728ms\tremaining: 2.44s\n",
      "184:\tlearn: 0.7099798\ttotal: 733ms\tremaining: 2.44s\n",
      "185:\tlearn: 0.7099798\ttotal: 736ms\tremaining: 2.43s\n",
      "186:\tlearn: 0.7099798\ttotal: 740ms\tremaining: 2.42s\n",
      "187:\tlearn: 0.7099798\ttotal: 744ms\tremaining: 2.42s\n",
      "188:\tlearn: 0.7099798\ttotal: 747ms\tremaining: 2.42s\n",
      "189:\tlearn: 0.7099798\ttotal: 751ms\tremaining: 2.41s\n",
      "190:\tlearn: 0.7099798\ttotal: 754ms\tremaining: 2.4s\n",
      "191:\tlearn: 0.7099798\ttotal: 758ms\tremaining: 2.4s\n",
      "192:\tlearn: 0.7099798\ttotal: 761ms\tremaining: 2.39s\n",
      "193:\tlearn: 0.7099798\ttotal: 764ms\tremaining: 2.39s\n",
      "194:\tlearn: 0.7099798\ttotal: 768ms\tremaining: 2.38s\n",
      "195:\tlearn: 0.7099798\ttotal: 772ms\tremaining: 2.38s\n",
      "196:\tlearn: 0.7099798\ttotal: 775ms\tremaining: 2.37s\n",
      "197:\tlearn: 0.7099798\ttotal: 779ms\tremaining: 2.37s\n",
      "198:\tlearn: 0.7099798\ttotal: 782ms\tremaining: 2.36s\n",
      "199:\tlearn: 0.7099798\ttotal: 785ms\tremaining: 2.35s\n",
      "200:\tlearn: 0.7099798\ttotal: 790ms\tremaining: 2.35s\n",
      "201:\tlearn: 0.7099798\ttotal: 794ms\tremaining: 2.35s\n",
      "202:\tlearn: 0.7099798\ttotal: 800ms\tremaining: 2.35s\n",
      "203:\tlearn: 0.7099798\ttotal: 805ms\tremaining: 2.35s\n",
      "204:\tlearn: 0.7099798\ttotal: 809ms\tremaining: 2.35s\n",
      "205:\tlearn: 0.7099798\ttotal: 814ms\tremaining: 2.35s\n",
      "206:\tlearn: 0.7099798\ttotal: 818ms\tremaining: 2.34s\n",
      "207:\tlearn: 0.7099798\ttotal: 824ms\tremaining: 2.34s\n",
      "208:\tlearn: 0.7099798\ttotal: 828ms\tremaining: 2.34s\n",
      "209:\tlearn: 0.7099798\ttotal: 832ms\tremaining: 2.34s\n",
      "210:\tlearn: 0.7099798\ttotal: 835ms\tremaining: 2.33s\n",
      "211:\tlearn: 0.7099798\ttotal: 839ms\tremaining: 2.33s\n",
      "212:\tlearn: 0.7099798\ttotal: 842ms\tremaining: 2.32s\n",
      "213:\tlearn: 0.7099798\ttotal: 846ms\tremaining: 2.31s\n",
      "214:\tlearn: 0.7099798\ttotal: 849ms\tremaining: 2.31s\n",
      "215:\tlearn: 0.7099798\ttotal: 853ms\tremaining: 2.31s\n",
      "216:\tlearn: 0.7099798\ttotal: 856ms\tremaining: 2.3s\n",
      "217:\tlearn: 0.7099798\ttotal: 860ms\tremaining: 2.29s\n",
      "218:\tlearn: 0.7099798\ttotal: 865ms\tremaining: 2.29s\n",
      "219:\tlearn: 0.7099798\ttotal: 868ms\tremaining: 2.29s\n",
      "220:\tlearn: 0.7099798\ttotal: 873ms\tremaining: 2.29s\n",
      "221:\tlearn: 0.7099798\ttotal: 877ms\tremaining: 2.28s\n",
      "222:\tlearn: 0.7099798\ttotal: 881ms\tremaining: 2.28s\n",
      "223:\tlearn: 0.7099798\ttotal: 885ms\tremaining: 2.27s\n",
      "224:\tlearn: 0.7099798\ttotal: 888ms\tremaining: 2.27s\n",
      "225:\tlearn: 0.7099798\ttotal: 892ms\tremaining: 2.27s\n",
      "226:\tlearn: 0.7099798\ttotal: 896ms\tremaining: 2.26s\n",
      "227:\tlearn: 0.7099798\ttotal: 900ms\tremaining: 2.26s\n",
      "228:\tlearn: 0.7099798\ttotal: 903ms\tremaining: 2.25s\n",
      "229:\tlearn: 0.7099798\ttotal: 907ms\tremaining: 2.25s\n",
      "230:\tlearn: 0.7099798\ttotal: 910ms\tremaining: 2.24s\n",
      "231:\tlearn: 0.7099798\ttotal: 914ms\tremaining: 2.24s\n",
      "232:\tlearn: 0.7099798\ttotal: 917ms\tremaining: 2.23s\n",
      "233:\tlearn: 0.7099798\ttotal: 921ms\tremaining: 2.23s\n",
      "234:\tlearn: 0.7099798\ttotal: 924ms\tremaining: 2.22s\n",
      "235:\tlearn: 0.7099798\ttotal: 929ms\tremaining: 2.22s\n",
      "236:\tlearn: 0.7099798\ttotal: 932ms\tremaining: 2.21s\n",
      "237:\tlearn: 0.7099798\ttotal: 936ms\tremaining: 2.21s\n",
      "238:\tlearn: 0.7099798\ttotal: 939ms\tremaining: 2.2s\n",
      "239:\tlearn: 0.7099798\ttotal: 943ms\tremaining: 2.2s\n",
      "240:\tlearn: 0.7099798\ttotal: 946ms\tremaining: 2.19s\n",
      "241:\tlearn: 0.7099798\ttotal: 950ms\tremaining: 2.19s\n",
      "242:\tlearn: 0.7099798\ttotal: 953ms\tremaining: 2.19s\n",
      "243:\tlearn: 0.7099798\ttotal: 957ms\tremaining: 2.18s\n",
      "244:\tlearn: 0.7099798\ttotal: 961ms\tremaining: 2.18s\n",
      "245:\tlearn: 0.7099798\ttotal: 964ms\tremaining: 2.17s\n",
      "246:\tlearn: 0.7099798\ttotal: 968ms\tremaining: 2.17s\n",
      "247:\tlearn: 0.7099798\ttotal: 971ms\tremaining: 2.16s\n",
      "248:\tlearn: 0.7099798\ttotal: 975ms\tremaining: 2.16s\n",
      "249:\tlearn: 0.7099798\ttotal: 978ms\tremaining: 2.15s\n",
      "250:\tlearn: 0.7099798\ttotal: 982ms\tremaining: 2.15s\n",
      "251:\tlearn: 0.7099798\ttotal: 986ms\tremaining: 2.14s\n",
      "252:\tlearn: 0.7099798\ttotal: 991ms\tremaining: 2.14s\n",
      "253:\tlearn: 0.7099798\ttotal: 994ms\tremaining: 2.14s\n",
      "254:\tlearn: 0.7099798\ttotal: 998ms\tremaining: 2.13s\n",
      "255:\tlearn: 0.7099798\ttotal: 1s\tremaining: 2.13s\n",
      "256:\tlearn: 0.7099798\ttotal: 1s\tremaining: 2.13s\n",
      "257:\tlearn: 0.7099798\ttotal: 1.01s\tremaining: 2.12s\n",
      "258:\tlearn: 0.7099798\ttotal: 1.01s\tremaining: 2.12s\n",
      "259:\tlearn: 0.7099798\ttotal: 1.02s\tremaining: 2.11s\n",
      "260:\tlearn: 0.7099798\ttotal: 1.02s\tremaining: 2.11s\n",
      "261:\tlearn: 0.7099798\ttotal: 1.02s\tremaining: 2.1s\n",
      "262:\tlearn: 0.7099798\ttotal: 1.03s\tremaining: 2.1s\n",
      "263:\tlearn: 0.7099798\ttotal: 1.03s\tremaining: 2.1s\n",
      "264:\tlearn: 0.7099798\ttotal: 1.03s\tremaining: 2.09s\n",
      "265:\tlearn: 0.7099798\ttotal: 1.04s\tremaining: 2.08s\n",
      "266:\tlearn: 0.7099798\ttotal: 1.04s\tremaining: 2.08s\n",
      "267:\tlearn: 0.7099798\ttotal: 1.05s\tremaining: 2.08s\n",
      "268:\tlearn: 0.7099798\ttotal: 1.05s\tremaining: 2.08s\n",
      "269:\tlearn: 0.7099798\ttotal: 1.06s\tremaining: 2.08s\n",
      "270:\tlearn: 0.7099798\ttotal: 1.06s\tremaining: 2.07s\n",
      "271:\tlearn: 0.7099798\ttotal: 1.07s\tremaining: 2.07s\n",
      "272:\tlearn: 0.7099798\ttotal: 1.07s\tremaining: 2.07s\n",
      "273:\tlearn: 0.7099798\ttotal: 1.07s\tremaining: 2.06s\n",
      "274:\tlearn: 0.7099798\ttotal: 1.08s\tremaining: 2.06s\n",
      "275:\tlearn: 0.7099798\ttotal: 1.08s\tremaining: 2.06s\n",
      "276:\tlearn: 0.7099798\ttotal: 1.09s\tremaining: 2.06s\n",
      "277:\tlearn: 0.7099798\ttotal: 1.09s\tremaining: 2.05s\n",
      "278:\tlearn: 0.7099798\ttotal: 1.1s\tremaining: 2.05s\n",
      "279:\tlearn: 0.7099798\ttotal: 1.1s\tremaining: 2.05s\n",
      "280:\tlearn: 0.7099798\ttotal: 1.1s\tremaining: 2.04s\n",
      "281:\tlearn: 0.7099798\ttotal: 1.11s\tremaining: 2.04s\n",
      "282:\tlearn: 0.7099798\ttotal: 1.11s\tremaining: 2.03s\n",
      "283:\tlearn: 0.7099798\ttotal: 1.12s\tremaining: 2.03s\n",
      "284:\tlearn: 0.7099798\ttotal: 1.12s\tremaining: 2.03s\n",
      "285:\tlearn: 0.7099798\ttotal: 1.12s\tremaining: 2.02s\n",
      "286:\tlearn: 0.7099798\ttotal: 1.13s\tremaining: 2.02s\n",
      "287:\tlearn: 0.7099798\ttotal: 1.13s\tremaining: 2.01s\n",
      "288:\tlearn: 0.7099798\ttotal: 1.14s\tremaining: 2.01s\n",
      "289:\tlearn: 0.7099798\ttotal: 1.14s\tremaining: 2s\n",
      "290:\tlearn: 0.7099798\ttotal: 1.14s\tremaining: 2s\n",
      "291:\tlearn: 0.7099798\ttotal: 1.15s\tremaining: 2s\n",
      "292:\tlearn: 0.7099798\ttotal: 1.15s\tremaining: 1.99s\n",
      "293:\tlearn: 0.7099798\ttotal: 1.16s\tremaining: 1.99s\n",
      "294:\tlearn: 0.7099798\ttotal: 1.16s\tremaining: 1.99s\n",
      "295:\tlearn: 0.7099798\ttotal: 1.17s\tremaining: 1.99s\n",
      "296:\tlearn: 0.7099798\ttotal: 1.17s\tremaining: 1.98s\n",
      "297:\tlearn: 0.7099798\ttotal: 1.17s\tremaining: 1.98s\n",
      "298:\tlearn: 0.7099798\ttotal: 1.18s\tremaining: 1.97s\n",
      "299:\tlearn: 0.7099798\ttotal: 1.18s\tremaining: 1.97s\n",
      "300:\tlearn: 0.7099798\ttotal: 1.19s\tremaining: 1.97s\n",
      "301:\tlearn: 0.7099798\ttotal: 1.19s\tremaining: 1.96s\n",
      "302:\tlearn: 0.7099798\ttotal: 1.19s\tremaining: 1.96s\n",
      "303:\tlearn: 0.7099798\ttotal: 1.2s\tremaining: 1.96s\n",
      "304:\tlearn: 0.7099798\ttotal: 1.2s\tremaining: 1.95s\n",
      "305:\tlearn: 0.7099798\ttotal: 1.21s\tremaining: 1.95s\n",
      "306:\tlearn: 0.7099798\ttotal: 1.21s\tremaining: 1.94s\n",
      "307:\tlearn: 0.7099798\ttotal: 1.21s\tremaining: 1.94s\n",
      "308:\tlearn: 0.7099798\ttotal: 1.22s\tremaining: 1.93s\n",
      "309:\tlearn: 0.7099798\ttotal: 1.22s\tremaining: 1.93s\n",
      "310:\tlearn: 0.7099798\ttotal: 1.22s\tremaining: 1.92s\n",
      "311:\tlearn: 0.7099798\ttotal: 1.23s\tremaining: 1.92s\n",
      "312:\tlearn: 0.7099798\ttotal: 1.23s\tremaining: 1.91s\n",
      "313:\tlearn: 0.7099798\ttotal: 1.23s\tremaining: 1.91s\n",
      "314:\tlearn: 0.7099798\ttotal: 1.24s\tremaining: 1.91s\n",
      "315:\tlearn: 0.7099798\ttotal: 1.24s\tremaining: 1.9s\n",
      "316:\tlearn: 0.7099798\ttotal: 1.25s\tremaining: 1.9s\n",
      "317:\tlearn: 0.7099798\ttotal: 1.25s\tremaining: 1.89s\n",
      "318:\tlearn: 0.7099798\ttotal: 1.25s\tremaining: 1.89s\n",
      "319:\tlearn: 0.7099798\ttotal: 1.26s\tremaining: 1.88s\n",
      "320:\tlearn: 0.7099798\ttotal: 1.26s\tremaining: 1.88s\n",
      "321:\tlearn: 0.7099798\ttotal: 1.26s\tremaining: 1.88s\n",
      "322:\tlearn: 0.7099798\ttotal: 1.27s\tremaining: 1.87s\n",
      "323:\tlearn: 0.7099798\ttotal: 1.27s\tremaining: 1.87s\n",
      "324:\tlearn: 0.7099798\ttotal: 1.27s\tremaining: 1.86s\n",
      "325:\tlearn: 0.7099798\ttotal: 1.28s\tremaining: 1.86s\n",
      "326:\tlearn: 0.7099798\ttotal: 1.28s\tremaining: 1.85s\n",
      "327:\tlearn: 0.7099798\ttotal: 1.29s\tremaining: 1.85s\n",
      "328:\tlearn: 0.7099798\ttotal: 1.29s\tremaining: 1.85s\n",
      "329:\tlearn: 0.7099798\ttotal: 1.29s\tremaining: 1.84s\n",
      "330:\tlearn: 0.7099798\ttotal: 1.3s\tremaining: 1.84s\n",
      "331:\tlearn: 0.7099798\ttotal: 1.3s\tremaining: 1.83s\n",
      "332:\tlearn: 0.7099798\ttotal: 1.3s\tremaining: 1.83s\n",
      "333:\tlearn: 0.7099798\ttotal: 1.31s\tremaining: 1.82s\n",
      "334:\tlearn: 0.7099798\ttotal: 1.31s\tremaining: 1.82s\n",
      "335:\tlearn: 0.7099798\ttotal: 1.32s\tremaining: 1.82s\n",
      "336:\tlearn: 0.7099798\ttotal: 1.32s\tremaining: 1.81s\n",
      "337:\tlearn: 0.7099798\ttotal: 1.32s\tremaining: 1.81s\n",
      "338:\tlearn: 0.7099798\ttotal: 1.33s\tremaining: 1.8s\n",
      "339:\tlearn: 0.7099798\ttotal: 1.33s\tremaining: 1.8s\n",
      "340:\tlearn: 0.7099798\ttotal: 1.33s\tremaining: 1.79s\n",
      "341:\tlearn: 0.7099798\ttotal: 1.34s\tremaining: 1.79s\n",
      "342:\tlearn: 0.7099798\ttotal: 1.34s\tremaining: 1.79s\n",
      "343:\tlearn: 0.7099798\ttotal: 1.34s\tremaining: 1.78s\n",
      "344:\tlearn: 0.7099798\ttotal: 1.35s\tremaining: 1.78s\n",
      "345:\tlearn: 0.7099798\ttotal: 1.35s\tremaining: 1.77s\n",
      "346:\tlearn: 0.7099798\ttotal: 1.36s\tremaining: 1.77s\n",
      "347:\tlearn: 0.7099798\ttotal: 1.36s\tremaining: 1.77s\n",
      "348:\tlearn: 0.7099798\ttotal: 1.36s\tremaining: 1.76s\n",
      "349:\tlearn: 0.7099798\ttotal: 1.37s\tremaining: 1.76s\n",
      "350:\tlearn: 0.7099798\ttotal: 1.37s\tremaining: 1.76s\n",
      "351:\tlearn: 0.7099798\ttotal: 1.38s\tremaining: 1.75s\n",
      "352:\tlearn: 0.7099798\ttotal: 1.38s\tremaining: 1.75s\n",
      "353:\tlearn: 0.7099798\ttotal: 1.39s\tremaining: 1.75s\n",
      "354:\tlearn: 0.7099798\ttotal: 1.39s\tremaining: 1.74s\n",
      "355:\tlearn: 0.7099798\ttotal: 1.39s\tremaining: 1.74s\n",
      "356:\tlearn: 0.7099798\ttotal: 1.4s\tremaining: 1.73s\n",
      "357:\tlearn: 0.7099798\ttotal: 1.4s\tremaining: 1.73s\n",
      "358:\tlearn: 0.7099798\ttotal: 1.41s\tremaining: 1.73s\n",
      "359:\tlearn: 0.7099798\ttotal: 1.41s\tremaining: 1.72s\n",
      "360:\tlearn: 0.7099798\ttotal: 1.41s\tremaining: 1.72s\n",
      "361:\tlearn: 0.7099798\ttotal: 1.42s\tremaining: 1.71s\n",
      "362:\tlearn: 0.7099798\ttotal: 1.42s\tremaining: 1.71s\n",
      "363:\tlearn: 0.7099798\ttotal: 1.43s\tremaining: 1.71s\n",
      "364:\tlearn: 0.7099798\ttotal: 1.43s\tremaining: 1.7s\n",
      "365:\tlearn: 0.7099798\ttotal: 1.43s\tremaining: 1.7s\n",
      "366:\tlearn: 0.7099798\ttotal: 1.44s\tremaining: 1.7s\n",
      "367:\tlearn: 0.7099798\ttotal: 1.44s\tremaining: 1.69s\n",
      "368:\tlearn: 0.7099798\ttotal: 1.45s\tremaining: 1.69s\n",
      "369:\tlearn: 0.7099798\ttotal: 1.45s\tremaining: 1.69s\n",
      "370:\tlearn: 0.7099798\ttotal: 1.45s\tremaining: 1.68s\n",
      "371:\tlearn: 0.7099798\ttotal: 1.46s\tremaining: 1.68s\n",
      "372:\tlearn: 0.7099798\ttotal: 1.46s\tremaining: 1.67s\n",
      "373:\tlearn: 0.7099798\ttotal: 1.47s\tremaining: 1.67s\n",
      "374:\tlearn: 0.7099798\ttotal: 1.47s\tremaining: 1.67s\n",
      "375:\tlearn: 0.7099798\ttotal: 1.47s\tremaining: 1.66s\n",
      "376:\tlearn: 0.7099798\ttotal: 1.48s\tremaining: 1.66s\n",
      "377:\tlearn: 0.7099798\ttotal: 1.48s\tremaining: 1.66s\n",
      "378:\tlearn: 0.7099798\ttotal: 1.49s\tremaining: 1.65s\n",
      "379:\tlearn: 0.7099798\ttotal: 1.49s\tremaining: 1.65s\n",
      "380:\tlearn: 0.7099798\ttotal: 1.5s\tremaining: 1.65s\n",
      "381:\tlearn: 0.7099798\ttotal: 1.5s\tremaining: 1.64s\n",
      "382:\tlearn: 0.7099798\ttotal: 1.5s\tremaining: 1.64s\n",
      "383:\tlearn: 0.7099798\ttotal: 1.51s\tremaining: 1.63s\n",
      "384:\tlearn: 0.7099798\ttotal: 1.51s\tremaining: 1.63s\n",
      "385:\tlearn: 0.7099798\ttotal: 1.52s\tremaining: 1.63s\n",
      "386:\tlearn: 0.7099798\ttotal: 1.52s\tremaining: 1.62s\n",
      "387:\tlearn: 0.7099798\ttotal: 1.52s\tremaining: 1.62s\n",
      "388:\tlearn: 0.7099798\ttotal: 1.53s\tremaining: 1.61s\n",
      "389:\tlearn: 0.7099798\ttotal: 1.53s\tremaining: 1.61s\n",
      "390:\tlearn: 0.7099798\ttotal: 1.54s\tremaining: 1.61s\n",
      "391:\tlearn: 0.7099798\ttotal: 1.54s\tremaining: 1.6s\n",
      "392:\tlearn: 0.7099798\ttotal: 1.54s\tremaining: 1.6s\n",
      "393:\tlearn: 0.7099798\ttotal: 1.55s\tremaining: 1.59s\n",
      "394:\tlearn: 0.7099798\ttotal: 1.55s\tremaining: 1.59s\n",
      "395:\tlearn: 0.7099798\ttotal: 1.55s\tremaining: 1.59s\n",
      "396:\tlearn: 0.7099798\ttotal: 1.56s\tremaining: 1.58s\n",
      "397:\tlearn: 0.7099798\ttotal: 1.56s\tremaining: 1.58s\n",
      "398:\tlearn: 0.7099798\ttotal: 1.57s\tremaining: 1.57s\n",
      "399:\tlearn: 0.7099798\ttotal: 1.57s\tremaining: 1.57s\n",
      "400:\tlearn: 0.7099798\ttotal: 1.57s\tremaining: 1.57s\n",
      "401:\tlearn: 0.7099798\ttotal: 1.58s\tremaining: 1.56s\n",
      "402:\tlearn: 0.7099798\ttotal: 1.58s\tremaining: 1.56s\n",
      "403:\tlearn: 0.7099798\ttotal: 1.58s\tremaining: 1.55s\n",
      "404:\tlearn: 0.7099798\ttotal: 1.59s\tremaining: 1.55s\n",
      "405:\tlearn: 0.7099798\ttotal: 1.59s\tremaining: 1.55s\n",
      "406:\tlearn: 0.7099798\ttotal: 1.6s\tremaining: 1.54s\n",
      "407:\tlearn: 0.7099798\ttotal: 1.6s\tremaining: 1.54s\n",
      "408:\tlearn: 0.7099798\ttotal: 1.6s\tremaining: 1.53s\n",
      "409:\tlearn: 0.7099798\ttotal: 1.61s\tremaining: 1.53s\n",
      "410:\tlearn: 0.7099798\ttotal: 1.61s\tremaining: 1.53s\n",
      "411:\tlearn: 0.7099798\ttotal: 1.62s\tremaining: 1.52s\n",
      "412:\tlearn: 0.7099798\ttotal: 1.62s\tremaining: 1.52s\n",
      "413:\tlearn: 0.7099798\ttotal: 1.63s\tremaining: 1.51s\n",
      "414:\tlearn: 0.7099798\ttotal: 1.63s\tremaining: 1.51s\n",
      "415:\tlearn: 0.7099798\ttotal: 1.63s\tremaining: 1.51s\n",
      "416:\tlearn: 0.7099798\ttotal: 1.64s\tremaining: 1.51s\n",
      "417:\tlearn: 0.7099798\ttotal: 1.64s\tremaining: 1.5s\n",
      "418:\tlearn: 0.7099798\ttotal: 1.65s\tremaining: 1.5s\n",
      "419:\tlearn: 0.7099798\ttotal: 1.65s\tremaining: 1.49s\n",
      "420:\tlearn: 0.7099798\ttotal: 1.66s\tremaining: 1.49s\n",
      "421:\tlearn: 0.7099798\ttotal: 1.66s\tremaining: 1.49s\n",
      "422:\tlearn: 0.7099798\ttotal: 1.66s\tremaining: 1.48s\n",
      "423:\tlearn: 0.7099798\ttotal: 1.67s\tremaining: 1.48s\n",
      "424:\tlearn: 0.7099798\ttotal: 1.67s\tremaining: 1.47s\n",
      "425:\tlearn: 0.7099798\ttotal: 1.67s\tremaining: 1.47s\n",
      "426:\tlearn: 0.7099798\ttotal: 1.68s\tremaining: 1.47s\n",
      "427:\tlearn: 0.7099798\ttotal: 1.68s\tremaining: 1.46s\n",
      "428:\tlearn: 0.7099798\ttotal: 1.69s\tremaining: 1.46s\n",
      "429:\tlearn: 0.7099798\ttotal: 1.69s\tremaining: 1.46s\n",
      "430:\tlearn: 0.7099798\ttotal: 1.7s\tremaining: 1.45s\n",
      "431:\tlearn: 0.7099798\ttotal: 1.7s\tremaining: 1.45s\n",
      "432:\tlearn: 0.7099798\ttotal: 1.7s\tremaining: 1.44s\n",
      "433:\tlearn: 0.7099798\ttotal: 1.71s\tremaining: 1.44s\n",
      "434:\tlearn: 0.7099798\ttotal: 1.71s\tremaining: 1.44s\n",
      "435:\tlearn: 0.7099798\ttotal: 1.72s\tremaining: 1.43s\n",
      "436:\tlearn: 0.7099798\ttotal: 1.72s\tremaining: 1.43s\n",
      "437:\tlearn: 0.7099798\ttotal: 1.73s\tremaining: 1.43s\n",
      "438:\tlearn: 0.7099798\ttotal: 1.73s\tremaining: 1.42s\n",
      "439:\tlearn: 0.7099798\ttotal: 1.73s\tremaining: 1.42s\n",
      "440:\tlearn: 0.7099798\ttotal: 1.74s\tremaining: 1.41s\n",
      "441:\tlearn: 0.7099798\ttotal: 1.74s\tremaining: 1.41s\n",
      "442:\tlearn: 0.7099798\ttotal: 1.74s\tremaining: 1.41s\n",
      "443:\tlearn: 0.7099798\ttotal: 1.75s\tremaining: 1.4s\n",
      "444:\tlearn: 0.7099798\ttotal: 1.75s\tremaining: 1.4s\n",
      "445:\tlearn: 0.7099798\ttotal: 1.75s\tremaining: 1.39s\n",
      "446:\tlearn: 0.7099798\ttotal: 1.76s\tremaining: 1.39s\n",
      "447:\tlearn: 0.7099798\ttotal: 1.76s\tremaining: 1.39s\n",
      "448:\tlearn: 0.7099798\ttotal: 1.77s\tremaining: 1.38s\n",
      "449:\tlearn: 0.7099798\ttotal: 1.77s\tremaining: 1.38s\n",
      "450:\tlearn: 0.7099798\ttotal: 1.78s\tremaining: 1.38s\n",
      "451:\tlearn: 0.7099798\ttotal: 1.78s\tremaining: 1.37s\n",
      "452:\tlearn: 0.7099798\ttotal: 1.78s\tremaining: 1.37s\n",
      "453:\tlearn: 0.7099798\ttotal: 1.79s\tremaining: 1.36s\n",
      "454:\tlearn: 0.7099798\ttotal: 1.79s\tremaining: 1.36s\n",
      "455:\tlearn: 0.7099798\ttotal: 1.8s\tremaining: 1.35s\n",
      "456:\tlearn: 0.7099798\ttotal: 1.8s\tremaining: 1.35s\n",
      "457:\tlearn: 0.7099798\ttotal: 1.8s\tremaining: 1.35s\n",
      "458:\tlearn: 0.7099798\ttotal: 1.81s\tremaining: 1.34s\n",
      "459:\tlearn: 0.7099798\ttotal: 1.81s\tremaining: 1.34s\n",
      "460:\tlearn: 0.7099798\ttotal: 1.82s\tremaining: 1.33s\n",
      "461:\tlearn: 0.7099798\ttotal: 1.82s\tremaining: 1.33s\n",
      "462:\tlearn: 0.7099798\ttotal: 1.82s\tremaining: 1.33s\n",
      "463:\tlearn: 0.7099798\ttotal: 1.83s\tremaining: 1.32s\n",
      "464:\tlearn: 0.7099798\ttotal: 1.83s\tremaining: 1.32s\n",
      "465:\tlearn: 0.7099798\ttotal: 1.83s\tremaining: 1.31s\n",
      "466:\tlearn: 0.7099798\ttotal: 1.84s\tremaining: 1.31s\n",
      "467:\tlearn: 0.7099798\ttotal: 1.84s\tremaining: 1.31s\n",
      "468:\tlearn: 0.7099798\ttotal: 1.84s\tremaining: 1.3s\n",
      "469:\tlearn: 0.7099798\ttotal: 1.85s\tremaining: 1.3s\n",
      "470:\tlearn: 0.7099798\ttotal: 1.85s\tremaining: 1.29s\n",
      "471:\tlearn: 0.7099798\ttotal: 1.85s\tremaining: 1.29s\n",
      "472:\tlearn: 0.7099798\ttotal: 1.86s\tremaining: 1.28s\n",
      "473:\tlearn: 0.7099798\ttotal: 1.86s\tremaining: 1.28s\n",
      "474:\tlearn: 0.7099798\ttotal: 1.87s\tremaining: 1.28s\n",
      "475:\tlearn: 0.7099798\ttotal: 1.87s\tremaining: 1.27s\n",
      "476:\tlearn: 0.7099798\ttotal: 1.87s\tremaining: 1.27s\n",
      "477:\tlearn: 0.7099798\ttotal: 1.88s\tremaining: 1.26s\n",
      "478:\tlearn: 0.7099798\ttotal: 1.88s\tremaining: 1.26s\n",
      "479:\tlearn: 0.7099798\ttotal: 1.89s\tremaining: 1.26s\n",
      "480:\tlearn: 0.7099798\ttotal: 1.89s\tremaining: 1.25s\n",
      "481:\tlearn: 0.7099798\ttotal: 1.89s\tremaining: 1.25s\n",
      "482:\tlearn: 0.7099798\ttotal: 1.9s\tremaining: 1.25s\n",
      "483:\tlearn: 0.7099798\ttotal: 1.9s\tremaining: 1.24s\n",
      "484:\tlearn: 0.7099798\ttotal: 1.91s\tremaining: 1.24s\n",
      "485:\tlearn: 0.7099798\ttotal: 1.91s\tremaining: 1.24s\n",
      "486:\tlearn: 0.7099798\ttotal: 1.92s\tremaining: 1.23s\n",
      "487:\tlearn: 0.7099798\ttotal: 1.92s\tremaining: 1.23s\n",
      "488:\tlearn: 0.7099798\ttotal: 1.92s\tremaining: 1.22s\n",
      "489:\tlearn: 0.7099798\ttotal: 1.93s\tremaining: 1.22s\n",
      "490:\tlearn: 0.7099798\ttotal: 1.93s\tremaining: 1.22s\n",
      "491:\tlearn: 0.7099798\ttotal: 1.94s\tremaining: 1.21s\n",
      "492:\tlearn: 0.7099798\ttotal: 1.94s\tremaining: 1.21s\n",
      "493:\tlearn: 0.7099798\ttotal: 1.94s\tremaining: 1.2s\n",
      "494:\tlearn: 0.7099798\ttotal: 1.95s\tremaining: 1.2s\n",
      "495:\tlearn: 0.7099798\ttotal: 1.95s\tremaining: 1.19s\n",
      "496:\tlearn: 0.7099798\ttotal: 1.95s\tremaining: 1.19s\n",
      "497:\tlearn: 0.7099798\ttotal: 1.96s\tremaining: 1.19s\n",
      "498:\tlearn: 0.7099798\ttotal: 1.96s\tremaining: 1.18s\n",
      "499:\tlearn: 0.7099798\ttotal: 1.96s\tremaining: 1.18s\n",
      "500:\tlearn: 0.7099798\ttotal: 1.97s\tremaining: 1.17s\n",
      "501:\tlearn: 0.7099798\ttotal: 1.97s\tremaining: 1.17s\n",
      "502:\tlearn: 0.7099798\ttotal: 1.97s\tremaining: 1.17s\n",
      "503:\tlearn: 0.7099798\ttotal: 1.98s\tremaining: 1.16s\n",
      "504:\tlearn: 0.7099798\ttotal: 1.98s\tremaining: 1.16s\n",
      "505:\tlearn: 0.7099798\ttotal: 1.98s\tremaining: 1.15s\n",
      "506:\tlearn: 0.7099798\ttotal: 1.99s\tremaining: 1.15s\n",
      "507:\tlearn: 0.7099798\ttotal: 1.99s\tremaining: 1.14s\n",
      "508:\tlearn: 0.7099798\ttotal: 2s\tremaining: 1.14s\n",
      "509:\tlearn: 0.7099798\ttotal: 2s\tremaining: 1.14s\n",
      "510:\tlearn: 0.7099798\ttotal: 2s\tremaining: 1.13s\n",
      "511:\tlearn: 0.7099798\ttotal: 2s\tremaining: 1.13s\n",
      "512:\tlearn: 0.7099798\ttotal: 2.01s\tremaining: 1.12s\n",
      "513:\tlearn: 0.7099798\ttotal: 2.01s\tremaining: 1.12s\n",
      "514:\tlearn: 0.7099798\ttotal: 2.02s\tremaining: 1.12s\n",
      "515:\tlearn: 0.7099798\ttotal: 2.02s\tremaining: 1.11s\n",
      "516:\tlearn: 0.7099798\ttotal: 2.02s\tremaining: 1.11s\n",
      "517:\tlearn: 0.7099798\ttotal: 2.03s\tremaining: 1.1s\n",
      "518:\tlearn: 0.7099798\ttotal: 2.03s\tremaining: 1.1s\n",
      "519:\tlearn: 0.7099798\ttotal: 2.04s\tremaining: 1.09s\n",
      "520:\tlearn: 0.7099798\ttotal: 2.04s\tremaining: 1.09s\n",
      "521:\tlearn: 0.7099798\ttotal: 2.04s\tremaining: 1.09s\n",
      "522:\tlearn: 0.7099798\ttotal: 2.04s\tremaining: 1.08s\n",
      "523:\tlearn: 0.7099798\ttotal: 2.05s\tremaining: 1.08s\n",
      "524:\tlearn: 0.7099798\ttotal: 2.05s\tremaining: 1.07s\n",
      "525:\tlearn: 0.7099798\ttotal: 2.06s\tremaining: 1.07s\n",
      "526:\tlearn: 0.7099798\ttotal: 2.06s\tremaining: 1.07s\n",
      "527:\tlearn: 0.7099798\ttotal: 2.07s\tremaining: 1.06s\n",
      "528:\tlearn: 0.7099798\ttotal: 2.07s\tremaining: 1.06s\n",
      "529:\tlearn: 0.7099798\ttotal: 2.08s\tremaining: 1.06s\n",
      "530:\tlearn: 0.7099798\ttotal: 2.08s\tremaining: 1.05s\n",
      "531:\tlearn: 0.7099798\ttotal: 2.08s\tremaining: 1.05s\n",
      "532:\tlearn: 0.7099798\ttotal: 2.09s\tremaining: 1.04s\n",
      "533:\tlearn: 0.7099798\ttotal: 2.09s\tremaining: 1.04s\n",
      "534:\tlearn: 0.7099798\ttotal: 2.09s\tremaining: 1.04s\n",
      "535:\tlearn: 0.7099798\ttotal: 2.1s\tremaining: 1.03s\n",
      "536:\tlearn: 0.7099798\ttotal: 2.1s\tremaining: 1.03s\n",
      "537:\tlearn: 0.7099798\ttotal: 2.1s\tremaining: 1.02s\n",
      "538:\tlearn: 0.7099798\ttotal: 2.11s\tremaining: 1.02s\n",
      "539:\tlearn: 0.7099798\ttotal: 2.11s\tremaining: 1.02s\n",
      "540:\tlearn: 0.7099798\ttotal: 2.12s\tremaining: 1.01s\n",
      "541:\tlearn: 0.7099798\ttotal: 2.12s\tremaining: 1.01s\n",
      "542:\tlearn: 0.7099798\ttotal: 2.13s\tremaining: 1s\n",
      "543:\tlearn: 0.7099798\ttotal: 2.13s\tremaining: 1s\n",
      "544:\tlearn: 0.7099798\ttotal: 2.13s\tremaining: 997ms\n",
      "545:\tlearn: 0.7099798\ttotal: 2.13s\tremaining: 993ms\n",
      "546:\tlearn: 0.7099798\ttotal: 2.14s\tremaining: 989ms\n",
      "547:\tlearn: 0.7099798\ttotal: 2.14s\tremaining: 985ms\n",
      "548:\tlearn: 0.7099798\ttotal: 2.15s\tremaining: 981ms\n",
      "549:\tlearn: 0.7099798\ttotal: 2.15s\tremaining: 977ms\n",
      "550:\tlearn: 0.7099798\ttotal: 2.15s\tremaining: 973ms\n",
      "551:\tlearn: 0.7099798\ttotal: 2.16s\tremaining: 969ms\n",
      "552:\tlearn: 0.7099798\ttotal: 2.16s\tremaining: 965ms\n",
      "553:\tlearn: 0.7099798\ttotal: 2.16s\tremaining: 961ms\n",
      "554:\tlearn: 0.7099798\ttotal: 2.17s\tremaining: 957ms\n",
      "555:\tlearn: 0.7099798\ttotal: 2.17s\tremaining: 954ms\n",
      "556:\tlearn: 0.7099798\ttotal: 2.18s\tremaining: 950ms\n",
      "557:\tlearn: 0.7099798\ttotal: 2.18s\tremaining: 947ms\n",
      "558:\tlearn: 0.7099798\ttotal: 2.19s\tremaining: 943ms\n",
      "559:\tlearn: 0.7099798\ttotal: 2.19s\tremaining: 940ms\n",
      "560:\tlearn: 0.7099798\ttotal: 2.2s\tremaining: 936ms\n",
      "561:\tlearn: 0.7099798\ttotal: 2.2s\tremaining: 932ms\n",
      "562:\tlearn: 0.7099798\ttotal: 2.21s\tremaining: 928ms\n",
      "563:\tlearn: 0.7099798\ttotal: 2.21s\tremaining: 925ms\n",
      "564:\tlearn: 0.7099798\ttotal: 2.22s\tremaining: 922ms\n",
      "565:\tlearn: 0.7099798\ttotal: 2.22s\tremaining: 919ms\n",
      "566:\tlearn: 0.7099798\ttotal: 2.23s\tremaining: 915ms\n",
      "567:\tlearn: 0.7099798\ttotal: 2.23s\tremaining: 911ms\n",
      "568:\tlearn: 0.7099798\ttotal: 2.23s\tremaining: 908ms\n",
      "569:\tlearn: 0.7099798\ttotal: 2.24s\tremaining: 904ms\n",
      "570:\tlearn: 0.7099798\ttotal: 2.25s\tremaining: 900ms\n",
      "571:\tlearn: 0.7099798\ttotal: 2.25s\tremaining: 898ms\n",
      "572:\tlearn: 0.7099798\ttotal: 2.26s\tremaining: 894ms\n",
      "573:\tlearn: 0.7099798\ttotal: 2.26s\tremaining: 890ms\n",
      "574:\tlearn: 0.7099798\ttotal: 2.26s\tremaining: 886ms\n",
      "575:\tlearn: 0.7099798\ttotal: 2.27s\tremaining: 883ms\n",
      "576:\tlearn: 0.7099798\ttotal: 2.27s\tremaining: 879ms\n",
      "577:\tlearn: 0.7099798\ttotal: 2.28s\tremaining: 876ms\n",
      "578:\tlearn: 0.7099798\ttotal: 2.29s\tremaining: 873ms\n",
      "579:\tlearn: 0.7099798\ttotal: 2.29s\tremaining: 869ms\n",
      "580:\tlearn: 0.7099798\ttotal: 2.29s\tremaining: 864ms\n",
      "581:\tlearn: 0.7099798\ttotal: 2.3s\tremaining: 860ms\n",
      "582:\tlearn: 0.7099798\ttotal: 2.3s\tremaining: 856ms\n",
      "583:\tlearn: 0.7099798\ttotal: 2.3s\tremaining: 852ms\n",
      "584:\tlearn: 0.7099798\ttotal: 2.31s\tremaining: 848ms\n",
      "585:\tlearn: 0.7099798\ttotal: 2.31s\tremaining: 844ms\n",
      "586:\tlearn: 0.7099798\ttotal: 2.31s\tremaining: 840ms\n",
      "587:\tlearn: 0.7099798\ttotal: 2.32s\tremaining: 836ms\n",
      "588:\tlearn: 0.7099798\ttotal: 2.32s\tremaining: 832ms\n",
      "589:\tlearn: 0.7099798\ttotal: 2.33s\tremaining: 828ms\n",
      "590:\tlearn: 0.7099798\ttotal: 2.33s\tremaining: 824ms\n",
      "591:\tlearn: 0.7099798\ttotal: 2.33s\tremaining: 820ms\n",
      "592:\tlearn: 0.7099798\ttotal: 2.34s\tremaining: 815ms\n",
      "593:\tlearn: 0.7099798\ttotal: 2.34s\tremaining: 812ms\n",
      "594:\tlearn: 0.7099798\ttotal: 2.34s\tremaining: 807ms\n",
      "595:\tlearn: 0.7099798\ttotal: 2.35s\tremaining: 804ms\n",
      "596:\tlearn: 0.7099798\ttotal: 2.35s\tremaining: 800ms\n",
      "597:\tlearn: 0.7099798\ttotal: 2.36s\tremaining: 796ms\n",
      "598:\tlearn: 0.7099798\ttotal: 2.36s\tremaining: 792ms\n",
      "599:\tlearn: 0.7099798\ttotal: 2.37s\tremaining: 788ms\n",
      "600:\tlearn: 0.7099798\ttotal: 2.37s\tremaining: 784ms\n",
      "601:\tlearn: 0.7099798\ttotal: 2.37s\tremaining: 781ms\n",
      "602:\tlearn: 0.7099798\ttotal: 2.38s\tremaining: 777ms\n",
      "603:\tlearn: 0.7099798\ttotal: 2.38s\tremaining: 773ms\n",
      "604:\tlearn: 0.7099798\ttotal: 2.38s\tremaining: 769ms\n",
      "605:\tlearn: 0.7099798\ttotal: 2.39s\tremaining: 765ms\n",
      "606:\tlearn: 0.7099798\ttotal: 2.39s\tremaining: 761ms\n",
      "607:\tlearn: 0.7099798\ttotal: 2.4s\tremaining: 757ms\n",
      "608:\tlearn: 0.7099798\ttotal: 2.4s\tremaining: 753ms\n",
      "609:\tlearn: 0.7099798\ttotal: 2.4s\tremaining: 749ms\n",
      "610:\tlearn: 0.7099798\ttotal: 2.41s\tremaining: 746ms\n",
      "611:\tlearn: 0.7099798\ttotal: 2.42s\tremaining: 742ms\n",
      "612:\tlearn: 0.7099798\ttotal: 2.42s\tremaining: 738ms\n",
      "613:\tlearn: 0.7099798\ttotal: 2.42s\tremaining: 734ms\n",
      "614:\tlearn: 0.7099798\ttotal: 2.43s\tremaining: 730ms\n",
      "615:\tlearn: 0.7099798\ttotal: 2.43s\tremaining: 726ms\n",
      "616:\tlearn: 0.7099798\ttotal: 2.43s\tremaining: 722ms\n",
      "617:\tlearn: 0.7099798\ttotal: 2.44s\tremaining: 718ms\n",
      "618:\tlearn: 0.7099798\ttotal: 2.44s\tremaining: 714ms\n",
      "619:\tlearn: 0.7099798\ttotal: 2.44s\tremaining: 710ms\n",
      "620:\tlearn: 0.7099798\ttotal: 2.45s\tremaining: 705ms\n",
      "621:\tlearn: 0.7099798\ttotal: 2.45s\tremaining: 701ms\n",
      "622:\tlearn: 0.7099798\ttotal: 2.45s\tremaining: 697ms\n",
      "623:\tlearn: 0.7099798\ttotal: 2.46s\tremaining: 693ms\n",
      "624:\tlearn: 0.7099798\ttotal: 2.46s\tremaining: 689ms\n",
      "625:\tlearn: 0.7099798\ttotal: 2.46s\tremaining: 685ms\n",
      "626:\tlearn: 0.7099798\ttotal: 2.47s\tremaining: 681ms\n",
      "627:\tlearn: 0.7099798\ttotal: 2.47s\tremaining: 677ms\n",
      "628:\tlearn: 0.7099798\ttotal: 2.48s\tremaining: 673ms\n",
      "629:\tlearn: 0.7099798\ttotal: 2.48s\tremaining: 669ms\n",
      "630:\tlearn: 0.7099798\ttotal: 2.48s\tremaining: 665ms\n",
      "631:\tlearn: 0.7099798\ttotal: 2.49s\tremaining: 661ms\n",
      "632:\tlearn: 0.7099798\ttotal: 2.49s\tremaining: 657ms\n",
      "633:\tlearn: 0.7099798\ttotal: 2.49s\tremaining: 653ms\n",
      "634:\tlearn: 0.7099798\ttotal: 2.5s\tremaining: 649ms\n",
      "635:\tlearn: 0.7099798\ttotal: 2.5s\tremaining: 645ms\n",
      "636:\tlearn: 0.7099798\ttotal: 2.51s\tremaining: 642ms\n",
      "637:\tlearn: 0.7099798\ttotal: 2.51s\tremaining: 638ms\n",
      "638:\tlearn: 0.7099798\ttotal: 2.52s\tremaining: 634ms\n",
      "639:\tlearn: 0.7099798\ttotal: 2.52s\tremaining: 630ms\n",
      "640:\tlearn: 0.7099798\ttotal: 2.52s\tremaining: 626ms\n",
      "641:\tlearn: 0.7099798\ttotal: 2.53s\tremaining: 622ms\n",
      "642:\tlearn: 0.7099798\ttotal: 2.53s\tremaining: 618ms\n",
      "643:\tlearn: 0.7099798\ttotal: 2.54s\tremaining: 614ms\n",
      "644:\tlearn: 0.7099798\ttotal: 2.54s\tremaining: 610ms\n",
      "645:\tlearn: 0.7099798\ttotal: 2.54s\tremaining: 606ms\n",
      "646:\tlearn: 0.7099798\ttotal: 2.54s\tremaining: 602ms\n",
      "647:\tlearn: 0.7099798\ttotal: 2.55s\tremaining: 598ms\n",
      "648:\tlearn: 0.7099798\ttotal: 2.55s\tremaining: 594ms\n",
      "649:\tlearn: 0.7099798\ttotal: 2.56s\tremaining: 590ms\n",
      "650:\tlearn: 0.7099798\ttotal: 2.56s\tremaining: 586ms\n",
      "651:\tlearn: 0.7099798\ttotal: 2.56s\tremaining: 582ms\n",
      "652:\tlearn: 0.7099798\ttotal: 2.57s\tremaining: 578ms\n",
      "653:\tlearn: 0.7099798\ttotal: 2.57s\tremaining: 574ms\n",
      "654:\tlearn: 0.7099798\ttotal: 2.57s\tremaining: 570ms\n",
      "655:\tlearn: 0.7099798\ttotal: 2.58s\tremaining: 566ms\n",
      "656:\tlearn: 0.7099798\ttotal: 2.58s\tremaining: 562ms\n",
      "657:\tlearn: 0.7099798\ttotal: 2.58s\tremaining: 558ms\n",
      "658:\tlearn: 0.7099798\ttotal: 2.59s\tremaining: 554ms\n",
      "659:\tlearn: 0.7099798\ttotal: 2.59s\tremaining: 550ms\n",
      "660:\tlearn: 0.7099798\ttotal: 2.6s\tremaining: 546ms\n",
      "661:\tlearn: 0.7099798\ttotal: 2.6s\tremaining: 542ms\n",
      "662:\tlearn: 0.7099798\ttotal: 2.6s\tremaining: 538ms\n",
      "663:\tlearn: 0.7099798\ttotal: 2.61s\tremaining: 534ms\n",
      "664:\tlearn: 0.7099798\ttotal: 2.61s\tremaining: 530ms\n",
      "665:\tlearn: 0.7099798\ttotal: 2.61s\tremaining: 526ms\n",
      "666:\tlearn: 0.7099798\ttotal: 2.62s\tremaining: 522ms\n",
      "667:\tlearn: 0.7099798\ttotal: 2.62s\tremaining: 518ms\n",
      "668:\tlearn: 0.7099798\ttotal: 2.62s\tremaining: 514ms\n",
      "669:\tlearn: 0.7099798\ttotal: 2.63s\tremaining: 510ms\n",
      "670:\tlearn: 0.7099798\ttotal: 2.63s\tremaining: 506ms\n",
      "671:\tlearn: 0.7099798\ttotal: 2.63s\tremaining: 502ms\n",
      "672:\tlearn: 0.7099798\ttotal: 2.64s\tremaining: 498ms\n",
      "673:\tlearn: 0.7099798\ttotal: 2.64s\tremaining: 494ms\n",
      "674:\tlearn: 0.7099798\ttotal: 2.65s\tremaining: 490ms\n",
      "675:\tlearn: 0.7099798\ttotal: 2.65s\tremaining: 486ms\n",
      "676:\tlearn: 0.7099798\ttotal: 2.65s\tremaining: 482ms\n",
      "677:\tlearn: 0.7099798\ttotal: 2.66s\tremaining: 478ms\n",
      "678:\tlearn: 0.7099798\ttotal: 2.66s\tremaining: 475ms\n",
      "679:\tlearn: 0.7099798\ttotal: 2.67s\tremaining: 471ms\n",
      "680:\tlearn: 0.7099798\ttotal: 2.67s\tremaining: 467ms\n",
      "681:\tlearn: 0.7099798\ttotal: 2.67s\tremaining: 463ms\n",
      "682:\tlearn: 0.7099798\ttotal: 2.68s\tremaining: 459ms\n",
      "683:\tlearn: 0.7099798\ttotal: 2.68s\tremaining: 455ms\n",
      "684:\tlearn: 0.7099798\ttotal: 2.69s\tremaining: 451ms\n",
      "685:\tlearn: 0.7099798\ttotal: 2.69s\tremaining: 447ms\n",
      "686:\tlearn: 0.7099798\ttotal: 2.69s\tremaining: 443ms\n",
      "687:\tlearn: 0.7099798\ttotal: 2.7s\tremaining: 439ms\n",
      "688:\tlearn: 0.7099798\ttotal: 2.7s\tremaining: 435ms\n",
      "689:\tlearn: 0.7099798\ttotal: 2.71s\tremaining: 431ms\n",
      "690:\tlearn: 0.7099798\ttotal: 2.71s\tremaining: 428ms\n",
      "691:\tlearn: 0.7099798\ttotal: 2.71s\tremaining: 424ms\n",
      "692:\tlearn: 0.7099798\ttotal: 2.72s\tremaining: 420ms\n",
      "693:\tlearn: 0.7099798\ttotal: 2.72s\tremaining: 416ms\n",
      "694:\tlearn: 0.7099798\ttotal: 2.73s\tremaining: 412ms\n",
      "695:\tlearn: 0.7099798\ttotal: 2.73s\tremaining: 408ms\n",
      "696:\tlearn: 0.7099798\ttotal: 2.73s\tremaining: 404ms\n",
      "697:\tlearn: 0.7099798\ttotal: 2.74s\tremaining: 400ms\n",
      "698:\tlearn: 0.7099798\ttotal: 2.74s\tremaining: 396ms\n",
      "699:\tlearn: 0.7099798\ttotal: 2.75s\tremaining: 392ms\n",
      "700:\tlearn: 0.7099798\ttotal: 2.75s\tremaining: 388ms\n",
      "701:\tlearn: 0.7099798\ttotal: 2.75s\tremaining: 385ms\n",
      "702:\tlearn: 0.7099798\ttotal: 2.76s\tremaining: 381ms\n",
      "703:\tlearn: 0.7099798\ttotal: 2.76s\tremaining: 377ms\n",
      "704:\tlearn: 0.7099798\ttotal: 2.77s\tremaining: 373ms\n",
      "705:\tlearn: 0.7099798\ttotal: 2.77s\tremaining: 369ms\n",
      "706:\tlearn: 0.7099798\ttotal: 2.77s\tremaining: 365ms\n",
      "707:\tlearn: 0.7099798\ttotal: 2.78s\tremaining: 361ms\n",
      "708:\tlearn: 0.7099798\ttotal: 2.78s\tremaining: 357ms\n",
      "709:\tlearn: 0.7099798\ttotal: 2.79s\tremaining: 353ms\n",
      "710:\tlearn: 0.7099798\ttotal: 2.79s\tremaining: 349ms\n",
      "711:\tlearn: 0.7099798\ttotal: 2.8s\tremaining: 346ms\n",
      "712:\tlearn: 0.7099798\ttotal: 2.8s\tremaining: 342ms\n",
      "713:\tlearn: 0.7277890\ttotal: 2.8s\tremaining: 338ms\n",
      "714:\tlearn: 0.7277890\ttotal: 2.81s\tremaining: 334ms\n",
      "715:\tlearn: 0.7277890\ttotal: 2.81s\tremaining: 330ms\n",
      "716:\tlearn: 0.7277890\ttotal: 2.82s\tremaining: 326ms\n",
      "717:\tlearn: 0.7277890\ttotal: 2.82s\tremaining: 322ms\n",
      "718:\tlearn: 0.7277890\ttotal: 2.83s\tremaining: 318ms\n",
      "719:\tlearn: 0.7277890\ttotal: 2.83s\tremaining: 314ms\n",
      "720:\tlearn: 0.7277890\ttotal: 2.83s\tremaining: 310ms\n",
      "721:\tlearn: 0.7277890\ttotal: 2.84s\tremaining: 306ms\n",
      "722:\tlearn: 0.7277890\ttotal: 2.84s\tremaining: 303ms\n",
      "723:\tlearn: 0.7277890\ttotal: 2.85s\tremaining: 299ms\n",
      "724:\tlearn: 0.7277890\ttotal: 2.85s\tremaining: 295ms\n",
      "725:\tlearn: 0.7277890\ttotal: 2.85s\tremaining: 291ms\n",
      "726:\tlearn: 0.7277890\ttotal: 2.86s\tremaining: 287ms\n",
      "727:\tlearn: 0.7277890\ttotal: 2.86s\tremaining: 283ms\n",
      "728:\tlearn: 0.7373514\ttotal: 2.87s\tremaining: 279ms\n",
      "729:\tlearn: 0.7373514\ttotal: 2.87s\tremaining: 275ms\n",
      "730:\tlearn: 0.7373514\ttotal: 2.87s\tremaining: 271ms\n",
      "731:\tlearn: 0.7373514\ttotal: 2.88s\tremaining: 267ms\n",
      "732:\tlearn: 0.7373514\ttotal: 2.88s\tremaining: 263ms\n",
      "733:\tlearn: 0.7373514\ttotal: 2.88s\tremaining: 259ms\n",
      "734:\tlearn: 0.7373514\ttotal: 2.89s\tremaining: 256ms\n",
      "735:\tlearn: 0.7373514\ttotal: 2.89s\tremaining: 252ms\n",
      "736:\tlearn: 0.7373514\ttotal: 2.9s\tremaining: 248ms\n",
      "737:\tlearn: 0.7373514\ttotal: 2.9s\tremaining: 244ms\n",
      "738:\tlearn: 0.7373514\ttotal: 2.91s\tremaining: 240ms\n",
      "739:\tlearn: 0.7373514\ttotal: 2.91s\tremaining: 236ms\n",
      "740:\tlearn: 0.7373514\ttotal: 2.91s\tremaining: 232ms\n",
      "741:\tlearn: 0.7373514\ttotal: 2.92s\tremaining: 228ms\n",
      "742:\tlearn: 0.7373514\ttotal: 2.92s\tremaining: 224ms\n",
      "743:\tlearn: 0.7373514\ttotal: 2.92s\tremaining: 220ms\n",
      "744:\tlearn: 0.7373514\ttotal: 2.93s\tremaining: 216ms\n",
      "745:\tlearn: 0.7373514\ttotal: 2.93s\tremaining: 212ms\n",
      "746:\tlearn: 0.7373514\ttotal: 2.94s\tremaining: 208ms\n",
      "747:\tlearn: 0.7373514\ttotal: 2.94s\tremaining: 204ms\n",
      "748:\tlearn: 0.7373514\ttotal: 2.94s\tremaining: 200ms\n",
      "749:\tlearn: 0.7373514\ttotal: 2.95s\tremaining: 197ms\n",
      "750:\tlearn: 0.7373514\ttotal: 2.95s\tremaining: 193ms\n",
      "751:\tlearn: 0.7373514\ttotal: 2.96s\tremaining: 189ms\n",
      "752:\tlearn: 0.7373514\ttotal: 2.96s\tremaining: 185ms\n",
      "753:\tlearn: 0.7373514\ttotal: 2.96s\tremaining: 181ms\n",
      "754:\tlearn: 0.7373514\ttotal: 2.97s\tremaining: 177ms\n",
      "755:\tlearn: 0.7373514\ttotal: 2.97s\tremaining: 173ms\n",
      "756:\tlearn: 0.7373514\ttotal: 2.97s\tremaining: 169ms\n",
      "757:\tlearn: 0.7373514\ttotal: 2.98s\tremaining: 165ms\n",
      "758:\tlearn: 0.7373514\ttotal: 2.98s\tremaining: 161ms\n",
      "759:\tlearn: 0.7373514\ttotal: 2.99s\tremaining: 157ms\n",
      "760:\tlearn: 0.7373514\ttotal: 2.99s\tremaining: 153ms\n",
      "761:\tlearn: 0.7373514\ttotal: 3s\tremaining: 149ms\n",
      "762:\tlearn: 0.7373514\ttotal: 3s\tremaining: 145ms\n",
      "763:\tlearn: 0.7373514\ttotal: 3s\tremaining: 142ms\n",
      "764:\tlearn: 0.7373514\ttotal: 3.01s\tremaining: 138ms\n",
      "765:\tlearn: 0.7373514\ttotal: 3.01s\tremaining: 134ms\n",
      "766:\tlearn: 0.7373514\ttotal: 3.02s\tremaining: 130ms\n",
      "767:\tlearn: 0.7373514\ttotal: 3.02s\tremaining: 126ms\n",
      "768:\tlearn: 0.7373514\ttotal: 3.02s\tremaining: 122ms\n",
      "769:\tlearn: 0.7373514\ttotal: 3.03s\tremaining: 118ms\n",
      "770:\tlearn: 0.7373514\ttotal: 3.03s\tremaining: 114ms\n",
      "771:\tlearn: 0.7373514\ttotal: 3.04s\tremaining: 110ms\n",
      "772:\tlearn: 0.7373514\ttotal: 3.04s\tremaining: 106ms\n",
      "773:\tlearn: 0.7373514\ttotal: 3.04s\tremaining: 102ms\n",
      "774:\tlearn: 0.7373514\ttotal: 3.05s\tremaining: 98.4ms\n",
      "775:\tlearn: 0.7373514\ttotal: 3.05s\tremaining: 94.5ms\n",
      "776:\tlearn: 0.7373514\ttotal: 3.06s\tremaining: 90.5ms\n",
      "777:\tlearn: 0.7373514\ttotal: 3.06s\tremaining: 86.6ms\n",
      "778:\tlearn: 0.7373514\ttotal: 3.06s\tremaining: 82.6ms\n",
      "779:\tlearn: 0.7373514\ttotal: 3.07s\tremaining: 78.7ms\n",
      "780:\tlearn: 0.7373514\ttotal: 3.07s\tremaining: 74.8ms\n",
      "781:\tlearn: 0.7373514\ttotal: 3.08s\tremaining: 70.8ms\n",
      "782:\tlearn: 0.7373514\ttotal: 3.08s\tremaining: 66.9ms\n",
      "783:\tlearn: 0.7373514\ttotal: 3.09s\tremaining: 63ms\n",
      "784:\tlearn: 0.7373514\ttotal: 3.09s\tremaining: 59.1ms\n",
      "785:\tlearn: 0.7373514\ttotal: 3.1s\tremaining: 55.2ms\n",
      "786:\tlearn: 0.7373514\ttotal: 3.1s\tremaining: 51.2ms\n",
      "787:\tlearn: 0.7373514\ttotal: 3.1s\tremaining: 47.3ms\n",
      "788:\tlearn: 0.7373514\ttotal: 3.11s\tremaining: 43.3ms\n",
      "789:\tlearn: 0.7373514\ttotal: 3.11s\tremaining: 39.4ms\n",
      "790:\tlearn: 0.7373514\ttotal: 3.12s\tremaining: 35.5ms\n",
      "791:\tlearn: 0.7373514\ttotal: 3.12s\tremaining: 31.5ms\n",
      "792:\tlearn: 0.7373514\ttotal: 3.13s\tremaining: 27.6ms\n",
      "793:\tlearn: 0.7373514\ttotal: 3.13s\tremaining: 23.6ms\n",
      "794:\tlearn: 0.7373514\ttotal: 3.13s\tremaining: 19.7ms\n",
      "795:\tlearn: 0.7373514\ttotal: 3.14s\tremaining: 15.8ms\n",
      "796:\tlearn: 0.7373514\ttotal: 3.14s\tremaining: 11.8ms\n",
      "797:\tlearn: 0.7373514\ttotal: 3.14s\tremaining: 7.88ms\n",
      "798:\tlearn: 0.7373514\ttotal: 3.15s\tremaining: 3.94ms\n",
      "799:\tlearn: 0.7373514\ttotal: 3.15s\tremaining: 0us\n"
     ]
    }
   ],
   "source": [
    "# Ajustamos un modelo de clasificación\n",
    "Cat=CatBoost.fit(X_train,y_train)"
   ]
  },
  {
   "cell_type": "code",
   "execution_count": null,
   "metadata": {
    "colab": {},
    "colab_type": "code",
    "id": "yG76-u75yP9s"
   },
   "outputs": [],
   "source": [
    "# Paso N°04: Predecimos con el algoritmo entrenado sobre el test y evaluamos\n",
    "y_pred_train=Cat.predict(X_train)\n",
    "y_pred_test=Cat.predict(X_test)"
   ]
  },
  {
   "cell_type": "code",
   "execution_count": null,
   "metadata": {
    "colab": {},
    "colab_type": "code",
    "id": "Vx-TlnvuyP9t",
    "outputId": "ac9a9898-c808-46b8-edf5-243c0042a15a"
   },
   "outputs": [
    {
     "name": "stdout",
     "output_type": "stream",
     "text": [
      "Matriz confusion: Train\n",
      "[[ 59  75]\n",
      " [  6 289]]\n",
      "Matriz confusion: Test\n",
      "[[ 23  35]\n",
      " [  1 126]]\n",
      "Accuracy: Train\n",
      "0.8111888111888111\n",
      "Accuracy: Test\n",
      "0.8054054054054054\n",
      "Precision: Train\n",
      "0.7939560439560439\n",
      "Precision: Test\n",
      "0.782608695652174\n",
      "Recall: Train\n",
      "0.9796610169491525\n",
      "Recall: Test\n",
      "0.9921259842519685\n"
     ]
    }
   ],
   "source": [
    "# Paso N°05: Comparar el valor pronosticado con el valor real\n",
    "\n",
    "from sklearn import metrics as metrics\n",
    "# Matriz de confusion\n",
    "print(\"Matriz confusion: Train\")\n",
    "cm_train = metrics.confusion_matrix(y_train,y_pred_train)\n",
    "print(cm_train)\n",
    "\n",
    "print(\"Matriz confusion: Test\")\n",
    "cm_test = metrics.confusion_matrix(y_test,y_pred_test)\n",
    "print(cm_test)\n",
    "\n",
    "# Accuracy\n",
    "print(\"Accuracy: Train\")\n",
    "accuracy_train=metrics.accuracy_score(y_train,y_pred_train)\n",
    "print(accuracy_train)\n",
    "\n",
    "print(\"Accuracy: Test\")\n",
    "accuracy_test=metrics.accuracy_score(y_test,y_pred_test)\n",
    "print(accuracy_test)\n",
    "\n",
    "# Precision\n",
    "print(\"Precision: Train\")\n",
    "precision_train=metrics.precision_score(y_train,y_pred_train)\n",
    "print(precision_train)\n",
    "\n",
    "print(\"Precision: Test\")\n",
    "precision_test=metrics.precision_score(y_test,y_pred_test)\n",
    "print(precision_test)\n",
    "\n",
    "# Recall\n",
    "print(\"Recall: Train\")\n",
    "recall_train=metrics.recall_score(y_train,y_pred_train)\n",
    "print(recall_train)\n",
    "\n",
    "print(\"Recall: Test\")\n",
    "recall_test=metrics.recall_score(y_test,y_pred_test)\n",
    "print(recall_test)"
   ]
  },
  {
   "cell_type": "code",
   "execution_count": null,
   "metadata": {
    "colab": {},
    "colab_type": "code",
    "id": "Y1v3pKH_yP9u"
   },
   "outputs": [],
   "source": [
    "########################################################\n",
    "## Ensambles y Stacking Modelos Personalizados\n",
    "########################################################\n",
    "\n",
    "from sklearn.ensemble import VotingClassifier"
   ]
  },
  {
   "cell_type": "code",
   "execution_count": null,
   "metadata": {
    "colab": {},
    "colab_type": "code",
    "id": "gp7yJjMcyP9x",
    "outputId": "7f7c5c6d-13a0-4a7f-8620-20768b3dd3ac"
   },
   "outputs": [
    {
     "data": {
      "text/plain": [
       "VotingClassifier(estimators=[('AdaBoost',\n",
       "                              AdaBoostClassifier(algorithm='SAMME.R',\n",
       "                                                 base_estimator=None,\n",
       "                                                 learning_rate=1.0,\n",
       "                                                 n_estimators=50,\n",
       "                                                 random_state=None)),\n",
       "                             ('RandomForest',\n",
       "                              RandomForestClassifier(bootstrap=True,\n",
       "                                                     class_weight=None,\n",
       "                                                     criterion='gini',\n",
       "                                                     max_depth=None,\n",
       "                                                     max_features='auto',\n",
       "                                                     max_leaf_nodes=None,\n",
       "                                                     min_impurity_decrease=0.0,\n",
       "                                                     min_impurity_split=None,\n",
       "                                                     mi...\n",
       "                             ('Cart',\n",
       "                              DecisionTreeClassifier(class_weight=None,\n",
       "                                                     criterion='gini',\n",
       "                                                     max_depth=None,\n",
       "                                                     max_features=None,\n",
       "                                                     max_leaf_nodes=None,\n",
       "                                                     min_impurity_decrease=0.0,\n",
       "                                                     min_impurity_split=None,\n",
       "                                                     min_samples_leaf=1,\n",
       "                                                     min_samples_split=2,\n",
       "                                                     min_weight_fraction_leaf=0.0,\n",
       "                                                     presort=False,\n",
       "                                                     random_state=None,\n",
       "                                                     splitter='best'))],\n",
       "                 flatten_transform=True, n_jobs=None, voting='soft',\n",
       "                 weights=None)"
      ]
     },
     "execution_count": 119,
     "metadata": {
      "tags": []
     },
     "output_type": "execute_result"
    }
   ],
   "source": [
    "from sklearn.ensemble import AdaBoostClassifier\n",
    "from sklearn.ensemble import RandomForestClassifier\n",
    "cl1= VotingClassifier(estimators=[('AdaBoost', AdaBoostClassifier()), \n",
    "                                ('RandomForest', RandomForestClassifier()),\n",
    "                                 ('Cart',DecisionTreeClassifier())],\n",
    "                        voting='soft')\n",
    "\n",
    "cl1.fit(X_train, y_train) "
   ]
  },
  {
   "cell_type": "code",
   "execution_count": null,
   "metadata": {
    "colab": {},
    "colab_type": "code",
    "id": "5ZAA4moVyP9z"
   },
   "outputs": [],
   "source": [
    "# Paso N°04: Predecimos con el algoritmo entrenado sobre el test y evaluamos\n",
    "y_pred_train=cl1.predict(X_train)\n",
    "y_pred_test=cl1.predict(X_test)"
   ]
  },
  {
   "cell_type": "code",
   "execution_count": null,
   "metadata": {
    "colab": {},
    "colab_type": "code",
    "id": "1XXjREUayP90",
    "outputId": "6ec474db-8b7c-4f20-ec6b-5b714c82491d"
   },
   "outputs": [
    {
     "data": {
      "text/plain": [
       "array([1, 0, 1, 1, 1, 1, 1, 1, 0, 1, 0, 1, 1, 1, 0, 1, 0, 1, 1, 1, 1, 1,\n",
       "       0, 1, 1, 1, 1, 0, 1, 1, 1, 1, 1, 1, 1, 0, 0, 1, 1, 1, 1, 1, 0, 0,\n",
       "       1, 1, 1, 1, 1, 1, 1, 1, 1, 0, 1, 1, 0, 0, 1, 1, 0, 1, 1, 1, 0, 1,\n",
       "       1, 1, 1, 1, 0, 0, 1, 1, 0, 1, 1, 1, 0, 1, 1, 1, 1, 1, 1, 1, 1, 1,\n",
       "       0, 1, 1, 1, 1, 1, 0, 1, 1, 1, 1, 0, 0, 0, 1, 0, 1, 0, 1, 1, 1, 0,\n",
       "       0, 1, 1, 1, 0, 1, 1, 1, 0, 1, 1, 0, 1, 0, 1, 1, 0, 1, 1, 1, 1, 0,\n",
       "       0, 1, 0, 1, 1, 0, 0, 1, 1, 1, 0, 0, 1, 1, 1, 1, 1, 1, 0, 1, 0, 1,\n",
       "       1, 0, 0, 0, 1, 1, 1, 1, 1, 1, 1, 1, 1, 1, 1, 1, 1, 1, 1, 0, 0, 1,\n",
       "       1, 0, 0, 1, 0, 1, 0, 1, 1, 0, 0, 0, 0, 1, 0, 1, 0, 1, 1, 1, 1, 0,\n",
       "       1, 1, 1, 1, 1, 0, 1, 0, 1, 1, 1, 1, 1, 1, 1, 1, 0, 0, 0, 0, 1, 0,\n",
       "       1, 1, 0, 0, 1, 1, 1, 1, 1, 1, 0, 1, 1, 0, 0, 0, 1, 0, 1, 1, 0, 1,\n",
       "       1, 1, 0, 1, 0, 1, 1, 1, 1, 1, 0, 1, 1, 0, 1, 1, 0, 1, 1, 1, 1, 1,\n",
       "       0, 1, 1, 1, 1, 1, 1, 1, 1, 0, 1, 1, 0, 0, 0, 1, 0, 0, 0, 0, 0, 1,\n",
       "       1, 1, 1, 1, 1, 1, 1, 1, 1, 1, 1, 0, 1, 1, 1, 0, 1, 0, 1, 0, 1, 1,\n",
       "       1, 0, 1, 0, 0, 1, 0, 1, 1, 1, 1, 0, 1, 1, 1, 0, 0, 0, 0, 0, 1, 1,\n",
       "       1, 1, 1, 0, 1, 1, 1, 1, 1, 1, 1, 1, 0, 1, 0, 0, 1, 0, 1, 1, 1, 0,\n",
       "       1, 0, 1, 1, 0, 1, 1, 0, 1, 1, 1, 1, 0, 1, 1, 1, 1, 1, 1, 1, 1, 0,\n",
       "       1, 0, 1, 1, 0, 0, 1, 1, 1, 1, 1, 1, 0, 0, 0, 1, 1, 0, 0, 1, 1, 1,\n",
       "       0, 0, 0, 0, 1, 1, 1, 1, 1, 0, 0, 0, 0, 1, 1, 1, 1, 0, 0, 1, 1, 1,\n",
       "       1, 1, 0, 1, 1, 1, 0, 1, 1, 1, 1])"
      ]
     },
     "execution_count": 143,
     "metadata": {
      "tags": []
     },
     "output_type": "execute_result"
    }
   ],
   "source": [
    "y_pred_train"
   ]
  },
  {
   "cell_type": "code",
   "execution_count": null,
   "metadata": {
    "colab": {},
    "colab_type": "code",
    "id": "iVjAFKH6yP91",
    "outputId": "428fbfc3-42a1-4c79-d733-4760be29235b"
   },
   "outputs": [
    {
     "name": "stdout",
     "output_type": "stream",
     "text": [
      "Matriz confusion: Train\n",
      "[[134   0]\n",
      " [  0 295]]\n",
      "Matriz confusion: Test\n",
      "[[ 36  22]\n",
      " [ 26 101]]\n",
      "Accuracy: Train\n",
      "1.0\n",
      "Accuracy: Test\n",
      "0.7405405405405405\n",
      "Precision: Train\n",
      "1.0\n",
      "Precision: Test\n",
      "0.8211382113821138\n",
      "Recall: Train\n",
      "1.0\n",
      "Recall: Test\n",
      "0.7952755905511811\n"
     ]
    }
   ],
   "source": [
    "# Paso N°05: Comparar el valor pronosticado con el valor real\n",
    "\n",
    "from sklearn import metrics as metrics\n",
    "# Matriz de confusion\n",
    "print(\"Matriz confusion: Train\")\n",
    "cm_train = metrics.confusion_matrix(y_train,y_pred_train)\n",
    "print(cm_train)\n",
    "\n",
    "print(\"Matriz confusion: Test\")\n",
    "cm_test = metrics.confusion_matrix(y_test,y_pred_test)\n",
    "print(cm_test)\n",
    "\n",
    "# Accuracy\n",
    "print(\"Accuracy: Train\")\n",
    "accuracy_train=metrics.accuracy_score(y_train,y_pred_train)\n",
    "print(accuracy_train)\n",
    "\n",
    "print(\"Accuracy: Test\")\n",
    "accuracy_test=metrics.accuracy_score(y_test,y_pred_test)\n",
    "print(accuracy_test)\n",
    "\n",
    "# Precision\n",
    "print(\"Precision: Train\")\n",
    "precision_train=metrics.precision_score(y_train,y_pred_train)\n",
    "print(precision_train)\n",
    "\n",
    "print(\"Precision: Test\")\n",
    "precision_test=metrics.precision_score(y_test,y_pred_test)\n",
    "print(precision_test)\n",
    "\n",
    "# Recall\n",
    "print(\"Recall: Train\")\n",
    "recall_train=metrics.recall_score(y_train,y_pred_train)\n",
    "print(recall_train)\n",
    "\n",
    "print(\"Recall: Test\")\n",
    "recall_test=metrics.recall_score(y_test,y_pred_test)\n",
    "print(recall_test)"
   ]
  },
  {
   "cell_type": "code",
   "execution_count": null,
   "metadata": {
    "colab": {},
    "colab_type": "code",
    "id": "QmAZtfY-yP93"
   },
   "outputs": [],
   "source": [
    "# Eleccion BestModel"
   ]
  },
  {
   "cell_type": "code",
   "execution_count": null,
   "metadata": {
    "colab": {},
    "colab_type": "code",
    "id": "x0ySVWFuyP95"
   },
   "outputs": [],
   "source": [
    "# Selección del mejor Modelo\n",
    "# Cargamos todos los modelos que necesitamos*\n",
    "\n",
    "import numpy as np\n",
    "from sklearn.model_selection import cross_val_score\n",
    "import time\n",
    "from sklearn.metrics import accuracy_score, precision_score, recall_score, f1_score\n",
    "from sklearn.model_selection import StratifiedKFold\n",
    "\n",
    "from sklearn.linear_model import LogisticRegression\n",
    "from sklearn.linear_model import RidgeClassifier\n",
    "from sklearn.linear_model import SGDClassifier\n",
    "from sklearn.linear_model import PassiveAggressiveClassifier\n",
    "from sklearn.svm import SVC\n",
    "from sklearn.svm import LinearSVC\n",
    "\n",
    "from sklearn.discriminant_analysis import LinearDiscriminantAnalysis\n",
    "from sklearn.discriminant_analysis import QuadraticDiscriminantAnalysis\n",
    "from sklearn.naive_bayes import GaussianNB\n",
    "from sklearn.naive_bayes import MultinomialNB\n",
    "from sklearn.naive_bayes import BernoulliNB\n",
    "from sklearn.neural_network import MLPClassifier\n",
    "from sklearn.neighbors import KNeighborsClassifier\n",
    "from sklearn.tree import DecisionTreeClassifier\n",
    "\n",
    "from sklearn.ensemble import RandomForestClassifier\n",
    "from sklearn.ensemble import ExtraTreesClassifier\n",
    "from sklearn.ensemble import AdaBoostClassifier\n",
    "from sklearn.ensemble import GradientBoostingClassifier\n",
    "from xgboost import XGBClassifier\n",
    "from sklearn.ensemble import VotingClassifier"
   ]
  },
  {
   "cell_type": "code",
   "execution_count": null,
   "metadata": {
    "colab": {},
    "colab_type": "code",
    "id": "q0Rise5syP98"
   },
   "outputs": [],
   "source": [
    "# Definimos si deseamos algun metodo de clasificacion\n",
    "kfolds = StratifiedKFold(shuffle=True, random_state=1)"
   ]
  },
  {
   "cell_type": "code",
   "execution_count": null,
   "metadata": {
    "colab": {},
    "colab_type": "code",
    "id": "mYwnaybsyP-A"
   },
   "outputs": [],
   "source": [
    "# Creamos una funcion de modelamiento parametrizable\n",
    "import numpy as np\n",
    "def run_model(model, X, y):\n",
    "    model_name = str(model.__class__).split('.')[-1].replace('>','').replace(\"'\",'')\n",
    "    print(model_name)\n",
    "    accuracy = []\n",
    "    f1 = []\n",
    "    start = int(time.time() * 1000)\n",
    "    model.fit(X, y)\n",
    "    y_ = model.predict(X_test)\n",
    "    accuracy += [accuracy_score(y_test, y_)]\n",
    "    f1 += [f1_score(y_test, y_)]\n",
    "    end = int(time.time() * 1000)\n",
    "    results.loc[len(results)] = [model_name, np.mean(accuracy), np.std(accuracy), \n",
    "                                 np.mean(f1), np.std(f1), str(end - start)]"
   ]
  },
  {
   "cell_type": "code",
   "execution_count": null,
   "metadata": {
    "colab": {},
    "colab_type": "code",
    "id": "4AcVYEgWyP-B"
   },
   "outputs": [],
   "source": [
    "# Agrupamos las familias de Modelos\n",
    "def run_linear_models(X, y):\n",
    "    \n",
    "    run_model(LogisticRegression(), X_train, y_train)\n",
    "    run_model(RidgeClassifier(), X_train, y_train)\n",
    "    run_model(MLPClassifier(max_iter=1000), X_train, y_train)\n",
    "    \n",
    "def run_misc_models(X, y):\n",
    "\n",
    "    run_model(BernoulliNB(), X_train, y_train)\n",
    "    run_model(KNeighborsClassifier(), X_train, y_train)\n",
    "    run_model(DecisionTreeClassifier(), X_train, y_train)\n",
    "    \n",
    "def run_ensemble_models(X, y):\n",
    "    run_model(RandomForestClassifier(), X_train, y_train)\n",
    "    run_model(ExtraTreesClassifier(), X_train, y_train)\n",
    "    run_model(AdaBoostClassifier(), X_train, y_train)\n",
    "    run_model(GradientBoostingClassifier(), X_train, y_train)    \n",
    "    run_model(XGBClassifier(), X_train, y_train)\n",
    "    run_model(VotingClassifier(estimators=[('AdaBoost', AdaBoostClassifier()), \n",
    "                                    ('Random Forest', RandomForestClassifier(max_depth=2, random_state=0)),\n",
    "                                    ('KNN', KNeighborsClassifier(n_neighbors=10))],\n",
    "                        voting='soft'), X_train, y_train)"
   ]
  },
  {
   "cell_type": "code",
   "execution_count": null,
   "metadata": {
    "colab": {},
    "colab_type": "code",
    "id": "IviLkhItyP-C"
   },
   "outputs": [],
   "source": [
    "# Definimos una salida\n",
    "results = pd.DataFrame(columns=['model', 'accuracy', 'accuracy-std', 'f1-score', 'f1-score-std', 'time'])"
   ]
  },
  {
   "cell_type": "code",
   "execution_count": null,
   "metadata": {
    "colab": {},
    "colab_type": "code",
    "id": "Yo6oP1iwyP-F"
   },
   "outputs": [],
   "source": [
    "# Ejecutamos las familias de modelos de Ml\n",
    "X_train.Credit_History = X_train.Credit_History.astype(int)\n",
    "X_test.Credit_History  = X_test.Credit_History.astype(int)"
   ]
  },
  {
   "cell_type": "code",
   "execution_count": null,
   "metadata": {
    "colab": {},
    "colab_type": "code",
    "id": "HRfogjR8yP-H",
    "outputId": "01a78933-c429-4433-e45c-0b3a17e91fb7"
   },
   "outputs": [
    {
     "name": "stdout",
     "output_type": "stream",
     "text": [
      "LogisticRegression\n",
      "RidgeClassifier\n",
      "MLPClassifier\n",
      "BernoulliNB\n",
      "KNeighborsClassifier\n",
      "DecisionTreeClassifier\n",
      "RandomForestClassifier\n",
      "ExtraTreesClassifier\n",
      "AdaBoostClassifier\n",
      "GradientBoostingClassifier\n",
      "XGBClassifier\n",
      "VotingClassifier\n"
     ]
    }
   ],
   "source": [
    "run_linear_models(X_train, y_train)\n",
    "run_misc_models(X_train, y_train)\n",
    "run_ensemble_models(X_train, y_train)"
   ]
  },
  {
   "cell_type": "code",
   "execution_count": null,
   "metadata": {
    "colab": {},
    "colab_type": "code",
    "id": "i-DudQF_yP-J",
    "outputId": "fabd06d7-0b4f-4b56-9e89-578941ae6a93"
   },
   "outputs": [
    {
     "data": {
      "text/html": [
       "<div>\n",
       "<style scoped>\n",
       "    .dataframe tbody tr th:only-of-type {\n",
       "        vertical-align: middle;\n",
       "    }\n",
       "\n",
       "    .dataframe tbody tr th {\n",
       "        vertical-align: top;\n",
       "    }\n",
       "\n",
       "    .dataframe thead th {\n",
       "        text-align: right;\n",
       "    }\n",
       "</style>\n",
       "<table border=\"1\" class=\"dataframe\">\n",
       "  <thead>\n",
       "    <tr style=\"text-align: right;\">\n",
       "      <th></th>\n",
       "      <th>model</th>\n",
       "      <th>accuracy</th>\n",
       "      <th>accuracy-std</th>\n",
       "      <th>f1-score</th>\n",
       "      <th>f1-score-std</th>\n",
       "      <th>time</th>\n",
       "    </tr>\n",
       "  </thead>\n",
       "  <tbody>\n",
       "    <tr>\n",
       "      <th>0</th>\n",
       "      <td>LogisticRegression</td>\n",
       "      <td>0.805405</td>\n",
       "      <td>0.0</td>\n",
       "      <td>0.875000</td>\n",
       "      <td>0.0</td>\n",
       "      <td>850</td>\n",
       "    </tr>\n",
       "    <tr>\n",
       "      <th>1</th>\n",
       "      <td>RidgeClassifier</td>\n",
       "      <td>0.810811</td>\n",
       "      <td>0.0</td>\n",
       "      <td>0.877193</td>\n",
       "      <td>0.0</td>\n",
       "      <td>486</td>\n",
       "    </tr>\n",
       "    <tr>\n",
       "      <th>2</th>\n",
       "      <td>MLPClassifier</td>\n",
       "      <td>0.691892</td>\n",
       "      <td>0.0</td>\n",
       "      <td>0.816720</td>\n",
       "      <td>0.0</td>\n",
       "      <td>175</td>\n",
       "    </tr>\n",
       "    <tr>\n",
       "      <th>3</th>\n",
       "      <td>BernoulliNB</td>\n",
       "      <td>0.805405</td>\n",
       "      <td>0.0</td>\n",
       "      <td>0.875000</td>\n",
       "      <td>0.0</td>\n",
       "      <td>3</td>\n",
       "    </tr>\n",
       "    <tr>\n",
       "      <th>4</th>\n",
       "      <td>KNeighborsClassifier</td>\n",
       "      <td>0.610811</td>\n",
       "      <td>0.0</td>\n",
       "      <td>0.742857</td>\n",
       "      <td>0.0</td>\n",
       "      <td>4</td>\n",
       "    </tr>\n",
       "    <tr>\n",
       "      <th>5</th>\n",
       "      <td>DecisionTreeClassifier</td>\n",
       "      <td>0.697297</td>\n",
       "      <td>0.0</td>\n",
       "      <td>0.770492</td>\n",
       "      <td>0.0</td>\n",
       "      <td>6</td>\n",
       "    </tr>\n",
       "    <tr>\n",
       "      <th>6</th>\n",
       "      <td>RandomForestClassifier</td>\n",
       "      <td>0.729730</td>\n",
       "      <td>0.0</td>\n",
       "      <td>0.809160</td>\n",
       "      <td>0.0</td>\n",
       "      <td>23</td>\n",
       "    </tr>\n",
       "    <tr>\n",
       "      <th>7</th>\n",
       "      <td>ExtraTreesClassifier</td>\n",
       "      <td>0.740541</td>\n",
       "      <td>0.0</td>\n",
       "      <td>0.820896</td>\n",
       "      <td>0.0</td>\n",
       "      <td>18</td>\n",
       "    </tr>\n",
       "    <tr>\n",
       "      <th>8</th>\n",
       "      <td>AdaBoostClassifier</td>\n",
       "      <td>0.772973</td>\n",
       "      <td>0.0</td>\n",
       "      <td>0.846715</td>\n",
       "      <td>0.0</td>\n",
       "      <td>92</td>\n",
       "    </tr>\n",
       "    <tr>\n",
       "      <th>9</th>\n",
       "      <td>GradientBoostingClassifier</td>\n",
       "      <td>0.767568</td>\n",
       "      <td>0.0</td>\n",
       "      <td>0.844765</td>\n",
       "      <td>0.0</td>\n",
       "      <td>89</td>\n",
       "    </tr>\n",
       "    <tr>\n",
       "      <th>10</th>\n",
       "      <td>XGBClassifier</td>\n",
       "      <td>0.800000</td>\n",
       "      <td>0.0</td>\n",
       "      <td>0.867384</td>\n",
       "      <td>0.0</td>\n",
       "      <td>55</td>\n",
       "    </tr>\n",
       "    <tr>\n",
       "      <th>11</th>\n",
       "      <td>VotingClassifier</td>\n",
       "      <td>0.686486</td>\n",
       "      <td>0.0</td>\n",
       "      <td>0.809211</td>\n",
       "      <td>0.0</td>\n",
       "      <td>110</td>\n",
       "    </tr>\n",
       "  </tbody>\n",
       "</table>\n",
       "</div>"
      ],
      "text/plain": [
       "                         model  accuracy  accuracy-std  f1-score  \\\n",
       "0           LogisticRegression  0.805405           0.0  0.875000   \n",
       "1              RidgeClassifier  0.810811           0.0  0.877193   \n",
       "2                MLPClassifier  0.691892           0.0  0.816720   \n",
       "3                  BernoulliNB  0.805405           0.0  0.875000   \n",
       "4         KNeighborsClassifier  0.610811           0.0  0.742857   \n",
       "5       DecisionTreeClassifier  0.697297           0.0  0.770492   \n",
       "6       RandomForestClassifier  0.729730           0.0  0.809160   \n",
       "7         ExtraTreesClassifier  0.740541           0.0  0.820896   \n",
       "8           AdaBoostClassifier  0.772973           0.0  0.846715   \n",
       "9   GradientBoostingClassifier  0.767568           0.0  0.844765   \n",
       "10               XGBClassifier  0.800000           0.0  0.867384   \n",
       "11            VotingClassifier  0.686486           0.0  0.809211   \n",
       "\n",
       "    f1-score-std time  \n",
       "0            0.0  850  \n",
       "1            0.0  486  \n",
       "2            0.0  175  \n",
       "3            0.0    3  \n",
       "4            0.0    4  \n",
       "5            0.0    6  \n",
       "6            0.0   23  \n",
       "7            0.0   18  \n",
       "8            0.0   92  \n",
       "9            0.0   89  \n",
       "10           0.0   55  \n",
       "11           0.0  110  "
      ]
     },
     "execution_count": 130,
     "metadata": {
      "tags": []
     },
     "output_type": "execute_result"
    }
   ],
   "source": [
    "# Resumen de los resultados\n",
    "results"
   ]
  },
  {
   "cell_type": "code",
   "execution_count": null,
   "metadata": {
    "colab": {},
    "colab_type": "code",
    "id": "KLS_9LzSyP-K",
    "outputId": "d0906399-7034-45b9-b7a7-d11078bf6e42"
   },
   "outputs": [
    {
     "data": {
      "text/html": [
       "<div>\n",
       "<style scoped>\n",
       "    .dataframe tbody tr th:only-of-type {\n",
       "        vertical-align: middle;\n",
       "    }\n",
       "\n",
       "    .dataframe tbody tr th {\n",
       "        vertical-align: top;\n",
       "    }\n",
       "\n",
       "    .dataframe thead th {\n",
       "        text-align: right;\n",
       "    }\n",
       "</style>\n",
       "<table border=\"1\" class=\"dataframe\">\n",
       "  <thead>\n",
       "    <tr style=\"text-align: right;\">\n",
       "      <th></th>\n",
       "      <th>model</th>\n",
       "      <th>accuracy</th>\n",
       "      <th>accuracy-std</th>\n",
       "      <th>f1-score</th>\n",
       "      <th>f1-score-std</th>\n",
       "      <th>time</th>\n",
       "    </tr>\n",
       "  </thead>\n",
       "  <tbody>\n",
       "    <tr>\n",
       "      <th>1</th>\n",
       "      <td>RidgeClassifier</td>\n",
       "      <td>0.810811</td>\n",
       "      <td>0.0</td>\n",
       "      <td>0.877193</td>\n",
       "      <td>0.0</td>\n",
       "      <td>486</td>\n",
       "    </tr>\n",
       "    <tr>\n",
       "      <th>3</th>\n",
       "      <td>BernoulliNB</td>\n",
       "      <td>0.805405</td>\n",
       "      <td>0.0</td>\n",
       "      <td>0.875000</td>\n",
       "      <td>0.0</td>\n",
       "      <td>3</td>\n",
       "    </tr>\n",
       "    <tr>\n",
       "      <th>0</th>\n",
       "      <td>LogisticRegression</td>\n",
       "      <td>0.805405</td>\n",
       "      <td>0.0</td>\n",
       "      <td>0.875000</td>\n",
       "      <td>0.0</td>\n",
       "      <td>850</td>\n",
       "    </tr>\n",
       "    <tr>\n",
       "      <th>10</th>\n",
       "      <td>XGBClassifier</td>\n",
       "      <td>0.800000</td>\n",
       "      <td>0.0</td>\n",
       "      <td>0.867384</td>\n",
       "      <td>0.0</td>\n",
       "      <td>55</td>\n",
       "    </tr>\n",
       "    <tr>\n",
       "      <th>8</th>\n",
       "      <td>AdaBoostClassifier</td>\n",
       "      <td>0.772973</td>\n",
       "      <td>0.0</td>\n",
       "      <td>0.846715</td>\n",
       "      <td>0.0</td>\n",
       "      <td>92</td>\n",
       "    </tr>\n",
       "    <tr>\n",
       "      <th>9</th>\n",
       "      <td>GradientBoostingClassifier</td>\n",
       "      <td>0.767568</td>\n",
       "      <td>0.0</td>\n",
       "      <td>0.844765</td>\n",
       "      <td>0.0</td>\n",
       "      <td>89</td>\n",
       "    </tr>\n",
       "    <tr>\n",
       "      <th>7</th>\n",
       "      <td>ExtraTreesClassifier</td>\n",
       "      <td>0.740541</td>\n",
       "      <td>0.0</td>\n",
       "      <td>0.820896</td>\n",
       "      <td>0.0</td>\n",
       "      <td>18</td>\n",
       "    </tr>\n",
       "    <tr>\n",
       "      <th>6</th>\n",
       "      <td>RandomForestClassifier</td>\n",
       "      <td>0.729730</td>\n",
       "      <td>0.0</td>\n",
       "      <td>0.809160</td>\n",
       "      <td>0.0</td>\n",
       "      <td>23</td>\n",
       "    </tr>\n",
       "    <tr>\n",
       "      <th>5</th>\n",
       "      <td>DecisionTreeClassifier</td>\n",
       "      <td>0.697297</td>\n",
       "      <td>0.0</td>\n",
       "      <td>0.770492</td>\n",
       "      <td>0.0</td>\n",
       "      <td>6</td>\n",
       "    </tr>\n",
       "    <tr>\n",
       "      <th>2</th>\n",
       "      <td>MLPClassifier</td>\n",
       "      <td>0.691892</td>\n",
       "      <td>0.0</td>\n",
       "      <td>0.816720</td>\n",
       "      <td>0.0</td>\n",
       "      <td>175</td>\n",
       "    </tr>\n",
       "    <tr>\n",
       "      <th>11</th>\n",
       "      <td>VotingClassifier</td>\n",
       "      <td>0.686486</td>\n",
       "      <td>0.0</td>\n",
       "      <td>0.809211</td>\n",
       "      <td>0.0</td>\n",
       "      <td>110</td>\n",
       "    </tr>\n",
       "    <tr>\n",
       "      <th>4</th>\n",
       "      <td>KNeighborsClassifier</td>\n",
       "      <td>0.610811</td>\n",
       "      <td>0.0</td>\n",
       "      <td>0.742857</td>\n",
       "      <td>0.0</td>\n",
       "      <td>4</td>\n",
       "    </tr>\n",
       "  </tbody>\n",
       "</table>\n",
       "</div>"
      ],
      "text/plain": [
       "                         model  accuracy  accuracy-std  f1-score  \\\n",
       "1              RidgeClassifier  0.810811           0.0  0.877193   \n",
       "3                  BernoulliNB  0.805405           0.0  0.875000   \n",
       "0           LogisticRegression  0.805405           0.0  0.875000   \n",
       "10               XGBClassifier  0.800000           0.0  0.867384   \n",
       "8           AdaBoostClassifier  0.772973           0.0  0.846715   \n",
       "9   GradientBoostingClassifier  0.767568           0.0  0.844765   \n",
       "7         ExtraTreesClassifier  0.740541           0.0  0.820896   \n",
       "6       RandomForestClassifier  0.729730           0.0  0.809160   \n",
       "5       DecisionTreeClassifier  0.697297           0.0  0.770492   \n",
       "2                MLPClassifier  0.691892           0.0  0.816720   \n",
       "11            VotingClassifier  0.686486           0.0  0.809211   \n",
       "4         KNeighborsClassifier  0.610811           0.0  0.742857   \n",
       "\n",
       "    f1-score-std time  \n",
       "1            0.0  486  \n",
       "3            0.0    3  \n",
       "0            0.0  850  \n",
       "10           0.0   55  \n",
       "8            0.0   92  \n",
       "9            0.0   89  \n",
       "7            0.0   18  \n",
       "6            0.0   23  \n",
       "5            0.0    6  \n",
       "2            0.0  175  \n",
       "11           0.0  110  \n",
       "4            0.0    4  "
      ]
     },
     "execution_count": 131,
     "metadata": {
      "tags": []
     },
     "output_type": "execute_result"
    }
   ],
   "source": [
    "# Ordenamos de acuerdo a cualquier criterio\n",
    "results.iloc[results['accuracy'].sort_values(ascending=False).index].head(19)"
   ]
  },
  {
   "cell_type": "code",
   "execution_count": null,
   "metadata": {
    "colab": {},
    "colab_type": "code",
    "id": "U6ZRQJsgyP-O"
   },
   "outputs": [],
   "source": [
    "# Eleccion completada !!"
   ]
  },
  {
   "cell_type": "code",
   "execution_count": null,
   "metadata": {
    "colab": {},
    "colab_type": "code",
    "id": "hLQj-VUMyP-P"
   },
   "outputs": [],
   "source": [
    "##################################################\n",
    "## Implementación de Modelos de Machine Learning\n",
    "##################################################"
   ]
  },
  {
   "cell_type": "code",
   "execution_count": null,
   "metadata": {
    "colab": {},
    "colab_type": "code",
    "id": "GNDKWNvEyP-Q"
   },
   "outputs": [],
   "source": [
    "# Leemos el dataset de implementacion, podria ser una informacion a enivar a campanas\n",
    "implemt = pd.read_csv(\"C:/Users/Andre Chavez/Desktop/Data/test.csv\") "
   ]
  },
  {
   "cell_type": "code",
   "execution_count": null,
   "metadata": {
    "colab": {},
    "colab_type": "code",
    "id": "z4xUy5QZyP-R"
   },
   "outputs": [],
   "source": [
    "# Todo lo realizado en el dataset de entrenamiento del modelo lo debemos replicar en el dataset de scoring"
   ]
  },
  {
   "cell_type": "code",
   "execution_count": null,
   "metadata": {
    "colab": {},
    "colab_type": "code",
    "id": "-ie2JBj_yP-T"
   },
   "outputs": [],
   "source": [
    "# Imputamos los valores cualitativos por Moda\n",
    "implemt.Gender = implemt.Gender.fillna(\"Male\")\n",
    "implemt.Married = implemt.Married.fillna(\"Yes\")\n",
    "implemt.Self_Employed = implemt.Self_Employed.fillna(\"Yes\")\n",
    "implemt.Credit_History = implemt.Credit_History.fillna(\"1\")\n",
    "implemt.Dependents = implemt.Dependents.fillna(\"0\")"
   ]
  },
  {
   "cell_type": "code",
   "execution_count": null,
   "metadata": {
    "colab": {},
    "colab_type": "code",
    "id": "htK-3d0QyP-Z"
   },
   "outputs": [],
   "source": [
    "# Separamos los features categoricos y los numericos\n",
    "columnas_categoricas = [\"Gender\",\"Married\",\"Education\",\"Self_Employed\",\"Property_Area\",\"Dependents\"]\n",
    "columnas_numericas = [\"ApplicantIncome\",\"CoapplicantIncome\",\"LoanAmount\",\"Loan_Amount_Term\"]"
   ]
  },
  {
   "cell_type": "code",
   "execution_count": null,
   "metadata": {
    "colab": {},
    "colab_type": "code",
    "id": "8zMnoz1wyP-b",
    "outputId": "fe36a89d-8b7a-407c-b658-5fe0d8a48092"
   },
   "outputs": [
    {
     "name": "stdout",
     "output_type": "stream",
     "text": [
      "Gender\n",
      "Married\n",
      "Education\n",
      "Self_Employed\n",
      "Property_Area\n",
      "Dependents\n"
     ]
    }
   ],
   "source": [
    "# Preprocesamiento con LabelEncoder\n",
    "from sklearn.preprocessing import LabelEncoder\n",
    "for c in columnas_categoricas:\n",
    "    print(str(c))\n",
    "    le = LabelEncoder()\n",
    "    le.fit(implemt[str(c)])\n",
    "    implemt[str(c)]=le.transform(implemt[str(c)]) "
   ]
  },
  {
   "cell_type": "code",
   "execution_count": null,
   "metadata": {
    "colab": {},
    "colab_type": "code",
    "id": "c4hmjW-4yP-e"
   },
   "outputs": [],
   "source": [
    "# Imputamos los valores cuantitativos por Media o Mediana\n",
    "for c in columnas_numericas:\n",
    "    median = implemt[c].median()\n",
    "    implemt[c].fillna(median, inplace=True)"
   ]
  },
  {
   "cell_type": "code",
   "execution_count": null,
   "metadata": {
    "colab": {},
    "colab_type": "code",
    "id": "jA02K3EAyP-f",
    "outputId": "e34d1305-1c25-471f-84c9-28d7f637f948"
   },
   "outputs": [
    {
     "data": {
      "text/plain": [
       "Loan_ID              0\n",
       "Gender               0\n",
       "Married              0\n",
       "Dependents           0\n",
       "Education            0\n",
       "Self_Employed        0\n",
       "ApplicantIncome      0\n",
       "CoapplicantIncome    0\n",
       "LoanAmount           0\n",
       "Loan_Amount_Term     0\n",
       "Credit_History       0\n",
       "Property_Area        0\n",
       "dtype: int64"
      ]
     },
     "execution_count": 137,
     "metadata": {
      "tags": []
     },
     "output_type": "execute_result"
    }
   ],
   "source": [
    "implemt.isnull().sum()"
   ]
  },
  {
   "cell_type": "code",
   "execution_count": null,
   "metadata": {
    "colab": {},
    "colab_type": "code",
    "id": "DKqpcB_ByP-h"
   },
   "outputs": [],
   "source": [
    "#implemt.ApplicantIncome.value_counts()"
   ]
  },
  {
   "cell_type": "code",
   "execution_count": null,
   "metadata": {
    "colab": {},
    "colab_type": "code",
    "id": "R6qqmDkvyP-j"
   },
   "outputs": [],
   "source": [
    "# Ingenieria de datos\n",
    "#Creamos las mismas variables que utilizamos en el train\n",
    "implemt['TotalIncome']    = implemt['ApplicantIncome'] + implemt['CoapplicantIncome']\n",
    "implemt['Log_LoanAmount'] = round(np.log(implemt['LoanAmount']+1),2)"
   ]
  },
  {
   "cell_type": "code",
   "execution_count": null,
   "metadata": {
    "colab": {},
    "colab_type": "code",
    "id": "AuPL32_OyP-k"
   },
   "outputs": [],
   "source": [
    "implemt['AmountxTerm']    = round(implemt['LoanAmount']/implemt['Loan_Amount_Term'],2)\n",
    "implemt[\"Cuota_Ingreso1\"] = (1000*implemt[\"LoanAmount\"]/implemt[\"Loan_Amount_Term\"])/(implemt[\"ApplicantIncome\"] +1)\n",
    "implemt[\"Cuota_Ingreso2\"] = (1000*implemt[\"LoanAmount\"]/implemt[\"Loan_Amount_Term\"])/(implemt[\"TotalIncome\"] +1)\n",
    "implemt[\"Cuota_Ingreso_Hijo\"] = (1000*implemt[\"LoanAmount\"]/implemt[\"Loan_Amount_Term\"])/(implemt[\"TotalIncome\"]/(implemt[\"Dependents\"]+1))\n"
   ]
  },
  {
   "cell_type": "code",
   "execution_count": null,
   "metadata": {
    "colab": {},
    "colab_type": "code",
    "id": "STbI9CwCyP-m"
   },
   "outputs": [],
   "source": [
    "## Una vez que tenemos todas las variables podemos scorear o puntuar los registros"
   ]
  },
  {
   "cell_type": "code",
   "execution_count": null,
   "metadata": {
    "colab": {},
    "colab_type": "code",
    "id": "yAmrThnoyP-n",
    "outputId": "056c5ce9-1cb8-4887-8771-9cb6029a1c77"
   },
   "outputs": [
    {
     "data": {
      "text/html": [
       "<div>\n",
       "<style scoped>\n",
       "    .dataframe tbody tr th:only-of-type {\n",
       "        vertical-align: middle;\n",
       "    }\n",
       "\n",
       "    .dataframe tbody tr th {\n",
       "        vertical-align: top;\n",
       "    }\n",
       "\n",
       "    .dataframe thead th {\n",
       "        text-align: right;\n",
       "    }\n",
       "</style>\n",
       "<table border=\"1\" class=\"dataframe\">\n",
       "  <thead>\n",
       "    <tr style=\"text-align: right;\">\n",
       "      <th></th>\n",
       "      <th>Loan_ID</th>\n",
       "      <th>Gender</th>\n",
       "      <th>Married</th>\n",
       "      <th>Dependents</th>\n",
       "      <th>Education</th>\n",
       "      <th>Self_Employed</th>\n",
       "      <th>ApplicantIncome</th>\n",
       "      <th>CoapplicantIncome</th>\n",
       "      <th>LoanAmount</th>\n",
       "      <th>Loan_Amount_Term</th>\n",
       "      <th>Credit_History</th>\n",
       "      <th>Property_Area</th>\n",
       "      <th>TotalIncome</th>\n",
       "      <th>Log_LoanAmount</th>\n",
       "      <th>AmountxTerm</th>\n",
       "      <th>Cuota_Ingreso1</th>\n",
       "      <th>Cuota_Ingreso2</th>\n",
       "      <th>Cuota_Ingreso_Hijo</th>\n",
       "    </tr>\n",
       "  </thead>\n",
       "  <tbody>\n",
       "    <tr>\n",
       "      <th>0</th>\n",
       "      <td>LP001015</td>\n",
       "      <td>1</td>\n",
       "      <td>1</td>\n",
       "      <td>0</td>\n",
       "      <td>0</td>\n",
       "      <td>0</td>\n",
       "      <td>5720</td>\n",
       "      <td>0</td>\n",
       "      <td>110.0</td>\n",
       "      <td>360.0</td>\n",
       "      <td>1</td>\n",
       "      <td>2</td>\n",
       "      <td>5720</td>\n",
       "      <td>4.71</td>\n",
       "      <td>0.31</td>\n",
       "      <td>0.053409</td>\n",
       "      <td>0.053409</td>\n",
       "      <td>0.053419</td>\n",
       "    </tr>\n",
       "  </tbody>\n",
       "</table>\n",
       "</div>"
      ],
      "text/plain": [
       "    Loan_ID  Gender  Married  Dependents  Education  Self_Employed  \\\n",
       "0  LP001015       1        1           0          0              0   \n",
       "\n",
       "   ApplicantIncome  CoapplicantIncome  LoanAmount  Loan_Amount_Term  \\\n",
       "0             5720                  0       110.0             360.0   \n",
       "\n",
       "  Credit_History  Property_Area  TotalIncome  Log_LoanAmount  AmountxTerm  \\\n",
       "0              1              2         5720            4.71         0.31   \n",
       "\n",
       "   Cuota_Ingreso1  Cuota_Ingreso2  Cuota_Ingreso_Hijo  \n",
       "0        0.053409        0.053409            0.053419  "
      ]
     },
     "execution_count": 140,
     "metadata": {
      "tags": []
     },
     "output_type": "execute_result"
    }
   ],
   "source": [
    "implemt.head(1)"
   ]
  },
  {
   "cell_type": "code",
   "execution_count": null,
   "metadata": {
    "colab": {},
    "colab_type": "code",
    "id": "0-li4z3fyP-4"
   },
   "outputs": [],
   "source": [
    "# Leemos el algoritmo o modelo entrenado\n",
    "import pickle\n",
    "filename = 'RegLogistica.sav' # El nombre con el que leemos debe ser el mismo al \n",
    "# nombre guardado\n",
    "RegresionLogistica = pickle.load(open(filename, 'rb'))"
   ]
  },
  {
   "cell_type": "code",
   "execution_count": null,
   "metadata": {
    "colab": {},
    "colab_type": "code",
    "id": "3qTsdE2oyP-5"
   },
   "outputs": [],
   "source": [
    "df_scoring = implemt.drop(\"Loan_ID\",axis=1)"
   ]
  },
  {
   "cell_type": "code",
   "execution_count": null,
   "metadata": {
    "colab": {},
    "colab_type": "code",
    "id": "I5HEMTKcyP-7",
    "outputId": "e13e2fb0-848f-432c-b3ec-7166add2a563"
   },
   "outputs": [
    {
     "data": {
      "text/plain": [
       "Gender                0\n",
       "Married               0\n",
       "Dependents            0\n",
       "Education             0\n",
       "Self_Employed         0\n",
       "ApplicantIncome       0\n",
       "CoapplicantIncome     0\n",
       "LoanAmount            0\n",
       "Loan_Amount_Term      0\n",
       "Credit_History        0\n",
       "Property_Area         0\n",
       "TotalIncome           0\n",
       "Log_LoanAmount        0\n",
       "AmountxTerm           0\n",
       "Cuota_Ingreso1        0\n",
       "Cuota_Ingreso2        0\n",
       "Cuota_Ingreso_Hijo    0\n",
       "dtype: int64"
      ]
     },
     "execution_count": 142,
     "metadata": {
      "tags": []
     },
     "output_type": "execute_result"
    }
   ],
   "source": [
    "df_scoring.isnull().sum()"
   ]
  },
  {
   "cell_type": "code",
   "execution_count": null,
   "metadata": {
    "colab": {},
    "colab_type": "code",
    "id": "J3VcJP1nyP-9"
   },
   "outputs": [],
   "source": [
    "# Predecimos sobre el set de datos de implementacion con el modelo entrenado\n",
    "y_scoring = cl1.predict(df_scoring) # Predecimos sobre nuevos clientes o clientes sin la variable dependiente VD\n",
    "# Juntamos el ID con la clase\n",
    "data = np.hstack((implemt['Loan_ID'].values.reshape(-1,1), y_scoring.reshape(-1,1)))\n",
    "# Le asignamos nombres a las columnas\n",
    "df_submmit = pd.DataFrame(data, columns=['Loan_ID','Loan_Status'])\n",
    "# Convertimos al formato solicitado por Analytics Vidhya\n",
    "df_submmit['Loan_Status']=[\"Y\" if i == 1 else \"N\" for i in df_submmit['Loan_Status']]\n",
    "# Exportamos la solucion\n",
    "df_submmit.to_csv('Sol_Stacking001.csv', index=False)"
   ]
  },
  {
   "cell_type": "code",
   "execution_count": null,
   "metadata": {
    "colab": {},
    "colab_type": "code",
    "id": "sbug0J4byP-_"
   },
   "outputs": [],
   "source": [
    "# Listo , objetivo cumplido"
   ]
  },
  {
   "cell_type": "code",
   "execution_count": null,
   "metadata": {
    "colab": {},
    "colab_type": "code",
    "id": "ozW3d0OgyP_C"
   },
   "outputs": [],
   "source": [
    "# Fin !!"
   ]
  }
 ],
 "metadata": {
  "colab": {
   "name": "Sesion04-AlgoritmosEnsambleBoosting2.ipynb",
   "provenance": []
  },
  "kernelspec": {
   "display_name": "Python 3",
   "language": "python",
   "name": "python3"
  },
  "language_info": {
   "codemirror_mode": {
    "name": "ipython",
    "version": 3
   },
   "file_extension": ".py",
   "mimetype": "text/x-python",
   "name": "python",
   "nbconvert_exporter": "python",
   "pygments_lexer": "ipython3",
   "version": "3.7.3"
  },
  "toc": {
   "base_numbering": 1,
   "nav_menu": {},
   "number_sections": true,
   "sideBar": true,
   "skip_h1_title": false,
   "title_cell": "Table of Contents",
   "title_sidebar": "Contents",
   "toc_cell": false,
   "toc_position": {
    "height": "calc(100% - 180px)",
    "left": "10px",
    "top": "150px",
    "width": "165px"
   },
   "toc_section_display": true,
   "toc_window_display": false
  },
  "varInspector": {
   "cols": {
    "lenName": 16,
    "lenType": 16,
    "lenVar": 40
   },
   "kernels_config": {
    "python": {
     "delete_cmd_postfix": "",
     "delete_cmd_prefix": "del ",
     "library": "var_list.py",
     "varRefreshCmd": "print(var_dic_list())"
    },
    "r": {
     "delete_cmd_postfix": ") ",
     "delete_cmd_prefix": "rm(",
     "library": "var_list.r",
     "varRefreshCmd": "cat(var_dic_list()) "
    }
   },
   "types_to_exclude": [
    "module",
    "function",
    "builtin_function_or_method",
    "instance",
    "_Feature"
   ],
   "window_display": false
  }
 },
 "nbformat": 4,
 "nbformat_minor": 2
}
